{
  "cells": [
    {
      "cell_type": "markdown",
      "metadata": {
        "id": "view-in-github",
        "colab_type": "text"
      },
      "source": [
        "<a href=\"https://colab.research.google.com/github/zihadbappy/bnfake/blob/main/BanFakeNews_CNN_with_ES.ipynb\" target=\"_parent\"><img src=\"https://colab.research.google.com/assets/colab-badge.svg\" alt=\"Open In Colab\"/></a>"
      ]
    },
    {
      "cell_type": "code",
      "execution_count": 27,
      "metadata": {
        "colab": {
          "base_uri": "https://localhost:8080/"
        },
        "id": "xtKxw8JAcAsr",
        "outputId": "53b927e1-ddb3-430b-8de5-d1b9e5322069"
      },
      "outputs": [
        {
          "output_type": "stream",
          "name": "stdout",
          "text": [
            "fatal: destination path 'FakeDatasets' already exists and is not an empty directory.\n"
          ]
        }
      ],
      "source": [
        "!git clone https://github.com/zihadbappy/FakeDatasets.git\n",
        "import pandas as pd\n",
        "Dataset= pd.read_csv('/content/FakeDatasets/banfakenews_no_duplicate.csv')"
      ]
    },
    {
      "cell_type": "code",
      "execution_count": 28,
      "metadata": {
        "colab": {
          "base_uri": "https://localhost:8080/",
          "height": 206
        },
        "id": "ki0tvofPfVBn",
        "outputId": "18698695-cc68-4f8a-bcd4-2c4c9b9f52d5"
      },
      "outputs": [
        {
          "output_type": "execute_result",
          "data": {
            "text/plain": [
              "                                            headline  \\\n",
              "0             মাঝ আকাশে পর্ন দেখার অভিযোগে পাইলট আটক   \n",
              "1         শান্তিতে নোবেল পুরস্কার পাচ্ছেন শেখ হাসিনা   \n",
              "2  কানাবগির ছা স্পোর্টিং ক্লাব ও রামগরুড়ের ছানা স...   \n",
              "3  আজ রাতে পৃথিবীতে ধেয়ে আসছে ক্ষতিকর মহাজাগতিক র...   \n",
              "4                    গালিগালাজ স্বাস্থ্যের জন্য ভালো   \n",
              "\n",
              "                                             content  label  \n",
              "0  বিমান আকাশে খেয়াল শিশু পর্নোগ্রাফির অ্যাপ ডাউ...      0  \n",
              "1  মিয়ানমারের রাখাইন বাংলাদেশে ছুটে আসা রোহিঙ্গা ...      0  \n",
              "2  তালগাছপুরের কানা বগির ছা স্পোর্টিং ক্লাব বার্ষ...      0  \n",
              "3  রাতে পৃথিবীতে ধেয়ে আসছে ক্ষতিকর উচ্চ তেজস্ক্রি...      0  \n",
              "4  স্কুলকলেজ বাসাবাড়ি অফিসেই অতি মানসিক চাপে গাল...      0  "
            ],
            "text/html": [
              "\n",
              "  <div id=\"df-6b9502e2-8703-4191-b455-8b424bd3ee76\">\n",
              "    <div class=\"colab-df-container\">\n",
              "      <div>\n",
              "<style scoped>\n",
              "    .dataframe tbody tr th:only-of-type {\n",
              "        vertical-align: middle;\n",
              "    }\n",
              "\n",
              "    .dataframe tbody tr th {\n",
              "        vertical-align: top;\n",
              "    }\n",
              "\n",
              "    .dataframe thead th {\n",
              "        text-align: right;\n",
              "    }\n",
              "</style>\n",
              "<table border=\"1\" class=\"dataframe\">\n",
              "  <thead>\n",
              "    <tr style=\"text-align: right;\">\n",
              "      <th></th>\n",
              "      <th>headline</th>\n",
              "      <th>content</th>\n",
              "      <th>label</th>\n",
              "    </tr>\n",
              "  </thead>\n",
              "  <tbody>\n",
              "    <tr>\n",
              "      <th>0</th>\n",
              "      <td>মাঝ আকাশে পর্ন দেখার অভিযোগে পাইলট আটক</td>\n",
              "      <td>বিমান আকাশে খেয়াল শিশু পর্নোগ্রাফির অ্যাপ ডাউ...</td>\n",
              "      <td>0</td>\n",
              "    </tr>\n",
              "    <tr>\n",
              "      <th>1</th>\n",
              "      <td>শান্তিতে নোবেল পুরস্কার পাচ্ছেন শেখ হাসিনা</td>\n",
              "      <td>মিয়ানমারের রাখাইন বাংলাদেশে ছুটে আসা রোহিঙ্গা ...</td>\n",
              "      <td>0</td>\n",
              "    </tr>\n",
              "    <tr>\n",
              "      <th>2</th>\n",
              "      <td>কানাবগির ছা স্পোর্টিং ক্লাব ও রামগরুড়ের ছানা স...</td>\n",
              "      <td>তালগাছপুরের কানা বগির ছা স্পোর্টিং ক্লাব বার্ষ...</td>\n",
              "      <td>0</td>\n",
              "    </tr>\n",
              "    <tr>\n",
              "      <th>3</th>\n",
              "      <td>আজ রাতে পৃথিবীতে ধেয়ে আসছে ক্ষতিকর মহাজাগতিক র...</td>\n",
              "      <td>রাতে পৃথিবীতে ধেয়ে আসছে ক্ষতিকর উচ্চ তেজস্ক্রি...</td>\n",
              "      <td>0</td>\n",
              "    </tr>\n",
              "    <tr>\n",
              "      <th>4</th>\n",
              "      <td>গালিগালাজ স্বাস্থ্যের জন্য ভালো</td>\n",
              "      <td>স্কুলকলেজ বাসাবাড়ি অফিসেই অতি মানসিক চাপে গাল...</td>\n",
              "      <td>0</td>\n",
              "    </tr>\n",
              "  </tbody>\n",
              "</table>\n",
              "</div>\n",
              "      <button class=\"colab-df-convert\" onclick=\"convertToInteractive('df-6b9502e2-8703-4191-b455-8b424bd3ee76')\"\n",
              "              title=\"Convert this dataframe to an interactive table.\"\n",
              "              style=\"display:none;\">\n",
              "        \n",
              "  <svg xmlns=\"http://www.w3.org/2000/svg\" height=\"24px\"viewBox=\"0 0 24 24\"\n",
              "       width=\"24px\">\n",
              "    <path d=\"M0 0h24v24H0V0z\" fill=\"none\"/>\n",
              "    <path d=\"M18.56 5.44l.94 2.06.94-2.06 2.06-.94-2.06-.94-.94-2.06-.94 2.06-2.06.94zm-11 1L8.5 8.5l.94-2.06 2.06-.94-2.06-.94L8.5 2.5l-.94 2.06-2.06.94zm10 10l.94 2.06.94-2.06 2.06-.94-2.06-.94-.94-2.06-.94 2.06-2.06.94z\"/><path d=\"M17.41 7.96l-1.37-1.37c-.4-.4-.92-.59-1.43-.59-.52 0-1.04.2-1.43.59L10.3 9.45l-7.72 7.72c-.78.78-.78 2.05 0 2.83L4 21.41c.39.39.9.59 1.41.59.51 0 1.02-.2 1.41-.59l7.78-7.78 2.81-2.81c.8-.78.8-2.07 0-2.86zM5.41 20L4 18.59l7.72-7.72 1.47 1.35L5.41 20z\"/>\n",
              "  </svg>\n",
              "      </button>\n",
              "      \n",
              "  <style>\n",
              "    .colab-df-container {\n",
              "      display:flex;\n",
              "      flex-wrap:wrap;\n",
              "      gap: 12px;\n",
              "    }\n",
              "\n",
              "    .colab-df-convert {\n",
              "      background-color: #E8F0FE;\n",
              "      border: none;\n",
              "      border-radius: 50%;\n",
              "      cursor: pointer;\n",
              "      display: none;\n",
              "      fill: #1967D2;\n",
              "      height: 32px;\n",
              "      padding: 0 0 0 0;\n",
              "      width: 32px;\n",
              "    }\n",
              "\n",
              "    .colab-df-convert:hover {\n",
              "      background-color: #E2EBFA;\n",
              "      box-shadow: 0px 1px 2px rgba(60, 64, 67, 0.3), 0px 1px 3px 1px rgba(60, 64, 67, 0.15);\n",
              "      fill: #174EA6;\n",
              "    }\n",
              "\n",
              "    [theme=dark] .colab-df-convert {\n",
              "      background-color: #3B4455;\n",
              "      fill: #D2E3FC;\n",
              "    }\n",
              "\n",
              "    [theme=dark] .colab-df-convert:hover {\n",
              "      background-color: #434B5C;\n",
              "      box-shadow: 0px 1px 3px 1px rgba(0, 0, 0, 0.15);\n",
              "      filter: drop-shadow(0px 1px 2px rgba(0, 0, 0, 0.3));\n",
              "      fill: #FFFFFF;\n",
              "    }\n",
              "  </style>\n",
              "\n",
              "      <script>\n",
              "        const buttonEl =\n",
              "          document.querySelector('#df-6b9502e2-8703-4191-b455-8b424bd3ee76 button.colab-df-convert');\n",
              "        buttonEl.style.display =\n",
              "          google.colab.kernel.accessAllowed ? 'block' : 'none';\n",
              "\n",
              "        async function convertToInteractive(key) {\n",
              "          const element = document.querySelector('#df-6b9502e2-8703-4191-b455-8b424bd3ee76');\n",
              "          const dataTable =\n",
              "            await google.colab.kernel.invokeFunction('convertToInteractive',\n",
              "                                                     [key], {});\n",
              "          if (!dataTable) return;\n",
              "\n",
              "          const docLinkHtml = 'Like what you see? Visit the ' +\n",
              "            '<a target=\"_blank\" href=https://colab.research.google.com/notebooks/data_table.ipynb>data table notebook</a>'\n",
              "            + ' to learn more about interactive tables.';\n",
              "          element.innerHTML = '';\n",
              "          dataTable['output_type'] = 'display_data';\n",
              "          await google.colab.output.renderOutput(dataTable, element);\n",
              "          const docLink = document.createElement('div');\n",
              "          docLink.innerHTML = docLinkHtml;\n",
              "          element.appendChild(docLink);\n",
              "        }\n",
              "      </script>\n",
              "    </div>\n",
              "  </div>\n",
              "  "
            ]
          },
          "metadata": {},
          "execution_count": 28
        }
      ],
      "source": [
        "\n",
        "Dataset.head()"
      ]
    },
    {
      "cell_type": "code",
      "execution_count": 29,
      "metadata": {
        "id": "zAXEEzznfWOO"
      },
      "outputs": [],
      "source": [
        "df = pd.DataFrame(Dataset)"
      ]
    },
    {
      "cell_type": "code",
      "execution_count": 30,
      "metadata": {
        "id": "j-qrTxTyfgNW"
      },
      "outputs": [],
      "source": [
        "df = df.reset_index(drop=True)\n",
        "# print(df)"
      ]
    },
    {
      "cell_type": "code",
      "execution_count": 31,
      "metadata": {
        "colab": {
          "base_uri": "https://localhost:8080/",
          "height": 423
        },
        "id": "I1dHZZDBfixe",
        "outputId": "45e22f98-8edc-49be-ca8d-dc6d903efaac"
      },
      "outputs": [
        {
          "output_type": "execute_result",
          "data": {
            "text/plain": [
              "                                               headline  \\\n",
              "0                মাঝ আকাশে পর্ন দেখার অভিযোগে পাইলট আটক   \n",
              "1            শান্তিতে নোবেল পুরস্কার পাচ্ছেন শেখ হাসিনা   \n",
              "2     কানাবগির ছা স্পোর্টিং ক্লাব ও রামগরুড়ের ছানা স...   \n",
              "3     আজ রাতে পৃথিবীতে ধেয়ে আসছে ক্ষতিকর মহাজাগতিক র...   \n",
              "4                       গালিগালাজ স্বাস্থ্যের জন্য ভালো   \n",
              "...                                                 ...   \n",
              "2347                     হুসাইন রা ও কারবালা ট্র্যাজেডি   \n",
              "2348                বামজোটের ওপর হামলা বিএনপির প্রতিবাদ   \n",
              "2349                         আবারও ব্যর্থ ব্যাটসম্যানরা   \n",
              "2350        অংশগ্রহণমূলক নির্বাচন এবং বিদেশি শক্তির হাত   \n",
              "2351  কর্মক্ষেত্রে যৌন ও প্রজনন স্বাস্থ্য নিশ্চিতে উ...   \n",
              "\n",
              "                                                content  label  \n",
              "0     বিমান আকাশে খেয়াল শিশু পর্নোগ্রাফির অ্যাপ ডাউ...      0  \n",
              "1     মিয়ানমারের রাখাইন বাংলাদেশে ছুটে আসা রোহিঙ্গা ...      0  \n",
              "2     তালগাছপুরের কানা বগির ছা স্পোর্টিং ক্লাব বার্ষ...      0  \n",
              "3     রাতে পৃথিবীতে ধেয়ে আসছে ক্ষতিকর উচ্চ তেজস্ক্রি...      0  \n",
              "4     স্কুলকলেজ বাসাবাড়ি অফিসেই অতি মানসিক চাপে গাল...      0  \n",
              "...                                                 ...    ...  \n",
              "2347  রাসুলুল্লাহ সাএর অতি আদরের নাতি হুসাইন রা খাতু...      1  \n",
              "2348  বাম গণতান্ত্রিক জোটের নির্বাচন কমিশন অভিমুখে ক...      1  \n",
              "2349  ভারতের বিপক্ষে রানে উইকেট হারিয়ে কার্যত ম্যাচ ...      1  \n",
              "2350  সংবিধান অনুযায়ী একাদশ জাতীয় সংসদ নির্বাচন ডিসে...      1  \n",
              "2351  কর্মক্ষেত্রে যৌন প্রজনন স্বাস্থ্য নিশ্চিত সরকা...      1  \n",
              "\n",
              "[2351 rows x 3 columns]"
            ],
            "text/html": [
              "\n",
              "  <div id=\"df-0614a631-a243-49c5-b02c-ab852250817b\">\n",
              "    <div class=\"colab-df-container\">\n",
              "      <div>\n",
              "<style scoped>\n",
              "    .dataframe tbody tr th:only-of-type {\n",
              "        vertical-align: middle;\n",
              "    }\n",
              "\n",
              "    .dataframe tbody tr th {\n",
              "        vertical-align: top;\n",
              "    }\n",
              "\n",
              "    .dataframe thead th {\n",
              "        text-align: right;\n",
              "    }\n",
              "</style>\n",
              "<table border=\"1\" class=\"dataframe\">\n",
              "  <thead>\n",
              "    <tr style=\"text-align: right;\">\n",
              "      <th></th>\n",
              "      <th>headline</th>\n",
              "      <th>content</th>\n",
              "      <th>label</th>\n",
              "    </tr>\n",
              "  </thead>\n",
              "  <tbody>\n",
              "    <tr>\n",
              "      <th>0</th>\n",
              "      <td>মাঝ আকাশে পর্ন দেখার অভিযোগে পাইলট আটক</td>\n",
              "      <td>বিমান আকাশে খেয়াল শিশু পর্নোগ্রাফির অ্যাপ ডাউ...</td>\n",
              "      <td>0</td>\n",
              "    </tr>\n",
              "    <tr>\n",
              "      <th>1</th>\n",
              "      <td>শান্তিতে নোবেল পুরস্কার পাচ্ছেন শেখ হাসিনা</td>\n",
              "      <td>মিয়ানমারের রাখাইন বাংলাদেশে ছুটে আসা রোহিঙ্গা ...</td>\n",
              "      <td>0</td>\n",
              "    </tr>\n",
              "    <tr>\n",
              "      <th>2</th>\n",
              "      <td>কানাবগির ছা স্পোর্টিং ক্লাব ও রামগরুড়ের ছানা স...</td>\n",
              "      <td>তালগাছপুরের কানা বগির ছা স্পোর্টিং ক্লাব বার্ষ...</td>\n",
              "      <td>0</td>\n",
              "    </tr>\n",
              "    <tr>\n",
              "      <th>3</th>\n",
              "      <td>আজ রাতে পৃথিবীতে ধেয়ে আসছে ক্ষতিকর মহাজাগতিক র...</td>\n",
              "      <td>রাতে পৃথিবীতে ধেয়ে আসছে ক্ষতিকর উচ্চ তেজস্ক্রি...</td>\n",
              "      <td>0</td>\n",
              "    </tr>\n",
              "    <tr>\n",
              "      <th>4</th>\n",
              "      <td>গালিগালাজ স্বাস্থ্যের জন্য ভালো</td>\n",
              "      <td>স্কুলকলেজ বাসাবাড়ি অফিসেই অতি মানসিক চাপে গাল...</td>\n",
              "      <td>0</td>\n",
              "    </tr>\n",
              "    <tr>\n",
              "      <th>...</th>\n",
              "      <td>...</td>\n",
              "      <td>...</td>\n",
              "      <td>...</td>\n",
              "    </tr>\n",
              "    <tr>\n",
              "      <th>2347</th>\n",
              "      <td>হুসাইন রা ও কারবালা ট্র্যাজেডি</td>\n",
              "      <td>রাসুলুল্লাহ সাএর অতি আদরের নাতি হুসাইন রা খাতু...</td>\n",
              "      <td>1</td>\n",
              "    </tr>\n",
              "    <tr>\n",
              "      <th>2348</th>\n",
              "      <td>বামজোটের ওপর হামলা বিএনপির প্রতিবাদ</td>\n",
              "      <td>বাম গণতান্ত্রিক জোটের নির্বাচন কমিশন অভিমুখে ক...</td>\n",
              "      <td>1</td>\n",
              "    </tr>\n",
              "    <tr>\n",
              "      <th>2349</th>\n",
              "      <td>আবারও ব্যর্থ ব্যাটসম্যানরা</td>\n",
              "      <td>ভারতের বিপক্ষে রানে উইকেট হারিয়ে কার্যত ম্যাচ ...</td>\n",
              "      <td>1</td>\n",
              "    </tr>\n",
              "    <tr>\n",
              "      <th>2350</th>\n",
              "      <td>অংশগ্রহণমূলক নির্বাচন এবং বিদেশি শক্তির হাত</td>\n",
              "      <td>সংবিধান অনুযায়ী একাদশ জাতীয় সংসদ নির্বাচন ডিসে...</td>\n",
              "      <td>1</td>\n",
              "    </tr>\n",
              "    <tr>\n",
              "      <th>2351</th>\n",
              "      <td>কর্মক্ষেত্রে যৌন ও প্রজনন স্বাস্থ্য নিশ্চিতে উ...</td>\n",
              "      <td>কর্মক্ষেত্রে যৌন প্রজনন স্বাস্থ্য নিশ্চিত সরকা...</td>\n",
              "      <td>1</td>\n",
              "    </tr>\n",
              "  </tbody>\n",
              "</table>\n",
              "<p>2351 rows × 3 columns</p>\n",
              "</div>\n",
              "      <button class=\"colab-df-convert\" onclick=\"convertToInteractive('df-0614a631-a243-49c5-b02c-ab852250817b')\"\n",
              "              title=\"Convert this dataframe to an interactive table.\"\n",
              "              style=\"display:none;\">\n",
              "        \n",
              "  <svg xmlns=\"http://www.w3.org/2000/svg\" height=\"24px\"viewBox=\"0 0 24 24\"\n",
              "       width=\"24px\">\n",
              "    <path d=\"M0 0h24v24H0V0z\" fill=\"none\"/>\n",
              "    <path d=\"M18.56 5.44l.94 2.06.94-2.06 2.06-.94-2.06-.94-.94-2.06-.94 2.06-2.06.94zm-11 1L8.5 8.5l.94-2.06 2.06-.94-2.06-.94L8.5 2.5l-.94 2.06-2.06.94zm10 10l.94 2.06.94-2.06 2.06-.94-2.06-.94-.94-2.06-.94 2.06-2.06.94z\"/><path d=\"M17.41 7.96l-1.37-1.37c-.4-.4-.92-.59-1.43-.59-.52 0-1.04.2-1.43.59L10.3 9.45l-7.72 7.72c-.78.78-.78 2.05 0 2.83L4 21.41c.39.39.9.59 1.41.59.51 0 1.02-.2 1.41-.59l7.78-7.78 2.81-2.81c.8-.78.8-2.07 0-2.86zM5.41 20L4 18.59l7.72-7.72 1.47 1.35L5.41 20z\"/>\n",
              "  </svg>\n",
              "      </button>\n",
              "      \n",
              "  <style>\n",
              "    .colab-df-container {\n",
              "      display:flex;\n",
              "      flex-wrap:wrap;\n",
              "      gap: 12px;\n",
              "    }\n",
              "\n",
              "    .colab-df-convert {\n",
              "      background-color: #E8F0FE;\n",
              "      border: none;\n",
              "      border-radius: 50%;\n",
              "      cursor: pointer;\n",
              "      display: none;\n",
              "      fill: #1967D2;\n",
              "      height: 32px;\n",
              "      padding: 0 0 0 0;\n",
              "      width: 32px;\n",
              "    }\n",
              "\n",
              "    .colab-df-convert:hover {\n",
              "      background-color: #E2EBFA;\n",
              "      box-shadow: 0px 1px 2px rgba(60, 64, 67, 0.3), 0px 1px 3px 1px rgba(60, 64, 67, 0.15);\n",
              "      fill: #174EA6;\n",
              "    }\n",
              "\n",
              "    [theme=dark] .colab-df-convert {\n",
              "      background-color: #3B4455;\n",
              "      fill: #D2E3FC;\n",
              "    }\n",
              "\n",
              "    [theme=dark] .colab-df-convert:hover {\n",
              "      background-color: #434B5C;\n",
              "      box-shadow: 0px 1px 3px 1px rgba(0, 0, 0, 0.15);\n",
              "      filter: drop-shadow(0px 1px 2px rgba(0, 0, 0, 0.3));\n",
              "      fill: #FFFFFF;\n",
              "    }\n",
              "  </style>\n",
              "\n",
              "      <script>\n",
              "        const buttonEl =\n",
              "          document.querySelector('#df-0614a631-a243-49c5-b02c-ab852250817b button.colab-df-convert');\n",
              "        buttonEl.style.display =\n",
              "          google.colab.kernel.accessAllowed ? 'block' : 'none';\n",
              "\n",
              "        async function convertToInteractive(key) {\n",
              "          const element = document.querySelector('#df-0614a631-a243-49c5-b02c-ab852250817b');\n",
              "          const dataTable =\n",
              "            await google.colab.kernel.invokeFunction('convertToInteractive',\n",
              "                                                     [key], {});\n",
              "          if (!dataTable) return;\n",
              "\n",
              "          const docLinkHtml = 'Like what you see? Visit the ' +\n",
              "            '<a target=\"_blank\" href=https://colab.research.google.com/notebooks/data_table.ipynb>data table notebook</a>'\n",
              "            + ' to learn more about interactive tables.';\n",
              "          element.innerHTML = '';\n",
              "          dataTable['output_type'] = 'display_data';\n",
              "          await google.colab.output.renderOutput(dataTable, element);\n",
              "          const docLink = document.createElement('div');\n",
              "          docLink.innerHTML = docLinkHtml;\n",
              "          element.appendChild(docLink);\n",
              "        }\n",
              "      </script>\n",
              "    </div>\n",
              "  </div>\n",
              "  "
            ]
          },
          "metadata": {},
          "execution_count": 31
        }
      ],
      "source": [
        "df=df.dropna()\n",
        "df"
      ]
    },
    {
      "cell_type": "code",
      "execution_count": 32,
      "metadata": {
        "colab": {
          "base_uri": "https://localhost:8080/",
          "height": 143
        },
        "id": "-b4nsq1XfXke",
        "outputId": "519f25a6-5b6c-4f05-b65f-bceb42f53ae1"
      },
      "outputs": [
        {
          "output_type": "execute_result",
          "data": {
            "text/plain": [
              "       headline  content\n",
              "label                   \n",
              "0          1176     1176\n",
              "1          1175     1175"
            ],
            "text/html": [
              "\n",
              "  <div id=\"df-0e473c96-48d8-4291-8d63-41c6ba2920bb\">\n",
              "    <div class=\"colab-df-container\">\n",
              "      <div>\n",
              "<style scoped>\n",
              "    .dataframe tbody tr th:only-of-type {\n",
              "        vertical-align: middle;\n",
              "    }\n",
              "\n",
              "    .dataframe tbody tr th {\n",
              "        vertical-align: top;\n",
              "    }\n",
              "\n",
              "    .dataframe thead th {\n",
              "        text-align: right;\n",
              "    }\n",
              "</style>\n",
              "<table border=\"1\" class=\"dataframe\">\n",
              "  <thead>\n",
              "    <tr style=\"text-align: right;\">\n",
              "      <th></th>\n",
              "      <th>headline</th>\n",
              "      <th>content</th>\n",
              "    </tr>\n",
              "    <tr>\n",
              "      <th>label</th>\n",
              "      <th></th>\n",
              "      <th></th>\n",
              "    </tr>\n",
              "  </thead>\n",
              "  <tbody>\n",
              "    <tr>\n",
              "      <th>0</th>\n",
              "      <td>1176</td>\n",
              "      <td>1176</td>\n",
              "    </tr>\n",
              "    <tr>\n",
              "      <th>1</th>\n",
              "      <td>1175</td>\n",
              "      <td>1175</td>\n",
              "    </tr>\n",
              "  </tbody>\n",
              "</table>\n",
              "</div>\n",
              "      <button class=\"colab-df-convert\" onclick=\"convertToInteractive('df-0e473c96-48d8-4291-8d63-41c6ba2920bb')\"\n",
              "              title=\"Convert this dataframe to an interactive table.\"\n",
              "              style=\"display:none;\">\n",
              "        \n",
              "  <svg xmlns=\"http://www.w3.org/2000/svg\" height=\"24px\"viewBox=\"0 0 24 24\"\n",
              "       width=\"24px\">\n",
              "    <path d=\"M0 0h24v24H0V0z\" fill=\"none\"/>\n",
              "    <path d=\"M18.56 5.44l.94 2.06.94-2.06 2.06-.94-2.06-.94-.94-2.06-.94 2.06-2.06.94zm-11 1L8.5 8.5l.94-2.06 2.06-.94-2.06-.94L8.5 2.5l-.94 2.06-2.06.94zm10 10l.94 2.06.94-2.06 2.06-.94-2.06-.94-.94-2.06-.94 2.06-2.06.94z\"/><path d=\"M17.41 7.96l-1.37-1.37c-.4-.4-.92-.59-1.43-.59-.52 0-1.04.2-1.43.59L10.3 9.45l-7.72 7.72c-.78.78-.78 2.05 0 2.83L4 21.41c.39.39.9.59 1.41.59.51 0 1.02-.2 1.41-.59l7.78-7.78 2.81-2.81c.8-.78.8-2.07 0-2.86zM5.41 20L4 18.59l7.72-7.72 1.47 1.35L5.41 20z\"/>\n",
              "  </svg>\n",
              "      </button>\n",
              "      \n",
              "  <style>\n",
              "    .colab-df-container {\n",
              "      display:flex;\n",
              "      flex-wrap:wrap;\n",
              "      gap: 12px;\n",
              "    }\n",
              "\n",
              "    .colab-df-convert {\n",
              "      background-color: #E8F0FE;\n",
              "      border: none;\n",
              "      border-radius: 50%;\n",
              "      cursor: pointer;\n",
              "      display: none;\n",
              "      fill: #1967D2;\n",
              "      height: 32px;\n",
              "      padding: 0 0 0 0;\n",
              "      width: 32px;\n",
              "    }\n",
              "\n",
              "    .colab-df-convert:hover {\n",
              "      background-color: #E2EBFA;\n",
              "      box-shadow: 0px 1px 2px rgba(60, 64, 67, 0.3), 0px 1px 3px 1px rgba(60, 64, 67, 0.15);\n",
              "      fill: #174EA6;\n",
              "    }\n",
              "\n",
              "    [theme=dark] .colab-df-convert {\n",
              "      background-color: #3B4455;\n",
              "      fill: #D2E3FC;\n",
              "    }\n",
              "\n",
              "    [theme=dark] .colab-df-convert:hover {\n",
              "      background-color: #434B5C;\n",
              "      box-shadow: 0px 1px 3px 1px rgba(0, 0, 0, 0.15);\n",
              "      filter: drop-shadow(0px 1px 2px rgba(0, 0, 0, 0.3));\n",
              "      fill: #FFFFFF;\n",
              "    }\n",
              "  </style>\n",
              "\n",
              "      <script>\n",
              "        const buttonEl =\n",
              "          document.querySelector('#df-0e473c96-48d8-4291-8d63-41c6ba2920bb button.colab-df-convert');\n",
              "        buttonEl.style.display =\n",
              "          google.colab.kernel.accessAllowed ? 'block' : 'none';\n",
              "\n",
              "        async function convertToInteractive(key) {\n",
              "          const element = document.querySelector('#df-0e473c96-48d8-4291-8d63-41c6ba2920bb');\n",
              "          const dataTable =\n",
              "            await google.colab.kernel.invokeFunction('convertToInteractive',\n",
              "                                                     [key], {});\n",
              "          if (!dataTable) return;\n",
              "\n",
              "          const docLinkHtml = 'Like what you see? Visit the ' +\n",
              "            '<a target=\"_blank\" href=https://colab.research.google.com/notebooks/data_table.ipynb>data table notebook</a>'\n",
              "            + ' to learn more about interactive tables.';\n",
              "          element.innerHTML = '';\n",
              "          dataTable['output_type'] = 'display_data';\n",
              "          await google.colab.output.renderOutput(dataTable, element);\n",
              "          const docLink = document.createElement('div');\n",
              "          docLink.innerHTML = docLinkHtml;\n",
              "          element.appendChild(docLink);\n",
              "        }\n",
              "      </script>\n",
              "    </div>\n",
              "  </div>\n",
              "  "
            ]
          },
          "metadata": {},
          "execution_count": 32
        }
      ],
      "source": [
        "df.groupby('label').agg('count')"
      ]
    },
    {
      "cell_type": "markdown",
      "metadata": {
        "id": "LEencYh2fp9w"
      },
      "source": [
        "# CNN"
      ]
    },
    {
      "cell_type": "code",
      "execution_count": 33,
      "metadata": {
        "id": "twb4FbfDuAKg"
      },
      "outputs": [],
      "source": [
        "import pandas as pd\n",
        "import numpy as np\n",
        "import matplotlib.pyplot as plt\n",
        "import seaborn as sns\n",
        "from sklearn.model_selection import train_test_split\n",
        "from sklearn.preprocessing import LabelEncoder\n",
        "from keras.models import Model\n",
        "from keras.layers import LSTM, Activation, Dense, Dropout, Input, Embedding\n",
        "from tensorflow.keras.optimizers import RMSprop\n",
        "from keras.preprocessing.text import Tokenizer\n",
        "from keras.preprocessing import sequence\n",
        "from tensorflow.keras.utils import to_categorical\n",
        "from keras.callbacks import EarlyStopping\n",
        "%matplotlib inline"
      ]
    },
    {
      "cell_type": "code",
      "execution_count": 34,
      "metadata": {
        "id": "Srr-od3_fkPm"
      },
      "outputs": [],
      "source": [
        "X = df.content\n",
        "Y = df.label\n",
        "le = LabelEncoder()\n",
        "Y = le.fit_transform(Y)\n",
        "Y = Y.reshape(-1,1)"
      ]
    },
    {
      "cell_type": "code",
      "execution_count": 35,
      "metadata": {
        "colab": {
          "base_uri": "https://localhost:8080/"
        },
        "id": "DJyzRilkdOa_",
        "outputId": "550b928b-3ed1-4460-d0bf-86fb2325627e"
      },
      "outputs": [
        {
          "output_type": "stream",
          "name": "stdout",
          "text": [
            "[[0]\n",
            " [0]\n",
            " [0]\n",
            " ...\n",
            " [1]\n",
            " [1]\n",
            " [1]]\n"
          ]
        }
      ],
      "source": [
        "print(Y)"
      ]
    },
    {
      "cell_type": "code",
      "execution_count": 36,
      "metadata": {
        "id": "tnPFYzSxf2we"
      },
      "outputs": [],
      "source": [
        "X_train,X_test,Y_train,Y_test = train_test_split(X,Y,test_size=0.25, random_state=99)"
      ]
    },
    {
      "cell_type": "code",
      "execution_count": 37,
      "metadata": {
        "id": "nZ8zJpc4h-vH"
      },
      "outputs": [],
      "source": [
        "# fit a tokenizer\n",
        "def create_tokenizer(lines):\n",
        "\ttokenizer = Tokenizer()\n",
        "\ttokenizer.fit_on_texts(lines)\n",
        "\treturn tokenizer"
      ]
    },
    {
      "cell_type": "code",
      "execution_count": 38,
      "metadata": {
        "id": "QkcRE2R2nqZ3"
      },
      "outputs": [],
      "source": [
        "  # calculate the maximum document length\n",
        "def max_length(lines):\n",
        "\treturn max([len(s.split()) for s in lines])"
      ]
    },
    {
      "cell_type": "code",
      "execution_count": 39,
      "metadata": {
        "id": "elS-VdJNnsKn"
      },
      "outputs": [],
      "source": [
        "# calculate vocabulary size\n",
        "vocab_size = 86000"
      ]
    },
    {
      "cell_type": "code",
      "execution_count": 40,
      "metadata": {
        "id": "xnf2GoFPnzBA"
      },
      "outputs": [],
      "source": [
        "# encode a list of lines\n",
        "def encode_text(tokenizer, lines, length):\n",
        "\t# integer encode\n",
        "\tencoded = tokenizer.texts_to_sequences(lines)\n",
        "\t# pad encoded sequences\n",
        "\tpadded = pad_sequences(encoded, maxlen=length, padding='post')\n",
        "\treturn padded"
      ]
    },
    {
      "cell_type": "code",
      "execution_count": 41,
      "metadata": {
        "id": "nbefD1ShoSpJ"
      },
      "outputs": [],
      "source": [
        "\n",
        "from pickle import load\n",
        "from numpy import array\n",
        "from keras.preprocessing.text import Tokenizer\n",
        "from keras.preprocessing.sequence import pad_sequences\n",
        "from keras.utils.vis_utils import plot_model\n",
        "from keras.models import Model\n",
        "from keras.layers import Input\n",
        "from keras.layers import Dense\n",
        "from keras.layers import Flatten\n",
        "from keras.layers import Dropout\n",
        "from keras.layers import Embedding\n",
        "from keras.layers.convolutional import Conv1D\n",
        "from keras.layers.convolutional import MaxPooling1D\n",
        "from keras.layers.merge import concatenate\n",
        "from keras.callbacks import EarlyStopping "
      ]
    },
    {
      "cell_type": "code",
      "execution_count": 42,
      "metadata": {
        "id": "sFucmeOJoLVH"
      },
      "outputs": [],
      "source": [
        "# define the model\n",
        "def define_model(length, vocab_size):\n",
        "\t# channel 1\n",
        "\tinputs1 = Input(shape=(length,))\n",
        "\tembedding1 = Embedding(vocab_size, 100)(inputs1)\n",
        "\tconv1 = Conv1D(filters=32, kernel_size=4, activation='relu')(embedding1)\n",
        "\tdrop1 = Dropout(0.5)(conv1)\n",
        "\tpool1 = MaxPooling1D(pool_size=2)(drop1)\n",
        "\tflat1 = Flatten()(pool1)\n",
        "\t# channel 2\n",
        "\tinputs2 = Input(shape=(length,))\n",
        "\tembedding2 = Embedding(vocab_size, 100)(inputs2)\n",
        "\tconv2 = Conv1D(filters=32, kernel_size=6, activation='relu')(embedding2)\n",
        "\tdrop2 = Dropout(0.5)(conv2)\n",
        "\tpool2 = MaxPooling1D(pool_size=2)(drop2)\n",
        "\tflat2 = Flatten()(pool2)\n",
        "\t# channel 3\n",
        "\tinputs3 = Input(shape=(length,))\n",
        "\tembedding3 = Embedding(vocab_size, 100)(inputs3)\n",
        "\tconv3 = Conv1D(filters=32, kernel_size=8, activation='relu')(embedding3)\n",
        "\tdrop3 = Dropout(0.5)(conv3)\n",
        "\tpool3 = MaxPooling1D(pool_size=2)(drop3)\n",
        "\tflat3 = Flatten()(pool3)\n",
        "\t# merge\n",
        "\tmerged = concatenate([flat1, flat2, flat3])\n",
        "\t# interpretation\n",
        "\tdense1 = Dense(10, activation='relu')(merged)\n",
        "\toutputs = Dense(1, activation='sigmoid')(dense1)\n",
        "\tmodel = Model(inputs=[inputs1, inputs2, inputs3], outputs=outputs)\n",
        "\t# compile\n",
        "\tmodel.compile(loss='binary_crossentropy', optimizer='adam', metrics=['accuracy'])\n",
        "\t# summarize\n",
        "\tprint(model.summary())\n",
        "\tplot_model(model, show_shapes=True, to_file='multichannel.png')\n",
        "\treturn model"
      ]
    },
    {
      "cell_type": "code",
      "execution_count": 43,
      "metadata": {
        "colab": {
          "base_uri": "https://localhost:8080/"
        },
        "id": "TcMmQ_RnoWT3",
        "outputId": "10b075b9-0101-44ff-e9ab-4d5a7d915268"
      },
      "outputs": [
        {
          "output_type": "stream",
          "name": "stdout",
          "text": [
            "Max document length: 1861\n",
            "Vocabulary size: 53330\n",
            "(1763, 1861)\n",
            "Model: \"model_1\"\n",
            "__________________________________________________________________________________________________\n",
            " Layer (type)                   Output Shape         Param #     Connected to                     \n",
            "==================================================================================================\n",
            " input_4 (InputLayer)           [(None, 1861)]       0           []                               \n",
            "                                                                                                  \n",
            " input_5 (InputLayer)           [(None, 1861)]       0           []                               \n",
            "                                                                                                  \n",
            " input_6 (InputLayer)           [(None, 1861)]       0           []                               \n",
            "                                                                                                  \n",
            " embedding_3 (Embedding)        (None, 1861, 100)    5333000     ['input_4[0][0]']                \n",
            "                                                                                                  \n",
            " embedding_4 (Embedding)        (None, 1861, 100)    5333000     ['input_5[0][0]']                \n",
            "                                                                                                  \n",
            " embedding_5 (Embedding)        (None, 1861, 100)    5333000     ['input_6[0][0]']                \n",
            "                                                                                                  \n",
            " conv1d_3 (Conv1D)              (None, 1858, 32)     12832       ['embedding_3[0][0]']            \n",
            "                                                                                                  \n",
            " conv1d_4 (Conv1D)              (None, 1856, 32)     19232       ['embedding_4[0][0]']            \n",
            "                                                                                                  \n",
            " conv1d_5 (Conv1D)              (None, 1854, 32)     25632       ['embedding_5[0][0]']            \n",
            "                                                                                                  \n",
            " dropout_3 (Dropout)            (None, 1858, 32)     0           ['conv1d_3[0][0]']               \n",
            "                                                                                                  \n",
            " dropout_4 (Dropout)            (None, 1856, 32)     0           ['conv1d_4[0][0]']               \n",
            "                                                                                                  \n",
            " dropout_5 (Dropout)            (None, 1854, 32)     0           ['conv1d_5[0][0]']               \n",
            "                                                                                                  \n",
            " max_pooling1d_3 (MaxPooling1D)  (None, 929, 32)     0           ['dropout_3[0][0]']              \n",
            "                                                                                                  \n",
            " max_pooling1d_4 (MaxPooling1D)  (None, 928, 32)     0           ['dropout_4[0][0]']              \n",
            "                                                                                                  \n",
            " max_pooling1d_5 (MaxPooling1D)  (None, 927, 32)     0           ['dropout_5[0][0]']              \n",
            "                                                                                                  \n",
            " flatten_3 (Flatten)            (None, 29728)        0           ['max_pooling1d_3[0][0]']        \n",
            "                                                                                                  \n",
            " flatten_4 (Flatten)            (None, 29696)        0           ['max_pooling1d_4[0][0]']        \n",
            "                                                                                                  \n",
            " flatten_5 (Flatten)            (None, 29664)        0           ['max_pooling1d_5[0][0]']        \n",
            "                                                                                                  \n",
            " concatenate_1 (Concatenate)    (None, 89088)        0           ['flatten_3[0][0]',              \n",
            "                                                                  'flatten_4[0][0]',              \n",
            "                                                                  'flatten_5[0][0]']              \n",
            "                                                                                                  \n",
            " dense_2 (Dense)                (None, 10)           890890      ['concatenate_1[0][0]']          \n",
            "                                                                                                  \n",
            " dense_3 (Dense)                (None, 1)            11          ['dense_2[0][0]']                \n",
            "                                                                                                  \n",
            "==================================================================================================\n",
            "Total params: 16,947,597\n",
            "Trainable params: 16,947,597\n",
            "Non-trainable params: 0\n",
            "__________________________________________________________________________________________________\n",
            "None\n",
            "Epoch 1/16\n",
            "56/56 [==============================] - 52s 900ms/step - loss: 0.6891 - accuracy: 0.5406\n",
            "Epoch 2/16\n",
            "56/56 [==============================] - 50s 901ms/step - loss: 0.2973 - accuracy: 0.8769\n",
            "Epoch 3/16\n",
            "56/56 [==============================] - 51s 908ms/step - loss: 0.0187 - accuracy: 0.9938\n",
            "Epoch 4/16\n",
            "56/56 [==============================] - 51s 906ms/step - loss: 0.0015 - accuracy: 0.9994\n",
            "Epoch 5/16\n",
            "56/56 [==============================] - 51s 901ms/step - loss: 8.7949e-04 - accuracy: 0.9994\n",
            "Epoch 6/16\n",
            "56/56 [==============================] - 50s 901ms/step - loss: 6.9940e-04 - accuracy: 1.0000\n",
            "Epoch 7/16\n",
            "56/56 [==============================] - 50s 895ms/step - loss: 4.4894e-04 - accuracy: 1.0000\n",
            "Epoch 8/16\n",
            "56/56 [==============================] - 50s 896ms/step - loss: 3.9678e-04 - accuracy: 1.0000\n",
            "Epoch 9/16\n",
            "56/56 [==============================] - ETA: 0s - loss: 2.8121e-04 - accuracy: 1.0000Restoring model weights from the end of the best epoch: 6.\n",
            "56/56 [==============================] - 50s 893ms/step - loss: 2.8121e-04 - accuracy: 1.0000\n",
            "Epoch 9: early stopping\n"
          ]
        }
      ],
      "source": [
        "tokenizer = create_tokenizer(X_train)\n",
        "# calculate max document length\n",
        "length = max_length(X_train)\n",
        "# calculate vocabulary size\n",
        "vocab_size = len(tokenizer.word_index) + 1\n",
        "print('Max document length: %d' % length)\n",
        "print('Vocabulary size: %d' % vocab_size)\n",
        "# encode data\n",
        "trainX = encode_text(tokenizer, X_train, length)\n",
        "print(trainX.shape)\n",
        " \n",
        "# define model\n",
        "model = define_model(length, vocab_size)\n",
        "# fit model\n",
        "model.fit([trainX,trainX,trainX], array(Y_train), epochs=16, batch_size=32,\n",
        "    callbacks=[EarlyStopping(monitor=\"accuracy\",\n",
        "    min_delta=0,\n",
        "    patience=3,\n",
        "    verbose=1,\n",
        "    mode=\"auto\",\n",
        "    restore_best_weights=True,)])\n",
        "# save the model\n",
        "model.save('model.h5')"
      ]
    },
    {
      "cell_type": "code",
      "execution_count": 44,
      "metadata": {
        "colab": {
          "base_uri": "https://localhost:8080/"
        },
        "id": "cvEOqA3fwivJ",
        "outputId": "d5fb25eb-793d-4c95-ae2a-c75b4e39b0bc"
      },
      "outputs": [
        {
          "output_type": "execute_result",
          "data": {
            "text/plain": [
              "numpy.ndarray"
            ]
          },
          "metadata": {},
          "execution_count": 44
        }
      ],
      "source": [
        "type(Y_test)"
      ]
    },
    {
      "cell_type": "code",
      "execution_count": 45,
      "metadata": {
        "id": "UnVxFIXIotmA",
        "colab": {
          "base_uri": "https://localhost:8080/"
        },
        "outputId": "76aafaa7-d628-4a23-9ad4-a2e5e0751d51"
      },
      "outputs": [
        {
          "output_type": "stream",
          "name": "stdout",
          "text": [
            "Train Accuracy: 100.000000\n",
            "Test Accuracy: 92.176872\n"
          ]
        }
      ],
      "source": [
        "loss, acc = model.evaluate([trainX,trainX,trainX], array(Y_train), verbose=0)\n",
        "print('Train Accuracy: %f' % (acc*100))\n",
        "\n",
        "testX = encode_text(tokenizer, X_test, length)\n",
        "\n",
        "loss, acc = model.evaluate([testX,testX,testX],array(Y_test), verbose=0)\n",
        "print('Test Accuracy: %f' % (acc*100))"
      ]
    },
    {
      "cell_type": "code",
      "execution_count": 46,
      "metadata": {
        "id": "H5ctglBSsWKr",
        "colab": {
          "base_uri": "https://localhost:8080/"
        },
        "outputId": "08cc4e1e-7a13-49e7-a0f3-12e251d47755"
      },
      "outputs": [
        {
          "output_type": "execute_result",
          "data": {
            "text/plain": [
              "array([[ 6799,  1317,  2236, ...,     0,     0,     0],\n",
              "       [ 6208,   121,   246, ...,     0,     0,     0],\n",
              "       [   26,   929,  9487, ...,     0,     0,     0],\n",
              "       ...,\n",
              "       [   66,   831,  6771, ...,     0,     0,     0],\n",
              "       [  120,   791,     3, ...,     0,     0,     0],\n",
              "       [  525,  2018, 10264, ...,     0,     0,     0]], dtype=int32)"
            ]
          },
          "metadata": {},
          "execution_count": 46
        }
      ],
      "source": [
        "testX"
      ]
    },
    {
      "cell_type": "code",
      "execution_count": 47,
      "metadata": {
        "id": "G9Dhu_6zs8Xx",
        "colab": {
          "base_uri": "https://localhost:8080/"
        },
        "outputId": "ac3b96e3-6de7-44ba-e0a4-51c3dc1b6d0b"
      },
      "outputs": [
        {
          "output_type": "execute_result",
          "data": {
            "text/plain": [
              "array([[   41,   717,  1133, ...,     0,     0,     0],\n",
              "       [   20,  1024, 10986, ...,     0,     0,     0],\n",
              "       [ 4416,   514,  1306, ...,     0,     0,     0],\n",
              "       ...,\n",
              "       [  275,    49,   593, ...,     0,     0,     0],\n",
              "       [ 9687, 15773, 24683, ...,     0,     0,     0],\n",
              "       [  432,   811,   268, ...,     0,     0,     0]], dtype=int32)"
            ]
          },
          "metadata": {},
          "execution_count": 47
        }
      ],
      "source": [
        "trainX"
      ]
    },
    {
      "cell_type": "code",
      "execution_count": 48,
      "metadata": {
        "id": "et7VAec7zFAg"
      },
      "outputs": [],
      "source": [
        "CNN_pred_y = model.predict([testX, testX, testX])"
      ]
    },
    {
      "cell_type": "code",
      "execution_count": 49,
      "metadata": {
        "id": "4g-ncRAmzRI9"
      },
      "outputs": [],
      "source": [
        "from sklearn.metrics import classification_report"
      ]
    },
    {
      "cell_type": "code",
      "execution_count": 50,
      "metadata": {
        "id": "a85oyzAr3Dmp",
        "colab": {
          "base_uri": "https://localhost:8080/"
        },
        "outputId": "274905d3-6b9d-4d32-ea37-a1257a3cc056"
      },
      "outputs": [
        {
          "output_type": "execute_result",
          "data": {
            "text/plain": [
              "{'0': {'precision': 0.9530201342281879,\n",
              "  'recall': 0.8987341772151899,\n",
              "  'f1-score': 0.9250814332247557,\n",
              "  'support': 316},\n",
              " '1': {'precision': 0.8896551724137931,\n",
              "  'recall': 0.9485294117647058,\n",
              "  'f1-score': 0.9181494661921707,\n",
              "  'support': 272},\n",
              " 'accuracy': 0.9217687074829932,\n",
              " 'macro avg': {'precision': 0.9213376533209905,\n",
              "  'recall': 0.9236317944899479,\n",
              "  'f1-score': 0.9216154497084632,\n",
              "  'support': 588},\n",
              " 'weighted avg': {'precision': 0.9237084512120052,\n",
              "  'recall': 0.9217687074829932,\n",
              "  'f1-score': 0.9218748090192062,\n",
              "  'support': 588}}"
            ]
          },
          "metadata": {},
          "execution_count": 50
        }
      ],
      "source": [
        "classification_report(Y_test, np.around(CNN_pred_y), output_dict=True)"
      ]
    },
    {
      "cell_type": "code",
      "execution_count": 51,
      "metadata": {
        "id": "WFGQA_dJ7ysr",
        "colab": {
          "base_uri": "https://localhost:8080/"
        },
        "outputId": "01d6381d-57f7-441c-fb4d-8e2b1654be9e"
      },
      "outputs": [
        {
          "output_type": "execute_result",
          "data": {
            "text/plain": [
              "array([[0.],\n",
              "       [0.],\n",
              "       [1.],\n",
              "       [1.],\n",
              "       [1.]], dtype=float32)"
            ]
          },
          "metadata": {},
          "execution_count": 51
        }
      ],
      "source": [
        "np.around(CNN_pred_y[20:25])"
      ]
    },
    {
      "cell_type": "code",
      "execution_count": 52,
      "metadata": {
        "id": "02hXJh2m79Ln",
        "colab": {
          "base_uri": "https://localhost:8080/"
        },
        "outputId": "ecf718e4-409a-49f6-d764-ef70e90c06df"
      },
      "outputs": [
        {
          "output_type": "execute_result",
          "data": {
            "text/plain": [
              "array([[0],\n",
              "       [0],\n",
              "       [1],\n",
              "       [1],\n",
              "       [1]])"
            ]
          },
          "metadata": {},
          "execution_count": 52
        }
      ],
      "source": [
        "Y_test[20:25]"
      ]
    },
    {
      "cell_type": "code",
      "execution_count": 52,
      "metadata": {
        "id": "EEx6tPWiziF7"
      },
      "outputs": [],
      "source": []
    }
  ],
  "metadata": {
    "accelerator": "GPU",
    "colab": {
      "collapsed_sections": [],
      "provenance": [],
      "authorship_tag": "ABX9TyMMI95yqPRQ8YSOtuxg83A5",
      "include_colab_link": true
    },
    "gpuClass": "standard",
    "kernelspec": {
      "display_name": "Python 3",
      "name": "python3"
    },
    "language_info": {
      "name": "python"
    }
  },
  "nbformat": 4,
  "nbformat_minor": 0
}