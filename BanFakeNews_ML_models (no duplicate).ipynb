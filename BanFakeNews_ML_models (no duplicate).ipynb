{
  "cells": [
    {
      "cell_type": "markdown",
      "metadata": {
        "id": "view-in-github",
        "colab_type": "text"
      },
      "source": [
        "<a href=\"https://colab.research.google.com/github/zihadbappy/bnfake/blob/main/BanFakeNews_ML_models_final.ipynb\" target=\"_parent\"><img src=\"https://colab.research.google.com/assets/colab-badge.svg\" alt=\"Open In Colab\"/></a>"
      ]
    },
    {
      "cell_type": "code",
      "execution_count": 1,
      "metadata": {
        "colab": {
          "base_uri": "https://localhost:8080/"
        },
        "id": "dqouiht43nmf",
        "outputId": "0ba91019-522a-4e3a-bb60-1e1deddd19ef"
      },
      "outputs": [
        {
          "output_type": "stream",
          "name": "stdout",
          "text": [
            "Cloning into 'FakeDatasets'...\n",
            "remote: Enumerating objects: 20, done.\u001b[K\n",
            "remote: Counting objects: 100% (20/20), done.\u001b[K\n",
            "remote: Compressing objects: 100% (20/20), done.\u001b[K\n",
            "remote: Total 20 (delta 8), reused 0 (delta 0), pack-reused 0\u001b[K\n",
            "Unpacking objects: 100% (20/20), done.\n"
          ]
        }
      ],
      "source": [
        "!git clone https://github.com/zihadbappy/FakeDatasets.git"
      ]
    },
    {
      "cell_type": "code",
      "execution_count": 5,
      "metadata": {
        "id": "9RI3TLIB4Lip"
      },
      "outputs": [],
      "source": [
        "import pandas as pd\n",
        "Dataset= pd.read_csv('/content/FakeDatasets/banfakenews_no_duplicate.csv')"
      ]
    },
    {
      "cell_type": "code",
      "execution_count": 6,
      "metadata": {
        "colab": {
          "base_uri": "https://localhost:8080/",
          "height": 206
        },
        "id": "-Y2BTwjf4jsH",
        "outputId": "61e24b30-4b66-46cd-f6ae-9ba45f087654"
      },
      "outputs": [
        {
          "output_type": "execute_result",
          "data": {
            "text/plain": [
              "                                            headline  \\\n",
              "0             মাঝ আকাশে পর্ন দেখার অভিযোগে পাইলট আটক   \n",
              "1         শান্তিতে নোবেল পুরস্কার পাচ্ছেন শেখ হাসিনা   \n",
              "2  কানাবগির ছা স্পোর্টিং ক্লাব ও রামগরুড়ের ছানা স...   \n",
              "3  আজ রাতে পৃথিবীতে ধেয়ে আসছে ক্ষতিকর মহাজাগতিক র...   \n",
              "4                    গালিগালাজ স্বাস্থ্যের জন্য ভালো   \n",
              "\n",
              "                                             content  label  \n",
              "0  বিমান আকাশে খেয়াল শিশু পর্নোগ্রাফির অ্যাপ ডাউ...      0  \n",
              "1  মিয়ানমারের রাখাইন বাংলাদেশে ছুটে আসা রোহিঙ্গা ...      0  \n",
              "2  তালগাছপুরের কানা বগির ছা স্পোর্টিং ক্লাব বার্ষ...      0  \n",
              "3  রাতে পৃথিবীতে ধেয়ে আসছে ক্ষতিকর উচ্চ তেজস্ক্রি...      0  \n",
              "4  স্কুলকলেজ বাসাবাড়ি অফিসেই অতি মানসিক চাপে গাল...      0  "
            ],
            "text/html": [
              "\n",
              "  <div id=\"df-f05b1bd9-d3f3-4c23-ae7e-629142c1202a\">\n",
              "    <div class=\"colab-df-container\">\n",
              "      <div>\n",
              "<style scoped>\n",
              "    .dataframe tbody tr th:only-of-type {\n",
              "        vertical-align: middle;\n",
              "    }\n",
              "\n",
              "    .dataframe tbody tr th {\n",
              "        vertical-align: top;\n",
              "    }\n",
              "\n",
              "    .dataframe thead th {\n",
              "        text-align: right;\n",
              "    }\n",
              "</style>\n",
              "<table border=\"1\" class=\"dataframe\">\n",
              "  <thead>\n",
              "    <tr style=\"text-align: right;\">\n",
              "      <th></th>\n",
              "      <th>headline</th>\n",
              "      <th>content</th>\n",
              "      <th>label</th>\n",
              "    </tr>\n",
              "  </thead>\n",
              "  <tbody>\n",
              "    <tr>\n",
              "      <th>0</th>\n",
              "      <td>মাঝ আকাশে পর্ন দেখার অভিযোগে পাইলট আটক</td>\n",
              "      <td>বিমান আকাশে খেয়াল শিশু পর্নোগ্রাফির অ্যাপ ডাউ...</td>\n",
              "      <td>0</td>\n",
              "    </tr>\n",
              "    <tr>\n",
              "      <th>1</th>\n",
              "      <td>শান্তিতে নোবেল পুরস্কার পাচ্ছেন শেখ হাসিনা</td>\n",
              "      <td>মিয়ানমারের রাখাইন বাংলাদেশে ছুটে আসা রোহিঙ্গা ...</td>\n",
              "      <td>0</td>\n",
              "    </tr>\n",
              "    <tr>\n",
              "      <th>2</th>\n",
              "      <td>কানাবগির ছা স্পোর্টিং ক্লাব ও রামগরুড়ের ছানা স...</td>\n",
              "      <td>তালগাছপুরের কানা বগির ছা স্পোর্টিং ক্লাব বার্ষ...</td>\n",
              "      <td>0</td>\n",
              "    </tr>\n",
              "    <tr>\n",
              "      <th>3</th>\n",
              "      <td>আজ রাতে পৃথিবীতে ধেয়ে আসছে ক্ষতিকর মহাজাগতিক র...</td>\n",
              "      <td>রাতে পৃথিবীতে ধেয়ে আসছে ক্ষতিকর উচ্চ তেজস্ক্রি...</td>\n",
              "      <td>0</td>\n",
              "    </tr>\n",
              "    <tr>\n",
              "      <th>4</th>\n",
              "      <td>গালিগালাজ স্বাস্থ্যের জন্য ভালো</td>\n",
              "      <td>স্কুলকলেজ বাসাবাড়ি অফিসেই অতি মানসিক চাপে গাল...</td>\n",
              "      <td>0</td>\n",
              "    </tr>\n",
              "  </tbody>\n",
              "</table>\n",
              "</div>\n",
              "      <button class=\"colab-df-convert\" onclick=\"convertToInteractive('df-f05b1bd9-d3f3-4c23-ae7e-629142c1202a')\"\n",
              "              title=\"Convert this dataframe to an interactive table.\"\n",
              "              style=\"display:none;\">\n",
              "        \n",
              "  <svg xmlns=\"http://www.w3.org/2000/svg\" height=\"24px\"viewBox=\"0 0 24 24\"\n",
              "       width=\"24px\">\n",
              "    <path d=\"M0 0h24v24H0V0z\" fill=\"none\"/>\n",
              "    <path d=\"M18.56 5.44l.94 2.06.94-2.06 2.06-.94-2.06-.94-.94-2.06-.94 2.06-2.06.94zm-11 1L8.5 8.5l.94-2.06 2.06-.94-2.06-.94L8.5 2.5l-.94 2.06-2.06.94zm10 10l.94 2.06.94-2.06 2.06-.94-2.06-.94-.94-2.06-.94 2.06-2.06.94z\"/><path d=\"M17.41 7.96l-1.37-1.37c-.4-.4-.92-.59-1.43-.59-.52 0-1.04.2-1.43.59L10.3 9.45l-7.72 7.72c-.78.78-.78 2.05 0 2.83L4 21.41c.39.39.9.59 1.41.59.51 0 1.02-.2 1.41-.59l7.78-7.78 2.81-2.81c.8-.78.8-2.07 0-2.86zM5.41 20L4 18.59l7.72-7.72 1.47 1.35L5.41 20z\"/>\n",
              "  </svg>\n",
              "      </button>\n",
              "      \n",
              "  <style>\n",
              "    .colab-df-container {\n",
              "      display:flex;\n",
              "      flex-wrap:wrap;\n",
              "      gap: 12px;\n",
              "    }\n",
              "\n",
              "    .colab-df-convert {\n",
              "      background-color: #E8F0FE;\n",
              "      border: none;\n",
              "      border-radius: 50%;\n",
              "      cursor: pointer;\n",
              "      display: none;\n",
              "      fill: #1967D2;\n",
              "      height: 32px;\n",
              "      padding: 0 0 0 0;\n",
              "      width: 32px;\n",
              "    }\n",
              "\n",
              "    .colab-df-convert:hover {\n",
              "      background-color: #E2EBFA;\n",
              "      box-shadow: 0px 1px 2px rgba(60, 64, 67, 0.3), 0px 1px 3px 1px rgba(60, 64, 67, 0.15);\n",
              "      fill: #174EA6;\n",
              "    }\n",
              "\n",
              "    [theme=dark] .colab-df-convert {\n",
              "      background-color: #3B4455;\n",
              "      fill: #D2E3FC;\n",
              "    }\n",
              "\n",
              "    [theme=dark] .colab-df-convert:hover {\n",
              "      background-color: #434B5C;\n",
              "      box-shadow: 0px 1px 3px 1px rgba(0, 0, 0, 0.15);\n",
              "      filter: drop-shadow(0px 1px 2px rgba(0, 0, 0, 0.3));\n",
              "      fill: #FFFFFF;\n",
              "    }\n",
              "  </style>\n",
              "\n",
              "      <script>\n",
              "        const buttonEl =\n",
              "          document.querySelector('#df-f05b1bd9-d3f3-4c23-ae7e-629142c1202a button.colab-df-convert');\n",
              "        buttonEl.style.display =\n",
              "          google.colab.kernel.accessAllowed ? 'block' : 'none';\n",
              "\n",
              "        async function convertToInteractive(key) {\n",
              "          const element = document.querySelector('#df-f05b1bd9-d3f3-4c23-ae7e-629142c1202a');\n",
              "          const dataTable =\n",
              "            await google.colab.kernel.invokeFunction('convertToInteractive',\n",
              "                                                     [key], {});\n",
              "          if (!dataTable) return;\n",
              "\n",
              "          const docLinkHtml = 'Like what you see? Visit the ' +\n",
              "            '<a target=\"_blank\" href=https://colab.research.google.com/notebooks/data_table.ipynb>data table notebook</a>'\n",
              "            + ' to learn more about interactive tables.';\n",
              "          element.innerHTML = '';\n",
              "          dataTable['output_type'] = 'display_data';\n",
              "          await google.colab.output.renderOutput(dataTable, element);\n",
              "          const docLink = document.createElement('div');\n",
              "          docLink.innerHTML = docLinkHtml;\n",
              "          element.appendChild(docLink);\n",
              "        }\n",
              "      </script>\n",
              "    </div>\n",
              "  </div>\n",
              "  "
            ]
          },
          "metadata": {},
          "execution_count": 6
        }
      ],
      "source": [
        "Dataset.head()"
      ]
    },
    {
      "cell_type": "code",
      "execution_count": 7,
      "metadata": {
        "id": "KGfLFRU84nef"
      },
      "outputs": [],
      "source": [
        "df = pd.DataFrame(Dataset)"
      ]
    },
    {
      "cell_type": "code",
      "execution_count": 8,
      "metadata": {
        "id": "F2vWhNKqM5fb"
      },
      "outputs": [],
      "source": [
        "df = df.reset_index(drop=True)\n",
        "# print(df)"
      ]
    },
    {
      "cell_type": "code",
      "execution_count": 9,
      "metadata": {
        "colab": {
          "base_uri": "https://localhost:8080/",
          "height": 423
        },
        "id": "7Ohb84p9M8fU",
        "outputId": "1b6bc9ca-6543-4746-a886-34d1fd93f872"
      },
      "outputs": [
        {
          "output_type": "execute_result",
          "data": {
            "text/plain": [
              "                                               headline  \\\n",
              "0                মাঝ আকাশে পর্ন দেখার অভিযোগে পাইলট আটক   \n",
              "1            শান্তিতে নোবেল পুরস্কার পাচ্ছেন শেখ হাসিনা   \n",
              "2     কানাবগির ছা স্পোর্টিং ক্লাব ও রামগরুড়ের ছানা স...   \n",
              "3     আজ রাতে পৃথিবীতে ধেয়ে আসছে ক্ষতিকর মহাজাগতিক র...   \n",
              "4                       গালিগালাজ স্বাস্থ্যের জন্য ভালো   \n",
              "...                                                 ...   \n",
              "2347                     হুসাইন রা ও কারবালা ট্র্যাজেডি   \n",
              "2348                বামজোটের ওপর হামলা বিএনপির প্রতিবাদ   \n",
              "2349                         আবারও ব্যর্থ ব্যাটসম্যানরা   \n",
              "2350        অংশগ্রহণমূলক নির্বাচন এবং বিদেশি শক্তির হাত   \n",
              "2351  কর্মক্ষেত্রে যৌন ও প্রজনন স্বাস্থ্য নিশ্চিতে উ...   \n",
              "\n",
              "                                                content  label  \n",
              "0     বিমান আকাশে খেয়াল শিশু পর্নোগ্রাফির অ্যাপ ডাউ...      0  \n",
              "1     মিয়ানমারের রাখাইন বাংলাদেশে ছুটে আসা রোহিঙ্গা ...      0  \n",
              "2     তালগাছপুরের কানা বগির ছা স্পোর্টিং ক্লাব বার্ষ...      0  \n",
              "3     রাতে পৃথিবীতে ধেয়ে আসছে ক্ষতিকর উচ্চ তেজস্ক্রি...      0  \n",
              "4     স্কুলকলেজ বাসাবাড়ি অফিসেই অতি মানসিক চাপে গাল...      0  \n",
              "...                                                 ...    ...  \n",
              "2347  রাসুলুল্লাহ সাএর অতি আদরের নাতি হুসাইন রা খাতু...      1  \n",
              "2348  বাম গণতান্ত্রিক জোটের নির্বাচন কমিশন অভিমুখে ক...      1  \n",
              "2349  ভারতের বিপক্ষে রানে উইকেট হারিয়ে কার্যত ম্যাচ ...      1  \n",
              "2350  সংবিধান অনুযায়ী একাদশ জাতীয় সংসদ নির্বাচন ডিসে...      1  \n",
              "2351  কর্মক্ষেত্রে যৌন প্রজনন স্বাস্থ্য নিশ্চিত সরকা...      1  \n",
              "\n",
              "[2352 rows x 3 columns]"
            ],
            "text/html": [
              "\n",
              "  <div id=\"df-0a2fb164-b96f-47ff-ab91-f32e53f1fdd0\">\n",
              "    <div class=\"colab-df-container\">\n",
              "      <div>\n",
              "<style scoped>\n",
              "    .dataframe tbody tr th:only-of-type {\n",
              "        vertical-align: middle;\n",
              "    }\n",
              "\n",
              "    .dataframe tbody tr th {\n",
              "        vertical-align: top;\n",
              "    }\n",
              "\n",
              "    .dataframe thead th {\n",
              "        text-align: right;\n",
              "    }\n",
              "</style>\n",
              "<table border=\"1\" class=\"dataframe\">\n",
              "  <thead>\n",
              "    <tr style=\"text-align: right;\">\n",
              "      <th></th>\n",
              "      <th>headline</th>\n",
              "      <th>content</th>\n",
              "      <th>label</th>\n",
              "    </tr>\n",
              "  </thead>\n",
              "  <tbody>\n",
              "    <tr>\n",
              "      <th>0</th>\n",
              "      <td>মাঝ আকাশে পর্ন দেখার অভিযোগে পাইলট আটক</td>\n",
              "      <td>বিমান আকাশে খেয়াল শিশু পর্নোগ্রাফির অ্যাপ ডাউ...</td>\n",
              "      <td>0</td>\n",
              "    </tr>\n",
              "    <tr>\n",
              "      <th>1</th>\n",
              "      <td>শান্তিতে নোবেল পুরস্কার পাচ্ছেন শেখ হাসিনা</td>\n",
              "      <td>মিয়ানমারের রাখাইন বাংলাদেশে ছুটে আসা রোহিঙ্গা ...</td>\n",
              "      <td>0</td>\n",
              "    </tr>\n",
              "    <tr>\n",
              "      <th>2</th>\n",
              "      <td>কানাবগির ছা স্পোর্টিং ক্লাব ও রামগরুড়ের ছানা স...</td>\n",
              "      <td>তালগাছপুরের কানা বগির ছা স্পোর্টিং ক্লাব বার্ষ...</td>\n",
              "      <td>0</td>\n",
              "    </tr>\n",
              "    <tr>\n",
              "      <th>3</th>\n",
              "      <td>আজ রাতে পৃথিবীতে ধেয়ে আসছে ক্ষতিকর মহাজাগতিক র...</td>\n",
              "      <td>রাতে পৃথিবীতে ধেয়ে আসছে ক্ষতিকর উচ্চ তেজস্ক্রি...</td>\n",
              "      <td>0</td>\n",
              "    </tr>\n",
              "    <tr>\n",
              "      <th>4</th>\n",
              "      <td>গালিগালাজ স্বাস্থ্যের জন্য ভালো</td>\n",
              "      <td>স্কুলকলেজ বাসাবাড়ি অফিসেই অতি মানসিক চাপে গাল...</td>\n",
              "      <td>0</td>\n",
              "    </tr>\n",
              "    <tr>\n",
              "      <th>...</th>\n",
              "      <td>...</td>\n",
              "      <td>...</td>\n",
              "      <td>...</td>\n",
              "    </tr>\n",
              "    <tr>\n",
              "      <th>2347</th>\n",
              "      <td>হুসাইন রা ও কারবালা ট্র্যাজেডি</td>\n",
              "      <td>রাসুলুল্লাহ সাএর অতি আদরের নাতি হুসাইন রা খাতু...</td>\n",
              "      <td>1</td>\n",
              "    </tr>\n",
              "    <tr>\n",
              "      <th>2348</th>\n",
              "      <td>বামজোটের ওপর হামলা বিএনপির প্রতিবাদ</td>\n",
              "      <td>বাম গণতান্ত্রিক জোটের নির্বাচন কমিশন অভিমুখে ক...</td>\n",
              "      <td>1</td>\n",
              "    </tr>\n",
              "    <tr>\n",
              "      <th>2349</th>\n",
              "      <td>আবারও ব্যর্থ ব্যাটসম্যানরা</td>\n",
              "      <td>ভারতের বিপক্ষে রানে উইকেট হারিয়ে কার্যত ম্যাচ ...</td>\n",
              "      <td>1</td>\n",
              "    </tr>\n",
              "    <tr>\n",
              "      <th>2350</th>\n",
              "      <td>অংশগ্রহণমূলক নির্বাচন এবং বিদেশি শক্তির হাত</td>\n",
              "      <td>সংবিধান অনুযায়ী একাদশ জাতীয় সংসদ নির্বাচন ডিসে...</td>\n",
              "      <td>1</td>\n",
              "    </tr>\n",
              "    <tr>\n",
              "      <th>2351</th>\n",
              "      <td>কর্মক্ষেত্রে যৌন ও প্রজনন স্বাস্থ্য নিশ্চিতে উ...</td>\n",
              "      <td>কর্মক্ষেত্রে যৌন প্রজনন স্বাস্থ্য নিশ্চিত সরকা...</td>\n",
              "      <td>1</td>\n",
              "    </tr>\n",
              "  </tbody>\n",
              "</table>\n",
              "<p>2352 rows × 3 columns</p>\n",
              "</div>\n",
              "      <button class=\"colab-df-convert\" onclick=\"convertToInteractive('df-0a2fb164-b96f-47ff-ab91-f32e53f1fdd0')\"\n",
              "              title=\"Convert this dataframe to an interactive table.\"\n",
              "              style=\"display:none;\">\n",
              "        \n",
              "  <svg xmlns=\"http://www.w3.org/2000/svg\" height=\"24px\"viewBox=\"0 0 24 24\"\n",
              "       width=\"24px\">\n",
              "    <path d=\"M0 0h24v24H0V0z\" fill=\"none\"/>\n",
              "    <path d=\"M18.56 5.44l.94 2.06.94-2.06 2.06-.94-2.06-.94-.94-2.06-.94 2.06-2.06.94zm-11 1L8.5 8.5l.94-2.06 2.06-.94-2.06-.94L8.5 2.5l-.94 2.06-2.06.94zm10 10l.94 2.06.94-2.06 2.06-.94-2.06-.94-.94-2.06-.94 2.06-2.06.94z\"/><path d=\"M17.41 7.96l-1.37-1.37c-.4-.4-.92-.59-1.43-.59-.52 0-1.04.2-1.43.59L10.3 9.45l-7.72 7.72c-.78.78-.78 2.05 0 2.83L4 21.41c.39.39.9.59 1.41.59.51 0 1.02-.2 1.41-.59l7.78-7.78 2.81-2.81c.8-.78.8-2.07 0-2.86zM5.41 20L4 18.59l7.72-7.72 1.47 1.35L5.41 20z\"/>\n",
              "  </svg>\n",
              "      </button>\n",
              "      \n",
              "  <style>\n",
              "    .colab-df-container {\n",
              "      display:flex;\n",
              "      flex-wrap:wrap;\n",
              "      gap: 12px;\n",
              "    }\n",
              "\n",
              "    .colab-df-convert {\n",
              "      background-color: #E8F0FE;\n",
              "      border: none;\n",
              "      border-radius: 50%;\n",
              "      cursor: pointer;\n",
              "      display: none;\n",
              "      fill: #1967D2;\n",
              "      height: 32px;\n",
              "      padding: 0 0 0 0;\n",
              "      width: 32px;\n",
              "    }\n",
              "\n",
              "    .colab-df-convert:hover {\n",
              "      background-color: #E2EBFA;\n",
              "      box-shadow: 0px 1px 2px rgba(60, 64, 67, 0.3), 0px 1px 3px 1px rgba(60, 64, 67, 0.15);\n",
              "      fill: #174EA6;\n",
              "    }\n",
              "\n",
              "    [theme=dark] .colab-df-convert {\n",
              "      background-color: #3B4455;\n",
              "      fill: #D2E3FC;\n",
              "    }\n",
              "\n",
              "    [theme=dark] .colab-df-convert:hover {\n",
              "      background-color: #434B5C;\n",
              "      box-shadow: 0px 1px 3px 1px rgba(0, 0, 0, 0.15);\n",
              "      filter: drop-shadow(0px 1px 2px rgba(0, 0, 0, 0.3));\n",
              "      fill: #FFFFFF;\n",
              "    }\n",
              "  </style>\n",
              "\n",
              "      <script>\n",
              "        const buttonEl =\n",
              "          document.querySelector('#df-0a2fb164-b96f-47ff-ab91-f32e53f1fdd0 button.colab-df-convert');\n",
              "        buttonEl.style.display =\n",
              "          google.colab.kernel.accessAllowed ? 'block' : 'none';\n",
              "\n",
              "        async function convertToInteractive(key) {\n",
              "          const element = document.querySelector('#df-0a2fb164-b96f-47ff-ab91-f32e53f1fdd0');\n",
              "          const dataTable =\n",
              "            await google.colab.kernel.invokeFunction('convertToInteractive',\n",
              "                                                     [key], {});\n",
              "          if (!dataTable) return;\n",
              "\n",
              "          const docLinkHtml = 'Like what you see? Visit the ' +\n",
              "            '<a target=\"_blank\" href=https://colab.research.google.com/notebooks/data_table.ipynb>data table notebook</a>'\n",
              "            + ' to learn more about interactive tables.';\n",
              "          element.innerHTML = '';\n",
              "          dataTable['output_type'] = 'display_data';\n",
              "          await google.colab.output.renderOutput(dataTable, element);\n",
              "          const docLink = document.createElement('div');\n",
              "          docLink.innerHTML = docLinkHtml;\n",
              "          element.appendChild(docLink);\n",
              "        }\n",
              "      </script>\n",
              "    </div>\n",
              "  </div>\n",
              "  "
            ]
          },
          "metadata": {},
          "execution_count": 9
        }
      ],
      "source": [
        "df"
      ]
    },
    {
      "cell_type": "markdown",
      "metadata": {
        "id": "mrQG10mBQIT6"
      },
      "source": [
        "# Tokenization"
      ]
    },
    {
      "cell_type": "code",
      "execution_count": 10,
      "metadata": {
        "colab": {
          "base_uri": "https://localhost:8080/"
        },
        "id": "Y9PEPc5ROQoM",
        "outputId": "e53bfcda-4d0a-4c8e-d898-5d09682f82e7"
      },
      "outputs": [
        {
          "output_type": "stream",
          "name": "stdout",
          "text": [
            "Looking in indexes: https://pypi.org/simple, https://us-python.pkg.dev/colab-wheels/public/simple/\n",
            "Collecting bnlp_toolkit\n",
            "  Downloading bnlp_toolkit-3.1.2-py3-none-any.whl (17 kB)\n",
            "Requirement already satisfied: scipy in /usr/local/lib/python3.7/dist-packages (from bnlp_toolkit) (1.7.3)\n",
            "Requirement already satisfied: nltk in /usr/local/lib/python3.7/dist-packages (from bnlp_toolkit) (3.7)\n",
            "Collecting gensim==4.0.1\n",
            "  Downloading gensim-4.0.1-cp37-cp37m-manylinux1_x86_64.whl (23.9 MB)\n",
            "\u001b[K     |████████████████████████████████| 23.9 MB 1.5 MB/s \n",
            "\u001b[?25hRequirement already satisfied: wasabi in /usr/local/lib/python3.7/dist-packages (from bnlp_toolkit) (0.10.1)\n",
            "Requirement already satisfied: numpy in /usr/local/lib/python3.7/dist-packages (from bnlp_toolkit) (1.21.6)\n",
            "Collecting sentencepiece\n",
            "  Downloading sentencepiece-0.1.97-cp37-cp37m-manylinux_2_17_x86_64.manylinux2014_x86_64.whl (1.3 MB)\n",
            "\u001b[K     |████████████████████████████████| 1.3 MB 51.1 MB/s \n",
            "\u001b[?25hCollecting sklearn-crfsuite\n",
            "  Downloading sklearn_crfsuite-0.3.6-py2.py3-none-any.whl (12 kB)\n",
            "Requirement already satisfied: smart-open>=1.8.1 in /usr/local/lib/python3.7/dist-packages (from gensim==4.0.1->bnlp_toolkit) (5.2.1)\n",
            "Requirement already satisfied: regex>=2021.8.3 in /usr/local/lib/python3.7/dist-packages (from nltk->bnlp_toolkit) (2022.6.2)\n",
            "Requirement already satisfied: tqdm in /usr/local/lib/python3.7/dist-packages (from nltk->bnlp_toolkit) (4.64.0)\n",
            "Requirement already satisfied: joblib in /usr/local/lib/python3.7/dist-packages (from nltk->bnlp_toolkit) (1.1.0)\n",
            "Requirement already satisfied: click in /usr/local/lib/python3.7/dist-packages (from nltk->bnlp_toolkit) (7.1.2)\n",
            "Requirement already satisfied: tabulate in /usr/local/lib/python3.7/dist-packages (from sklearn-crfsuite->bnlp_toolkit) (0.8.10)\n",
            "Requirement already satisfied: six in /usr/local/lib/python3.7/dist-packages (from sklearn-crfsuite->bnlp_toolkit) (1.15.0)\n",
            "Collecting python-crfsuite>=0.8.3\n",
            "  Downloading python_crfsuite-0.9.8-cp37-cp37m-manylinux_2_17_x86_64.manylinux2014_x86_64.whl (965 kB)\n",
            "\u001b[K     |████████████████████████████████| 965 kB 53.8 MB/s \n",
            "\u001b[?25hInstalling collected packages: python-crfsuite, sklearn-crfsuite, sentencepiece, gensim, bnlp-toolkit\n",
            "  Attempting uninstall: gensim\n",
            "    Found existing installation: gensim 3.6.0\n",
            "    Uninstalling gensim-3.6.0:\n",
            "      Successfully uninstalled gensim-3.6.0\n",
            "Successfully installed bnlp-toolkit-3.1.2 gensim-4.0.1 python-crfsuite-0.9.8 sentencepiece-0.1.97 sklearn-crfsuite-0.3.6\n"
          ]
        }
      ],
      "source": [
        "pip install bnlp_toolkit"
      ]
    },
    {
      "cell_type": "code",
      "execution_count": 11,
      "metadata": {
        "id": "AYxfwuzLNCFd",
        "colab": {
          "base_uri": "https://localhost:8080/"
        },
        "outputId": "2c16248d-c794-4a04-d9a5-2ad3a605b0a2"
      },
      "outputs": [
        {
          "output_type": "stream",
          "name": "stdout",
          "text": [
            "punkt not found. downloading...\n"
          ]
        },
        {
          "output_type": "stream",
          "name": "stderr",
          "text": [
            "[nltk_data] Downloading package punkt to /root/nltk_data...\n",
            "[nltk_data]   Unzipping tokenizers/punkt.zip.\n",
            "/usr/local/lib/python3.7/dist-packages/gensim/similarities/__init__.py:15: UserWarning: The gensim.similarities.levenshtein submodule is disabled, because the optional Levenshtein package <https://pypi.org/project/python-Levenshtein/> is unavailable. Install Levenhstein (e.g. `pip install python-Levenshtein`) to suppress this warning.\n",
            "  warnings.warn(msg)\n"
          ]
        }
      ],
      "source": [
        "from bnlp import BasicTokenizer\n",
        "from bnlp.corpus import stopwords, punctuations, letters, digits\n",
        "\n",
        "btokenizer = BasicTokenizer()\n",
        "\n",
        "word_list= []\n",
        "def clean_text(text):\n",
        "    tokens = btokenizer.tokenize(text)\n",
        "    filtered = []\n",
        "    for i in tokens:\n",
        "        if i in stopwords:\n",
        "            continue\n",
        "    \n",
        "        if i in punctuations + '‘' + '’':\n",
        "            continue\n",
        "    \n",
        "        filtered.append(i)\n",
        "        word_list.append(i)\n",
        "    return \" \".join(filtered)"
      ]
    },
    {
      "cell_type": "code",
      "source": [
        "df = df.dropna(how='any',axis=0) \n",
        "df['content'] = df.content.apply(clean_text)"
      ],
      "metadata": {
        "colab": {
          "base_uri": "https://localhost:8080/"
        },
        "id": "bNF6tVWguzRL",
        "outputId": "e8c50cac-07ee-49d7-a7fa-f9d5c1f8c89e"
      },
      "execution_count": 12,
      "outputs": [
        {
          "output_type": "stream",
          "name": "stderr",
          "text": [
            "/usr/local/lib/python3.7/dist-packages/ipykernel_launcher.py:2: SettingWithCopyWarning: \n",
            "A value is trying to be set on a copy of a slice from a DataFrame.\n",
            "Try using .loc[row_indexer,col_indexer] = value instead\n",
            "\n",
            "See the caveats in the documentation: https://pandas.pydata.org/pandas-docs/stable/user_guide/indexing.html#returning-a-view-versus-a-copy\n",
            "  \n"
          ]
        }
      ]
    },
    {
      "cell_type": "code",
      "execution_count": 13,
      "metadata": {
        "colab": {
          "base_uri": "https://localhost:8080/",
          "height": 143
        },
        "id": "BEmVyJjl7TBp",
        "outputId": "4953049b-bc9f-4a05-afe6-41c1e349cd9d"
      },
      "outputs": [
        {
          "output_type": "execute_result",
          "data": {
            "text/plain": [
              "       headline  content\n",
              "label                   \n",
              "0          1176     1176\n",
              "1          1175     1175"
            ],
            "text/html": [
              "\n",
              "  <div id=\"df-33416ed7-8391-4972-b934-bbcbf498f9c5\">\n",
              "    <div class=\"colab-df-container\">\n",
              "      <div>\n",
              "<style scoped>\n",
              "    .dataframe tbody tr th:only-of-type {\n",
              "        vertical-align: middle;\n",
              "    }\n",
              "\n",
              "    .dataframe tbody tr th {\n",
              "        vertical-align: top;\n",
              "    }\n",
              "\n",
              "    .dataframe thead th {\n",
              "        text-align: right;\n",
              "    }\n",
              "</style>\n",
              "<table border=\"1\" class=\"dataframe\">\n",
              "  <thead>\n",
              "    <tr style=\"text-align: right;\">\n",
              "      <th></th>\n",
              "      <th>headline</th>\n",
              "      <th>content</th>\n",
              "    </tr>\n",
              "    <tr>\n",
              "      <th>label</th>\n",
              "      <th></th>\n",
              "      <th></th>\n",
              "    </tr>\n",
              "  </thead>\n",
              "  <tbody>\n",
              "    <tr>\n",
              "      <th>0</th>\n",
              "      <td>1176</td>\n",
              "      <td>1176</td>\n",
              "    </tr>\n",
              "    <tr>\n",
              "      <th>1</th>\n",
              "      <td>1175</td>\n",
              "      <td>1175</td>\n",
              "    </tr>\n",
              "  </tbody>\n",
              "</table>\n",
              "</div>\n",
              "      <button class=\"colab-df-convert\" onclick=\"convertToInteractive('df-33416ed7-8391-4972-b934-bbcbf498f9c5')\"\n",
              "              title=\"Convert this dataframe to an interactive table.\"\n",
              "              style=\"display:none;\">\n",
              "        \n",
              "  <svg xmlns=\"http://www.w3.org/2000/svg\" height=\"24px\"viewBox=\"0 0 24 24\"\n",
              "       width=\"24px\">\n",
              "    <path d=\"M0 0h24v24H0V0z\" fill=\"none\"/>\n",
              "    <path d=\"M18.56 5.44l.94 2.06.94-2.06 2.06-.94-2.06-.94-.94-2.06-.94 2.06-2.06.94zm-11 1L8.5 8.5l.94-2.06 2.06-.94-2.06-.94L8.5 2.5l-.94 2.06-2.06.94zm10 10l.94 2.06.94-2.06 2.06-.94-2.06-.94-.94-2.06-.94 2.06-2.06.94z\"/><path d=\"M17.41 7.96l-1.37-1.37c-.4-.4-.92-.59-1.43-.59-.52 0-1.04.2-1.43.59L10.3 9.45l-7.72 7.72c-.78.78-.78 2.05 0 2.83L4 21.41c.39.39.9.59 1.41.59.51 0 1.02-.2 1.41-.59l7.78-7.78 2.81-2.81c.8-.78.8-2.07 0-2.86zM5.41 20L4 18.59l7.72-7.72 1.47 1.35L5.41 20z\"/>\n",
              "  </svg>\n",
              "      </button>\n",
              "      \n",
              "  <style>\n",
              "    .colab-df-container {\n",
              "      display:flex;\n",
              "      flex-wrap:wrap;\n",
              "      gap: 12px;\n",
              "    }\n",
              "\n",
              "    .colab-df-convert {\n",
              "      background-color: #E8F0FE;\n",
              "      border: none;\n",
              "      border-radius: 50%;\n",
              "      cursor: pointer;\n",
              "      display: none;\n",
              "      fill: #1967D2;\n",
              "      height: 32px;\n",
              "      padding: 0 0 0 0;\n",
              "      width: 32px;\n",
              "    }\n",
              "\n",
              "    .colab-df-convert:hover {\n",
              "      background-color: #E2EBFA;\n",
              "      box-shadow: 0px 1px 2px rgba(60, 64, 67, 0.3), 0px 1px 3px 1px rgba(60, 64, 67, 0.15);\n",
              "      fill: #174EA6;\n",
              "    }\n",
              "\n",
              "    [theme=dark] .colab-df-convert {\n",
              "      background-color: #3B4455;\n",
              "      fill: #D2E3FC;\n",
              "    }\n",
              "\n",
              "    [theme=dark] .colab-df-convert:hover {\n",
              "      background-color: #434B5C;\n",
              "      box-shadow: 0px 1px 3px 1px rgba(0, 0, 0, 0.15);\n",
              "      filter: drop-shadow(0px 1px 2px rgba(0, 0, 0, 0.3));\n",
              "      fill: #FFFFFF;\n",
              "    }\n",
              "  </style>\n",
              "\n",
              "      <script>\n",
              "        const buttonEl =\n",
              "          document.querySelector('#df-33416ed7-8391-4972-b934-bbcbf498f9c5 button.colab-df-convert');\n",
              "        buttonEl.style.display =\n",
              "          google.colab.kernel.accessAllowed ? 'block' : 'none';\n",
              "\n",
              "        async function convertToInteractive(key) {\n",
              "          const element = document.querySelector('#df-33416ed7-8391-4972-b934-bbcbf498f9c5');\n",
              "          const dataTable =\n",
              "            await google.colab.kernel.invokeFunction('convertToInteractive',\n",
              "                                                     [key], {});\n",
              "          if (!dataTable) return;\n",
              "\n",
              "          const docLinkHtml = 'Like what you see? Visit the ' +\n",
              "            '<a target=\"_blank\" href=https://colab.research.google.com/notebooks/data_table.ipynb>data table notebook</a>'\n",
              "            + ' to learn more about interactive tables.';\n",
              "          element.innerHTML = '';\n",
              "          dataTable['output_type'] = 'display_data';\n",
              "          await google.colab.output.renderOutput(dataTable, element);\n",
              "          const docLink = document.createElement('div');\n",
              "          docLink.innerHTML = docLinkHtml;\n",
              "          element.appendChild(docLink);\n",
              "        }\n",
              "      </script>\n",
              "    </div>\n",
              "  </div>\n",
              "  "
            ]
          },
          "metadata": {},
          "execution_count": 13
        }
      ],
      "source": [
        "df.groupby('label').agg('count')"
      ]
    },
    {
      "cell_type": "code",
      "execution_count": 14,
      "metadata": {
        "colab": {
          "base_uri": "https://localhost:8080/"
        },
        "id": "V3rykg9lNJ7k",
        "outputId": "a360ff3e-4592-4bc1-f356-fa99a64c149b"
      },
      "outputs": [
        {
          "output_type": "stream",
          "name": "stdout",
          "text": [
            "451978\n"
          ]
        }
      ],
      "source": [
        "print(len(word_list))"
      ]
    },
    {
      "cell_type": "code",
      "execution_count": 15,
      "metadata": {
        "id": "HY3g1z88NMOb"
      },
      "outputs": [],
      "source": [
        "uniq= set(word_list)"
      ]
    },
    {
      "cell_type": "code",
      "execution_count": 16,
      "metadata": {
        "colab": {
          "base_uri": "https://localhost:8080/"
        },
        "id": "t165dvd7NPur",
        "outputId": "fff54aa4-2d5d-4d96-edc9-a73907232b9b"
      },
      "outputs": [
        {
          "output_type": "stream",
          "name": "stdout",
          "text": [
            "63613\n"
          ]
        }
      ],
      "source": [
        "print(len(uniq))"
      ]
    },
    {
      "cell_type": "code",
      "execution_count": 17,
      "metadata": {
        "id": "mvXvJ8TTBJiV"
      },
      "outputs": [],
      "source": [
        "from sklearn.feature_extraction.text import CountVectorizer"
      ]
    },
    {
      "cell_type": "code",
      "execution_count": 18,
      "metadata": {
        "colab": {
          "base_uri": "https://localhost:8080/"
        },
        "id": "EzQO2NqMTrTk",
        "outputId": "1b60e25a-008d-421a-88be-52679ad62aa8"
      },
      "outputs": [
        {
          "output_type": "stream",
          "name": "stderr",
          "text": [
            "/usr/local/lib/python3.7/dist-packages/sklearn/feature_extraction/text.py:517: UserWarning: The parameter 'token_pattern' will not be used since 'tokenizer' is not None'\n",
            "  \"The parameter 'token_pattern' will not be used\"\n"
          ]
        },
        {
          "output_type": "execute_result",
          "data": {
            "text/plain": [
              "CountVectorizer(tokenizer=<function <lambda> at 0x7f4276111dd0>)"
            ]
          },
          "metadata": {},
          "execution_count": 18
        }
      ],
      "source": [
        "bow_transformer = CountVectorizer(tokenizer=lambda x: x.split())\n",
        "bow_transformer.fit(uniq)"
      ]
    },
    {
      "cell_type": "code",
      "execution_count": 19,
      "metadata": {
        "id": "L_v-_W93XfbA"
      },
      "outputs": [],
      "source": [
        "# print(bow_transformer.vocabulary_.iloc[:10])\n",
        "# for value in bow_transformer.vocabulary_:\n",
        "#   print(value)"
      ]
    },
    {
      "cell_type": "code",
      "execution_count": 20,
      "metadata": {
        "colab": {
          "base_uri": "https://localhost:8080/"
        },
        "id": "9_nbpj9YchQN",
        "outputId": "481d67a1-15a3-4bee-ea3e-ffab8f787b63"
      },
      "outputs": [
        {
          "output_type": "stream",
          "name": "stdout",
          "text": [
            "রাতে পৃথিবীতে ধেয়ে আসছে ক্ষতিকর উচ্চ তেজস্ক্রিয়তাসম্পন্ন কসমিক রে মহাজাগতিক রশ্মি ক্ষতিকর রশ্মি রক্ষা পেতে রাত টা মিনিট টা মিনিট মোবাইল ফোন বন্ধ রাখুন শরীরের দূরে কোথাও রাখুন বিশ্বাস গুগল নাসা বিবিসির খবর অনুসন্ধান করুনএবং সংবাদটি বন্ধুবান্ধব প্রিয়জনকে জানান সামাজিক যোগাযোগ মাধ্যম ফেসবুকের ইনবক্সে হয়তো এরকম মেসেজ পেয়েছেন বিশ্বাস আতঙ্কিত হয়ে মেসেজটি প্রিয়জনকে ফরোয়ার্ড\n"
          ]
        }
      ],
      "source": [
        "news4 = df['content'][3]\n",
        "print(news4)"
      ]
    },
    {
      "cell_type": "code",
      "execution_count": 21,
      "metadata": {
        "id": "3o3j2MVgcpDt"
      },
      "outputs": [],
      "source": [
        "bow4 = bow_transformer.transform([news4])"
      ]
    },
    {
      "cell_type": "code",
      "execution_count": 22,
      "metadata": {
        "colab": {
          "base_uri": "https://localhost:8080/"
        },
        "id": "GfLKrGjBcytr",
        "outputId": "8e44d5a0-b229-44d8-b57f-fc5dfb4d8005"
      },
      "outputs": [
        {
          "output_type": "stream",
          "name": "stdout",
          "text": [
            "47\n"
          ]
        }
      ],
      "source": [
        "print(bow4.nnz)"
      ]
    },
    {
      "cell_type": "code",
      "execution_count": 23,
      "metadata": {
        "colab": {
          "base_uri": "https://localhost:8080/"
        },
        "id": "5G9qHkbtdAL4",
        "outputId": "31efeeae-e11c-43c7-f8e7-3b35610b86ec"
      },
      "outputs": [
        {
          "output_type": "stream",
          "name": "stdout",
          "text": [
            "(1, 63613)\n"
          ]
        }
      ],
      "source": [
        "print(bow4.shape)"
      ]
    },
    {
      "cell_type": "code",
      "execution_count": 24,
      "metadata": {
        "id": "zqRLVbVQdD1H"
      },
      "outputs": [],
      "source": [
        "# bow_transformer.get_feature_names()"
      ]
    },
    {
      "cell_type": "code",
      "execution_count": 25,
      "metadata": {
        "colab": {
          "base_uri": "https://localhost:8080/",
          "height": 92
        },
        "id": "NTHuAGcB4LIe",
        "outputId": "4734c39e-2a0e-4367-da83-f41aaa31e448"
      },
      "outputs": [
        {
          "output_type": "stream",
          "name": "stderr",
          "text": [
            "/usr/local/lib/python3.7/dist-packages/sklearn/utils/deprecation.py:87: FutureWarning: Function get_feature_names is deprecated; get_feature_names is deprecated in 1.0 and will be removed in 1.2. Please use get_feature_names_out instead.\n",
            "  warnings.warn(msg, category=FutureWarning)\n"
          ]
        },
        {
          "output_type": "execute_result",
          "data": {
            "text/plain": [
              "'ছিলইবেলজিয়ামের'"
            ],
            "application/vnd.google.colaboratory.intrinsic+json": {
              "type": "string"
            }
          },
          "metadata": {},
          "execution_count": 25
        }
      ],
      "source": [
        "bow_transformer.get_feature_names()[20000]"
      ]
    },
    {
      "cell_type": "code",
      "execution_count": 26,
      "metadata": {
        "id": "I4M0bHo7dGD_"
      },
      "outputs": [],
      "source": [
        "news_bow= bow_transformer.transform(df['content'].values.astype('U'))"
      ]
    },
    {
      "cell_type": "code",
      "execution_count": 27,
      "metadata": {
        "colab": {
          "base_uri": "https://localhost:8080/"
        },
        "id": "P0H6-jVsdYz2",
        "outputId": "855ae5f6-396e-4a0c-cd2e-cf02fa48a030"
      },
      "outputs": [
        {
          "output_type": "stream",
          "name": "stdout",
          "text": [
            "Shape of Sparse Matrix:  (2351, 63613)\n"
          ]
        }
      ],
      "source": [
        "print('Shape of Sparse Matrix: ', news_bow.shape)"
      ]
    },
    {
      "cell_type": "code",
      "execution_count": 28,
      "metadata": {
        "colab": {
          "base_uri": "https://localhost:8080/"
        },
        "id": "IufPKBmydeU6",
        "outputId": "4dd85f28-f758-4d7b-86fd-95facfa6e69d"
      },
      "outputs": [
        {
          "output_type": "execute_result",
          "data": {
            "text/plain": [
              "326650"
            ]
          },
          "metadata": {},
          "execution_count": 28
        }
      ],
      "source": [
        "news_bow.nnz"
      ]
    },
    {
      "cell_type": "code",
      "execution_count": 29,
      "metadata": {
        "colab": {
          "base_uri": "https://localhost:8080/"
        },
        "id": "q9oYrmZS82a6",
        "outputId": "612d9b63-831b-4740-f952-9f0e99d479ba"
      },
      "outputs": [
        {
          "output_type": "execute_result",
          "data": {
            "text/plain": [
              "(2351, 63613)"
            ]
          },
          "metadata": {},
          "execution_count": 29
        }
      ],
      "source": [
        "news_bow.shape"
      ]
    },
    {
      "cell_type": "markdown",
      "metadata": {
        "id": "Q3GvOYEbQXdb"
      },
      "source": [
        "# TF-IDF"
      ]
    },
    {
      "cell_type": "code",
      "execution_count": 30,
      "metadata": {
        "id": "nTxaxktfdhA6"
      },
      "outputs": [],
      "source": [
        "from sklearn.feature_extraction.text import TfidfTransformer"
      ]
    },
    {
      "cell_type": "code",
      "execution_count": 31,
      "metadata": {
        "colab": {
          "base_uri": "https://localhost:8080/"
        },
        "id": "T2ZFbhKvdvH8",
        "outputId": "6f5c64e7-e7fd-482f-bc41-a2247d47391c"
      },
      "outputs": [
        {
          "output_type": "stream",
          "name": "stdout",
          "text": [
            "  (0, 63513)\t0.04188738079040677\n",
            "  (0, 63450)\t0.08580986113992493\n",
            "  (0, 58198)\t0.08379944648176295\n",
            "  (0, 56043)\t0.15172267239850196\n",
            "  (0, 54353)\t0.10234700159086728\n",
            "  (0, 52296)\t0.11333989746066546\n",
            "  (0, 51553)\t0.0730367717791735\n",
            "  (0, 51541)\t0.0806743310354631\n",
            "  (0, 51334)\t0.2319623948214412\n",
            "  (0, 51105)\t0.3210944451120675\n",
            "  (0, 50883)\t0.09562181446151977\n",
            "  (0, 50696)\t0.07455228074231646\n",
            "  (0, 49584)\t0.09589906685558035\n",
            "  (0, 49363)\t0.16680834053389978\n",
            "  (0, 49360)\t0.12663573409579376\n",
            "  (0, 48166)\t0.19841510083971867\n",
            "  (0, 47249)\t0.1078702855672429\n",
            "  (0, 46714)\t0.16054722255603374\n",
            "  (0, 42271)\t0.16571969305993034\n",
            "  (0, 41891)\t0.1317805038601725\n",
            "  (0, 39251)\t0.138530721490965\n",
            "  (0, 39223)\t0.07508184503382845\n",
            "  (0, 38561)\t0.08053614632612192\n",
            "  (0, 38507)\t0.10739193623244439\n",
            "  (0, 37566)\t0.1406050540177043\n",
            "  (0, 36938)\t0.35126578138286313\n",
            "  (0, 35490)\t0.09160789742206647\n",
            "  (0, 35302)\t0.08546162941313568\n",
            "  (0, 35212)\t0.11980928514850997\n",
            "  (0, 30543)\t0.15569072215310212\n",
            "  (0, 29328)\t0.15569072215310212\n",
            "  (0, 28039)\t0.0937740613871898\n",
            "  (0, 25784)\t0.17563289069143156\n",
            "  (0, 22726)\t0.18054998004548137\n",
            "  (0, 21074)\t0.050537678466999705\n",
            "  (0, 16608)\t0.13037588628523805\n",
            "  (0, 14782)\t0.0654504781907241\n",
            "  (0, 14579)\t0.2510387717646129\n",
            "  (0, 13799)\t0.09704480605072194\n",
            "  (0, 11635)\t0.17563289069143156\n",
            "  (0, 10980)\t0.17563289069143156\n",
            "  (0, 8913)\t0.0961798967985283\n",
            "  (0, 6804)\t0.0998671166101805\n",
            "  (0, 6018)\t0.1428981222409702\n",
            "  (0, 5172)\t0.07999201751971312\n",
            "  (0, 3323)\t0.1428981222409702\n",
            "  (0, 792)\t0.13489495328390777\n"
          ]
        }
      ],
      "source": [
        "tfidf_transformer= TfidfTransformer().fit(news_bow)\n",
        "tfidf4= tfidf_transformer.transform(bow4)\n",
        "print(tfidf4)"
      ]
    },
    {
      "cell_type": "code",
      "execution_count": 32,
      "metadata": {
        "colab": {
          "base_uri": "https://localhost:8080/"
        },
        "id": "bfEFfxB7dwYp",
        "outputId": "4bbeb35a-c120-4200-92a7-e5e037848185"
      },
      "outputs": [
        {
          "output_type": "execute_result",
          "data": {
            "text/plain": [
              "5.872649551122353"
            ]
          },
          "metadata": {},
          "execution_count": 32
        }
      ],
      "source": [
        "tfidf_transformer.idf_[bow_transformer.vocabulary_.get('চাল')]"
      ]
    },
    {
      "cell_type": "code",
      "execution_count": 33,
      "metadata": {
        "id": "h4ymTZUsd5z8"
      },
      "outputs": [],
      "source": [
        "news_tfidf = tfidf_transformer.transform(news_bow)"
      ]
    },
    {
      "cell_type": "code",
      "execution_count": 34,
      "metadata": {
        "colab": {
          "base_uri": "https://localhost:8080/"
        },
        "id": "mGTx8tMQ6j0E",
        "outputId": "2ded3994-1b67-49df-a5c0-773413cc5191"
      },
      "outputs": [
        {
          "output_type": "execute_result",
          "data": {
            "text/plain": [
              "(2351, 63613)"
            ]
          },
          "metadata": {},
          "execution_count": 34
        }
      ],
      "source": [
        "news_tfidf.shape"
      ]
    },
    {
      "cell_type": "markdown",
      "metadata": {
        "id": "SPWcAs1lQboK"
      },
      "source": [
        "## Multinomial Naive Bayes"
      ]
    },
    {
      "cell_type": "code",
      "execution_count": 35,
      "metadata": {
        "id": "oSLt7AXqeuR4"
      },
      "outputs": [],
      "source": [
        "from sklearn.naive_bayes import MultinomialNB"
      ]
    },
    {
      "cell_type": "code",
      "execution_count": 36,
      "metadata": {
        "id": "tcR3p9Piew_6"
      },
      "outputs": [],
      "source": [
        "mnb_model = MultinomialNB().fit(news_tfidf, df['label'])"
      ]
    },
    {
      "cell_type": "code",
      "execution_count": 37,
      "metadata": {
        "colab": {
          "base_uri": "https://localhost:8080/"
        },
        "id": "mg2gGdo8fSO_",
        "outputId": "9065e00e-4967-4b3b-ea43-86b0b404393d"
      },
      "outputs": [
        {
          "output_type": "execute_result",
          "data": {
            "text/plain": [
              "0"
            ]
          },
          "metadata": {},
          "execution_count": 37
        }
      ],
      "source": [
        "mnb_model.predict(tfidf4)[0]"
      ]
    },
    {
      "cell_type": "code",
      "execution_count": 38,
      "metadata": {
        "id": "dCaNUBZffSvz"
      },
      "outputs": [],
      "source": [
        "all_pred = mnb_model.predict(news_tfidf)"
      ]
    },
    {
      "cell_type": "code",
      "execution_count": 39,
      "metadata": {
        "colab": {
          "base_uri": "https://localhost:8080/"
        },
        "id": "R2sEsl1U-Owq",
        "outputId": "f6a277e1-1fb8-468c-81bd-ca4b12abadd0"
      },
      "outputs": [
        {
          "output_type": "execute_result",
          "data": {
            "text/plain": [
              "1535    1\n",
              "1536    1\n",
              "1537    1\n",
              "1538    1\n",
              "1539    1\n",
              "1540    1\n",
              "1541    1\n",
              "1542    1\n",
              "1543    1\n",
              "1544    1\n",
              "1545    1\n",
              "1546    1\n",
              "1547    1\n",
              "1548    1\n",
              "1549    1\n",
              "1550    1\n",
              "1551    1\n",
              "1552    1\n",
              "1553    1\n",
              "1554    1\n",
              "1555    1\n",
              "1556    1\n",
              "1557    1\n",
              "1558    1\n",
              "1559    1\n",
              "1560    1\n",
              "1561    1\n",
              "1562    1\n",
              "1563    1\n",
              "1564    1\n",
              "Name: label, dtype: int64"
            ]
          },
          "metadata": {},
          "execution_count": 39
        }
      ],
      "source": [
        "df['label'][1535:1565]"
      ]
    },
    {
      "cell_type": "code",
      "execution_count": 40,
      "metadata": {
        "colab": {
          "base_uri": "https://localhost:8080/"
        },
        "id": "ZDEK_52vfnP4",
        "outputId": "d7271825-9d2c-438a-8afa-499ec7f22d7f"
      },
      "outputs": [
        {
          "output_type": "execute_result",
          "data": {
            "text/plain": [
              "array([1, 1, 1, 1, 1, 1, 1, 1, 1, 1, 1, 1, 1, 1, 1, 1, 1, 1, 1, 1, 1, 1,\n",
              "       1, 1, 1, 1, 1, 1, 1, 1])"
            ]
          },
          "metadata": {},
          "execution_count": 40
        }
      ],
      "source": [
        "all_pred[1535:1565]"
      ]
    },
    {
      "cell_type": "code",
      "execution_count": 41,
      "metadata": {
        "id": "p8ue_uiEfpT4"
      },
      "outputs": [],
      "source": [
        "from sklearn.model_selection import train_test_split\n",
        "from sklearn.metrics import accuracy_score"
      ]
    },
    {
      "cell_type": "code",
      "execution_count": 42,
      "metadata": {
        "id": "VM3ubNPBfwPZ"
      },
      "outputs": [],
      "source": [
        "xtrain, xtest, ytrain, ytest = train_test_split(news_tfidf, df['label'], test_size=0.20, random_state=32)\n",
        "news_train, news_test, label_train, label_test = train_test_split(df['content'], df['label'], test_size=0.25, random_state=32)"
      ]
    },
    {
      "cell_type": "code",
      "execution_count": 43,
      "metadata": {
        "id": "sGtYQVmff0qz"
      },
      "outputs": [],
      "source": [
        "from sklearn.pipeline import Pipeline"
      ]
    },
    {
      "cell_type": "code",
      "execution_count": 44,
      "metadata": {
        "id": "t7noUATUf23A"
      },
      "outputs": [],
      "source": [
        "pipeline = Pipeline([\n",
        "    ('bow',CountVectorizer()),\n",
        "    ('tfidf', TfidfTransformer()),\n",
        "    ('classifier', MultinomialNB())\n",
        "])"
      ]
    },
    {
      "cell_type": "code",
      "execution_count": 45,
      "metadata": {
        "colab": {
          "base_uri": "https://localhost:8080/"
        },
        "id": "7n0Yb6tJgD4-",
        "outputId": "c02bd5db-7974-4baf-f885-efbb61ee0efc"
      },
      "outputs": [
        {
          "output_type": "execute_result",
          "data": {
            "text/plain": [
              "Pipeline(steps=[('bow', CountVectorizer()), ('tfidf', TfidfTransformer()),\n",
              "                ('classifier', MultinomialNB())])"
            ]
          },
          "metadata": {},
          "execution_count": 45
        }
      ],
      "source": [
        "pipeline.fit(news_train.values.astype('U'), label_train)"
      ]
    },
    {
      "cell_type": "code",
      "execution_count": 46,
      "metadata": {
        "id": "QmvAIqo9gGKv"
      },
      "outputs": [],
      "source": [
        "mnbYpred =  pipeline.predict(news_test)"
      ]
    },
    {
      "cell_type": "code",
      "source": [
        "mnbYpred"
      ],
      "metadata": {
        "colab": {
          "base_uri": "https://localhost:8080/"
        },
        "id": "sIoeJVHuD4ec",
        "outputId": "c1f788ce-fdae-4e29-c964-51cf0c40e49c"
      },
      "execution_count": 47,
      "outputs": [
        {
          "output_type": "execute_result",
          "data": {
            "text/plain": [
              "array([0, 1, 1, 0, 1, 0, 0, 1, 0, 1, 0, 1, 1, 0, 1, 0, 0, 1, 0, 0, 0, 1,\n",
              "       1, 0, 1, 0, 1, 0, 1, 0, 1, 0, 1, 1, 1, 0, 0, 1, 0, 0, 0, 1, 0, 0,\n",
              "       1, 1, 1, 1, 0, 1, 1, 1, 0, 1, 1, 0, 0, 1, 1, 0, 0, 1, 0, 1, 0, 1,\n",
              "       1, 1, 1, 1, 0, 0, 1, 1, 0, 0, 0, 1, 0, 0, 1, 1, 0, 0, 1, 1, 1, 0,\n",
              "       1, 1, 0, 1, 1, 1, 0, 1, 1, 0, 1, 0, 1, 1, 0, 1, 0, 1, 1, 0, 1, 0,\n",
              "       0, 0, 0, 1, 1, 0, 0, 1, 1, 0, 1, 1, 0, 0, 1, 0, 1, 1, 0, 1, 0, 1,\n",
              "       0, 0, 1, 1, 0, 1, 1, 1, 1, 1, 0, 1, 0, 1, 1, 0, 0, 0, 0, 1, 0, 0,\n",
              "       0, 1, 0, 1, 0, 1, 1, 0, 0, 0, 1, 0, 0, 1, 1, 0, 0, 0, 1, 0, 0, 1,\n",
              "       1, 0, 0, 1, 1, 1, 1, 0, 1, 1, 0, 1, 1, 1, 1, 0, 0, 1, 1, 1, 1, 0,\n",
              "       0, 0, 0, 1, 0, 0, 1, 1, 1, 0, 1, 1, 1, 1, 0, 1, 0, 1, 1, 1, 1, 0,\n",
              "       1, 1, 0, 1, 0, 0, 1, 1, 0, 1, 1, 0, 0, 1, 1, 0, 1, 0, 1, 1, 0, 1,\n",
              "       1, 0, 1, 0, 0, 1, 0, 1, 1, 1, 1, 0, 1, 1, 0, 1, 0, 1, 0, 0, 1, 0,\n",
              "       1, 1, 0, 1, 1, 1, 0, 1, 1, 1, 0, 1, 1, 0, 0, 1, 0, 1, 0, 0, 0, 1,\n",
              "       0, 1, 0, 1, 1, 1, 1, 0, 1, 0, 0, 1, 1, 0, 0, 0, 1, 1, 0, 1, 0, 0,\n",
              "       1, 1, 0, 0, 1, 1, 1, 0, 0, 0, 0, 0, 1, 0, 1, 1, 0, 0, 1, 0, 0, 0,\n",
              "       0, 1, 0, 0, 0, 0, 0, 0, 0, 0, 0, 1, 0, 0, 0, 0, 1, 0, 0, 1, 0, 1,\n",
              "       0, 0, 0, 1, 1, 0, 0, 0, 1, 0, 0, 1, 1, 1, 0, 0, 0, 0, 0, 1, 0, 1,\n",
              "       1, 1, 0, 1, 0, 1, 0, 0, 1, 0, 1, 0, 1, 1, 1, 0, 0, 1, 1, 0, 1, 1,\n",
              "       1, 0, 1, 0, 0, 0, 1, 1, 0, 1, 0, 1, 1, 1, 0, 1, 0, 1, 1, 1, 1, 1,\n",
              "       0, 1, 0, 0, 0, 0, 0, 1, 1, 0, 1, 0, 0, 1, 0, 1, 0, 0, 0, 1, 1, 0,\n",
              "       0, 0, 0, 0, 1, 0, 0, 1, 0, 0, 0, 0, 1, 0, 1, 1, 0, 1, 0, 0, 0, 1,\n",
              "       1, 1, 1, 0, 1, 1, 0, 0, 0, 1, 1, 0, 0, 1, 1, 1, 1, 0, 0, 0, 1, 0,\n",
              "       1, 1, 1, 1, 0, 0, 1, 1, 0, 1, 1, 0, 1, 1, 0, 1, 1, 1, 0, 1, 0, 1,\n",
              "       1, 1, 0, 0, 0, 0, 0, 0, 1, 0, 0, 1, 0, 0, 0, 1, 0, 1, 0, 0, 1, 1,\n",
              "       1, 0, 0, 0, 1, 0, 1, 1, 1, 0, 0, 0, 0, 0, 0, 0, 1, 0, 0, 1, 1, 0,\n",
              "       1, 1, 0, 0, 0, 0, 0, 1, 1, 1, 0, 1, 0, 0, 1, 1, 0, 1, 1, 0, 0, 1,\n",
              "       0, 0, 0, 1, 0, 0, 1, 0, 0, 1, 1, 0, 0, 0, 1, 0])"
            ]
          },
          "metadata": {},
          "execution_count": 47
        }
      ]
    },
    {
      "cell_type": "code",
      "source": [
        "print('Accuracy of MNB classifier on test set: {:.3f}'.format(accuracy_score(mnbYpred, label_test)))\n",
        "# accuracy_score(mnbYpred, label_test)"
      ],
      "metadata": {
        "colab": {
          "base_uri": "https://localhost:8080/"
        },
        "id": "mE4xkS6IDU8R",
        "outputId": "07f22201-f628-48b0-a23b-c7460d0978f1"
      },
      "execution_count": 48,
      "outputs": [
        {
          "output_type": "stream",
          "name": "stdout",
          "text": [
            "Accuracy of MNB classifier on test set: 0.878\n"
          ]
        }
      ]
    },
    {
      "cell_type": "code",
      "execution_count": 49,
      "metadata": {
        "id": "gKNyIOZAgJwL"
      },
      "outputs": [],
      "source": [
        "from sklearn.metrics import classification_report"
      ]
    },
    {
      "cell_type": "code",
      "execution_count": 50,
      "metadata": {
        "colab": {
          "base_uri": "https://localhost:8080/"
        },
        "id": "0uUz6W9mgNTi",
        "outputId": "ca4ff6b6-d6ff-4bac-ef9e-497657b1a5f8"
      },
      "outputs": [
        {
          "output_type": "stream",
          "name": "stdout",
          "text": [
            "              precision    recall  f1-score   support\n",
            "\n",
            "           0     0.8586    0.8947    0.8763       285\n",
            "           1     0.8969    0.8614    0.8788       303\n",
            "\n",
            "    accuracy                         0.8776       588\n",
            "   macro avg     0.8777    0.8781    0.8775       588\n",
            "weighted avg     0.8783    0.8776    0.8776       588\n",
            "\n"
          ]
        }
      ],
      "source": [
        "print(classification_report(label_test, mnbYpred,digits=4))"
      ]
    },
    {
      "cell_type": "markdown",
      "metadata": {
        "id": "nADNkyrXQjsu"
      },
      "source": [
        "## Logistic Regression"
      ]
    },
    {
      "cell_type": "code",
      "execution_count": 51,
      "metadata": {
        "id": "NaPxEzJNgO8j"
      },
      "outputs": [],
      "source": [
        "from sklearn.linear_model import LogisticRegression\n",
        "from sklearn.metrics import classification_report, confusion_matrix"
      ]
    },
    {
      "cell_type": "code",
      "execution_count": 52,
      "metadata": {
        "colab": {
          "base_uri": "https://localhost:8080/"
        },
        "id": "8bLpepH5cGKj",
        "outputId": "d2443f78-4cc1-41ea-c9d3-d096f7a7764e"
      },
      "outputs": [
        {
          "output_type": "execute_result",
          "data": {
            "text/plain": [
              "LogisticRegression()"
            ]
          },
          "metadata": {},
          "execution_count": 52
        }
      ],
      "source": [
        "logreg = LogisticRegression()\n",
        "logreg.fit(xtrain, ytrain)"
      ]
    },
    {
      "cell_type": "code",
      "execution_count": 53,
      "metadata": {
        "id": "dtp5M0xCctgs"
      },
      "outputs": [],
      "source": [
        "ypred = logreg.predict(xtest)"
      ]
    },
    {
      "cell_type": "code",
      "execution_count": 54,
      "metadata": {
        "colab": {
          "base_uri": "https://localhost:8080/"
        },
        "id": "IpOndcCTfH5k",
        "outputId": "d9cffba7-c723-4fb3-f02f-bf94cae4048a"
      },
      "outputs": [
        {
          "output_type": "stream",
          "name": "stdout",
          "text": [
            "Accuracy of logistic regression classifier on test set: 0.913\n"
          ]
        }
      ],
      "source": [
        "print('Accuracy of logistic regression classifier on test set: {:.3f}'.format(logreg.score(xtest, ytest)))"
      ]
    },
    {
      "cell_type": "code",
      "source": [
        "print(classification_report(ytest, ypred,digits=4))"
      ],
      "metadata": {
        "colab": {
          "base_uri": "https://localhost:8080/"
        },
        "id": "HKRfp3-HuJpy",
        "outputId": "43e50d4a-9734-4f12-e61b-b55b7de18c77"
      },
      "execution_count": 55,
      "outputs": [
        {
          "output_type": "stream",
          "name": "stdout",
          "text": [
            "              precision    recall  f1-score   support\n",
            "\n",
            "           0     0.8833    0.9422    0.9118       225\n",
            "           1     0.9437    0.8862    0.9140       246\n",
            "\n",
            "    accuracy                         0.9130       471\n",
            "   macro avg     0.9135    0.9142    0.9129       471\n",
            "weighted avg     0.9149    0.9130    0.9130       471\n",
            "\n"
          ]
        }
      ]
    },
    {
      "cell_type": "markdown",
      "metadata": {
        "id": "8fOevWJtQokS"
      },
      "source": [
        "## KNN"
      ]
    },
    {
      "cell_type": "code",
      "execution_count": 56,
      "metadata": {
        "id": "czfAyjG2fJ-T"
      },
      "outputs": [],
      "source": [
        "from sklearn.neighbors import KNeighborsClassifier"
      ]
    },
    {
      "cell_type": "code",
      "execution_count": 57,
      "metadata": {
        "id": "TRrhLfmtftzi"
      },
      "outputs": [],
      "source": [
        "knn = KNeighborsClassifier(n_neighbors=12)"
      ]
    },
    {
      "cell_type": "code",
      "execution_count": 58,
      "metadata": {
        "colab": {
          "base_uri": "https://localhost:8080/"
        },
        "id": "M9VeSKuWf2w6",
        "outputId": "f432d6f9-258f-42dd-b745-b28a87843fec"
      },
      "outputs": [
        {
          "output_type": "execute_result",
          "data": {
            "text/plain": [
              "KNeighborsClassifier(n_neighbors=12)"
            ]
          },
          "metadata": {},
          "execution_count": 58
        }
      ],
      "source": [
        "knn.fit(xtrain, ytrain)"
      ]
    },
    {
      "cell_type": "code",
      "execution_count": 59,
      "metadata": {
        "id": "y7hQUEoMf6Oi"
      },
      "outputs": [],
      "source": [
        "knnYpred = knn.predict(xtest)"
      ]
    },
    {
      "cell_type": "code",
      "source": [
        "print(knnYpred)"
      ],
      "metadata": {
        "colab": {
          "base_uri": "https://localhost:8080/"
        },
        "id": "hHHsfxZXwZXN",
        "outputId": "5a2efd99-09e3-41a3-ca00-979cbd98d728"
      },
      "execution_count": 60,
      "outputs": [
        {
          "output_type": "stream",
          "name": "stdout",
          "text": [
            "[0 0 1 0 1 1 0 1 0 1 1 1 1 1 1 0 0 0 0 1 1 1 1 1 1 0 1 0 1 0 1 0 1 1 1 0 0\n",
            " 1 0 0 0 1 0 0 1 1 1 1 0 1 0 1 0 1 1 1 0 1 1 0 0 1 0 1 0 1 1 1 1 1 0 0 0 1\n",
            " 0 0 0 1 1 0 1 0 0 0 1 1 1 0 1 1 1 0 1 1 0 1 1 1 1 0 1 1 1 1 0 1 1 1 1 0 1\n",
            " 0 0 1 1 0 0 1 1 0 1 1 0 1 1 0 1 1 0 1 0 1 0 0 1 1 0 1 1 1 1 1 0 1 0 1 1 0\n",
            " 1 0 0 1 0 0 0 1 1 1 1 1 0 0 0 1 1 1 0 1 1 0 0 0 1 0 0 1 1 0 0 1 1 1 1 0 1\n",
            " 1 0 1 1 1 1 1 1 1 1 1 1 1 0 0 1 1 1 0 1 1 1 0 1 1 1 1 0 1 0 1 1 1 1 1 1 1\n",
            " 0 1 0 0 1 0 0 1 1 0 0 1 1 1 1 0 1 1 0 1 1 0 1 0 1 1 1 1 1 1 1 0 1 1 0 1 0\n",
            " 1 1 0 0 0 1 1 0 1 1 1 0 1 1 1 0 1 0 0 0 1 0 1 0 0 0 1 0 1 0 0 1 1 1 0 1 1\n",
            " 0 1 1 0 0 1 1 1 1 1 0 0 1 1 0 1 1 1 1 0 1 1 0 0 0 0 1 1 0 0 1 1 0 0 0 1 1\n",
            " 0 0 1 0 0 0 1 0 1 0 0 0 0 1 0 0 1 0 1 0 0 0 1 1 0 0 0 1 0 0 0 1 1 0 0 0 0\n",
            " 0 1 0 1 1 1 0 1 0 1 0 0 1 0 1 0 1 1 1 0 0 1 1 0 1 1 1 0 1 0 0 0 1 1 0 1 0\n",
            " 1 1 1 0 1 0 1 1 1 1 1 0 1 0 0 1 1 1 1 1 0 1 1 0 1 0 1 0 0 0 1 1 0 0 0 1 0\n",
            " 1 0 0 1 0 0 0 1 1 0 1 1 1 1 1 0 0 1 1 1 1 0 1 1 0 0 0]\n"
          ]
        }
      ]
    },
    {
      "cell_type": "code",
      "execution_count": 61,
      "metadata": {
        "colab": {
          "base_uri": "https://localhost:8080/"
        },
        "id": "zkH_FlCVf9gS",
        "outputId": "58c8fe21-0ec7-4672-9b33-352408ba49e5"
      },
      "outputs": [
        {
          "output_type": "stream",
          "name": "stdout",
          "text": [
            "Accuracy of knn on test set: 0.870\n"
          ]
        }
      ],
      "source": [
        "print('Accuracy of knn on test set: {:.3f}'.format(knn.score(xtest, ytest)))"
      ]
    },
    {
      "cell_type": "code",
      "source": [
        "print(classification_report(ytest, knnYpred,digits=4))"
      ],
      "metadata": {
        "colab": {
          "base_uri": "https://localhost:8080/"
        },
        "id": "tv5oEAU7v86S",
        "outputId": "aa7d396e-76f1-4af0-f7b1-166e2f6e18cd"
      },
      "execution_count": 62,
      "outputs": [
        {
          "output_type": "stream",
          "name": "stdout",
          "text": [
            "              precision    recall  f1-score   support\n",
            "\n",
            "           0     0.9100    0.8089    0.8565       225\n",
            "           1     0.8413    0.9268    0.8820       246\n",
            "\n",
            "    accuracy                         0.8705       471\n",
            "   macro avg     0.8757    0.8679    0.8692       471\n",
            "weighted avg     0.8741    0.8705    0.8698       471\n",
            "\n"
          ]
        }
      ]
    },
    {
      "cell_type": "markdown",
      "metadata": {
        "id": "CGzbrdwMQrsb"
      },
      "source": [
        "# SVM"
      ]
    },
    {
      "cell_type": "code",
      "execution_count": 63,
      "metadata": {
        "id": "9J0y3vWqgEij"
      },
      "outputs": [],
      "source": [
        "from sklearn.svm import SVC"
      ]
    },
    {
      "cell_type": "code",
      "execution_count": 64,
      "metadata": {
        "colab": {
          "base_uri": "https://localhost:8080/"
        },
        "id": "Fs5Fpu8Czm_R",
        "outputId": "c6775f30-55d0-41af-9e2a-0e0fcdce8546"
      },
      "outputs": [
        {
          "output_type": "execute_result",
          "data": {
            "text/plain": [
              "SVC(random_state=7)"
            ]
          },
          "metadata": {},
          "execution_count": 64
        }
      ],
      "source": [
        "classifier = SVC(kernel='rbf', random_state = 7)\n",
        "classifier.fit(xtrain,ytrain)"
      ]
    },
    {
      "cell_type": "code",
      "execution_count": 65,
      "metadata": {
        "id": "yJtIRuZuzqpo"
      },
      "outputs": [],
      "source": [
        "svcYpred = classifier.predict(xtest)"
      ]
    },
    {
      "cell_type": "code",
      "execution_count": 66,
      "metadata": {
        "colab": {
          "base_uri": "https://localhost:8080/"
        },
        "id": "lugmUbN7zxzh",
        "outputId": "06cd925a-750d-4259-e96a-a9a278b092fc"
      },
      "outputs": [
        {
          "output_type": "stream",
          "name": "stdout",
          "text": [
            "[0 0 1 0 1 0 0 1 0 1 0 1 1 0 1 0 0 0 0 1 1 1 1 0 0 0 1 0 1 0 1 0 1 1 1 0 0\n",
            " 1 0 0 0 1 0 0 1 1 1 1 0 1 1 1 0 1 1 0 0 1 1 0 0 1 0 1 0 1 1 1 1 1 0 0 0 1\n",
            " 0 0 0 1 0 0 1 1 0 0 1 0 1 0 1 1 0 0 1 1 0 1 1 1 1 0 1 1 0 1 0 1 1 0 1 0 0\n",
            " 0 0 1 1 0 0 1 1 0 1 1 0 0 1 0 1 1 0 1 0 1 0 0 1 1 0 1 1 1 1 0 0 1 0 1 1 0\n",
            " 0 0 0 1 0 0 0 1 1 1 0 1 0 0 1 0 1 0 0 1 1 0 0 0 1 0 0 1 1 0 0 1 1 1 1 0 1\n",
            " 1 0 1 1 1 1 0 0 1 1 1 1 0 0 0 0 1 0 0 1 1 1 0 1 1 1 1 0 0 0 1 1 0 1 1 1 1\n",
            " 1 1 0 0 1 0 0 1 1 0 0 1 1 0 1 0 1 1 0 1 1 0 1 0 0 1 0 1 1 1 1 0 1 1 0 1 0\n",
            " 1 0 0 1 0 1 0 0 1 1 1 0 1 1 1 0 1 0 0 0 1 0 0 0 0 0 1 0 1 0 0 1 0 1 0 1 1\n",
            " 0 0 1 0 0 1 1 1 0 1 0 0 1 1 0 0 1 1 1 0 0 0 0 0 1 0 1 1 0 0 1 0 0 0 0 1 0\n",
            " 0 0 0 0 0 0 1 0 0 0 0 0 0 1 0 0 1 0 1 0 0 0 1 1 0 0 0 1 0 0 1 1 1 0 0 0 0\n",
            " 0 1 0 1 1 1 0 1 0 1 0 0 1 0 1 0 1 1 1 1 0 1 1 0 1 1 1 0 0 0 0 0 1 0 0 1 0\n",
            " 1 1 1 0 1 0 0 1 1 1 0 0 1 0 0 0 0 0 1 1 0 1 0 0 1 0 1 0 0 0 1 1 0 0 0 0 0\n",
            " 1 0 0 1 0 0 0 0 1 0 1 1 0 1 1 0 0 1 1 1 1 0 1 0 0 0 0]\n"
          ]
        }
      ],
      "source": [
        "print(classifier.predict(xtest))"
      ]
    },
    {
      "cell_type": "code",
      "execution_count": 67,
      "metadata": {
        "colab": {
          "base_uri": "https://localhost:8080/"
        },
        "id": "iH-8-qw60DE4",
        "outputId": "44f3bb05-bb45-40e3-89e0-71863f0ff5d5"
      },
      "outputs": [
        {
          "output_type": "stream",
          "name": "stdout",
          "text": [
            "Accuracy of SVM on test set: 0.9321\n"
          ]
        }
      ],
      "source": [
        "print('Accuracy of SVM on test set: {:.4f}'.format(classifier.score(xtest, ytest)))"
      ]
    },
    {
      "cell_type": "code",
      "source": [
        "print(classification_report(ytest, svcYpred,digits=4))"
      ],
      "metadata": {
        "colab": {
          "base_uri": "https://localhost:8080/"
        },
        "id": "q9n1FK5uwJ48",
        "outputId": "6a439c3e-6727-4407-d947-1edf5074267e"
      },
      "execution_count": 68,
      "outputs": [
        {
          "output_type": "stream",
          "name": "stdout",
          "text": [
            "              precision    recall  f1-score   support\n",
            "\n",
            "           0     0.8939    0.9733    0.9319       225\n",
            "           1     0.9735    0.8943    0.9322       246\n",
            "\n",
            "    accuracy                         0.9321       471\n",
            "   macro avg     0.9337    0.9338    0.9321       471\n",
            "weighted avg     0.9354    0.9321    0.9321       471\n",
            "\n"
          ]
        }
      ]
    },
    {
      "cell_type": "markdown",
      "source": [
        "# Decision Tree"
      ],
      "metadata": {
        "id": "NUuPWvqiKUEG"
      }
    },
    {
      "cell_type": "code",
      "source": [
        "from sklearn import tree"
      ],
      "metadata": {
        "id": "s9Ci6BncwNeX"
      },
      "execution_count": 69,
      "outputs": []
    },
    {
      "cell_type": "code",
      "source": [
        "clf = tree.DecisionTreeClassifier(random_state=17)\n",
        "clf = clf.fit(xtrain, ytrain)\n",
        "y_pred = clf.predict(xtest)\n",
        "print(classification_report(ytest, y_pred))\n",
        "print('\\nDecision Tree Classifier Accuracy: {0:.4f}'.format(accuracy_score(ytest, y_pred)))"
      ],
      "metadata": {
        "colab": {
          "base_uri": "https://localhost:8080/"
        },
        "id": "Hx0ihZQoJTte",
        "outputId": "f8bb76e1-a847-4166-a901-5958fdd43f23"
      },
      "execution_count": 70,
      "outputs": [
        {
          "output_type": "stream",
          "name": "stdout",
          "text": [
            "              precision    recall  f1-score   support\n",
            "\n",
            "           0       0.80      0.80      0.80       225\n",
            "           1       0.82      0.81      0.82       246\n",
            "\n",
            "    accuracy                           0.81       471\n",
            "   macro avg       0.81      0.81      0.81       471\n",
            "weighted avg       0.81      0.81      0.81       471\n",
            "\n",
            "\n",
            "Decision Tree Classifier Accuracy: 0.8089\n"
          ]
        }
      ]
    },
    {
      "cell_type": "markdown",
      "source": [
        "#AdaBoost"
      ],
      "metadata": {
        "id": "GigBGzCHKhGB"
      }
    },
    {
      "cell_type": "markdown",
      "source": [],
      "metadata": {
        "id": "YN_sapucL-Je"
      }
    },
    {
      "cell_type": "code",
      "source": [
        "from sklearn.ensemble import AdaBoostClassifier\n",
        "from sklearn.tree import DecisionTreeClassifier\n"
      ],
      "metadata": {
        "id": "9VFcLt6wLPP1"
      },
      "execution_count": 71,
      "outputs": []
    },
    {
      "cell_type": "code",
      "source": [
        "adaclassifier = AdaBoostClassifier(base_estimator=DecisionTreeClassifier(),n_estimators=100)\n",
        "\n",
        "adaclassifier.fit(xtrain,ytrain)"
      ],
      "metadata": {
        "colab": {
          "base_uri": "https://localhost:8080/"
        },
        "id": "L3B4CPfkKXKc",
        "outputId": "4f084d21-1e44-4246-fffc-7b6a3bf0ecf6"
      },
      "execution_count": 72,
      "outputs": [
        {
          "output_type": "execute_result",
          "data": {
            "text/plain": [
              "AdaBoostClassifier(base_estimator=DecisionTreeClassifier(), n_estimators=100)"
            ]
          },
          "metadata": {},
          "execution_count": 72
        }
      ]
    },
    {
      "cell_type": "code",
      "source": [
        "aday_pred = adaclassifier.predict(xtest)"
      ],
      "metadata": {
        "id": "6C1hVq8-LVsm"
      },
      "execution_count": 73,
      "outputs": []
    },
    {
      "cell_type": "code",
      "source": [
        "print(classification_report(ytest, aday_pred, digits=4))\n",
        "print('\\nAdaboost classifier Accuracy: {0:.4f}'.format(accuracy_score(ytest, aday_pred)))"
      ],
      "metadata": {
        "colab": {
          "base_uri": "https://localhost:8080/"
        },
        "id": "GE7chWeOLgXN",
        "outputId": "e6ddc2f2-dda2-41d7-ba13-05f62c05ba4e"
      },
      "execution_count": 74,
      "outputs": [
        {
          "output_type": "stream",
          "name": "stdout",
          "text": [
            "              precision    recall  f1-score   support\n",
            "\n",
            "           0     0.8080    0.8044    0.8062       225\n",
            "           1     0.8219    0.8252    0.8235       246\n",
            "\n",
            "    accuracy                         0.8153       471\n",
            "   macro avg     0.8149    0.8148    0.8149       471\n",
            "weighted avg     0.8153    0.8153    0.8153       471\n",
            "\n",
            "\n",
            "Adaboost classifier Accuracy: 0.8153\n"
          ]
        }
      ]
    }
  ],
  "metadata": {
    "colab": {
      "collapsed_sections": [],
      "provenance": [],
      "authorship_tag": "ABX9TyOrNeYN1fmi56cjbrC9HUYE",
      "include_colab_link": true
    },
    "kernelspec": {
      "display_name": "Python 3",
      "name": "python3"
    },
    "language_info": {
      "name": "python"
    },
    "accelerator": "GPU",
    "gpuClass": "standard"
  },
  "nbformat": 4,
  "nbformat_minor": 0
}