{
  "cells": [
    {
      "cell_type": "markdown",
      "metadata": {
        "id": "view-in-github",
        "colab_type": "text"
      },
      "source": [
        "<a href=\"https://colab.research.google.com/github/zihadbappy/bnfake/blob/main/Final_LSTM_BiLSTM_CNN%2BLSTM_CNN%2BBiLSTM_with_ES.ipynb\" target=\"_parent\"><img src=\"https://colab.research.google.com/assets/colab-badge.svg\" alt=\"Open In Colab\"/></a>"
      ]
    },
    {
      "cell_type": "code",
      "execution_count": 151,
      "metadata": {
        "colab": {
          "base_uri": "https://localhost:8080/"
        },
        "id": "yWwzky88kQDW",
        "outputId": "94a6b735-7e11-4558-f361-215b268da42e"
      },
      "outputs": [
        {
          "output_type": "stream",
          "name": "stdout",
          "text": [
            "fatal: destination path 'bnfakedata' already exists and is not an empty directory.\n"
          ]
        }
      ],
      "source": [
        "!git clone https://github.com/zihadbappy/bnfakedata.git"
      ]
    },
    {
      "cell_type": "code",
      "execution_count": 152,
      "metadata": {
        "id": "zUKl__8RkaX0"
      },
      "outputs": [],
      "source": [
        "import pandas as pd\n",
        "Dataset= pd.read_csv('/content/bnfakedata/bnfakefinal.csv')"
      ]
    },
    {
      "cell_type": "code",
      "execution_count": 153,
      "metadata": {
        "id": "4or3X6M_kbZK"
      },
      "outputs": [],
      "source": [
        "df = pd.DataFrame(Dataset)"
      ]
    },
    {
      "cell_type": "code",
      "execution_count": 154,
      "metadata": {
        "id": "g8HDYbD7kdEK"
      },
      "outputs": [],
      "source": [
        "df = pd.DataFrame(Dataset)\n"
      ]
    },
    {
      "cell_type": "code",
      "execution_count": 155,
      "metadata": {
        "colab": {
          "base_uri": "https://localhost:8080/",
          "height": 143
        },
        "id": "0eh6CGrQkfKC",
        "outputId": "847d6ba4-ce75-4c2b-9680-7e838fdea34f"
      },
      "outputs": [
        {
          "output_type": "execute_result",
          "data": {
            "text/plain": [
              "       headline  content\n",
              "label                   \n",
              "0          2790     2790\n",
              "1          2790     2789"
            ],
            "text/html": [
              "\n",
              "  <div id=\"df-84a0f0ef-9fdd-41c3-a9f5-85f6f581b882\">\n",
              "    <div class=\"colab-df-container\">\n",
              "      <div>\n",
              "<style scoped>\n",
              "    .dataframe tbody tr th:only-of-type {\n",
              "        vertical-align: middle;\n",
              "    }\n",
              "\n",
              "    .dataframe tbody tr th {\n",
              "        vertical-align: top;\n",
              "    }\n",
              "\n",
              "    .dataframe thead th {\n",
              "        text-align: right;\n",
              "    }\n",
              "</style>\n",
              "<table border=\"1\" class=\"dataframe\">\n",
              "  <thead>\n",
              "    <tr style=\"text-align: right;\">\n",
              "      <th></th>\n",
              "      <th>headline</th>\n",
              "      <th>content</th>\n",
              "    </tr>\n",
              "    <tr>\n",
              "      <th>label</th>\n",
              "      <th></th>\n",
              "      <th></th>\n",
              "    </tr>\n",
              "  </thead>\n",
              "  <tbody>\n",
              "    <tr>\n",
              "      <th>0</th>\n",
              "      <td>2790</td>\n",
              "      <td>2790</td>\n",
              "    </tr>\n",
              "    <tr>\n",
              "      <th>1</th>\n",
              "      <td>2790</td>\n",
              "      <td>2789</td>\n",
              "    </tr>\n",
              "  </tbody>\n",
              "</table>\n",
              "</div>\n",
              "      <button class=\"colab-df-convert\" onclick=\"convertToInteractive('df-84a0f0ef-9fdd-41c3-a9f5-85f6f581b882')\"\n",
              "              title=\"Convert this dataframe to an interactive table.\"\n",
              "              style=\"display:none;\">\n",
              "        \n",
              "  <svg xmlns=\"http://www.w3.org/2000/svg\" height=\"24px\"viewBox=\"0 0 24 24\"\n",
              "       width=\"24px\">\n",
              "    <path d=\"M0 0h24v24H0V0z\" fill=\"none\"/>\n",
              "    <path d=\"M18.56 5.44l.94 2.06.94-2.06 2.06-.94-2.06-.94-.94-2.06-.94 2.06-2.06.94zm-11 1L8.5 8.5l.94-2.06 2.06-.94-2.06-.94L8.5 2.5l-.94 2.06-2.06.94zm10 10l.94 2.06.94-2.06 2.06-.94-2.06-.94-.94-2.06-.94 2.06-2.06.94z\"/><path d=\"M17.41 7.96l-1.37-1.37c-.4-.4-.92-.59-1.43-.59-.52 0-1.04.2-1.43.59L10.3 9.45l-7.72 7.72c-.78.78-.78 2.05 0 2.83L4 21.41c.39.39.9.59 1.41.59.51 0 1.02-.2 1.41-.59l7.78-7.78 2.81-2.81c.8-.78.8-2.07 0-2.86zM5.41 20L4 18.59l7.72-7.72 1.47 1.35L5.41 20z\"/>\n",
              "  </svg>\n",
              "      </button>\n",
              "      \n",
              "  <style>\n",
              "    .colab-df-container {\n",
              "      display:flex;\n",
              "      flex-wrap:wrap;\n",
              "      gap: 12px;\n",
              "    }\n",
              "\n",
              "    .colab-df-convert {\n",
              "      background-color: #E8F0FE;\n",
              "      border: none;\n",
              "      border-radius: 50%;\n",
              "      cursor: pointer;\n",
              "      display: none;\n",
              "      fill: #1967D2;\n",
              "      height: 32px;\n",
              "      padding: 0 0 0 0;\n",
              "      width: 32px;\n",
              "    }\n",
              "\n",
              "    .colab-df-convert:hover {\n",
              "      background-color: #E2EBFA;\n",
              "      box-shadow: 0px 1px 2px rgba(60, 64, 67, 0.3), 0px 1px 3px 1px rgba(60, 64, 67, 0.15);\n",
              "      fill: #174EA6;\n",
              "    }\n",
              "\n",
              "    [theme=dark] .colab-df-convert {\n",
              "      background-color: #3B4455;\n",
              "      fill: #D2E3FC;\n",
              "    }\n",
              "\n",
              "    [theme=dark] .colab-df-convert:hover {\n",
              "      background-color: #434B5C;\n",
              "      box-shadow: 0px 1px 3px 1px rgba(0, 0, 0, 0.15);\n",
              "      filter: drop-shadow(0px 1px 2px rgba(0, 0, 0, 0.3));\n",
              "      fill: #FFFFFF;\n",
              "    }\n",
              "  </style>\n",
              "\n",
              "      <script>\n",
              "        const buttonEl =\n",
              "          document.querySelector('#df-84a0f0ef-9fdd-41c3-a9f5-85f6f581b882 button.colab-df-convert');\n",
              "        buttonEl.style.display =\n",
              "          google.colab.kernel.accessAllowed ? 'block' : 'none';\n",
              "\n",
              "        async function convertToInteractive(key) {\n",
              "          const element = document.querySelector('#df-84a0f0ef-9fdd-41c3-a9f5-85f6f581b882');\n",
              "          const dataTable =\n",
              "            await google.colab.kernel.invokeFunction('convertToInteractive',\n",
              "                                                     [key], {});\n",
              "          if (!dataTable) return;\n",
              "\n",
              "          const docLinkHtml = 'Like what you see? Visit the ' +\n",
              "            '<a target=\"_blank\" href=https://colab.research.google.com/notebooks/data_table.ipynb>data table notebook</a>'\n",
              "            + ' to learn more about interactive tables.';\n",
              "          element.innerHTML = '';\n",
              "          dataTable['output_type'] = 'display_data';\n",
              "          await google.colab.output.renderOutput(dataTable, element);\n",
              "          const docLink = document.createElement('div');\n",
              "          docLink.innerHTML = docLinkHtml;\n",
              "          element.appendChild(docLink);\n",
              "        }\n",
              "      </script>\n",
              "    </div>\n",
              "  </div>\n",
              "  "
            ]
          },
          "metadata": {},
          "execution_count": 155
        }
      ],
      "source": [
        "df.groupby('label').agg('count')"
      ]
    },
    {
      "cell_type": "code",
      "execution_count": 156,
      "metadata": {
        "id": "Aqi9SlmSkkeC"
      },
      "outputs": [],
      "source": [
        "df=df.dropna()"
      ]
    },
    {
      "cell_type": "code",
      "execution_count": 157,
      "metadata": {
        "id": "HClWoM0Akr8B"
      },
      "outputs": [],
      "source": [
        "X=df.content\n",
        "Y=df.label"
      ]
    },
    {
      "cell_type": "code",
      "execution_count": 158,
      "metadata": {
        "colab": {
          "base_uri": "https://localhost:8080/"
        },
        "id": "SRInFEVTkwSp",
        "outputId": "d63f848e-b2b9-4e9d-d405-ae740ca4ca3b"
      },
      "outputs": [
        {
          "output_type": "execute_result",
          "data": {
            "text/plain": [
              "0    2790\n",
              "1    2789\n",
              "Name: label, dtype: int64"
            ]
          },
          "metadata": {},
          "execution_count": 158
        }
      ],
      "source": [
        "Y.value_counts()"
      ]
    },
    {
      "cell_type": "code",
      "execution_count": 159,
      "metadata": {
        "colab": {
          "base_uri": "https://localhost:8080/"
        },
        "id": "D-a5z8uxk11K",
        "outputId": "420a8dd3-5657-44e8-df70-d22ad102b231"
      },
      "outputs": [
        {
          "output_type": "execute_result",
          "data": {
            "text/plain": [
              "(5579,)"
            ]
          },
          "metadata": {},
          "execution_count": 159
        }
      ],
      "source": [
        "X.shape"
      ]
    },
    {
      "cell_type": "code",
      "execution_count": 160,
      "metadata": {
        "id": "HgmDabVAk3Va"
      },
      "outputs": [],
      "source": [
        "from tensorflow.keras.layers import Embedding\n",
        "from tensorflow.keras.preprocessing.sequence import pad_sequences\n",
        "from tensorflow.keras.models import Sequential\n",
        "from tensorflow.keras.preprocessing.text import one_hot\n",
        "from tensorflow.keras.layers import LSTM\n",
        "from tensorflow.keras.layers import Dense\n",
        "from tensorflow.keras.layers import Bidirectional\n",
        "from tensorflow.keras.layers import Dropout\n",
        "from keras.callbacks import EarlyStopping"
      ]
    },
    {
      "cell_type": "markdown",
      "metadata": {
        "id": "OyfuZecDlAQ2"
      },
      "source": [
        "Onehot Representation\n"
      ]
    },
    {
      "cell_type": "code",
      "execution_count": 161,
      "metadata": {
        "id": "0wtILdVCl-Ig"
      },
      "outputs": [],
      "source": [
        "voc_size=89000"
      ]
    },
    {
      "cell_type": "code",
      "execution_count": 162,
      "metadata": {
        "id": "3ZXgMhhulXQK"
      },
      "outputs": [],
      "source": [
        "onehot_repr=[one_hot(words,voc_size)for words in X]"
      ]
    },
    {
      "cell_type": "code",
      "execution_count": 163,
      "metadata": {
        "colab": {
          "base_uri": "https://localhost:8080/"
        },
        "id": "yrdK7lbkmD0q",
        "outputId": "b6103579-16cf-4c5d-a57b-7ea0cedf9160"
      },
      "outputs": [
        {
          "output_type": "execute_result",
          "data": {
            "text/plain": [
              "5579"
            ]
          },
          "metadata": {},
          "execution_count": 163
        }
      ],
      "source": [
        "len(onehot_repr)"
      ]
    },
    {
      "cell_type": "code",
      "execution_count": 164,
      "metadata": {
        "colab": {
          "base_uri": "https://localhost:8080/"
        },
        "id": "3AcoW1RUm41i",
        "outputId": "e089a8f3-87fe-41dc-8c78-de8137b85d3b"
      },
      "outputs": [
        {
          "output_type": "stream",
          "name": "stdout",
          "text": [
            "[[    0     0     0 ... 76144 82749 39018]\n",
            " [    0     0     0 ... 40936 43588 48981]\n",
            " [ 7286 22395 37647 ... 25418 43588 48981]\n",
            " ...\n",
            " [    0     0     0 ... 62092 83988 31763]\n",
            " [    0     0     0 ...  4096 65258 40023]\n",
            " [    0     0     0 ... 80338 22682  6176]]\n"
          ]
        }
      ],
      "source": [
        "news_length=300\n",
        "embedded_news=pad_sequences(onehot_repr,padding='pre',maxlen=news_length)\n",
        "print(embedded_news)"
      ]
    },
    {
      "cell_type": "code",
      "execution_count": 165,
      "metadata": {
        "colab": {
          "base_uri": "https://localhost:8080/"
        },
        "id": "yR1dua8dnxbK",
        "outputId": "f8813902-a71c-4c2d-ded7-b17828acef98"
      },
      "outputs": [
        {
          "output_type": "execute_result",
          "data": {
            "text/plain": [
              "array([    0,     0,     0,     0,     0,     0,     0,     0,     0,\n",
              "           0,     0,     0,     0,     0,     0,     0,     0,     0,\n",
              "           0,     0,     0,     0,     0,     0,     0,     0,     0,\n",
              "           0,     0,     0,     0,     0,     0,     0,     0,     0,\n",
              "           0,     0,     0,     0,     0,     0,     0,     0,     0,\n",
              "           0,     0,     0,     0,     0,     0,     0,     0,     0,\n",
              "           0,     0,     0,     0,     0,     0,     0,     0,     0,\n",
              "           0,     0,     0, 16949,  1149, 88305, 80679, 80420, 10244,\n",
              "       13973,  9321, 68140, 42081, 43346, 18062, 80893, 24022, 63995,\n",
              "       71781, 27708, 34945, 36795, 11789, 60517, 49096, 82586, 22208,\n",
              "       86276, 63995, 53908, 52664, 83533, 27708, 34945, 68246, 47580,\n",
              "       62094, 10370,  2168, 59073, 20758, 68390,  3100, 30871, 42874,\n",
              "        9515, 44602, 69083, 36795, 31662, 51058, 78099, 53641, 36795,\n",
              "       11789, 60517, 74695, 34943, 34945, 71781, 47580,  5038, 20189,\n",
              "       39816, 39816,  8638, 88305, 80679, 31287, 63090,  3685, 42844,\n",
              "       74405, 39540, 54224, 57429, 32134, 40943, 21131, 49096, 19426,\n",
              "       80893, 24022, 14378, 14378, 71781, 26032, 30871, 38653, 15485,\n",
              "       54099, 42118, 45767, 42081, 37210, 10950, 42478, 26032, 78398,\n",
              "       24184, 17145, 86159, 69972,   986, 45767, 42081, 63563, 53564,\n",
              "       43017, 30871, 33567, 42081, 42874, 37480, 35419, 73082, 71629,\n",
              "       80893, 24022, 25066, 54224, 34945, 71781,  5104, 88106, 73979,\n",
              "       68826, 20758, 14416, 34948, 87215, 59073, 51586, 60874, 24645,\n",
              "       53775, 51586, 68135, 30871, 45767, 42081, 43346, 34948, 50950,\n",
              "       71358, 53775, 14053, 71753, 72643, 78971, 35741,  7822,  9720,\n",
              "       51871,  2007, 74963, 72511, 55747, 44140, 18062, 42478,  5104,\n",
              "        6673, 50987, 26032, 80771, 44698, 37854, 36936, 37553, 50987,\n",
              "       63995, 59073, 47580, 88106, 27332, 34948,  5992,  2007, 67496,\n",
              "       87521, 42679,  4831, 56043, 61044, 44233, 30871,  2765, 18062,\n",
              "       36795, 71424,  8961, 34945, 57437, 42679, 53908, 69083, 17655,\n",
              "        6687, 82749, 59646, 37613, 56043, 84588, 45335, 50337, 20150,\n",
              "       59992, 42679, 42679, 20150, 20150, 69054,  2982, 46780, 74963,\n",
              "       19426, 44802, 24947, 69685,  3228, 42478, 19138, 32337, 61992,\n",
              "       39018, 40763, 80656, 17265, 22938, 39444, 41916, 42478, 19138,\n",
              "       76144, 82749, 39018], dtype=int32)"
            ]
          },
          "metadata": {},
          "execution_count": 165
        }
      ],
      "source": [
        "embedded_news[0]\n"
      ]
    },
    {
      "cell_type": "code",
      "execution_count": 166,
      "metadata": {
        "colab": {
          "base_uri": "https://localhost:8080/"
        },
        "id": "TzJLnmPbn_V5",
        "outputId": "48225211-84c7-4bfd-cb4c-4936244d8bcd"
      },
      "outputs": [
        {
          "output_type": "execute_result",
          "data": {
            "text/plain": [
              "(5579, (5579,))"
            ]
          },
          "metadata": {},
          "execution_count": 166
        }
      ],
      "source": [
        "len(embedded_news),Y.shape"
      ]
    },
    {
      "cell_type": "code",
      "execution_count": 167,
      "metadata": {
        "id": "MLe-T0GyoFbq"
      },
      "outputs": [],
      "source": [
        "import numpy as np\n",
        "X_final=np.array(embedded_news)\n",
        "y_final=np.array(Y)"
      ]
    },
    {
      "cell_type": "code",
      "execution_count": 168,
      "metadata": {
        "colab": {
          "base_uri": "https://localhost:8080/"
        },
        "id": "oMalWiVloJuC",
        "outputId": "8978f634-87f7-43e8-953d-15d5e3a415ae"
      },
      "outputs": [
        {
          "output_type": "execute_result",
          "data": {
            "text/plain": [
              "((5579, 300), (5579,))"
            ]
          },
          "metadata": {},
          "execution_count": 168
        }
      ],
      "source": [
        "X_final.shape,y_final.shape"
      ]
    },
    {
      "cell_type": "code",
      "execution_count": 169,
      "metadata": {
        "id": "GTeEyab6oLvi"
      },
      "outputs": [],
      "source": [
        "from sklearn.model_selection import train_test_split\n",
        "X_train, X_test, y_train, y_test = train_test_split(X_final, y_final, test_size=0.25, random_state=99)"
      ]
    },
    {
      "cell_type": "markdown",
      "source": [
        "# **LSTM MODEL**"
      ],
      "metadata": {
        "id": "5Tg8TDW8yM4O"
      }
    },
    {
      "cell_type": "code",
      "execution_count": 170,
      "metadata": {
        "colab": {
          "base_uri": "https://localhost:8080/"
        },
        "id": "QchriyV6nyxp",
        "outputId": "514ac63e-be4d-4b06-c23f-0b88cc5be08c"
      },
      "outputs": [
        {
          "output_type": "stream",
          "name": "stdout",
          "text": [
            "Model: \"sequential_17\"\n",
            "_________________________________________________________________\n",
            " Layer (type)                Output Shape              Param #   \n",
            "=================================================================\n",
            " embedding_17 (Embedding)    (None, 300, 40)           3560000   \n",
            "                                                                 \n",
            " lstm_17 (LSTM)              (None, 100)               56400     \n",
            "                                                                 \n",
            " dense_17 (Dense)            (None, 1)                 101       \n",
            "                                                                 \n",
            "=================================================================\n",
            "Total params: 3,616,501\n",
            "Trainable params: 3,616,501\n",
            "Non-trainable params: 0\n",
            "_________________________________________________________________\n",
            "None\n",
            "Epoch 1/8\n",
            "66/66 [==============================] - 4s 30ms/step - loss: 0.4374 - accuracy: 0.8004 - val_loss: 0.2134 - val_accuracy: 0.9326\n",
            "Epoch 2/8\n",
            "66/66 [==============================] - 1s 22ms/step - loss: 0.1586 - accuracy: 0.9634 - val_loss: 0.2208 - val_accuracy: 0.9355\n",
            "Epoch 3/8\n",
            "66/66 [==============================] - 2s 23ms/step - loss: 0.0485 - accuracy: 0.9900 - val_loss: 0.1533 - val_accuracy: 0.9520\n",
            "Epoch 4/8\n",
            "66/66 [==============================] - 2s 32ms/step - loss: 0.0171 - accuracy: 0.9974 - val_loss: 0.2000 - val_accuracy: 0.9434\n",
            "Epoch 5/8\n",
            "66/66 [==============================] - 2s 24ms/step - loss: 0.0168 - accuracy: 0.9971 - val_loss: 0.2061 - val_accuracy: 0.9376\n",
            "Epoch 6/8\n",
            "64/66 [============================>.] - ETA: 0s - loss: 0.0125 - accuracy: 0.9978Restoring model weights from the end of the best epoch: 3.\n",
            "66/66 [==============================] - 1s 22ms/step - loss: 0.0124 - accuracy: 0.9978 - val_loss: 0.1405 - val_accuracy: 0.9491\n",
            "Epoch 6: early stopping\n"
          ]
        },
        {
          "output_type": "execute_result",
          "data": {
            "text/plain": [
              "<keras.callbacks.History at 0x7fb7e82ef410>"
            ]
          },
          "metadata": {},
          "execution_count": 170
        }
      ],
      "source": [
        "embedding_vector_features=40\n",
        "model1=Sequential()\n",
        "model1.add(Embedding(voc_size,embedding_vector_features,input_length=news_length))\n",
        "model1.add(LSTM(100))\n",
        "model1.add(Dense(1,activation='sigmoid'))\n",
        "model1.compile(loss='binary_crossentropy',optimizer='adam',metrics=['accuracy'])\n",
        "print(model1.summary())\n",
        "model1.fit(X_train,y_train,validation_data=(X_test,y_test),epochs=8,batch_size=64,\n",
        "    callbacks=[EarlyStopping(monitor=\"val_accuracy\",\n",
        "    min_delta=0,\n",
        "    patience=3,\n",
        "    verbose=1,\n",
        "    mode=\"auto\",\n",
        "    restore_best_weights=True,)])"
      ]
    },
    {
      "cell_type": "markdown",
      "source": [
        "# **CNN+LSTM MODEL**"
      ],
      "metadata": {
        "id": "9-HsAAhxRPK5"
      }
    },
    {
      "cell_type": "code",
      "source": [
        "from keras.layers import Dense,Conv1D,MaxPooling1D"
      ],
      "metadata": {
        "id": "JezijLJd_vzg"
      },
      "execution_count": 171,
      "outputs": []
    },
    {
      "cell_type": "code",
      "source": [
        "embedding_vecor_length = 40\n",
        "model2 = Sequential()\n",
        "model2.add(Embedding(voc_size, embedding_vecor_length, input_length=news_length))\n",
        "model2.add(Conv1D(filters=32, kernel_size=3, padding='same', activation='relu'))\n",
        "model2.add(MaxPooling1D(pool_size=2))\n",
        "model2.add(LSTM(100))\n",
        "model2.add(Dense(1, activation='sigmoid'))\n",
        "model2.compile(loss='binary_crossentropy', optimizer='adam', metrics=['accuracy'])\n",
        "print(model2.summary())\n",
        "model2.fit(X_train,y_train,validation_data=(X_test,y_test),epochs=8,batch_size=64,\n",
        "    callbacks=[EarlyStopping(monitor=\"val_accuracy\",\n",
        "    min_delta=0,\n",
        "    patience=3,\n",
        "    verbose=1,\n",
        "    mode=\"auto\",\n",
        "    restore_best_weights=True,)])"
      ],
      "metadata": {
        "colab": {
          "base_uri": "https://localhost:8080/"
        },
        "id": "K2NQHdZY_mM1",
        "outputId": "06081d49-a839-41f6-9b19-84cbac9eb2bd"
      },
      "execution_count": 172,
      "outputs": [
        {
          "output_type": "stream",
          "name": "stdout",
          "text": [
            "Model: \"sequential_18\"\n",
            "_________________________________________________________________\n",
            " Layer (type)                Output Shape              Param #   \n",
            "=================================================================\n",
            " embedding_18 (Embedding)    (None, 300, 40)           3560000   \n",
            "                                                                 \n",
            " conv1d_8 (Conv1D)           (None, 300, 32)           3872      \n",
            "                                                                 \n",
            " max_pooling1d_8 (MaxPooling  (None, 150, 32)          0         \n",
            " 1D)                                                             \n",
            "                                                                 \n",
            " lstm_18 (LSTM)              (None, 100)               53200     \n",
            "                                                                 \n",
            " dense_18 (Dense)            (None, 1)                 101       \n",
            "                                                                 \n",
            "=================================================================\n",
            "Total params: 3,617,173\n",
            "Trainable params: 3,617,173\n",
            "Non-trainable params: 0\n",
            "_________________________________________________________________\n",
            "None\n",
            "Epoch 1/8\n",
            "66/66 [==============================] - 3s 23ms/step - loss: 0.4665 - accuracy: 0.7694 - val_loss: 0.1867 - val_accuracy: 0.9355\n",
            "Epoch 2/8\n",
            "66/66 [==============================] - 1s 16ms/step - loss: 0.0722 - accuracy: 0.9804 - val_loss: 0.2229 - val_accuracy: 0.9305\n",
            "Epoch 3/8\n",
            "66/66 [==============================] - 1s 16ms/step - loss: 0.0196 - accuracy: 0.9967 - val_loss: 0.1374 - val_accuracy: 0.9534\n",
            "Epoch 4/8\n",
            "66/66 [==============================] - 1s 15ms/step - loss: 0.0078 - accuracy: 0.9990 - val_loss: 0.2446 - val_accuracy: 0.9104\n",
            "Epoch 5/8\n",
            "66/66 [==============================] - 1s 16ms/step - loss: 0.0245 - accuracy: 0.9950 - val_loss: 0.1514 - val_accuracy: 0.9505\n",
            "Epoch 6/8\n",
            "65/66 [============================>.] - ETA: 0s - loss: 8.1835e-04 - accuracy: 1.0000Restoring model weights from the end of the best epoch: 3.\n",
            "66/66 [==============================] - 1s 16ms/step - loss: 8.1509e-04 - accuracy: 1.0000 - val_loss: 0.1743 - val_accuracy: 0.9498\n",
            "Epoch 6: early stopping\n"
          ]
        },
        {
          "output_type": "execute_result",
          "data": {
            "text/plain": [
              "<keras.callbacks.History at 0x7fb700c363d0>"
            ]
          },
          "metadata": {},
          "execution_count": 172
        }
      ]
    },
    {
      "cell_type": "markdown",
      "source": [
        "LSTM and CNN+LSTM evaluation"
      ],
      "metadata": {
        "id": "Urelbu5gYamk"
      }
    },
    {
      "cell_type": "code",
      "execution_count": 173,
      "metadata": {
        "id": "cm1oVuvOqgta"
      },
      "outputs": [],
      "source": [
        "y_pred1=model1.predict(X_test)\n",
        "y_pred2=model2.predict(X_test)"
      ]
    },
    {
      "cell_type": "code",
      "source": [
        "from sklearn.metrics import accuracy_score\n",
        "from sklearn.metrics import classification_report\n",
        "from sklearn.metrics import confusion_matrix"
      ],
      "metadata": {
        "id": "0QzMxLNVLSNN"
      },
      "execution_count": 174,
      "outputs": []
    },
    {
      "cell_type": "code",
      "source": [
        "print(\"LSTM accuracy:%.4f\"%accuracy_score(y_test,np.around(y_pred1)))\n",
        "print(\"CNN+LSTM accuracy:%.4f\"%accuracy_score(y_test,np.around(y_pred2)))"
      ],
      "metadata": {
        "id": "A2ik3zmVAJI6",
        "colab": {
          "base_uri": "https://localhost:8080/"
        },
        "outputId": "8d6f0ee5-884d-4f55-9b8e-fa6f68d741f1"
      },
      "execution_count": 175,
      "outputs": [
        {
          "output_type": "stream",
          "name": "stdout",
          "text": [
            "LSTM accuracy:0.9520\n",
            "CNN+LSTM accuracy:0.9534\n"
          ]
        }
      ]
    },
    {
      "cell_type": "code",
      "source": [
        "print(\"LSTM:\\n\", classification_report(y_test,np.around(y_pred1),digits=4))\n",
        "print(\"\\nCNN+LSTM:\\n\", classification_report(y_test,np.around(y_pred2),digits=4))"
      ],
      "metadata": {
        "id": "QaIirFDxANHy",
        "colab": {
          "base_uri": "https://localhost:8080/"
        },
        "outputId": "6c2ccc0a-8197-42d8-cda1-7f06e2b33e43"
      },
      "execution_count": 176,
      "outputs": [
        {
          "output_type": "stream",
          "name": "stdout",
          "text": [
            "LSTM:\n",
            "               precision    recall  f1-score   support\n",
            "\n",
            "           0     0.9437    0.9613    0.9524       698\n",
            "           1     0.9605    0.9426    0.9515       697\n",
            "\n",
            "    accuracy                         0.9520      1395\n",
            "   macro avg     0.9521    0.9520    0.9520      1395\n",
            "weighted avg     0.9521    0.9520    0.9520      1395\n",
            "\n",
            "\n",
            "CNN+LSTM:\n",
            "               precision    recall  f1-score   support\n",
            "\n",
            "           0     0.9689    0.9370    0.9527       698\n",
            "           1     0.9389    0.9699    0.9541       697\n",
            "\n",
            "    accuracy                         0.9534      1395\n",
            "   macro avg     0.9539    0.9534    0.9534      1395\n",
            "weighted avg     0.9539    0.9534    0.9534      1395\n",
            "\n"
          ]
        }
      ]
    },
    {
      "cell_type": "code",
      "source": [
        "print(\"LSTM confusion matrix:\\n \",confusion_matrix(y_test,np.around(y_pred1)))\n",
        "print(\"\\nCNN+LSTM confusion matrix:\\n\",confusion_matrix(y_test,np.around(y_pred2)))"
      ],
      "metadata": {
        "colab": {
          "base_uri": "https://localhost:8080/"
        },
        "id": "wL-hln5fTpd-",
        "outputId": "e07948d7-1d85-4706-92fd-50a4fb4b3bd6"
      },
      "execution_count": 177,
      "outputs": [
        {
          "output_type": "stream",
          "name": "stdout",
          "text": [
            "LSTM confusion matrix:\n",
            "  [[671  27]\n",
            " [ 40 657]]\n",
            "\n",
            "CNN+LSTM confusion matrix:\n",
            " [[654  44]\n",
            " [ 21 676]]\n"
          ]
        }
      ]
    },
    {
      "cell_type": "markdown",
      "source": [
        "#**Bi-LSTM MODEL**"
      ],
      "metadata": {
        "id": "NlOAkr14z3dF"
      }
    },
    {
      "cell_type": "code",
      "execution_count": 178,
      "metadata": {
        "id": "brBUzzMXn4wp",
        "colab": {
          "base_uri": "https://localhost:8080/"
        },
        "outputId": "655c8ce6-d186-4c43-e618-7692c4786b75"
      },
      "outputs": [
        {
          "output_type": "stream",
          "name": "stdout",
          "text": [
            "Model: \"sequential_19\"\n",
            "_________________________________________________________________\n",
            " Layer (type)                Output Shape              Param #   \n",
            "=================================================================\n",
            " embedding_19 (Embedding)    (None, 300, 40)           3560000   \n",
            "                                                                 \n",
            " bidirectional_8 (Bidirectio  (None, 200)              112800    \n",
            " nal)                                                            \n",
            "                                                                 \n",
            " dropout_4 (Dropout)         (None, 200)               0         \n",
            "                                                                 \n",
            " dense_19 (Dense)            (None, 1)                 201       \n",
            "                                                                 \n",
            "=================================================================\n",
            "Total params: 3,673,001\n",
            "Trainable params: 3,673,001\n",
            "Non-trainable params: 0\n",
            "_________________________________________________________________\n",
            "None\n",
            "Epoch 1/8\n",
            "66/66 [==============================] - 6s 50ms/step - loss: 0.5010 - accuracy: 0.7615 - val_loss: 0.2337 - val_accuracy: 0.9269\n",
            "Epoch 2/8\n",
            "66/66 [==============================] - 3s 39ms/step - loss: 0.1470 - accuracy: 0.9584 - val_loss: 0.1379 - val_accuracy: 0.9548\n",
            "Epoch 3/8\n",
            "66/66 [==============================] - 3s 38ms/step - loss: 0.0372 - accuracy: 0.9914 - val_loss: 0.1258 - val_accuracy: 0.9577\n",
            "Epoch 4/8\n",
            "66/66 [==============================] - 3s 38ms/step - loss: 0.0139 - accuracy: 0.9978 - val_loss: 0.1538 - val_accuracy: 0.9606\n",
            "Epoch 5/8\n",
            "66/66 [==============================] - 3s 39ms/step - loss: 0.0064 - accuracy: 0.9993 - val_loss: 0.1437 - val_accuracy: 0.9462\n",
            "Epoch 6/8\n",
            "66/66 [==============================] - 3s 39ms/step - loss: 0.0042 - accuracy: 0.9995 - val_loss: 0.1646 - val_accuracy: 0.9369\n",
            "Epoch 7/8\n",
            "65/66 [============================>.] - ETA: 0s - loss: 0.0054 - accuracy: 0.9993Restoring model weights from the end of the best epoch: 4.\n",
            "66/66 [==============================] - 3s 39ms/step - loss: 0.0054 - accuracy: 0.9993 - val_loss: 0.1720 - val_accuracy: 0.9563\n",
            "Epoch 7: early stopping\n"
          ]
        },
        {
          "output_type": "execute_result",
          "data": {
            "text/plain": [
              "<keras.callbacks.History at 0x7fb6d80db7d0>"
            ]
          },
          "metadata": {},
          "execution_count": 178
        }
      ],
      "source": [
        "embedding_vector_features=40\n",
        "model3=Sequential()\n",
        "model3.add(Embedding(voc_size,embedding_vector_features,input_length=news_length))\n",
        "model3.add(Bidirectional(LSTM(100)))\n",
        "model3.add(Dropout(0.3))\n",
        "model3.add(Dense(1,activation='sigmoid'))\n",
        "model3.compile(loss='binary_crossentropy',optimizer='adam',metrics=['accuracy'])\n",
        "print(model3.summary())\n",
        "model3.fit(X_train,y_train,validation_data=(X_test,y_test),epochs=8,batch_size=64,\n",
        "    callbacks=[EarlyStopping(monitor=\"val_accuracy\",\n",
        "    min_delta=0,\n",
        "    patience=3,\n",
        "    verbose=1,\n",
        "    mode=\"auto\",\n",
        "    restore_best_weights=True,)])"
      ]
    },
    {
      "cell_type": "markdown",
      "source": [
        "## **CNN+BiLSTM MODEL**"
      ],
      "metadata": {
        "id": "o_8oFG2rY2wg"
      }
    },
    {
      "cell_type": "code",
      "source": [
        "embedding_vecor_length = 40\n",
        "model4 = Sequential()\n",
        "model4.add(Embedding(voc_size, embedding_vecor_length, input_length=news_length))\n",
        "model4.add(Conv1D(filters=32, kernel_size=3, padding='same', activation='relu'))\n",
        "model4.add(MaxPooling1D(pool_size=2))\n",
        "model4.add(Bidirectional(LSTM(100)))\n",
        "model4.add(Dense(1, activation='sigmoid'))\n",
        "model4.compile(loss='binary_crossentropy', optimizer='adam', metrics=['accuracy'])\n",
        "print(model4.summary())\n",
        "model4.fit(X_train,y_train,validation_data=(X_test,y_test),epochs=8,batch_size=64,\n",
        "    callbacks=[EarlyStopping(monitor=\"val_accuracy\",\n",
        "    min_delta=0,\n",
        "    patience=3,\n",
        "    verbose=1,\n",
        "    mode=\"auto\",\n",
        "    restore_best_weights=True,)])"
      ],
      "metadata": {
        "colab": {
          "base_uri": "https://localhost:8080/"
        },
        "id": "IpqRP2iaCAVl",
        "outputId": "78f68f82-5db4-4e9d-b98a-deb5ece53570"
      },
      "execution_count": 179,
      "outputs": [
        {
          "output_type": "stream",
          "name": "stdout",
          "text": [
            "Model: \"sequential_20\"\n",
            "_________________________________________________________________\n",
            " Layer (type)                Output Shape              Param #   \n",
            "=================================================================\n",
            " embedding_20 (Embedding)    (None, 300, 40)           3560000   \n",
            "                                                                 \n",
            " conv1d_9 (Conv1D)           (None, 300, 32)           3872      \n",
            "                                                                 \n",
            " max_pooling1d_9 (MaxPooling  (None, 150, 32)          0         \n",
            " 1D)                                                             \n",
            "                                                                 \n",
            " bidirectional_9 (Bidirectio  (None, 200)              106400    \n",
            " nal)                                                            \n",
            "                                                                 \n",
            " dense_20 (Dense)            (None, 1)                 201       \n",
            "                                                                 \n",
            "=================================================================\n",
            "Total params: 3,670,473\n",
            "Trainable params: 3,670,473\n",
            "Non-trainable params: 0\n",
            "_________________________________________________________________\n",
            "None\n",
            "Epoch 1/8\n",
            "66/66 [==============================] - 5s 37ms/step - loss: 0.5598 - accuracy: 0.7369 - val_loss: 0.2196 - val_accuracy: 0.9240\n",
            "Epoch 2/8\n",
            "66/66 [==============================] - 2s 25ms/step - loss: 0.1027 - accuracy: 0.9675 - val_loss: 0.1091 - val_accuracy: 0.9606\n",
            "Epoch 3/8\n",
            "66/66 [==============================] - 2s 25ms/step - loss: 0.0131 - accuracy: 0.9971 - val_loss: 0.1657 - val_accuracy: 0.9606\n",
            "Epoch 4/8\n",
            "66/66 [==============================] - 2s 24ms/step - loss: 0.0218 - accuracy: 0.9976 - val_loss: 0.1095 - val_accuracy: 0.9685\n",
            "Epoch 5/8\n",
            "66/66 [==============================] - 2s 24ms/step - loss: 0.0016 - accuracy: 0.9998 - val_loss: 0.1483 - val_accuracy: 0.9663\n",
            "Epoch 6/8\n",
            "66/66 [==============================] - 2s 25ms/step - loss: 3.8576e-04 - accuracy: 1.0000 - val_loss: 0.1644 - val_accuracy: 0.9649\n",
            "Epoch 7/8\n",
            "66/66 [==============================] - ETA: 0s - loss: 1.8799e-04 - accuracy: 1.0000Restoring model weights from the end of the best epoch: 4.\n",
            "66/66 [==============================] - 2s 25ms/step - loss: 1.8799e-04 - accuracy: 1.0000 - val_loss: 0.1861 - val_accuracy: 0.9649\n",
            "Epoch 7: early stopping\n"
          ]
        },
        {
          "output_type": "execute_result",
          "data": {
            "text/plain": [
              "<keras.callbacks.History at 0x7fb6d3932590>"
            ]
          },
          "metadata": {},
          "execution_count": 179
        }
      ]
    },
    {
      "cell_type": "code",
      "execution_count": 180,
      "metadata": {
        "id": "2NfU27S5oSUW"
      },
      "outputs": [],
      "source": [
        "y_pred3=model3.predict(X_test)\n",
        "y_pred4=model4.predict(X_test)"
      ]
    },
    {
      "cell_type": "code",
      "execution_count": 181,
      "metadata": {
        "id": "cMWefLVVp29R",
        "colab": {
          "base_uri": "https://localhost:8080/"
        },
        "outputId": "266adffc-3ae4-4187-ff4a-45261d45b7f1"
      },
      "outputs": [
        {
          "output_type": "stream",
          "name": "stdout",
          "text": [
            "BiLSTM accuracy:0.9606\n",
            "CNN+BiLSTM accuracy:0.9685\n"
          ]
        }
      ],
      "source": [
        "print(\"BiLSTM accuracy:%.4f\"%accuracy_score(y_test,np.around(y_pred3)))\n",
        "print(\"CNN+BiLSTM accuracy:%.4f\"%accuracy_score(y_test,np.around(y_pred4)))"
      ]
    },
    {
      "cell_type": "code",
      "execution_count": 182,
      "metadata": {
        "id": "UggdAaXwqMp5",
        "colab": {
          "base_uri": "https://localhost:8080/"
        },
        "outputId": "b1703214-92d3-4ab7-a1c2-a5d7cf5b4641"
      },
      "outputs": [
        {
          "output_type": "stream",
          "name": "stdout",
          "text": [
            "BiLSTM:\n",
            "               precision    recall  f1-score   support\n",
            "\n",
            "           0     0.9573    0.9642    0.9607       698\n",
            "           1     0.9639    0.9570    0.9604       697\n",
            "\n",
            "    accuracy                         0.9606      1395\n",
            "   macro avg     0.9606    0.9606    0.9606      1395\n",
            "weighted avg     0.9606    0.9606    0.9606      1395\n",
            "\n",
            "\n",
            "CNN+BiLSTM:\n",
            "               precision    recall  f1-score   support\n",
            "\n",
            "           0     0.9671    0.9699    0.9685       698\n",
            "           1     0.9698    0.9670    0.9684       697\n",
            "\n",
            "    accuracy                         0.9685      1395\n",
            "   macro avg     0.9685    0.9685    0.9685      1395\n",
            "weighted avg     0.9685    0.9685    0.9685      1395\n",
            "\n"
          ]
        }
      ],
      "source": [
        "print(\"BiLSTM:\\n\",classification_report(y_test,np.around(y_pred3),digits=4))\n",
        "print(\"\\nCNN+BiLSTM:\\n\",classification_report(y_test,np.around(y_pred4),digits=4))"
      ]
    },
    {
      "cell_type": "code",
      "execution_count": 183,
      "metadata": {
        "id": "GVdsMUORp0Jp",
        "colab": {
          "base_uri": "https://localhost:8080/"
        },
        "outputId": "f6b1a719-2e51-40d2-eead-f52acf0912a7"
      },
      "outputs": [
        {
          "output_type": "stream",
          "name": "stdout",
          "text": [
            "BiLSTM confusion matrix:\n",
            " [[673  25]\n",
            " [ 30 667]]\n",
            "\n",
            "CNN+BiLSTM confusion matrix:\n",
            " [[677  21]\n",
            " [ 23 674]]\n"
          ]
        }
      ],
      "source": [
        "print(\"BiLSTM confusion matrix:\\n\",confusion_matrix(y_test,np.around(y_pred3)))\n",
        "print(\"\\nCNN+BiLSTM confusion matrix:\\n\",confusion_matrix(y_test,np.around(y_pred4)))"
      ]
    },
    {
      "cell_type": "code",
      "source": [],
      "metadata": {
        "id": "ir6-zld1oOBc"
      },
      "execution_count": 183,
      "outputs": []
    }
  ],
  "metadata": {
    "colab": {
      "provenance": [],
      "collapsed_sections": [],
      "authorship_tag": "ABX9TyO0ANl5Hy7r7/OO0S0REpRy",
      "include_colab_link": true
    },
    "kernelspec": {
      "display_name": "Python 3",
      "name": "python3"
    },
    "language_info": {
      "name": "python"
    },
    "accelerator": "GPU",
    "gpuClass": "standard"
  },
  "nbformat": 4,
  "nbformat_minor": 0
}