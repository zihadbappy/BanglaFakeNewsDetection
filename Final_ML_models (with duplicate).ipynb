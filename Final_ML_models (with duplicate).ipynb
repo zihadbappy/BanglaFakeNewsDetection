{
  "cells": [
    {
      "cell_type": "markdown",
      "metadata": {
        "id": "view-in-github",
        "colab_type": "text"
      },
      "source": [
        "<a href=\"https://colab.research.google.com/github/zihadbappy/bnfake/blob/main/ML_models_final.ipynb\" target=\"_parent\"><img src=\"https://colab.research.google.com/assets/colab-badge.svg\" alt=\"Open In Colab\"/></a>"
      ]
    },
    {
      "cell_type": "code",
      "execution_count": 74,
      "metadata": {
        "colab": {
          "base_uri": "https://localhost:8080/"
        },
        "id": "dqouiht43nmf",
        "outputId": "4117e869-6714-49de-8cdf-28252aae00c4"
      },
      "outputs": [
        {
          "output_type": "stream",
          "name": "stdout",
          "text": [
            "fatal: destination path 'bnfakedata' already exists and is not an empty directory.\n"
          ]
        }
      ],
      "source": [
        "!git clone https://github.com/zihadbappy/bnfakedata.git"
      ]
    },
    {
      "cell_type": "code",
      "execution_count": 75,
      "metadata": {
        "id": "9RI3TLIB4Lip"
      },
      "outputs": [],
      "source": [
        "import pandas as pd\n",
        "Dataset= pd.read_csv('/content/bnfakedata/bnfakefinal.csv')"
      ]
    },
    {
      "cell_type": "code",
      "execution_count": 76,
      "metadata": {
        "colab": {
          "base_uri": "https://localhost:8080/",
          "height": 206
        },
        "id": "-Y2BTwjf4jsH",
        "outputId": "934a8f24-947e-45f0-97a3-4e3a0ee8cf55"
      },
      "outputs": [
        {
          "output_type": "execute_result",
          "data": {
            "text/plain": [
              "                                            headline  \\\n",
              "0                                সময় হইলেই ধরব কামাল   \n",
              "1                 ওয়ান ষ্টপ সার্ভিস খুললেন বাবুনগরী   \n",
              "2                     কমিশনের হার বৃদ্ধি করবেন তারেক   \n",
              "3                  আর বাংলাদেশে ফুন দিব না বানকি মুন   \n",
              "4  ফোন না করায় জাতিসংঘের মহাসচিবের প্রতি ক্ষুব্ধ...   \n",
              "\n",
              "                                             content  label  \n",
              "0  নারায়নগঞ্জের চাঞ্চল্যকর সাত খুন মামলায় অভিযুক্...      0  \n",
              "1  নিজস্ব মতিবেদক বিবিধ রাজনৈতিক সংকট সমাধানের পর...      0  \n",
              "2  লনডন মতিনিধি সংসদ নির্বাচনে জয় লাভ প্রধান মন্...      0  \n",
              "3  জাতিসংঘ মতিবেদক ভবিষ্যতে বাংলাদেশে টেলিফোন অংগ...      0  \n",
              "4  নিজস্ব মতিবেদক বাকশালের মহিলা আমীর প্রধান মন্ত...      0  "
            ],
            "text/html": [
              "\n",
              "  <div id=\"df-2ed92174-0d2f-4825-aaef-5e5fa3c337a7\">\n",
              "    <div class=\"colab-df-container\">\n",
              "      <div>\n",
              "<style scoped>\n",
              "    .dataframe tbody tr th:only-of-type {\n",
              "        vertical-align: middle;\n",
              "    }\n",
              "\n",
              "    .dataframe tbody tr th {\n",
              "        vertical-align: top;\n",
              "    }\n",
              "\n",
              "    .dataframe thead th {\n",
              "        text-align: right;\n",
              "    }\n",
              "</style>\n",
              "<table border=\"1\" class=\"dataframe\">\n",
              "  <thead>\n",
              "    <tr style=\"text-align: right;\">\n",
              "      <th></th>\n",
              "      <th>headline</th>\n",
              "      <th>content</th>\n",
              "      <th>label</th>\n",
              "    </tr>\n",
              "  </thead>\n",
              "  <tbody>\n",
              "    <tr>\n",
              "      <th>0</th>\n",
              "      <td>সময় হইলেই ধরব কামাল</td>\n",
              "      <td>নারায়নগঞ্জের চাঞ্চল্যকর সাত খুন মামলায় অভিযুক্...</td>\n",
              "      <td>0</td>\n",
              "    </tr>\n",
              "    <tr>\n",
              "      <th>1</th>\n",
              "      <td>ওয়ান ষ্টপ সার্ভিস খুললেন বাবুনগরী</td>\n",
              "      <td>নিজস্ব মতিবেদক বিবিধ রাজনৈতিক সংকট সমাধানের পর...</td>\n",
              "      <td>0</td>\n",
              "    </tr>\n",
              "    <tr>\n",
              "      <th>2</th>\n",
              "      <td>কমিশনের হার বৃদ্ধি করবেন তারেক</td>\n",
              "      <td>লনডন মতিনিধি সংসদ নির্বাচনে জয় লাভ প্রধান মন্...</td>\n",
              "      <td>0</td>\n",
              "    </tr>\n",
              "    <tr>\n",
              "      <th>3</th>\n",
              "      <td>আর বাংলাদেশে ফুন দিব না বানকি মুন</td>\n",
              "      <td>জাতিসংঘ মতিবেদক ভবিষ্যতে বাংলাদেশে টেলিফোন অংগ...</td>\n",
              "      <td>0</td>\n",
              "    </tr>\n",
              "    <tr>\n",
              "      <th>4</th>\n",
              "      <td>ফোন না করায় জাতিসংঘের মহাসচিবের প্রতি ক্ষুব্ধ...</td>\n",
              "      <td>নিজস্ব মতিবেদক বাকশালের মহিলা আমীর প্রধান মন্ত...</td>\n",
              "      <td>0</td>\n",
              "    </tr>\n",
              "  </tbody>\n",
              "</table>\n",
              "</div>\n",
              "      <button class=\"colab-df-convert\" onclick=\"convertToInteractive('df-2ed92174-0d2f-4825-aaef-5e5fa3c337a7')\"\n",
              "              title=\"Convert this dataframe to an interactive table.\"\n",
              "              style=\"display:none;\">\n",
              "        \n",
              "  <svg xmlns=\"http://www.w3.org/2000/svg\" height=\"24px\"viewBox=\"0 0 24 24\"\n",
              "       width=\"24px\">\n",
              "    <path d=\"M0 0h24v24H0V0z\" fill=\"none\"/>\n",
              "    <path d=\"M18.56 5.44l.94 2.06.94-2.06 2.06-.94-2.06-.94-.94-2.06-.94 2.06-2.06.94zm-11 1L8.5 8.5l.94-2.06 2.06-.94-2.06-.94L8.5 2.5l-.94 2.06-2.06.94zm10 10l.94 2.06.94-2.06 2.06-.94-2.06-.94-.94-2.06-.94 2.06-2.06.94z\"/><path d=\"M17.41 7.96l-1.37-1.37c-.4-.4-.92-.59-1.43-.59-.52 0-1.04.2-1.43.59L10.3 9.45l-7.72 7.72c-.78.78-.78 2.05 0 2.83L4 21.41c.39.39.9.59 1.41.59.51 0 1.02-.2 1.41-.59l7.78-7.78 2.81-2.81c.8-.78.8-2.07 0-2.86zM5.41 20L4 18.59l7.72-7.72 1.47 1.35L5.41 20z\"/>\n",
              "  </svg>\n",
              "      </button>\n",
              "      \n",
              "  <style>\n",
              "    .colab-df-container {\n",
              "      display:flex;\n",
              "      flex-wrap:wrap;\n",
              "      gap: 12px;\n",
              "    }\n",
              "\n",
              "    .colab-df-convert {\n",
              "      background-color: #E8F0FE;\n",
              "      border: none;\n",
              "      border-radius: 50%;\n",
              "      cursor: pointer;\n",
              "      display: none;\n",
              "      fill: #1967D2;\n",
              "      height: 32px;\n",
              "      padding: 0 0 0 0;\n",
              "      width: 32px;\n",
              "    }\n",
              "\n",
              "    .colab-df-convert:hover {\n",
              "      background-color: #E2EBFA;\n",
              "      box-shadow: 0px 1px 2px rgba(60, 64, 67, 0.3), 0px 1px 3px 1px rgba(60, 64, 67, 0.15);\n",
              "      fill: #174EA6;\n",
              "    }\n",
              "\n",
              "    [theme=dark] .colab-df-convert {\n",
              "      background-color: #3B4455;\n",
              "      fill: #D2E3FC;\n",
              "    }\n",
              "\n",
              "    [theme=dark] .colab-df-convert:hover {\n",
              "      background-color: #434B5C;\n",
              "      box-shadow: 0px 1px 3px 1px rgba(0, 0, 0, 0.15);\n",
              "      filter: drop-shadow(0px 1px 2px rgba(0, 0, 0, 0.3));\n",
              "      fill: #FFFFFF;\n",
              "    }\n",
              "  </style>\n",
              "\n",
              "      <script>\n",
              "        const buttonEl =\n",
              "          document.querySelector('#df-2ed92174-0d2f-4825-aaef-5e5fa3c337a7 button.colab-df-convert');\n",
              "        buttonEl.style.display =\n",
              "          google.colab.kernel.accessAllowed ? 'block' : 'none';\n",
              "\n",
              "        async function convertToInteractive(key) {\n",
              "          const element = document.querySelector('#df-2ed92174-0d2f-4825-aaef-5e5fa3c337a7');\n",
              "          const dataTable =\n",
              "            await google.colab.kernel.invokeFunction('convertToInteractive',\n",
              "                                                     [key], {});\n",
              "          if (!dataTable) return;\n",
              "\n",
              "          const docLinkHtml = 'Like what you see? Visit the ' +\n",
              "            '<a target=\"_blank\" href=https://colab.research.google.com/notebooks/data_table.ipynb>data table notebook</a>'\n",
              "            + ' to learn more about interactive tables.';\n",
              "          element.innerHTML = '';\n",
              "          dataTable['output_type'] = 'display_data';\n",
              "          await google.colab.output.renderOutput(dataTable, element);\n",
              "          const docLink = document.createElement('div');\n",
              "          docLink.innerHTML = docLinkHtml;\n",
              "          element.appendChild(docLink);\n",
              "        }\n",
              "      </script>\n",
              "    </div>\n",
              "  </div>\n",
              "  "
            ]
          },
          "metadata": {},
          "execution_count": 76
        }
      ],
      "source": [
        "Dataset.head()"
      ]
    },
    {
      "cell_type": "code",
      "execution_count": 77,
      "metadata": {
        "id": "KGfLFRU84nef"
      },
      "outputs": [],
      "source": [
        "df = pd.DataFrame(Dataset)"
      ]
    },
    {
      "cell_type": "code",
      "execution_count": 78,
      "metadata": {
        "colab": {
          "base_uri": "https://localhost:8080/",
          "height": 143
        },
        "id": "BEmVyJjl7TBp",
        "outputId": "217ba36c-7cf4-4b94-bd96-0d40116065cf"
      },
      "outputs": [
        {
          "output_type": "execute_result",
          "data": {
            "text/plain": [
              "       headline  content\n",
              "label                   \n",
              "0          2790     2790\n",
              "1          2790     2789"
            ],
            "text/html": [
              "\n",
              "  <div id=\"df-2eae6033-678e-405b-a702-e01ae2d4a1f9\">\n",
              "    <div class=\"colab-df-container\">\n",
              "      <div>\n",
              "<style scoped>\n",
              "    .dataframe tbody tr th:only-of-type {\n",
              "        vertical-align: middle;\n",
              "    }\n",
              "\n",
              "    .dataframe tbody tr th {\n",
              "        vertical-align: top;\n",
              "    }\n",
              "\n",
              "    .dataframe thead th {\n",
              "        text-align: right;\n",
              "    }\n",
              "</style>\n",
              "<table border=\"1\" class=\"dataframe\">\n",
              "  <thead>\n",
              "    <tr style=\"text-align: right;\">\n",
              "      <th></th>\n",
              "      <th>headline</th>\n",
              "      <th>content</th>\n",
              "    </tr>\n",
              "    <tr>\n",
              "      <th>label</th>\n",
              "      <th></th>\n",
              "      <th></th>\n",
              "    </tr>\n",
              "  </thead>\n",
              "  <tbody>\n",
              "    <tr>\n",
              "      <th>0</th>\n",
              "      <td>2790</td>\n",
              "      <td>2790</td>\n",
              "    </tr>\n",
              "    <tr>\n",
              "      <th>1</th>\n",
              "      <td>2790</td>\n",
              "      <td>2789</td>\n",
              "    </tr>\n",
              "  </tbody>\n",
              "</table>\n",
              "</div>\n",
              "      <button class=\"colab-df-convert\" onclick=\"convertToInteractive('df-2eae6033-678e-405b-a702-e01ae2d4a1f9')\"\n",
              "              title=\"Convert this dataframe to an interactive table.\"\n",
              "              style=\"display:none;\">\n",
              "        \n",
              "  <svg xmlns=\"http://www.w3.org/2000/svg\" height=\"24px\"viewBox=\"0 0 24 24\"\n",
              "       width=\"24px\">\n",
              "    <path d=\"M0 0h24v24H0V0z\" fill=\"none\"/>\n",
              "    <path d=\"M18.56 5.44l.94 2.06.94-2.06 2.06-.94-2.06-.94-.94-2.06-.94 2.06-2.06.94zm-11 1L8.5 8.5l.94-2.06 2.06-.94-2.06-.94L8.5 2.5l-.94 2.06-2.06.94zm10 10l.94 2.06.94-2.06 2.06-.94-2.06-.94-.94-2.06-.94 2.06-2.06.94z\"/><path d=\"M17.41 7.96l-1.37-1.37c-.4-.4-.92-.59-1.43-.59-.52 0-1.04.2-1.43.59L10.3 9.45l-7.72 7.72c-.78.78-.78 2.05 0 2.83L4 21.41c.39.39.9.59 1.41.59.51 0 1.02-.2 1.41-.59l7.78-7.78 2.81-2.81c.8-.78.8-2.07 0-2.86zM5.41 20L4 18.59l7.72-7.72 1.47 1.35L5.41 20z\"/>\n",
              "  </svg>\n",
              "      </button>\n",
              "      \n",
              "  <style>\n",
              "    .colab-df-container {\n",
              "      display:flex;\n",
              "      flex-wrap:wrap;\n",
              "      gap: 12px;\n",
              "    }\n",
              "\n",
              "    .colab-df-convert {\n",
              "      background-color: #E8F0FE;\n",
              "      border: none;\n",
              "      border-radius: 50%;\n",
              "      cursor: pointer;\n",
              "      display: none;\n",
              "      fill: #1967D2;\n",
              "      height: 32px;\n",
              "      padding: 0 0 0 0;\n",
              "      width: 32px;\n",
              "    }\n",
              "\n",
              "    .colab-df-convert:hover {\n",
              "      background-color: #E2EBFA;\n",
              "      box-shadow: 0px 1px 2px rgba(60, 64, 67, 0.3), 0px 1px 3px 1px rgba(60, 64, 67, 0.15);\n",
              "      fill: #174EA6;\n",
              "    }\n",
              "\n",
              "    [theme=dark] .colab-df-convert {\n",
              "      background-color: #3B4455;\n",
              "      fill: #D2E3FC;\n",
              "    }\n",
              "\n",
              "    [theme=dark] .colab-df-convert:hover {\n",
              "      background-color: #434B5C;\n",
              "      box-shadow: 0px 1px 3px 1px rgba(0, 0, 0, 0.15);\n",
              "      filter: drop-shadow(0px 1px 2px rgba(0, 0, 0, 0.3));\n",
              "      fill: #FFFFFF;\n",
              "    }\n",
              "  </style>\n",
              "\n",
              "      <script>\n",
              "        const buttonEl =\n",
              "          document.querySelector('#df-2eae6033-678e-405b-a702-e01ae2d4a1f9 button.colab-df-convert');\n",
              "        buttonEl.style.display =\n",
              "          google.colab.kernel.accessAllowed ? 'block' : 'none';\n",
              "\n",
              "        async function convertToInteractive(key) {\n",
              "          const element = document.querySelector('#df-2eae6033-678e-405b-a702-e01ae2d4a1f9');\n",
              "          const dataTable =\n",
              "            await google.colab.kernel.invokeFunction('convertToInteractive',\n",
              "                                                     [key], {});\n",
              "          if (!dataTable) return;\n",
              "\n",
              "          const docLinkHtml = 'Like what you see? Visit the ' +\n",
              "            '<a target=\"_blank\" href=https://colab.research.google.com/notebooks/data_table.ipynb>data table notebook</a>'\n",
              "            + ' to learn more about interactive tables.';\n",
              "          element.innerHTML = '';\n",
              "          dataTable['output_type'] = 'display_data';\n",
              "          await google.colab.output.renderOutput(dataTable, element);\n",
              "          const docLink = document.createElement('div');\n",
              "          docLink.innerHTML = docLinkHtml;\n",
              "          element.appendChild(docLink);\n",
              "        }\n",
              "      </script>\n",
              "    </div>\n",
              "  </div>\n",
              "  "
            ]
          },
          "metadata": {},
          "execution_count": 78
        }
      ],
      "source": [
        "df.groupby('label').agg('count')"
      ]
    },
    {
      "cell_type": "code",
      "execution_count": 79,
      "metadata": {
        "id": "F2vWhNKqM5fb"
      },
      "outputs": [],
      "source": [
        "df = df.reset_index(drop=True)\n",
        "# print(df)"
      ]
    },
    {
      "cell_type": "code",
      "execution_count": 80,
      "metadata": {
        "colab": {
          "base_uri": "https://localhost:8080/",
          "height": 424
        },
        "id": "7Ohb84p9M8fU",
        "outputId": "94e66257-eff1-49e2-fbbe-80fcc010daf0"
      },
      "outputs": [
        {
          "output_type": "execute_result",
          "data": {
            "text/plain": [
              "                                               headline  \\\n",
              "0                                   সময় হইলেই ধরব কামাল   \n",
              "1                    ওয়ান ষ্টপ সার্ভিস খুললেন বাবুনগরী   \n",
              "2                        কমিশনের হার বৃদ্ধি করবেন তারেক   \n",
              "3                     আর বাংলাদেশে ফুন দিব না বানকি মুন   \n",
              "4     ফোন না করায় জাতিসংঘের মহাসচিবের প্রতি ক্ষুব্ধ...   \n",
              "...                                                 ...   \n",
              "5575        বেনাপোলের ঘিবা সীমান্তে অস্ত্র ব্যবসায়ী আটক   \n",
              "5576         হাতির আক্রমণে সাবেক ছাত্রদল সভাপতির মৃত্যু   \n",
              "5577    অবরোধের পর ঢাকাচট্টগ্রাম মহাসড়কে যান চলাচল শুরু   \n",
              "5578  শ্রমিকদের অবরোধে ঢাকাময়মনসিংহ মহাসড়কে তীব্র যানজট   \n",
              "5579          এক আপত্তিকর ছবিতে  লাখ টাকা গেল ব্যবসায়ীর   \n",
              "\n",
              "                                                content  label  \n",
              "0     নারায়নগঞ্জের চাঞ্চল্যকর সাত খুন মামলায় অভিযুক্...      0  \n",
              "1     নিজস্ব মতিবেদক বিবিধ রাজনৈতিক সংকট সমাধানের পর...      0  \n",
              "2     লনডন মতিনিধি সংসদ নির্বাচনে জয় লাভ প্রধান মন্...      0  \n",
              "3     জাতিসংঘ মতিবেদক ভবিষ্যতে বাংলাদেশে টেলিফোন অংগ...      0  \n",
              "4     নিজস্ব মতিবেদক বাকশালের মহিলা আমীর প্রধান মন্ত...      0  \n",
              "...                                                 ...    ...  \n",
              "5575  যশোরের বেনাপোল সীমান্তের ঘিবা গ্রামের বাড়িতে অ...      1  \n",
              "5576  মৌলভীবাজার মৌলভীবাজারের জুড়ি উপজেলায় বন্য হাতি...      1  \n",
              "5577  নারায়ণগঞ্জের সোনারগাঁওয়ে বাসচাপায় শিক্ষার্থী আ...      1  \n",
              "5578  বকেয়া বেতনের দাবিতে রোববার সকালে গাজীপুর মহানগ...      1  \n",
              "5579  আপত্তিকর ছবি ভিডিও দেখিয়ে এক ব্যবসায়ী স্ত্রীর ...      1  \n",
              "\n",
              "[5580 rows x 3 columns]"
            ],
            "text/html": [
              "\n",
              "  <div id=\"df-9ede78c7-8c9c-4184-8fd8-320e9ea486ce\">\n",
              "    <div class=\"colab-df-container\">\n",
              "      <div>\n",
              "<style scoped>\n",
              "    .dataframe tbody tr th:only-of-type {\n",
              "        vertical-align: middle;\n",
              "    }\n",
              "\n",
              "    .dataframe tbody tr th {\n",
              "        vertical-align: top;\n",
              "    }\n",
              "\n",
              "    .dataframe thead th {\n",
              "        text-align: right;\n",
              "    }\n",
              "</style>\n",
              "<table border=\"1\" class=\"dataframe\">\n",
              "  <thead>\n",
              "    <tr style=\"text-align: right;\">\n",
              "      <th></th>\n",
              "      <th>headline</th>\n",
              "      <th>content</th>\n",
              "      <th>label</th>\n",
              "    </tr>\n",
              "  </thead>\n",
              "  <tbody>\n",
              "    <tr>\n",
              "      <th>0</th>\n",
              "      <td>সময় হইলেই ধরব কামাল</td>\n",
              "      <td>নারায়নগঞ্জের চাঞ্চল্যকর সাত খুন মামলায় অভিযুক্...</td>\n",
              "      <td>0</td>\n",
              "    </tr>\n",
              "    <tr>\n",
              "      <th>1</th>\n",
              "      <td>ওয়ান ষ্টপ সার্ভিস খুললেন বাবুনগরী</td>\n",
              "      <td>নিজস্ব মতিবেদক বিবিধ রাজনৈতিক সংকট সমাধানের পর...</td>\n",
              "      <td>0</td>\n",
              "    </tr>\n",
              "    <tr>\n",
              "      <th>2</th>\n",
              "      <td>কমিশনের হার বৃদ্ধি করবেন তারেক</td>\n",
              "      <td>লনডন মতিনিধি সংসদ নির্বাচনে জয় লাভ প্রধান মন্...</td>\n",
              "      <td>0</td>\n",
              "    </tr>\n",
              "    <tr>\n",
              "      <th>3</th>\n",
              "      <td>আর বাংলাদেশে ফুন দিব না বানকি মুন</td>\n",
              "      <td>জাতিসংঘ মতিবেদক ভবিষ্যতে বাংলাদেশে টেলিফোন অংগ...</td>\n",
              "      <td>0</td>\n",
              "    </tr>\n",
              "    <tr>\n",
              "      <th>4</th>\n",
              "      <td>ফোন না করায় জাতিসংঘের মহাসচিবের প্রতি ক্ষুব্ধ...</td>\n",
              "      <td>নিজস্ব মতিবেদক বাকশালের মহিলা আমীর প্রধান মন্ত...</td>\n",
              "      <td>0</td>\n",
              "    </tr>\n",
              "    <tr>\n",
              "      <th>...</th>\n",
              "      <td>...</td>\n",
              "      <td>...</td>\n",
              "      <td>...</td>\n",
              "    </tr>\n",
              "    <tr>\n",
              "      <th>5575</th>\n",
              "      <td>বেনাপোলের ঘিবা সীমান্তে অস্ত্র ব্যবসায়ী আটক</td>\n",
              "      <td>যশোরের বেনাপোল সীমান্তের ঘিবা গ্রামের বাড়িতে অ...</td>\n",
              "      <td>1</td>\n",
              "    </tr>\n",
              "    <tr>\n",
              "      <th>5576</th>\n",
              "      <td>হাতির আক্রমণে সাবেক ছাত্রদল সভাপতির মৃত্যু</td>\n",
              "      <td>মৌলভীবাজার মৌলভীবাজারের জুড়ি উপজেলায় বন্য হাতি...</td>\n",
              "      <td>1</td>\n",
              "    </tr>\n",
              "    <tr>\n",
              "      <th>5577</th>\n",
              "      <td>অবরোধের পর ঢাকাচট্টগ্রাম মহাসড়কে যান চলাচল শুরু</td>\n",
              "      <td>নারায়ণগঞ্জের সোনারগাঁওয়ে বাসচাপায় শিক্ষার্থী আ...</td>\n",
              "      <td>1</td>\n",
              "    </tr>\n",
              "    <tr>\n",
              "      <th>5578</th>\n",
              "      <td>শ্রমিকদের অবরোধে ঢাকাময়মনসিংহ মহাসড়কে তীব্র যানজট</td>\n",
              "      <td>বকেয়া বেতনের দাবিতে রোববার সকালে গাজীপুর মহানগ...</td>\n",
              "      <td>1</td>\n",
              "    </tr>\n",
              "    <tr>\n",
              "      <th>5579</th>\n",
              "      <td>এক আপত্তিকর ছবিতে  লাখ টাকা গেল ব্যবসায়ীর</td>\n",
              "      <td>আপত্তিকর ছবি ভিডিও দেখিয়ে এক ব্যবসায়ী স্ত্রীর ...</td>\n",
              "      <td>1</td>\n",
              "    </tr>\n",
              "  </tbody>\n",
              "</table>\n",
              "<p>5580 rows × 3 columns</p>\n",
              "</div>\n",
              "      <button class=\"colab-df-convert\" onclick=\"convertToInteractive('df-9ede78c7-8c9c-4184-8fd8-320e9ea486ce')\"\n",
              "              title=\"Convert this dataframe to an interactive table.\"\n",
              "              style=\"display:none;\">\n",
              "        \n",
              "  <svg xmlns=\"http://www.w3.org/2000/svg\" height=\"24px\"viewBox=\"0 0 24 24\"\n",
              "       width=\"24px\">\n",
              "    <path d=\"M0 0h24v24H0V0z\" fill=\"none\"/>\n",
              "    <path d=\"M18.56 5.44l.94 2.06.94-2.06 2.06-.94-2.06-.94-.94-2.06-.94 2.06-2.06.94zm-11 1L8.5 8.5l.94-2.06 2.06-.94-2.06-.94L8.5 2.5l-.94 2.06-2.06.94zm10 10l.94 2.06.94-2.06 2.06-.94-2.06-.94-.94-2.06-.94 2.06-2.06.94z\"/><path d=\"M17.41 7.96l-1.37-1.37c-.4-.4-.92-.59-1.43-.59-.52 0-1.04.2-1.43.59L10.3 9.45l-7.72 7.72c-.78.78-.78 2.05 0 2.83L4 21.41c.39.39.9.59 1.41.59.51 0 1.02-.2 1.41-.59l7.78-7.78 2.81-2.81c.8-.78.8-2.07 0-2.86zM5.41 20L4 18.59l7.72-7.72 1.47 1.35L5.41 20z\"/>\n",
              "  </svg>\n",
              "      </button>\n",
              "      \n",
              "  <style>\n",
              "    .colab-df-container {\n",
              "      display:flex;\n",
              "      flex-wrap:wrap;\n",
              "      gap: 12px;\n",
              "    }\n",
              "\n",
              "    .colab-df-convert {\n",
              "      background-color: #E8F0FE;\n",
              "      border: none;\n",
              "      border-radius: 50%;\n",
              "      cursor: pointer;\n",
              "      display: none;\n",
              "      fill: #1967D2;\n",
              "      height: 32px;\n",
              "      padding: 0 0 0 0;\n",
              "      width: 32px;\n",
              "    }\n",
              "\n",
              "    .colab-df-convert:hover {\n",
              "      background-color: #E2EBFA;\n",
              "      box-shadow: 0px 1px 2px rgba(60, 64, 67, 0.3), 0px 1px 3px 1px rgba(60, 64, 67, 0.15);\n",
              "      fill: #174EA6;\n",
              "    }\n",
              "\n",
              "    [theme=dark] .colab-df-convert {\n",
              "      background-color: #3B4455;\n",
              "      fill: #D2E3FC;\n",
              "    }\n",
              "\n",
              "    [theme=dark] .colab-df-convert:hover {\n",
              "      background-color: #434B5C;\n",
              "      box-shadow: 0px 1px 3px 1px rgba(0, 0, 0, 0.15);\n",
              "      filter: drop-shadow(0px 1px 2px rgba(0, 0, 0, 0.3));\n",
              "      fill: #FFFFFF;\n",
              "    }\n",
              "  </style>\n",
              "\n",
              "      <script>\n",
              "        const buttonEl =\n",
              "          document.querySelector('#df-9ede78c7-8c9c-4184-8fd8-320e9ea486ce button.colab-df-convert');\n",
              "        buttonEl.style.display =\n",
              "          google.colab.kernel.accessAllowed ? 'block' : 'none';\n",
              "\n",
              "        async function convertToInteractive(key) {\n",
              "          const element = document.querySelector('#df-9ede78c7-8c9c-4184-8fd8-320e9ea486ce');\n",
              "          const dataTable =\n",
              "            await google.colab.kernel.invokeFunction('convertToInteractive',\n",
              "                                                     [key], {});\n",
              "          if (!dataTable) return;\n",
              "\n",
              "          const docLinkHtml = 'Like what you see? Visit the ' +\n",
              "            '<a target=\"_blank\" href=https://colab.research.google.com/notebooks/data_table.ipynb>data table notebook</a>'\n",
              "            + ' to learn more about interactive tables.';\n",
              "          element.innerHTML = '';\n",
              "          dataTable['output_type'] = 'display_data';\n",
              "          await google.colab.output.renderOutput(dataTable, element);\n",
              "          const docLink = document.createElement('div');\n",
              "          docLink.innerHTML = docLinkHtml;\n",
              "          element.appendChild(docLink);\n",
              "        }\n",
              "      </script>\n",
              "    </div>\n",
              "  </div>\n",
              "  "
            ]
          },
          "metadata": {},
          "execution_count": 80
        }
      ],
      "source": [
        "df"
      ]
    },
    {
      "cell_type": "markdown",
      "metadata": {
        "id": "mrQG10mBQIT6"
      },
      "source": [
        "# Tokenization"
      ]
    },
    {
      "cell_type": "code",
      "execution_count": 81,
      "metadata": {
        "colab": {
          "base_uri": "https://localhost:8080/"
        },
        "id": "Y9PEPc5ROQoM",
        "outputId": "3a5cd001-46f3-45c7-dd90-6e85bf9eab10"
      },
      "outputs": [
        {
          "output_type": "stream",
          "name": "stdout",
          "text": [
            "Looking in indexes: https://pypi.org/simple, https://us-python.pkg.dev/colab-wheels/public/simple/\n",
            "Requirement already satisfied: bnlp_toolkit in /usr/local/lib/python3.7/dist-packages (3.1.2)\n",
            "Requirement already satisfied: numpy in /usr/local/lib/python3.7/dist-packages (from bnlp_toolkit) (1.21.6)\n",
            "Requirement already satisfied: gensim==4.0.1 in /usr/local/lib/python3.7/dist-packages (from bnlp_toolkit) (4.0.1)\n",
            "Requirement already satisfied: sklearn-crfsuite in /usr/local/lib/python3.7/dist-packages (from bnlp_toolkit) (0.3.6)\n",
            "Requirement already satisfied: nltk in /usr/local/lib/python3.7/dist-packages (from bnlp_toolkit) (3.7)\n",
            "Requirement already satisfied: sentencepiece in /usr/local/lib/python3.7/dist-packages (from bnlp_toolkit) (0.1.97)\n",
            "Requirement already satisfied: scipy in /usr/local/lib/python3.7/dist-packages (from bnlp_toolkit) (1.7.3)\n",
            "Requirement already satisfied: wasabi in /usr/local/lib/python3.7/dist-packages (from bnlp_toolkit) (0.10.1)\n",
            "Requirement already satisfied: smart-open>=1.8.1 in /usr/local/lib/python3.7/dist-packages (from gensim==4.0.1->bnlp_toolkit) (5.2.1)\n",
            "Requirement already satisfied: click in /usr/local/lib/python3.7/dist-packages (from nltk->bnlp_toolkit) (7.1.2)\n",
            "Requirement already satisfied: joblib in /usr/local/lib/python3.7/dist-packages (from nltk->bnlp_toolkit) (1.1.0)\n",
            "Requirement already satisfied: tqdm in /usr/local/lib/python3.7/dist-packages (from nltk->bnlp_toolkit) (4.64.0)\n",
            "Requirement already satisfied: regex>=2021.8.3 in /usr/local/lib/python3.7/dist-packages (from nltk->bnlp_toolkit) (2022.6.2)\n",
            "Requirement already satisfied: python-crfsuite>=0.8.3 in /usr/local/lib/python3.7/dist-packages (from sklearn-crfsuite->bnlp_toolkit) (0.9.8)\n",
            "Requirement already satisfied: six in /usr/local/lib/python3.7/dist-packages (from sklearn-crfsuite->bnlp_toolkit) (1.15.0)\n",
            "Requirement already satisfied: tabulate in /usr/local/lib/python3.7/dist-packages (from sklearn-crfsuite->bnlp_toolkit) (0.8.10)\n"
          ]
        }
      ],
      "source": [
        "pip install bnlp_toolkit"
      ]
    },
    {
      "cell_type": "code",
      "execution_count": 82,
      "metadata": {
        "id": "AYxfwuzLNCFd"
      },
      "outputs": [],
      "source": [
        "from bnlp import BasicTokenizer\n",
        "from bnlp.corpus import stopwords, punctuations, letters, digits\n",
        "\n",
        "btokenizer = BasicTokenizer()\n",
        "\n",
        "word_list= []\n",
        "def clean_text(text):\n",
        "    tokens = btokenizer.tokenize(text)\n",
        "    filtered = []\n",
        "    for i in tokens:\n",
        "        if i in stopwords:\n",
        "            continue\n",
        "    \n",
        "        if i in punctuations + '‘' + '’':\n",
        "            continue\n",
        "    \n",
        "        filtered.append(i)\n",
        "        word_list.append(i)\n",
        "    return \" \".join(filtered)"
      ]
    },
    {
      "cell_type": "code",
      "source": [
        "df = df.dropna(how='any',axis=0) \n",
        "df['content'] = df.content.apply(clean_text)"
      ],
      "metadata": {
        "colab": {
          "base_uri": "https://localhost:8080/"
        },
        "id": "bNF6tVWguzRL",
        "outputId": "3db906ed-b16b-4457-d9ce-ab98ea920980"
      },
      "execution_count": 83,
      "outputs": [
        {
          "output_type": "stream",
          "name": "stderr",
          "text": [
            "/usr/local/lib/python3.7/dist-packages/ipykernel_launcher.py:2: SettingWithCopyWarning: \n",
            "A value is trying to be set on a copy of a slice from a DataFrame.\n",
            "Try using .loc[row_indexer,col_indexer] = value instead\n",
            "\n",
            "See the caveats in the documentation: https://pandas.pydata.org/pandas-docs/stable/user_guide/indexing.html#returning-a-view-versus-a-copy\n",
            "  \n"
          ]
        }
      ]
    },
    {
      "cell_type": "code",
      "execution_count": 84,
      "metadata": {
        "colab": {
          "base_uri": "https://localhost:8080/"
        },
        "id": "V3rykg9lNJ7k",
        "outputId": "67f25d5b-3e9a-42dc-a72d-2d66881f44de"
      },
      "outputs": [
        {
          "output_type": "stream",
          "name": "stdout",
          "text": [
            "1056044\n"
          ]
        }
      ],
      "source": [
        "print(len(word_list))"
      ]
    },
    {
      "cell_type": "code",
      "execution_count": 85,
      "metadata": {
        "id": "HY3g1z88NMOb"
      },
      "outputs": [],
      "source": [
        "uniq= set(word_list)"
      ]
    },
    {
      "cell_type": "code",
      "execution_count": 86,
      "metadata": {
        "colab": {
          "base_uri": "https://localhost:8080/"
        },
        "id": "t165dvd7NPur",
        "outputId": "654d902d-a23c-476c-f249-ad49357eb3ca"
      },
      "outputs": [
        {
          "output_type": "stream",
          "name": "stdout",
          "text": [
            "89338\n"
          ]
        }
      ],
      "source": [
        "print(len(uniq))"
      ]
    },
    {
      "cell_type": "code",
      "execution_count": 87,
      "metadata": {
        "id": "mvXvJ8TTBJiV"
      },
      "outputs": [],
      "source": [
        "from sklearn.feature_extraction.text import CountVectorizer"
      ]
    },
    {
      "cell_type": "code",
      "execution_count": 88,
      "metadata": {
        "colab": {
          "base_uri": "https://localhost:8080/"
        },
        "id": "EzQO2NqMTrTk",
        "outputId": "31a9d3fa-014d-4bf2-9b16-b112125c46e2"
      },
      "outputs": [
        {
          "output_type": "stream",
          "name": "stderr",
          "text": [
            "/usr/local/lib/python3.7/dist-packages/sklearn/feature_extraction/text.py:517: UserWarning: The parameter 'token_pattern' will not be used since 'tokenizer' is not None'\n",
            "  \"The parameter 'token_pattern' will not be used\"\n"
          ]
        },
        {
          "output_type": "execute_result",
          "data": {
            "text/plain": [
              "CountVectorizer(tokenizer=<function <lambda> at 0x7fc6bcefe200>)"
            ]
          },
          "metadata": {},
          "execution_count": 88
        }
      ],
      "source": [
        "bow_transformer = CountVectorizer(tokenizer=lambda x: x.split())\n",
        "bow_transformer.fit(uniq)"
      ]
    },
    {
      "cell_type": "code",
      "execution_count": 89,
      "metadata": {
        "id": "L_v-_W93XfbA"
      },
      "outputs": [],
      "source": [
        "# print(bow_transformer.vocabulary_.iloc[:10])\n",
        "# for value in bow_transformer.vocabulary_:\n",
        "#   print(value)"
      ]
    },
    {
      "cell_type": "code",
      "execution_count": 90,
      "metadata": {
        "colab": {
          "base_uri": "https://localhost:8080/"
        },
        "id": "9_nbpj9YchQN",
        "outputId": "44a2de3a-9fdf-4a52-87b5-0fd93ca20dda"
      },
      "outputs": [
        {
          "output_type": "stream",
          "name": "stdout",
          "text": [
            "জাতিসংঘ মতিবেদক ভবিষ্যতে বাংলাদেশে টেলিফোন অংগীকার বেক্ত জাতিসংঘের মহাসচিব দক্ষিন কুরিয়ার নাগরিক বানকি মুন বাংলাদেশে ফুন দিব কানে ধরিয়া মাফ চাই দুয়াও চাই নিউইয়র্কে জাতিসংঘ কার্যালয়ে অংগীকার বেক্ত বানকি মুন বানকি মুন ধরিয়া সমস্যায় ভুগতে আছিলাম বাসায় পরিবার মনরোগ বিশেষজ্ঞ বাংলাদেশ জাকের পার্টির মহিলা নায়েবে আমীর সারা জাকেরকে টেলিফুন দিয়া আলাপ ছেমছাং মুবাইল সেটটি অভিশাপ সারা জাকেরের পরিবর্তে শেখের বেটীর মুঠোফুনে কল দিয়া বসলাম আমায় টেলিফুনে একশত বিচার দিয়া বিএনপি শাখার মহিলা আমীর ঘোচু নির্বাচন দেশে উন্নয়ন ফাটাইয়ালাইতাছি কেমন আছেন আবেগঘন কণ্ঠে বানকি মুন কস্টে আধাটি ঘন্টা বকবক সহ্য টেলিফুন রাখলাম পরিবার শেখের বেটীকে ফুন করিলা মেডাম জানলে গোসসা ত আর্জেস গ্রেনেডের দিক দিয়া চিন্তা তাড়াতাড়ি মেডামকে ফুন দিলাম মেডাম বাকশালের মহিলা আমীর ঘোচু আমরারে নির্বাচনে লইতে দেশটারে ফাটাইয়ালাইবাম কেমন আছেন কানে প্রতিজ্ঞা বানকি মুন কাদতে কাদতে বানকি মুন নেত্রীরে ফুন দিয়া ভাবলাম দায়িত্ব শেষ দুগগা ভাত খাই আশা পুর্ন পল্লীবন্ধু এরশাদ নোবেলবিজয়ী বাবুনগরী শফিউল আলম প্রধান বেরিষ্টার রাজ্জাক মতিচুর রহমান আজমী আবদুল জলিল অনন্ত ইভা রহমান সকলেই মুঠোফুনে কল দিয়া বকাবকি করল সংগে আলাপ নেত্রীরে এক টেবিলে বসাইতে গেলাম যতই বলি ভাই রং নম্বর হইছে বিশ্বাসই ছুটের হাতায় অশ্রু মুছে বানকি মুন শেষে বুদ্ধি পরামিশের বন্ধু মজিনা ফায়ারফক্সকে ফুন দিলাম দুস্ত বাংলাদেশে ফুন দিও মুবাইল পাল্টাইয়ালাও বাসা পাল্টাইয়ালাও নামটাও পাল্টাইয়ালাও একটা সুস্থ সুখী জীবন যাপন কর পৃথীবির যেই দেশে বাংলাদেশ দেশই ধ্বংস কানে বানকি মুন মজিনার কথাই কথা শেয়ার করুন\n"
          ]
        }
      ],
      "source": [
        "news4 = df['content'][3]\n",
        "print(news4)"
      ]
    },
    {
      "cell_type": "code",
      "execution_count": 91,
      "metadata": {
        "id": "3o3j2MVgcpDt"
      },
      "outputs": [],
      "source": [
        "bow4 = bow_transformer.transform([news4])"
      ]
    },
    {
      "cell_type": "code",
      "execution_count": 92,
      "metadata": {
        "colab": {
          "base_uri": "https://localhost:8080/"
        },
        "id": "GfLKrGjBcytr",
        "outputId": "173c07b6-3c61-4c94-f327-4fd3149526fc"
      },
      "outputs": [
        {
          "output_type": "stream",
          "name": "stdout",
          "text": [
            "164\n"
          ]
        }
      ],
      "source": [
        "print(bow4.nnz)"
      ]
    },
    {
      "cell_type": "code",
      "execution_count": 93,
      "metadata": {
        "colab": {
          "base_uri": "https://localhost:8080/"
        },
        "id": "5G9qHkbtdAL4",
        "outputId": "bbeda18a-0624-4f36-abf9-f5698baa41c8"
      },
      "outputs": [
        {
          "output_type": "stream",
          "name": "stdout",
          "text": [
            "(1, 89338)\n"
          ]
        }
      ],
      "source": [
        "print(bow4.shape)"
      ]
    },
    {
      "cell_type": "code",
      "execution_count": 94,
      "metadata": {
        "id": "zqRLVbVQdD1H"
      },
      "outputs": [],
      "source": [
        "# bow_transformer.get_feature_names()"
      ]
    },
    {
      "cell_type": "code",
      "execution_count": 95,
      "metadata": {
        "colab": {
          "base_uri": "https://localhost:8080/",
          "height": 90
        },
        "id": "NTHuAGcB4LIe",
        "outputId": "6cdd8d4e-e902-4ec8-efd8-7569b76450b6"
      },
      "outputs": [
        {
          "output_type": "stream",
          "name": "stderr",
          "text": [
            "/usr/local/lib/python3.7/dist-packages/sklearn/utils/deprecation.py:87: FutureWarning: Function get_feature_names is deprecated; get_feature_names is deprecated in 1.0 and will be removed in 1.2. Please use get_feature_names_out instead.\n",
            "  warnings.warn(msg, category=FutureWarning)\n"
          ]
        },
        {
          "output_type": "execute_result",
          "data": {
            "text/plain": [
              "'ক্রিকেটারগন'"
            ],
            "application/vnd.google.colaboratory.intrinsic+json": {
              "type": "string"
            }
          },
          "metadata": {},
          "execution_count": 95
        }
      ],
      "source": [
        "bow_transformer.get_feature_names()[20000]"
      ]
    },
    {
      "cell_type": "code",
      "execution_count": 96,
      "metadata": {
        "id": "I4M0bHo7dGD_"
      },
      "outputs": [],
      "source": [
        "news_bow= bow_transformer.transform(df['content'].values.astype('U'))"
      ]
    },
    {
      "cell_type": "code",
      "execution_count": 97,
      "metadata": {
        "colab": {
          "base_uri": "https://localhost:8080/"
        },
        "id": "P0H6-jVsdYz2",
        "outputId": "27d7c00e-b153-4ed3-9e93-41471810893b"
      },
      "outputs": [
        {
          "output_type": "stream",
          "name": "stdout",
          "text": [
            "Shape of Sparse Matrix:  (5579, 89338)\n"
          ]
        }
      ],
      "source": [
        "print('Shape of Sparse Matrix: ', news_bow.shape)"
      ]
    },
    {
      "cell_type": "code",
      "execution_count": 98,
      "metadata": {
        "colab": {
          "base_uri": "https://localhost:8080/"
        },
        "id": "IufPKBmydeU6",
        "outputId": "edfd8a7f-003b-4ba9-ca4c-9a6e5c171e0c"
      },
      "outputs": [
        {
          "output_type": "execute_result",
          "data": {
            "text/plain": [
              "758747"
            ]
          },
          "metadata": {},
          "execution_count": 98
        }
      ],
      "source": [
        "news_bow.nnz"
      ]
    },
    {
      "cell_type": "code",
      "execution_count": 99,
      "metadata": {
        "colab": {
          "base_uri": "https://localhost:8080/"
        },
        "id": "q9oYrmZS82a6",
        "outputId": "4dd0c028-2524-4488-a8f9-bb2ddd61ccd0"
      },
      "outputs": [
        {
          "output_type": "execute_result",
          "data": {
            "text/plain": [
              "(5579, 89338)"
            ]
          },
          "metadata": {},
          "execution_count": 99
        }
      ],
      "source": [
        "news_bow.shape"
      ]
    },
    {
      "cell_type": "markdown",
      "metadata": {
        "id": "Q3GvOYEbQXdb"
      },
      "source": [
        "# TF-IDF"
      ]
    },
    {
      "cell_type": "code",
      "execution_count": 100,
      "metadata": {
        "id": "nTxaxktfdhA6"
      },
      "outputs": [],
      "source": [
        "from sklearn.feature_extraction.text import TfidfTransformer"
      ]
    },
    {
      "cell_type": "code",
      "execution_count": 101,
      "metadata": {
        "colab": {
          "base_uri": "https://localhost:8080/"
        },
        "id": "T2ZFbhKvdvH8",
        "outputId": "e9398627-6fce-4ffb-ee8b-8017ab7f8670"
      },
      "outputs": [
        {
          "output_type": "stream",
          "name": "stdout",
          "text": [
            "  (0, 87384)\t0.06877092954174303\n",
            "  (0, 86119)\t0.035638929630010606\n",
            "  (0, 84011)\t0.06564972444025387\n",
            "  (0, 83711)\t0.03850436904709437\n",
            "  (0, 83176)\t0.04652131324790625\n",
            "  (0, 81993)\t0.05671990482371531\n",
            "  (0, 80924)\t0.03921544398860944\n",
            "  (0, 79996)\t0.054362097840334966\n",
            "  (0, 79104)\t0.03999895077716092\n",
            "  (0, 78788)\t0.02495446676644101\n",
            "  (0, 78152)\t0.025775618146863796\n",
            "  (0, 78121)\t0.022101843770040253\n",
            "  (0, 78086)\t0.021995051227939537\n",
            "  (0, 78054)\t0.07066602996060525\n",
            "  (0, 76630)\t0.02361180324242455\n",
            "  (0, 76232)\t0.051046000330451424\n",
            "  (0, 74192)\t0.051440847849789396\n",
            "  (0, 72311)\t0.04399254184639879\n",
            "  (0, 71997)\t0.05379162660588905\n",
            "  (0, 71782)\t0.04348585110512402\n",
            "  (0, 71251)\t0.04497658255253712\n",
            "  (0, 71012)\t0.04018444984827186\n",
            "  (0, 70592)\t0.0444688487390996\n",
            "  (0, 70241)\t0.04246181996098975\n",
            "  (0, 69014)\t0.04767238445371809\n",
            "  :\t:\n",
            "  (0, 14128)\t0.0150286954186231\n",
            "  (0, 14068)\t0.02197739562628098\n",
            "  (0, 12506)\t0.033879708624989964\n",
            "  (0, 11351)\t0.05185704861152574\n",
            "  (0, 11193)\t0.022601638623379276\n",
            "  (0, 11119)\t0.012062788605383101\n",
            "  (0, 10195)\t0.05276372345088457\n",
            "  (0, 8721)\t0.054362097840334966\n",
            "  (0, 7036)\t0.02916875609780057\n",
            "  (0, 6730)\t0.07489643382023535\n",
            "  (0, 6629)\t0.028606304281674044\n",
            "  (0, 6478)\t0.04497658255253712\n",
            "  (0, 6089)\t0.06718225882497114\n",
            "  (0, 6007)\t0.03191758913810381\n",
            "  (0, 5941)\t0.05185704861152574\n",
            "  (0, 5764)\t0.022668869085207273\n",
            "  (0, 5617)\t0.03179034923375078\n",
            "  (0, 4943)\t0.06877092954174303\n",
            "  (0, 4412)\t0.04298390738468074\n",
            "  (0, 4328)\t0.05838246311190522\n",
            "  (0, 4289)\t0.04384010441071385\n",
            "  (0, 2528)\t0.03628983878496404\n",
            "  (0, 2084)\t0.033635312258536956\n",
            "  (0, 750)\t0.04902636247671549\n",
            "  (0, 69)\t0.08680021629283417\n"
          ]
        }
      ],
      "source": [
        "tfidf_transformer= TfidfTransformer().fit(news_bow)\n",
        "tfidf4= tfidf_transformer.transform(bow4)\n",
        "print(tfidf4)"
      ]
    },
    {
      "cell_type": "code",
      "execution_count": 102,
      "metadata": {
        "colab": {
          "base_uri": "https://localhost:8080/"
        },
        "id": "bfEFfxB7dwYp",
        "outputId": "12867638-bf84-49e4-a944-783397c8a7ee"
      },
      "outputs": [
        {
          "output_type": "execute_result",
          "data": {
            "text/plain": [
              "5.601592364640207"
            ]
          },
          "metadata": {},
          "execution_count": 102
        }
      ],
      "source": [
        "tfidf_transformer.idf_[bow_transformer.vocabulary_.get('চাল')]"
      ]
    },
    {
      "cell_type": "code",
      "execution_count": 103,
      "metadata": {
        "id": "h4ymTZUsd5z8"
      },
      "outputs": [],
      "source": [
        "news_tfidf = tfidf_transformer.transform(news_bow)"
      ]
    },
    {
      "cell_type": "code",
      "execution_count": 104,
      "metadata": {
        "colab": {
          "base_uri": "https://localhost:8080/"
        },
        "id": "mGTx8tMQ6j0E",
        "outputId": "125d9660-745b-47aa-c6af-6f963ff17619"
      },
      "outputs": [
        {
          "output_type": "execute_result",
          "data": {
            "text/plain": [
              "(5579, 89338)"
            ]
          },
          "metadata": {},
          "execution_count": 104
        }
      ],
      "source": [
        "news_tfidf.shape"
      ]
    },
    {
      "cell_type": "markdown",
      "metadata": {
        "id": "SPWcAs1lQboK"
      },
      "source": [
        "## Multinomial Naive Bayes"
      ]
    },
    {
      "cell_type": "code",
      "execution_count": 105,
      "metadata": {
        "id": "oSLt7AXqeuR4"
      },
      "outputs": [],
      "source": [
        "from sklearn.naive_bayes import MultinomialNB"
      ]
    },
    {
      "cell_type": "code",
      "execution_count": 106,
      "metadata": {
        "id": "tcR3p9Piew_6"
      },
      "outputs": [],
      "source": [
        "mnb_model = MultinomialNB().fit(news_tfidf, df['label'])"
      ]
    },
    {
      "cell_type": "code",
      "execution_count": 107,
      "metadata": {
        "colab": {
          "base_uri": "https://localhost:8080/"
        },
        "id": "mg2gGdo8fSO_",
        "outputId": "7415aa73-1676-458f-f772-90d7122dd6e5"
      },
      "outputs": [
        {
          "output_type": "execute_result",
          "data": {
            "text/plain": [
              "0"
            ]
          },
          "metadata": {},
          "execution_count": 107
        }
      ],
      "source": [
        "mnb_model.predict(tfidf4)[0]"
      ]
    },
    {
      "cell_type": "code",
      "execution_count": 108,
      "metadata": {
        "id": "dCaNUBZffSvz"
      },
      "outputs": [],
      "source": [
        "all_pred = mnb_model.predict(news_tfidf)"
      ]
    },
    {
      "cell_type": "code",
      "execution_count": 109,
      "metadata": {
        "colab": {
          "base_uri": "https://localhost:8080/"
        },
        "id": "R2sEsl1U-Owq",
        "outputId": "f49732d5-07ca-46c6-9031-80fb3a604eb6"
      },
      "outputs": [
        {
          "output_type": "execute_result",
          "data": {
            "text/plain": [
              "1535    0\n",
              "1536    0\n",
              "1537    0\n",
              "1538    0\n",
              "1539    0\n",
              "1540    0\n",
              "1541    0\n",
              "1542    0\n",
              "1543    0\n",
              "1544    0\n",
              "1545    0\n",
              "1546    0\n",
              "1547    0\n",
              "1548    0\n",
              "1549    0\n",
              "1550    0\n",
              "1551    0\n",
              "1552    0\n",
              "1553    0\n",
              "1554    0\n",
              "1555    0\n",
              "1556    0\n",
              "1557    0\n",
              "1558    0\n",
              "1559    0\n",
              "1560    0\n",
              "1561    0\n",
              "1562    0\n",
              "1563    0\n",
              "1564    0\n",
              "Name: label, dtype: int64"
            ]
          },
          "metadata": {},
          "execution_count": 109
        }
      ],
      "source": [
        "df['label'][1535:1565]"
      ]
    },
    {
      "cell_type": "code",
      "execution_count": 110,
      "metadata": {
        "colab": {
          "base_uri": "https://localhost:8080/"
        },
        "id": "ZDEK_52vfnP4",
        "outputId": "621a37e7-e6a3-46b9-e775-0f84e3a006d9"
      },
      "outputs": [
        {
          "output_type": "execute_result",
          "data": {
            "text/plain": [
              "array([0, 0, 0, 0, 0, 0, 0, 0, 0, 0, 0, 0, 0, 0, 0, 0, 0, 0, 0, 0, 0, 0,\n",
              "       0, 0, 0, 0, 0, 0, 0, 0])"
            ]
          },
          "metadata": {},
          "execution_count": 110
        }
      ],
      "source": [
        "all_pred[1535:1565]"
      ]
    },
    {
      "cell_type": "code",
      "execution_count": 111,
      "metadata": {
        "id": "p8ue_uiEfpT4"
      },
      "outputs": [],
      "source": [
        "from sklearn.model_selection import train_test_split\n",
        "from sklearn.metrics import accuracy_score"
      ]
    },
    {
      "cell_type": "code",
      "execution_count": 112,
      "metadata": {
        "id": "VM3ubNPBfwPZ"
      },
      "outputs": [],
      "source": [
        "xtrain, xtest, ytrain, ytest = train_test_split(news_tfidf, df['label'], test_size=0.25, random_state=32)\n",
        "news_train, news_test, label_train, label_test = train_test_split(df['content'], df['label'], test_size=0.25, random_state=32)"
      ]
    },
    {
      "cell_type": "code",
      "execution_count": 113,
      "metadata": {
        "id": "sGtYQVmff0qz"
      },
      "outputs": [],
      "source": [
        "from sklearn.pipeline import Pipeline"
      ]
    },
    {
      "cell_type": "code",
      "execution_count": 114,
      "metadata": {
        "id": "t7noUATUf23A"
      },
      "outputs": [],
      "source": [
        "pipeline = Pipeline([\n",
        "    ('bow',CountVectorizer()),\n",
        "    ('tfidf', TfidfTransformer()),\n",
        "    ('classifier', MultinomialNB())\n",
        "])"
      ]
    },
    {
      "cell_type": "code",
      "execution_count": 115,
      "metadata": {
        "colab": {
          "base_uri": "https://localhost:8080/"
        },
        "id": "7n0Yb6tJgD4-",
        "outputId": "3f1232c6-a1ad-4562-9456-cf1281635bd6"
      },
      "outputs": [
        {
          "output_type": "execute_result",
          "data": {
            "text/plain": [
              "Pipeline(steps=[('bow', CountVectorizer()), ('tfidf', TfidfTransformer()),\n",
              "                ('classifier', MultinomialNB())])"
            ]
          },
          "metadata": {},
          "execution_count": 115
        }
      ],
      "source": [
        "pipeline.fit(news_train.values.astype('U'), label_train)"
      ]
    },
    {
      "cell_type": "code",
      "execution_count": 116,
      "metadata": {
        "id": "QmvAIqo9gGKv"
      },
      "outputs": [],
      "source": [
        "mnbYpred =  pipeline.predict(news_test)"
      ]
    },
    {
      "cell_type": "code",
      "source": [
        "mnbYpred"
      ],
      "metadata": {
        "colab": {
          "base_uri": "https://localhost:8080/"
        },
        "id": "sIoeJVHuD4ec",
        "outputId": "a2f760a7-c519-45c0-e89d-f7f68f68542f"
      },
      "execution_count": 117,
      "outputs": [
        {
          "output_type": "execute_result",
          "data": {
            "text/plain": [
              "array([0, 1, 1, ..., 1, 1, 0])"
            ]
          },
          "metadata": {},
          "execution_count": 117
        }
      ]
    },
    {
      "cell_type": "code",
      "source": [
        "print('Accuracy of MNB classifier on test set: {:.3f}'.format(accuracy_score(mnbYpred, label_test)))\n",
        "# accuracy_score(mnbYpred, label_test)"
      ],
      "metadata": {
        "colab": {
          "base_uri": "https://localhost:8080/"
        },
        "id": "mE4xkS6IDU8R",
        "outputId": "0f88abfc-a7bc-4a1d-d541-8cb9214a8238"
      },
      "execution_count": 118,
      "outputs": [
        {
          "output_type": "stream",
          "name": "stdout",
          "text": [
            "Accuracy of MNB classifier on test set: 0.918\n"
          ]
        }
      ]
    },
    {
      "cell_type": "code",
      "execution_count": 119,
      "metadata": {
        "id": "gKNyIOZAgJwL"
      },
      "outputs": [],
      "source": [
        "from sklearn.metrics import classification_report"
      ]
    },
    {
      "cell_type": "code",
      "execution_count": 120,
      "metadata": {
        "colab": {
          "base_uri": "https://localhost:8080/"
        },
        "id": "0uUz6W9mgNTi",
        "outputId": "6bfa7c04-68bb-49ce-8457-47ba64aef54b"
      },
      "outputs": [
        {
          "output_type": "stream",
          "name": "stdout",
          "text": [
            "              precision    recall  f1-score   support\n",
            "\n",
            "           0     0.9442    0.8852    0.9137       688\n",
            "           1     0.8947    0.9491    0.9211       707\n",
            "\n",
            "    accuracy                         0.9176      1395\n",
            "   macro avg     0.9194    0.9171    0.9174      1395\n",
            "weighted avg     0.9191    0.9176    0.9174      1395\n",
            "\n"
          ]
        }
      ],
      "source": [
        "print(classification_report(label_test, mnbYpred,digits=4))"
      ]
    },
    {
      "cell_type": "markdown",
      "metadata": {
        "id": "nADNkyrXQjsu"
      },
      "source": [
        "## Logistic Regression"
      ]
    },
    {
      "cell_type": "code",
      "execution_count": 121,
      "metadata": {
        "id": "NaPxEzJNgO8j"
      },
      "outputs": [],
      "source": [
        "from sklearn.linear_model import LogisticRegression\n",
        "from sklearn.metrics import classification_report, confusion_matrix"
      ]
    },
    {
      "cell_type": "code",
      "execution_count": 122,
      "metadata": {
        "colab": {
          "base_uri": "https://localhost:8080/"
        },
        "id": "8bLpepH5cGKj",
        "outputId": "f6f4b561-da8e-4afb-8ed5-86dc2f2e224d"
      },
      "outputs": [
        {
          "output_type": "execute_result",
          "data": {
            "text/plain": [
              "LogisticRegression()"
            ]
          },
          "metadata": {},
          "execution_count": 122
        }
      ],
      "source": [
        "logreg = LogisticRegression()\n",
        "logreg.fit(xtrain, ytrain)"
      ]
    },
    {
      "cell_type": "code",
      "execution_count": 123,
      "metadata": {
        "id": "dtp5M0xCctgs"
      },
      "outputs": [],
      "source": [
        "ypred = logreg.predict(xtest)"
      ]
    },
    {
      "cell_type": "code",
      "execution_count": 124,
      "metadata": {
        "colab": {
          "base_uri": "https://localhost:8080/"
        },
        "id": "IpOndcCTfH5k",
        "outputId": "e3bc9d4c-821a-4c53-dc20-affaf90cefec"
      },
      "outputs": [
        {
          "output_type": "stream",
          "name": "stdout",
          "text": [
            "Accuracy of logistic regression classifier on test set: 0.958\n"
          ]
        }
      ],
      "source": [
        "print('Accuracy of logistic regression classifier on test set: {:.3f}'.format(logreg.score(xtest, ytest)))"
      ]
    },
    {
      "cell_type": "code",
      "source": [
        "print(classification_report(ytest, ypred,digits=4))"
      ],
      "metadata": {
        "colab": {
          "base_uri": "https://localhost:8080/"
        },
        "id": "HKRfp3-HuJpy",
        "outputId": "a4fafe72-4733-40e4-83fc-186d40d1632d"
      },
      "execution_count": 125,
      "outputs": [
        {
          "output_type": "stream",
          "name": "stdout",
          "text": [
            "              precision    recall  f1-score   support\n",
            "\n",
            "           0     0.9551    0.9593    0.9572       688\n",
            "           1     0.9602    0.9562    0.9582       707\n",
            "\n",
            "    accuracy                         0.9577      1395\n",
            "   macro avg     0.9577    0.9577    0.9577      1395\n",
            "weighted avg     0.9577    0.9577    0.9577      1395\n",
            "\n"
          ]
        }
      ]
    },
    {
      "cell_type": "markdown",
      "metadata": {
        "id": "8fOevWJtQokS"
      },
      "source": [
        "## KNN"
      ]
    },
    {
      "cell_type": "code",
      "execution_count": 126,
      "metadata": {
        "id": "czfAyjG2fJ-T"
      },
      "outputs": [],
      "source": [
        "from sklearn.neighbors import KNeighborsClassifier"
      ]
    },
    {
      "cell_type": "code",
      "execution_count": 127,
      "metadata": {
        "id": "TRrhLfmtftzi"
      },
      "outputs": [],
      "source": [
        "knn = KNeighborsClassifier(n_neighbors=12)"
      ]
    },
    {
      "cell_type": "code",
      "execution_count": 128,
      "metadata": {
        "colab": {
          "base_uri": "https://localhost:8080/"
        },
        "id": "M9VeSKuWf2w6",
        "outputId": "64730261-7d96-484d-f539-eeb1303f5852"
      },
      "outputs": [
        {
          "output_type": "execute_result",
          "data": {
            "text/plain": [
              "KNeighborsClassifier(n_neighbors=12)"
            ]
          },
          "metadata": {},
          "execution_count": 128
        }
      ],
      "source": [
        "knn.fit(xtrain, ytrain)"
      ]
    },
    {
      "cell_type": "code",
      "execution_count": 129,
      "metadata": {
        "id": "y7hQUEoMf6Oi"
      },
      "outputs": [],
      "source": [
        "knnYpred = knn.predict(xtest)"
      ]
    },
    {
      "cell_type": "code",
      "source": [
        "print(knnYpred)"
      ],
      "metadata": {
        "colab": {
          "base_uri": "https://localhost:8080/"
        },
        "id": "hHHsfxZXwZXN",
        "outputId": "f4779fcb-1ff7-431f-d103-1439911aadaa"
      },
      "execution_count": 130,
      "outputs": [
        {
          "output_type": "stream",
          "name": "stdout",
          "text": [
            "[0 1 1 ... 1 1 0]\n"
          ]
        }
      ]
    },
    {
      "cell_type": "code",
      "execution_count": 131,
      "metadata": {
        "colab": {
          "base_uri": "https://localhost:8080/"
        },
        "id": "zkH_FlCVf9gS",
        "outputId": "368a2694-0abe-47d1-d74c-75e2652b4baa"
      },
      "outputs": [
        {
          "output_type": "stream",
          "name": "stdout",
          "text": [
            "Accuracy of knn on test set: 0.911\n"
          ]
        }
      ],
      "source": [
        "print('Accuracy of knn on test set: {:.3f}'.format(knn.score(xtest, ytest)))"
      ]
    },
    {
      "cell_type": "code",
      "source": [
        "print(classification_report(ytest, knnYpred,digits=4))"
      ],
      "metadata": {
        "colab": {
          "base_uri": "https://localhost:8080/"
        },
        "id": "tv5oEAU7v86S",
        "outputId": "8c8ce0c1-7e0d-46ab-be2a-4aea86d4be47"
      },
      "execution_count": 132,
      "outputs": [
        {
          "output_type": "stream",
          "name": "stdout",
          "text": [
            "              precision    recall  f1-score   support\n",
            "\n",
            "           0     0.9519    0.8634    0.9055       688\n",
            "           1     0.8781    0.9576    0.9161       707\n",
            "\n",
            "    accuracy                         0.9111      1395\n",
            "   macro avg     0.9150    0.9105    0.9108      1395\n",
            "weighted avg     0.9145    0.9111    0.9109      1395\n",
            "\n"
          ]
        }
      ]
    },
    {
      "cell_type": "markdown",
      "metadata": {
        "id": "CGzbrdwMQrsb"
      },
      "source": [
        "# SVM"
      ]
    },
    {
      "cell_type": "code",
      "execution_count": 133,
      "metadata": {
        "id": "9J0y3vWqgEij"
      },
      "outputs": [],
      "source": [
        "from sklearn.svm import SVC"
      ]
    },
    {
      "cell_type": "code",
      "execution_count": 134,
      "metadata": {
        "colab": {
          "base_uri": "https://localhost:8080/"
        },
        "id": "Fs5Fpu8Czm_R",
        "outputId": "6a8bbf19-104f-48e7-ca63-0b5c8e0dace6"
      },
      "outputs": [
        {
          "output_type": "execute_result",
          "data": {
            "text/plain": [
              "SVC(random_state=7)"
            ]
          },
          "metadata": {},
          "execution_count": 134
        }
      ],
      "source": [
        "classifier = SVC(kernel='rbf', random_state = 7)\n",
        "classifier.fit(xtrain,ytrain)"
      ]
    },
    {
      "cell_type": "code",
      "execution_count": 135,
      "metadata": {
        "id": "yJtIRuZuzqpo"
      },
      "outputs": [],
      "source": [
        "svcYpred = classifier.predict(xtest)"
      ]
    },
    {
      "cell_type": "code",
      "execution_count": 136,
      "metadata": {
        "colab": {
          "base_uri": "https://localhost:8080/"
        },
        "id": "lugmUbN7zxzh",
        "outputId": "6854ec50-b54b-4ffa-c05a-0e6b513e8779"
      },
      "outputs": [
        {
          "output_type": "stream",
          "name": "stdout",
          "text": [
            "[0 1 1 ... 1 1 0]\n"
          ]
        }
      ],
      "source": [
        "print(classifier.predict(xtest))"
      ]
    },
    {
      "cell_type": "code",
      "execution_count": 137,
      "metadata": {
        "colab": {
          "base_uri": "https://localhost:8080/"
        },
        "id": "iH-8-qw60DE4",
        "outputId": "51042920-9159-4046-ce90-0bb77e6f2a5f"
      },
      "outputs": [
        {
          "output_type": "stream",
          "name": "stdout",
          "text": [
            "Accuracy of SVM on test set: 0.9627\n"
          ]
        }
      ],
      "source": [
        "print('Accuracy of SVM on test set: {:.4f}'.format(classifier.score(xtest, ytest)))"
      ]
    },
    {
      "cell_type": "code",
      "source": [
        "print(classification_report(ytest, svcYpred,digits=4))"
      ],
      "metadata": {
        "colab": {
          "base_uri": "https://localhost:8080/"
        },
        "id": "q9n1FK5uwJ48",
        "outputId": "0b159762-656f-4940-c99c-f7635722b084"
      },
      "execution_count": 138,
      "outputs": [
        {
          "output_type": "stream",
          "name": "stdout",
          "text": [
            "              precision    recall  f1-score   support\n",
            "\n",
            "           0     0.9622    0.9622    0.9622       688\n",
            "           1     0.9632    0.9632    0.9632       707\n",
            "\n",
            "    accuracy                         0.9627      1395\n",
            "   macro avg     0.9627    0.9627    0.9627      1395\n",
            "weighted avg     0.9627    0.9627    0.9627      1395\n",
            "\n"
          ]
        }
      ]
    },
    {
      "cell_type": "markdown",
      "source": [
        "# Decision Tree"
      ],
      "metadata": {
        "id": "NUuPWvqiKUEG"
      }
    },
    {
      "cell_type": "code",
      "source": [
        "from sklearn import tree"
      ],
      "metadata": {
        "id": "s9Ci6BncwNeX"
      },
      "execution_count": 139,
      "outputs": []
    },
    {
      "cell_type": "code",
      "source": [
        "clf = tree.DecisionTreeClassifier(random_state=17)\n",
        "clf = clf.fit(xtrain, ytrain)\n",
        "y_pred = clf.predict(xtest)\n",
        "print(classification_report(ytest, y_pred))\n",
        "print('\\nDecision Tree Classifier Accuracy: {0:.4f}'.format(accuracy_score(ytest, y_pred)))"
      ],
      "metadata": {
        "colab": {
          "base_uri": "https://localhost:8080/"
        },
        "id": "Hx0ihZQoJTte",
        "outputId": "30ff1453-e470-4fa6-f902-f26bf609cd2c"
      },
      "execution_count": 140,
      "outputs": [
        {
          "output_type": "stream",
          "name": "stdout",
          "text": [
            "              precision    recall  f1-score   support\n",
            "\n",
            "           0       0.90      0.89      0.89       688\n",
            "           1       0.89      0.90      0.90       707\n",
            "\n",
            "    accuracy                           0.90      1395\n",
            "   macro avg       0.90      0.90      0.90      1395\n",
            "weighted avg       0.90      0.90      0.90      1395\n",
            "\n",
            "\n",
            "Decision Tree Classifier Accuracy: 0.8968\n"
          ]
        }
      ]
    },
    {
      "cell_type": "markdown",
      "source": [
        "#AdaBoost"
      ],
      "metadata": {
        "id": "GigBGzCHKhGB"
      }
    },
    {
      "cell_type": "markdown",
      "source": [],
      "metadata": {
        "id": "YN_sapucL-Je"
      }
    },
    {
      "cell_type": "code",
      "source": [
        "from sklearn.ensemble import AdaBoostClassifier\n",
        "from sklearn.tree import DecisionTreeClassifier\n"
      ],
      "metadata": {
        "id": "9VFcLt6wLPP1"
      },
      "execution_count": 141,
      "outputs": []
    },
    {
      "cell_type": "code",
      "source": [
        "adaclassifier = AdaBoostClassifier(base_estimator=DecisionTreeClassifier(),n_estimators=100)\n",
        "\n",
        "adaclassifier.fit(xtrain,ytrain)"
      ],
      "metadata": {
        "colab": {
          "base_uri": "https://localhost:8080/"
        },
        "id": "L3B4CPfkKXKc",
        "outputId": "700f3275-2d0f-4662-f0bd-0d9456364d94"
      },
      "execution_count": 142,
      "outputs": [
        {
          "output_type": "execute_result",
          "data": {
            "text/plain": [
              "AdaBoostClassifier(base_estimator=DecisionTreeClassifier(), n_estimators=100)"
            ]
          },
          "metadata": {},
          "execution_count": 142
        }
      ]
    },
    {
      "cell_type": "code",
      "source": [
        "aday_pred = adaclassifier.predict(xtest)"
      ],
      "metadata": {
        "id": "6C1hVq8-LVsm"
      },
      "execution_count": 143,
      "outputs": []
    },
    {
      "cell_type": "code",
      "source": [
        "print(classification_report(ytest, aday_pred, digits=4))\n",
        "print('\\nAdaboost classifier Accuracy: {0:.4f}'.format(accuracy_score(ytest, aday_pred)))"
      ],
      "metadata": {
        "colab": {
          "base_uri": "https://localhost:8080/"
        },
        "id": "GE7chWeOLgXN",
        "outputId": "ef94febb-3613-4ce7-e317-82ac55cfc3ff"
      },
      "execution_count": 144,
      "outputs": [
        {
          "output_type": "stream",
          "name": "stdout",
          "text": [
            "              precision    recall  f1-score   support\n",
            "\n",
            "           0     0.8803    0.8765    0.8784       688\n",
            "           1     0.8803    0.8840    0.8821       707\n",
            "\n",
            "    accuracy                         0.8803      1395\n",
            "   macro avg     0.8803    0.8802    0.8803      1395\n",
            "weighted avg     0.8803    0.8803    0.8803      1395\n",
            "\n",
            "\n",
            "Adaboost classifier Accuracy: 0.8803\n"
          ]
        }
      ]
    },
    {
      "cell_type": "code",
      "source": [],
      "metadata": {
        "id": "lmi_JdWNLk2_"
      },
      "execution_count": 144,
      "outputs": []
    }
  ],
  "metadata": {
    "colab": {
      "collapsed_sections": [],
      "provenance": [],
      "authorship_tag": "ABX9TyNQ/Ph4RkdHWPe21xvFtiMS",
      "include_colab_link": true
    },
    "kernelspec": {
      "display_name": "Python 3",
      "name": "python3"
    },
    "language_info": {
      "name": "python"
    },
    "accelerator": "GPU",
    "gpuClass": "standard"
  },
  "nbformat": 4,
  "nbformat_minor": 0
}