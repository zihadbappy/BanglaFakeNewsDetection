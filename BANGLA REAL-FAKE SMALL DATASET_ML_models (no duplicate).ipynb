{
  "cells": [
    {
      "cell_type": "markdown",
      "metadata": {
        "id": "view-in-github",
        "colab_type": "text"
      },
      "source": [
        "<a href=\"https://colab.research.google.com/github/zihadbappy/bnfake/blob/main/Md_Gulzar_ML_models_final.ipynb\" target=\"_parent\"><img src=\"https://colab.research.google.com/assets/colab-badge.svg\" alt=\"Open In Colab\"/></a>"
      ]
    },
    {
      "cell_type": "code",
      "execution_count": 109,
      "metadata": {
        "colab": {
          "base_uri": "https://localhost:8080/"
        },
        "id": "dqouiht43nmf",
        "outputId": "fa12e349-af85-44ef-ab93-84f088020fb0"
      },
      "outputs": [
        {
          "output_type": "stream",
          "name": "stdout",
          "text": [
            "fatal: destination path 'FakeDatasets' already exists and is not an empty directory.\n"
          ]
        }
      ],
      "source": [
        "!git clone https://github.com/zihadbappy/FakeDatasets.git"
      ]
    },
    {
      "cell_type": "code",
      "source": [
        "import pandas as pd\n",
        "Dataset= pd.read_excel('/content/FakeDatasets/FinalData1.xlsx')"
      ],
      "metadata": {
        "id": "6HGY-eg4h8bD"
      },
      "execution_count": 110,
      "outputs": []
    },
    {
      "cell_type": "code",
      "source": [
        "df= Dataset.filter(['Title','Statement', 'Class'], axis=1)\n",
        "df.loc[(df.Class=='Real'),'Class']=1\n",
        "df.loc[(df.Class=='Fake'),'Class']=0\n",
        "df['Class']=df['Class'].astype('int')\n",
        "df['Class'].dtypes"
      ],
      "metadata": {
        "colab": {
          "base_uri": "https://localhost:8080/"
        },
        "id": "f7rJpwJQh8X8",
        "outputId": "6891633a-419f-4251-bae8-d4032150df65"
      },
      "execution_count": 111,
      "outputs": [
        {
          "output_type": "execute_result",
          "data": {
            "text/plain": [
              "dtype('int64')"
            ]
          },
          "metadata": {},
          "execution_count": 111
        }
      ]
    },
    {
      "cell_type": "code",
      "source": [
        "df.columns=['headline', 'content', 'label']\n",
        "df.groupby('label').agg('count')"
      ],
      "metadata": {
        "colab": {
          "base_uri": "https://localhost:8080/",
          "height": 143
        },
        "id": "xQJDAGNnh8U4",
        "outputId": "e9c10e53-35e9-46c9-bb65-e3d3103bef29"
      },
      "execution_count": 112,
      "outputs": [
        {
          "output_type": "execute_result",
          "data": {
            "text/plain": [
              "       headline  content\n",
              "label                   \n",
              "0           993      993\n",
              "1          1548     1548"
            ],
            "text/html": [
              "\n",
              "  <div id=\"df-75aa0da5-d20f-4ca9-a237-61a00ab451a7\">\n",
              "    <div class=\"colab-df-container\">\n",
              "      <div>\n",
              "<style scoped>\n",
              "    .dataframe tbody tr th:only-of-type {\n",
              "        vertical-align: middle;\n",
              "    }\n",
              "\n",
              "    .dataframe tbody tr th {\n",
              "        vertical-align: top;\n",
              "    }\n",
              "\n",
              "    .dataframe thead th {\n",
              "        text-align: right;\n",
              "    }\n",
              "</style>\n",
              "<table border=\"1\" class=\"dataframe\">\n",
              "  <thead>\n",
              "    <tr style=\"text-align: right;\">\n",
              "      <th></th>\n",
              "      <th>headline</th>\n",
              "      <th>content</th>\n",
              "    </tr>\n",
              "    <tr>\n",
              "      <th>label</th>\n",
              "      <th></th>\n",
              "      <th></th>\n",
              "    </tr>\n",
              "  </thead>\n",
              "  <tbody>\n",
              "    <tr>\n",
              "      <th>0</th>\n",
              "      <td>993</td>\n",
              "      <td>993</td>\n",
              "    </tr>\n",
              "    <tr>\n",
              "      <th>1</th>\n",
              "      <td>1548</td>\n",
              "      <td>1548</td>\n",
              "    </tr>\n",
              "  </tbody>\n",
              "</table>\n",
              "</div>\n",
              "      <button class=\"colab-df-convert\" onclick=\"convertToInteractive('df-75aa0da5-d20f-4ca9-a237-61a00ab451a7')\"\n",
              "              title=\"Convert this dataframe to an interactive table.\"\n",
              "              style=\"display:none;\">\n",
              "        \n",
              "  <svg xmlns=\"http://www.w3.org/2000/svg\" height=\"24px\"viewBox=\"0 0 24 24\"\n",
              "       width=\"24px\">\n",
              "    <path d=\"M0 0h24v24H0V0z\" fill=\"none\"/>\n",
              "    <path d=\"M18.56 5.44l.94 2.06.94-2.06 2.06-.94-2.06-.94-.94-2.06-.94 2.06-2.06.94zm-11 1L8.5 8.5l.94-2.06 2.06-.94-2.06-.94L8.5 2.5l-.94 2.06-2.06.94zm10 10l.94 2.06.94-2.06 2.06-.94-2.06-.94-.94-2.06-.94 2.06-2.06.94z\"/><path d=\"M17.41 7.96l-1.37-1.37c-.4-.4-.92-.59-1.43-.59-.52 0-1.04.2-1.43.59L10.3 9.45l-7.72 7.72c-.78.78-.78 2.05 0 2.83L4 21.41c.39.39.9.59 1.41.59.51 0 1.02-.2 1.41-.59l7.78-7.78 2.81-2.81c.8-.78.8-2.07 0-2.86zM5.41 20L4 18.59l7.72-7.72 1.47 1.35L5.41 20z\"/>\n",
              "  </svg>\n",
              "      </button>\n",
              "      \n",
              "  <style>\n",
              "    .colab-df-container {\n",
              "      display:flex;\n",
              "      flex-wrap:wrap;\n",
              "      gap: 12px;\n",
              "    }\n",
              "\n",
              "    .colab-df-convert {\n",
              "      background-color: #E8F0FE;\n",
              "      border: none;\n",
              "      border-radius: 50%;\n",
              "      cursor: pointer;\n",
              "      display: none;\n",
              "      fill: #1967D2;\n",
              "      height: 32px;\n",
              "      padding: 0 0 0 0;\n",
              "      width: 32px;\n",
              "    }\n",
              "\n",
              "    .colab-df-convert:hover {\n",
              "      background-color: #E2EBFA;\n",
              "      box-shadow: 0px 1px 2px rgba(60, 64, 67, 0.3), 0px 1px 3px 1px rgba(60, 64, 67, 0.15);\n",
              "      fill: #174EA6;\n",
              "    }\n",
              "\n",
              "    [theme=dark] .colab-df-convert {\n",
              "      background-color: #3B4455;\n",
              "      fill: #D2E3FC;\n",
              "    }\n",
              "\n",
              "    [theme=dark] .colab-df-convert:hover {\n",
              "      background-color: #434B5C;\n",
              "      box-shadow: 0px 1px 3px 1px rgba(0, 0, 0, 0.15);\n",
              "      filter: drop-shadow(0px 1px 2px rgba(0, 0, 0, 0.3));\n",
              "      fill: #FFFFFF;\n",
              "    }\n",
              "  </style>\n",
              "\n",
              "      <script>\n",
              "        const buttonEl =\n",
              "          document.querySelector('#df-75aa0da5-d20f-4ca9-a237-61a00ab451a7 button.colab-df-convert');\n",
              "        buttonEl.style.display =\n",
              "          google.colab.kernel.accessAllowed ? 'block' : 'none';\n",
              "\n",
              "        async function convertToInteractive(key) {\n",
              "          const element = document.querySelector('#df-75aa0da5-d20f-4ca9-a237-61a00ab451a7');\n",
              "          const dataTable =\n",
              "            await google.colab.kernel.invokeFunction('convertToInteractive',\n",
              "                                                     [key], {});\n",
              "          if (!dataTable) return;\n",
              "\n",
              "          const docLinkHtml = 'Like what you see? Visit the ' +\n",
              "            '<a target=\"_blank\" href=https://colab.research.google.com/notebooks/data_table.ipynb>data table notebook</a>'\n",
              "            + ' to learn more about interactive tables.';\n",
              "          element.innerHTML = '';\n",
              "          dataTable['output_type'] = 'display_data';\n",
              "          await google.colab.output.renderOutput(dataTable, element);\n",
              "          const docLink = document.createElement('div');\n",
              "          docLink.innerHTML = docLinkHtml;\n",
              "          element.appendChild(docLink);\n",
              "        }\n",
              "      </script>\n",
              "    </div>\n",
              "  </div>\n",
              "  "
            ]
          },
          "metadata": {},
          "execution_count": 112
        }
      ]
    },
    {
      "cell_type": "code",
      "source": [
        "df = df.drop_duplicates(subset='headline', keep=\"first\")\n",
        "df.groupby('label').agg('count')"
      ],
      "metadata": {
        "colab": {
          "base_uri": "https://localhost:8080/",
          "height": 143
        },
        "id": "UQjpxQa1h8SJ",
        "outputId": "944abc2c-0c26-4fa2-9774-a25c894acaac"
      },
      "execution_count": 113,
      "outputs": [
        {
          "output_type": "execute_result",
          "data": {
            "text/plain": [
              "       headline  content\n",
              "label                   \n",
              "0           948      948\n",
              "1          1545     1545"
            ],
            "text/html": [
              "\n",
              "  <div id=\"df-e2b39d5d-10cf-4f18-ac52-4f6b878b31b5\">\n",
              "    <div class=\"colab-df-container\">\n",
              "      <div>\n",
              "<style scoped>\n",
              "    .dataframe tbody tr th:only-of-type {\n",
              "        vertical-align: middle;\n",
              "    }\n",
              "\n",
              "    .dataframe tbody tr th {\n",
              "        vertical-align: top;\n",
              "    }\n",
              "\n",
              "    .dataframe thead th {\n",
              "        text-align: right;\n",
              "    }\n",
              "</style>\n",
              "<table border=\"1\" class=\"dataframe\">\n",
              "  <thead>\n",
              "    <tr style=\"text-align: right;\">\n",
              "      <th></th>\n",
              "      <th>headline</th>\n",
              "      <th>content</th>\n",
              "    </tr>\n",
              "    <tr>\n",
              "      <th>label</th>\n",
              "      <th></th>\n",
              "      <th></th>\n",
              "    </tr>\n",
              "  </thead>\n",
              "  <tbody>\n",
              "    <tr>\n",
              "      <th>0</th>\n",
              "      <td>948</td>\n",
              "      <td>948</td>\n",
              "    </tr>\n",
              "    <tr>\n",
              "      <th>1</th>\n",
              "      <td>1545</td>\n",
              "      <td>1545</td>\n",
              "    </tr>\n",
              "  </tbody>\n",
              "</table>\n",
              "</div>\n",
              "      <button class=\"colab-df-convert\" onclick=\"convertToInteractive('df-e2b39d5d-10cf-4f18-ac52-4f6b878b31b5')\"\n",
              "              title=\"Convert this dataframe to an interactive table.\"\n",
              "              style=\"display:none;\">\n",
              "        \n",
              "  <svg xmlns=\"http://www.w3.org/2000/svg\" height=\"24px\"viewBox=\"0 0 24 24\"\n",
              "       width=\"24px\">\n",
              "    <path d=\"M0 0h24v24H0V0z\" fill=\"none\"/>\n",
              "    <path d=\"M18.56 5.44l.94 2.06.94-2.06 2.06-.94-2.06-.94-.94-2.06-.94 2.06-2.06.94zm-11 1L8.5 8.5l.94-2.06 2.06-.94-2.06-.94L8.5 2.5l-.94 2.06-2.06.94zm10 10l.94 2.06.94-2.06 2.06-.94-2.06-.94-.94-2.06-.94 2.06-2.06.94z\"/><path d=\"M17.41 7.96l-1.37-1.37c-.4-.4-.92-.59-1.43-.59-.52 0-1.04.2-1.43.59L10.3 9.45l-7.72 7.72c-.78.78-.78 2.05 0 2.83L4 21.41c.39.39.9.59 1.41.59.51 0 1.02-.2 1.41-.59l7.78-7.78 2.81-2.81c.8-.78.8-2.07 0-2.86zM5.41 20L4 18.59l7.72-7.72 1.47 1.35L5.41 20z\"/>\n",
              "  </svg>\n",
              "      </button>\n",
              "      \n",
              "  <style>\n",
              "    .colab-df-container {\n",
              "      display:flex;\n",
              "      flex-wrap:wrap;\n",
              "      gap: 12px;\n",
              "    }\n",
              "\n",
              "    .colab-df-convert {\n",
              "      background-color: #E8F0FE;\n",
              "      border: none;\n",
              "      border-radius: 50%;\n",
              "      cursor: pointer;\n",
              "      display: none;\n",
              "      fill: #1967D2;\n",
              "      height: 32px;\n",
              "      padding: 0 0 0 0;\n",
              "      width: 32px;\n",
              "    }\n",
              "\n",
              "    .colab-df-convert:hover {\n",
              "      background-color: #E2EBFA;\n",
              "      box-shadow: 0px 1px 2px rgba(60, 64, 67, 0.3), 0px 1px 3px 1px rgba(60, 64, 67, 0.15);\n",
              "      fill: #174EA6;\n",
              "    }\n",
              "\n",
              "    [theme=dark] .colab-df-convert {\n",
              "      background-color: #3B4455;\n",
              "      fill: #D2E3FC;\n",
              "    }\n",
              "\n",
              "    [theme=dark] .colab-df-convert:hover {\n",
              "      background-color: #434B5C;\n",
              "      box-shadow: 0px 1px 3px 1px rgba(0, 0, 0, 0.15);\n",
              "      filter: drop-shadow(0px 1px 2px rgba(0, 0, 0, 0.3));\n",
              "      fill: #FFFFFF;\n",
              "    }\n",
              "  </style>\n",
              "\n",
              "      <script>\n",
              "        const buttonEl =\n",
              "          document.querySelector('#df-e2b39d5d-10cf-4f18-ac52-4f6b878b31b5 button.colab-df-convert');\n",
              "        buttonEl.style.display =\n",
              "          google.colab.kernel.accessAllowed ? 'block' : 'none';\n",
              "\n",
              "        async function convertToInteractive(key) {\n",
              "          const element = document.querySelector('#df-e2b39d5d-10cf-4f18-ac52-4f6b878b31b5');\n",
              "          const dataTable =\n",
              "            await google.colab.kernel.invokeFunction('convertToInteractive',\n",
              "                                                     [key], {});\n",
              "          if (!dataTable) return;\n",
              "\n",
              "          const docLinkHtml = 'Like what you see? Visit the ' +\n",
              "            '<a target=\"_blank\" href=https://colab.research.google.com/notebooks/data_table.ipynb>data table notebook</a>'\n",
              "            + ' to learn more about interactive tables.';\n",
              "          element.innerHTML = '';\n",
              "          dataTable['output_type'] = 'display_data';\n",
              "          await google.colab.output.renderOutput(dataTable, element);\n",
              "          const docLink = document.createElement('div');\n",
              "          docLink.innerHTML = docLinkHtml;\n",
              "          element.appendChild(docLink);\n",
              "        }\n",
              "      </script>\n",
              "    </div>\n",
              "  </div>\n",
              "  "
            ]
          },
          "metadata": {},
          "execution_count": 113
        }
      ]
    },
    {
      "cell_type": "code",
      "source": [
        "df.headline.duplicated().sum()"
      ],
      "metadata": {
        "colab": {
          "base_uri": "https://localhost:8080/"
        },
        "id": "pb3XhzQth8PN",
        "outputId": "dd32d107-a2e4-45f1-9b46-3bdc4f086001"
      },
      "execution_count": 114,
      "outputs": [
        {
          "output_type": "execute_result",
          "data": {
            "text/plain": [
              "0"
            ]
          },
          "metadata": {},
          "execution_count": 114
        }
      ]
    },
    {
      "cell_type": "code",
      "source": [
        "df.groupby('label').agg('count')"
      ],
      "metadata": {
        "colab": {
          "base_uri": "https://localhost:8080/",
          "height": 143
        },
        "id": "Vv6xC1m4h8Mf",
        "outputId": "42733253-4af4-4aa7-b1f6-53b356feb59d"
      },
      "execution_count": 115,
      "outputs": [
        {
          "output_type": "execute_result",
          "data": {
            "text/plain": [
              "       headline  content\n",
              "label                   \n",
              "0           948      948\n",
              "1          1545     1545"
            ],
            "text/html": [
              "\n",
              "  <div id=\"df-d5b18654-a528-482c-afd9-792c37eddc8d\">\n",
              "    <div class=\"colab-df-container\">\n",
              "      <div>\n",
              "<style scoped>\n",
              "    .dataframe tbody tr th:only-of-type {\n",
              "        vertical-align: middle;\n",
              "    }\n",
              "\n",
              "    .dataframe tbody tr th {\n",
              "        vertical-align: top;\n",
              "    }\n",
              "\n",
              "    .dataframe thead th {\n",
              "        text-align: right;\n",
              "    }\n",
              "</style>\n",
              "<table border=\"1\" class=\"dataframe\">\n",
              "  <thead>\n",
              "    <tr style=\"text-align: right;\">\n",
              "      <th></th>\n",
              "      <th>headline</th>\n",
              "      <th>content</th>\n",
              "    </tr>\n",
              "    <tr>\n",
              "      <th>label</th>\n",
              "      <th></th>\n",
              "      <th></th>\n",
              "    </tr>\n",
              "  </thead>\n",
              "  <tbody>\n",
              "    <tr>\n",
              "      <th>0</th>\n",
              "      <td>948</td>\n",
              "      <td>948</td>\n",
              "    </tr>\n",
              "    <tr>\n",
              "      <th>1</th>\n",
              "      <td>1545</td>\n",
              "      <td>1545</td>\n",
              "    </tr>\n",
              "  </tbody>\n",
              "</table>\n",
              "</div>\n",
              "      <button class=\"colab-df-convert\" onclick=\"convertToInteractive('df-d5b18654-a528-482c-afd9-792c37eddc8d')\"\n",
              "              title=\"Convert this dataframe to an interactive table.\"\n",
              "              style=\"display:none;\">\n",
              "        \n",
              "  <svg xmlns=\"http://www.w3.org/2000/svg\" height=\"24px\"viewBox=\"0 0 24 24\"\n",
              "       width=\"24px\">\n",
              "    <path d=\"M0 0h24v24H0V0z\" fill=\"none\"/>\n",
              "    <path d=\"M18.56 5.44l.94 2.06.94-2.06 2.06-.94-2.06-.94-.94-2.06-.94 2.06-2.06.94zm-11 1L8.5 8.5l.94-2.06 2.06-.94-2.06-.94L8.5 2.5l-.94 2.06-2.06.94zm10 10l.94 2.06.94-2.06 2.06-.94-2.06-.94-.94-2.06-.94 2.06-2.06.94z\"/><path d=\"M17.41 7.96l-1.37-1.37c-.4-.4-.92-.59-1.43-.59-.52 0-1.04.2-1.43.59L10.3 9.45l-7.72 7.72c-.78.78-.78 2.05 0 2.83L4 21.41c.39.39.9.59 1.41.59.51 0 1.02-.2 1.41-.59l7.78-7.78 2.81-2.81c.8-.78.8-2.07 0-2.86zM5.41 20L4 18.59l7.72-7.72 1.47 1.35L5.41 20z\"/>\n",
              "  </svg>\n",
              "      </button>\n",
              "      \n",
              "  <style>\n",
              "    .colab-df-container {\n",
              "      display:flex;\n",
              "      flex-wrap:wrap;\n",
              "      gap: 12px;\n",
              "    }\n",
              "\n",
              "    .colab-df-convert {\n",
              "      background-color: #E8F0FE;\n",
              "      border: none;\n",
              "      border-radius: 50%;\n",
              "      cursor: pointer;\n",
              "      display: none;\n",
              "      fill: #1967D2;\n",
              "      height: 32px;\n",
              "      padding: 0 0 0 0;\n",
              "      width: 32px;\n",
              "    }\n",
              "\n",
              "    .colab-df-convert:hover {\n",
              "      background-color: #E2EBFA;\n",
              "      box-shadow: 0px 1px 2px rgba(60, 64, 67, 0.3), 0px 1px 3px 1px rgba(60, 64, 67, 0.15);\n",
              "      fill: #174EA6;\n",
              "    }\n",
              "\n",
              "    [theme=dark] .colab-df-convert {\n",
              "      background-color: #3B4455;\n",
              "      fill: #D2E3FC;\n",
              "    }\n",
              "\n",
              "    [theme=dark] .colab-df-convert:hover {\n",
              "      background-color: #434B5C;\n",
              "      box-shadow: 0px 1px 3px 1px rgba(0, 0, 0, 0.15);\n",
              "      filter: drop-shadow(0px 1px 2px rgba(0, 0, 0, 0.3));\n",
              "      fill: #FFFFFF;\n",
              "    }\n",
              "  </style>\n",
              "\n",
              "      <script>\n",
              "        const buttonEl =\n",
              "          document.querySelector('#df-d5b18654-a528-482c-afd9-792c37eddc8d button.colab-df-convert');\n",
              "        buttonEl.style.display =\n",
              "          google.colab.kernel.accessAllowed ? 'block' : 'none';\n",
              "\n",
              "        async function convertToInteractive(key) {\n",
              "          const element = document.querySelector('#df-d5b18654-a528-482c-afd9-792c37eddc8d');\n",
              "          const dataTable =\n",
              "            await google.colab.kernel.invokeFunction('convertToInteractive',\n",
              "                                                     [key], {});\n",
              "          if (!dataTable) return;\n",
              "\n",
              "          const docLinkHtml = 'Like what you see? Visit the ' +\n",
              "            '<a target=\"_blank\" href=https://colab.research.google.com/notebooks/data_table.ipynb>data table notebook</a>'\n",
              "            + ' to learn more about interactive tables.';\n",
              "          element.innerHTML = '';\n",
              "          dataTable['output_type'] = 'display_data';\n",
              "          await google.colab.output.renderOutput(dataTable, element);\n",
              "          const docLink = document.createElement('div');\n",
              "          docLink.innerHTML = docLinkHtml;\n",
              "          element.appendChild(docLink);\n",
              "        }\n",
              "      </script>\n",
              "    </div>\n",
              "  </div>\n",
              "  "
            ]
          },
          "metadata": {},
          "execution_count": 115
        }
      ]
    },
    {
      "cell_type": "code",
      "source": [
        "import re\n",
        "from re import sub\n",
        "def text_to_word_list(text):\n",
        "    text = text.split()\n",
        "    return text\n",
        "\n",
        "def replace_strings(text):\n",
        "    emoji_pattern = re.compile(\"[\"\n",
        "                           u\"\\U0001F600-\\U0001F64F\"  # emoticons\n",
        "                           u\"\\U0001F300-\\U0001F5FF\"  # symbols & pictographs\n",
        "                           u\"\\U0001F680-\\U0001F6FF\"  # transport & map symbols\n",
        "                           u\"\\U0001F1E0-\\U0001F1FF\"  # flags (iOS)\n",
        "                           u\"\\U00002702-\\U000027B0\"\n",
        "                           u\"\\U000024C2-\\U0001F251\"\n",
        "                           u\"\\u00C0-\\u017F\"          #latin\n",
        "                           u\"\\u2000-\\u206F\"          #generalPunctuations\n",
        "                               \n",
        "                           \"]+\", flags=re.UNICODE)\n",
        "    english_pattern=re.compile('[a-zA-Z0-9]+', flags=re.I)\n",
        "    #latin_pattern=re.compile('[A-Za-z\\u00C0-\\u00D6\\u00D8-\\u00f6\\u00f8-\\u00ff\\s]*',)\n",
        "    \n",
        "    text=emoji_pattern.sub(r'', text)\n",
        "    text=english_pattern.sub(r'', text)\n",
        "\n",
        "    return text\n",
        "\n",
        "def remove_punctuations(my_str):\n",
        "    # define punctuation\n",
        "    punctuations = '''````£|¢|Ñ+-*/=EROero৳০১২৩৪৫৬৭৮৯012–34567•89।!()-[]{};:'\"“\\’,<>./?@#$%^&*_~‘—॥”‰🤣⚽️✌�￰৷￰'''\n",
        "    \n",
        "    no_punct = \"\"\n",
        "    for char in my_str:\n",
        "        if char not in punctuations:\n",
        "            no_punct = no_punct + char\n",
        "\n",
        "    # display the unpunctuated string\n",
        "    return no_punct\n",
        "\n",
        "\n",
        "\n",
        "def joining(text):\n",
        "    out=' '.join(text)\n",
        "    return out\n",
        "\n",
        "def preprocessing(text):\n",
        "    out=remove_punctuations(replace_strings(text))\n",
        "    return out\n",
        "df['headline'] = df.headline.apply(lambda x: preprocessing(str(x)))\n",
        "df['content'] = df.content.apply(lambda x: preprocessing(str(x)))"
      ],
      "metadata": {
        "id": "6EmWWuXCh8Jl"
      },
      "execution_count": 116,
      "outputs": []
    },
    {
      "cell_type": "code",
      "source": [
        "df['content'] = df['content'].str.replace(r'\\n', ' ')"
      ],
      "metadata": {
        "colab": {
          "base_uri": "https://localhost:8080/"
        },
        "id": "lSW2MufJh8G9",
        "outputId": "b568eedd-1888-4d06-a22d-aa4fc3432d13"
      },
      "execution_count": 117,
      "outputs": [
        {
          "output_type": "stream",
          "name": "stderr",
          "text": [
            "/usr/local/lib/python3.7/dist-packages/ipykernel_launcher.py:1: FutureWarning: The default value of regex will change from True to False in a future version.\n",
            "  \"\"\"Entry point for launching an IPython kernel.\n"
          ]
        }
      ]
    },
    {
      "cell_type": "code",
      "source": [
        "df = df.reset_index(drop=True)\n"
      ],
      "metadata": {
        "id": "dpn6BEJSh8Eu"
      },
      "execution_count": 118,
      "outputs": []
    },
    {
      "cell_type": "code",
      "source": [
        "pip install bnlp_toolkit\n"
      ],
      "metadata": {
        "colab": {
          "base_uri": "https://localhost:8080/"
        },
        "id": "4kWT-iZch8Bp",
        "outputId": "0ad427e3-ce2e-4ef0-8407-fc8f4772fec5"
      },
      "execution_count": 119,
      "outputs": [
        {
          "output_type": "stream",
          "name": "stdout",
          "text": [
            "Looking in indexes: https://pypi.org/simple, https://us-python.pkg.dev/colab-wheels/public/simple/\n",
            "Requirement already satisfied: bnlp_toolkit in /usr/local/lib/python3.7/dist-packages (3.1.2)\n",
            "Requirement already satisfied: scipy in /usr/local/lib/python3.7/dist-packages (from bnlp_toolkit) (1.7.3)\n",
            "Requirement already satisfied: gensim==4.0.1 in /usr/local/lib/python3.7/dist-packages (from bnlp_toolkit) (4.0.1)\n",
            "Requirement already satisfied: sklearn-crfsuite in /usr/local/lib/python3.7/dist-packages (from bnlp_toolkit) (0.3.6)\n",
            "Requirement already satisfied: wasabi in /usr/local/lib/python3.7/dist-packages (from bnlp_toolkit) (0.10.1)\n",
            "Requirement already satisfied: numpy in /usr/local/lib/python3.7/dist-packages (from bnlp_toolkit) (1.21.6)\n",
            "Requirement already satisfied: sentencepiece in /usr/local/lib/python3.7/dist-packages (from bnlp_toolkit) (0.1.97)\n",
            "Requirement already satisfied: nltk in /usr/local/lib/python3.7/dist-packages (from bnlp_toolkit) (3.7)\n",
            "Requirement already satisfied: smart-open>=1.8.1 in /usr/local/lib/python3.7/dist-packages (from gensim==4.0.1->bnlp_toolkit) (5.2.1)\n",
            "Requirement already satisfied: regex>=2021.8.3 in /usr/local/lib/python3.7/dist-packages (from nltk->bnlp_toolkit) (2022.6.2)\n",
            "Requirement already satisfied: click in /usr/local/lib/python3.7/dist-packages (from nltk->bnlp_toolkit) (7.1.2)\n",
            "Requirement already satisfied: joblib in /usr/local/lib/python3.7/dist-packages (from nltk->bnlp_toolkit) (1.1.0)\n",
            "Requirement already satisfied: tqdm in /usr/local/lib/python3.7/dist-packages (from nltk->bnlp_toolkit) (4.64.0)\n",
            "Requirement already satisfied: six in /usr/local/lib/python3.7/dist-packages (from sklearn-crfsuite->bnlp_toolkit) (1.15.0)\n",
            "Requirement already satisfied: tabulate in /usr/local/lib/python3.7/dist-packages (from sklearn-crfsuite->bnlp_toolkit) (0.8.10)\n",
            "Requirement already satisfied: python-crfsuite>=0.8.3 in /usr/local/lib/python3.7/dist-packages (from sklearn-crfsuite->bnlp_toolkit) (0.9.8)\n"
          ]
        }
      ]
    },
    {
      "cell_type": "code",
      "source": [
        "from bnlp import BasicTokenizer\n",
        "from bnlp.corpus import stopwords, punctuations, letters, digits\n",
        "\n",
        "btokenizer = BasicTokenizer()\n",
        "\n",
        "word_list= []\n",
        "def clean_text(text):\n",
        "    tokens = btokenizer.tokenize(text)\n",
        "    filtered = []\n",
        "    for i in tokens:\n",
        "        if i in stopwords:\n",
        "            continue\n",
        "    \n",
        "        if i in punctuations + '‘' + '’':\n",
        "            continue\n",
        "    \n",
        "        filtered.append(i)\n",
        "        word_list.append(i)\n",
        "    return \" \".join(filtered)\n",
        "\n",
        "# print(\"********** Before ***************\")\n",
        "# text = df.iloc[1]['content']\n",
        "# print(text)\n",
        "# print(\"\\n********** After ***************\")\n",
        "# print(clean_text(text))\n",
        "df['content'] = df.content.apply(clean_text)"
      ],
      "metadata": {
        "id": "gbqY_bFOh7-_"
      },
      "execution_count": 120,
      "outputs": []
    },
    {
      "cell_type": "code",
      "source": [
        "# print(len(set(word_list))\n",
        "uniq=set(word_list)"
      ],
      "metadata": {
        "id": "oRmEsbugh78D"
      },
      "execution_count": 121,
      "outputs": []
    },
    {
      "cell_type": "code",
      "source": [
        "X=df.content\n",
        "Y=df.label"
      ],
      "metadata": {
        "id": "8SKqVukGh75B"
      },
      "execution_count": 122,
      "outputs": []
    },
    {
      "cell_type": "code",
      "execution_count": 123,
      "metadata": {
        "id": "mvXvJ8TTBJiV"
      },
      "outputs": [],
      "source": [
        "from sklearn.feature_extraction.text import CountVectorizer"
      ]
    },
    {
      "cell_type": "code",
      "execution_count": 124,
      "metadata": {
        "colab": {
          "base_uri": "https://localhost:8080/"
        },
        "id": "EzQO2NqMTrTk",
        "outputId": "feaac83a-8dad-41b4-b6a7-db50d4684a3f"
      },
      "outputs": [
        {
          "output_type": "stream",
          "name": "stderr",
          "text": [
            "/usr/local/lib/python3.7/dist-packages/sklearn/feature_extraction/text.py:517: UserWarning: The parameter 'token_pattern' will not be used since 'tokenizer' is not None'\n",
            "  \"The parameter 'token_pattern' will not be used\"\n"
          ]
        },
        {
          "output_type": "execute_result",
          "data": {
            "text/plain": [
              "CountVectorizer(tokenizer=<function <lambda> at 0x7fea78c6fe60>)"
            ]
          },
          "metadata": {},
          "execution_count": 124
        }
      ],
      "source": [
        "bow_transformer = CountVectorizer(tokenizer=lambda x: x.split())\n",
        "bow_transformer.fit(uniq)"
      ]
    },
    {
      "cell_type": "code",
      "execution_count": 125,
      "metadata": {
        "id": "L_v-_W93XfbA"
      },
      "outputs": [],
      "source": [
        "# print(bow_transformer.vocabulary_.iloc[:10])\n",
        "# for value in bow_transformer.vocabulary_:\n",
        "#   print(value)"
      ]
    },
    {
      "cell_type": "code",
      "execution_count": 126,
      "metadata": {
        "colab": {
          "base_uri": "https://localhost:8080/"
        },
        "id": "9_nbpj9YchQN",
        "outputId": "be042ca0-1f06-42fd-b06b-d0558cef1a6b"
      },
      "outputs": [
        {
          "output_type": "stream",
          "name": "stdout",
          "text": [
            "বাইরে বেরোচ্ছি কিছুদিন ভালো বেরোতে পারছি করোনা নামের এক অদ্ভুত অচেনা শত্রু আকস্মিকভাবে ঢুকে পড়েছে জীবনে যুদ্ধ হয়ে বিশ্বজুড়ে অসম যুদ্ধ শত্রুপক্ষ মারাত্মক শক্তিশালী চিনি পাশাপাশি যুদ্ধের বাস্তবতায় শব্দ ঢুকে পড়ছে নিত্যদিনের অভিধানেকরোনা কোয়ারেন্টিন আইসোলেশন সোশ্যাল ডিসট্যান্সিং লকডাউন যেসব শব্দ শুনিওনি সেগুলো দখল নিয়েছে শব্দই শব্দসংশ্লিষ্ট ঘটনার অভিজ্ঞতাও অভূতপূর্ব অভিজ্ঞতা বাংলাদেশেও লকডাউন হওয়ার শব্দটি দিনগুলোও হয়ে কোথাও শব্দ কোলাহল নীরবনির্জন হয়ে সবকিছু জানালা দিয়ে ব্যালকনি দূর যায় দেখি জনমানুষের চিহ্ন কোথাও যানবাহনের শব্দ ফেরিওয়ালার হাঁক মানুষের হাসি এক মৃত নগরী এক জনমানবহীন শহরের স্থির চিত্র বহুকাল এখান মানুষের পদচারণা শেষ হয়ে কেবল ভরদুপুরেও একটা কুকুরের করুণ কান্নার শব্দ শুনে ভেবেছি কোথাও অকল্যাণের আভাস পেয়েছে মা বলতেন যুদ্ধের সময় দুর্ভিক্ষের সময় কুকুর এভাবে কাঁদত দেখছি পোষা বেড়ালটি কিনা পরিবারের সবচেয়ে দুরন্ত সদস্য সারাক্ষণ দুষ্টুমিতে খেলাধুলায় ব্যতিব্যস্ত রাখে ঝিম মেরে শুয়ে থাকছে মন খারাপ সেও পেয়ে মানুষের দুঃসময়ের বার্তা শহরেই কাটল পুরোটা জীবন কখনো দেখিনি কথা একটা ভাইরাসের দাপটে বন্দী হয়ে পড়ল মানুষ বিশ্ব স্বাস্থ্য সংস্থার নির্দেশনাগুলো মানতে করল অক্ষরে অক্ষরে এগুলোকে কেবলই অস্তিত্ব রক্ষার যুদ্ধ ভাবব অর্থ গত দশকে বিশ্বজুড়ে মানুষের জীবনযাপনে অকল্পনীয় পরিবর্তন এসেছে কথা ভাবুন সবাই ব্যস্ত সবাই দৌড়াচ্ছে সবারই তাড়াযদিও কোথায় পৌঁছাতে চায় সম্বন্ধে পরিষ্কার ধারণা একটা যান্ত্রিক জীবনে অভ্যস্ত হয়ে পড়েছে সবাই জীবনে প্রতিযোগিতা স্বার্থপরতা সরু একটা সিঁড়ি বেয়ে ওপরে উঠতে চাইছে মানুষ ব্যগ্রভাবে জানে কিসের অধীর প্রচেষ্টা সহমর্মিতা কোথাও প্রতিযোগিতার থাকতে থাকতে অবিরাম দৌড়ানোর স্বজনপ্রিয়জনদের তাকানোর সময়ও পাচ্ছে ভুলেই প্রিয়জনের মুখ কোয়ারেন্টিন ঘরে থাকার বাধ্যবাধকতা মানুষকে সুযোগ দিয়েছে স্বজনদের তাকানোর তাকিয়ে দেখছে আহা শিশুটির মুখ মায়াভরা মায়ের মুখটি পবিত্র সঙ্গীর মুখটি প্রেমময় এও ভাবছি করোনাভাইরাস আসলে প্রকৃতিরই পরিকল্পনার অংশ প্রকৃতি অপূর্ব বৈচিত্র্য ভারসাম্য তৈরি করেছিল বিবিধ সৃষ্টি দিয়ে ভয়ংকর আগ্রাসী ভঙ্গিতে ধ্বংস ফেলেছি চেয়েছি প্রকৃতির ওপর আধিপত্য বিস্তার নিয়ন্ত্রণ ইচ্ছেমতো লাগাতে এসব দূষিত করেছি মাটিপানিবাতাসসব তাড়িয়ে দিয়েছি প্রাণীদের বুঝতেই চাইনি গ্রহে মানুষের যতটুকু অধিকার ততটুকুই অধিকার নিসর্গের প্রতিটি প্রাণী বৃক্ষের এমনকি পতঙ্গেরও অবাধ বিচরণের অধিকার বেঁচে থাকার অধিকার এসব বুঝতে চাইনি বলেই মানুষের অপরিণামদর্শী কর্মকাণ্ডে বিরক্ত হয়ে ঘরে বন্দী ব্যবস্থা প্রকৃতি অবসরে মানুষের তৈরি যাবতীয় দূষণগুলো মেরামত নিচ্ছে নিশ্চয়ই বিশ্বজুড়ে বায়ুদূষণ কমছে কমছে জলের দূষণও শব্দদূষণ নেইই আসছে প্রাণপ্রকৃতির স্বাভাবিক রূপ প্রকৃতি আধিপত্য দেখিয়ে দিচ্ছে অবাধ্য মানুষকে বন্দী নিসর্গকে সাজিয়ে নিচ্ছে সাজানো শেষ করোনাকে ফিরিয়ে নেবে মানুষও পাবে মুক্ত জীবনএমন এলোমেলো ভাবনা আসে সঙ্গনিরোধকালে\n"
          ]
        }
      ],
      "source": [
        "news4 = df['content'][3]\n",
        "print(news4)"
      ]
    },
    {
      "cell_type": "code",
      "execution_count": 127,
      "metadata": {
        "id": "3o3j2MVgcpDt"
      },
      "outputs": [],
      "source": [
        "bow4 = bow_transformer.transform([news4])"
      ]
    },
    {
      "cell_type": "code",
      "execution_count": 128,
      "metadata": {
        "colab": {
          "base_uri": "https://localhost:8080/"
        },
        "id": "GfLKrGjBcytr",
        "outputId": "20a896b9-3efb-4045-fce8-c8cd67e136c3"
      },
      "outputs": [
        {
          "output_type": "stream",
          "name": "stdout",
          "text": [
            "295\n"
          ]
        }
      ],
      "source": [
        "print(bow4.nnz)"
      ]
    },
    {
      "cell_type": "code",
      "execution_count": 129,
      "metadata": {
        "colab": {
          "base_uri": "https://localhost:8080/"
        },
        "id": "5G9qHkbtdAL4",
        "outputId": "09cbaf44-cbb2-4c38-beb9-0aa765a3855d"
      },
      "outputs": [
        {
          "output_type": "stream",
          "name": "stdout",
          "text": [
            "(1, 65759)\n"
          ]
        }
      ],
      "source": [
        "print(bow4.shape)"
      ]
    },
    {
      "cell_type": "code",
      "execution_count": 130,
      "metadata": {
        "id": "zqRLVbVQdD1H"
      },
      "outputs": [],
      "source": [
        "# bow_transformer.get_feature_names()"
      ]
    },
    {
      "cell_type": "code",
      "execution_count": 131,
      "metadata": {
        "colab": {
          "base_uri": "https://localhost:8080/",
          "height": 90
        },
        "id": "NTHuAGcB4LIe",
        "outputId": "4951399b-3837-40e7-dc47-74e61a93cb3b"
      },
      "outputs": [
        {
          "output_type": "stream",
          "name": "stderr",
          "text": [
            "/usr/local/lib/python3.7/dist-packages/sklearn/utils/deprecation.py:87: FutureWarning: Function get_feature_names is deprecated; get_feature_names is deprecated in 1.0 and will be removed in 1.2. Please use get_feature_names_out instead.\n",
            "  warnings.warn(msg, category=FutureWarning)\n"
          ]
        },
        {
          "output_type": "execute_result",
          "data": {
            "text/plain": [
              "'চুম্বক'"
            ],
            "application/vnd.google.colaboratory.intrinsic+json": {
              "type": "string"
            }
          },
          "metadata": {},
          "execution_count": 131
        }
      ],
      "source": [
        "bow_transformer.get_feature_names()[20000]"
      ]
    },
    {
      "cell_type": "code",
      "execution_count": 132,
      "metadata": {
        "id": "I4M0bHo7dGD_"
      },
      "outputs": [],
      "source": [
        "news_bow= bow_transformer.transform(df['content'].values.astype('U'))"
      ]
    },
    {
      "cell_type": "code",
      "execution_count": 133,
      "metadata": {
        "colab": {
          "base_uri": "https://localhost:8080/"
        },
        "id": "P0H6-jVsdYz2",
        "outputId": "a5431e34-223d-4eb3-8c35-1a706e06f18d"
      },
      "outputs": [
        {
          "output_type": "stream",
          "name": "stdout",
          "text": [
            "Shape of Sparse Matrix:  (2493, 65759)\n"
          ]
        }
      ],
      "source": [
        "print('Shape of Sparse Matrix: ', news_bow.shape)"
      ]
    },
    {
      "cell_type": "code",
      "execution_count": 134,
      "metadata": {
        "colab": {
          "base_uri": "https://localhost:8080/"
        },
        "id": "IufPKBmydeU6",
        "outputId": "d46d6666-a04e-4891-d3ce-f73cf2e44ffa"
      },
      "outputs": [
        {
          "output_type": "execute_result",
          "data": {
            "text/plain": [
              "407653"
            ]
          },
          "metadata": {},
          "execution_count": 134
        }
      ],
      "source": [
        "news_bow.nnz"
      ]
    },
    {
      "cell_type": "code",
      "execution_count": 135,
      "metadata": {
        "colab": {
          "base_uri": "https://localhost:8080/"
        },
        "id": "q9oYrmZS82a6",
        "outputId": "c353600d-4db4-49df-e08d-009df81171d9"
      },
      "outputs": [
        {
          "output_type": "execute_result",
          "data": {
            "text/plain": [
              "(2493, 65759)"
            ]
          },
          "metadata": {},
          "execution_count": 135
        }
      ],
      "source": [
        "news_bow.shape"
      ]
    },
    {
      "cell_type": "markdown",
      "metadata": {
        "id": "Q3GvOYEbQXdb"
      },
      "source": [
        "# TF-IDF"
      ]
    },
    {
      "cell_type": "code",
      "execution_count": 136,
      "metadata": {
        "id": "nTxaxktfdhA6"
      },
      "outputs": [],
      "source": [
        "from sklearn.feature_extraction.text import TfidfTransformer"
      ]
    },
    {
      "cell_type": "code",
      "execution_count": 137,
      "metadata": {
        "colab": {
          "base_uri": "https://localhost:8080/"
        },
        "id": "T2ZFbhKvdvH8",
        "outputId": "34e5dab4-17f9-40cc-bb0c-50a9090b8d7d"
      },
      "outputs": [
        {
          "output_type": "stream",
          "name": "stdout",
          "text": [
            "  (0, 65684)\t0.1149236899833955\n",
            "  (0, 64825)\t0.04086304186194518\n",
            "  (0, 64068)\t0.062383172798826256\n",
            "  (0, 63626)\t0.022682967287231813\n",
            "  (0, 63256)\t0.02347708506913933\n",
            "  (0, 63241)\t0.06479684847212792\n",
            "  (0, 63214)\t0.03153871515188008\n",
            "  (0, 63044)\t0.06819873326624327\n",
            "  (0, 63041)\t0.0470076672600366\n",
            "  (0, 62905)\t0.05316572753729389\n",
            "  (0, 62413)\t0.04667860232936218\n",
            "  (0, 61922)\t0.039253060907868786\n",
            "  (0, 61869)\t0.04887985956201442\n",
            "  (0, 61826)\t0.03435113057912934\n",
            "  (0, 61608)\t0.02813683035776473\n",
            "  (0, 60789)\t0.06051098049684844\n",
            "  (0, 60508)\t0.05129353523531608\n",
            "  (0, 60007)\t0.04976384274317855\n",
            "  (0, 59993)\t0.0518723909635165\n",
            "  (0, 59657)\t0.056567612331409244\n",
            "  (0, 59462)\t0.05469542002943143\n",
            "  (0, 59312)\t0.049310214418024724\n",
            "  (0, 59309)\t0.03573434823770611\n",
            "  (0, 59237)\t0.06051098049684844\n",
            "  (0, 58846)\t0.045477974767899075\n",
            "  :\t:\n",
            "  (0, 3056)\t0.053895759972580774\n",
            "  (0, 2816)\t0.062383172798826256\n",
            "  (0, 2707)\t0.03635427439500138\n",
            "  (0, 2117)\t0.04667860232936218\n",
            "  (0, 1997)\t0.06051098049684844\n",
            "  (0, 1757)\t0.03035226002663542\n",
            "  (0, 1615)\t0.04847050616940115\n",
            "  (0, 1608)\t0.052494162796779195\n",
            "  (0, 1487)\t0.06819873326624327\n",
            "  (0, 1474)\t0.06479684847212792\n",
            "  (0, 1471)\t0.038862754243631406\n",
            "  (0, 1394)\t0.062383172798826256\n",
            "  (0, 1375)\t0.06051098049684844\n",
            "  (0, 1373)\t0.04976384274317855\n",
            "  (0, 1312)\t0.04976384274317855\n",
            "  (0, 1140)\t0.052494162796779195\n",
            "  (0, 1078)\t0.062383172798826256\n",
            "  (0, 535)\t0.056567612331409244\n",
            "  (0, 486)\t0.15978740415806483\n",
            "  (0, 462)\t0.044427845954631784\n",
            "  (0, 253)\t0.05075205186399224\n",
            "  (0, 127)\t0.11537590286186702\n",
            "  (0, 78)\t0.06819873326624327\n",
            "  (0, 76)\t0.058981288004710905\n",
            "  (0, 27)\t0.02891527654681216\n"
          ]
        }
      ],
      "source": [
        "tfidf_transformer= TfidfTransformer().fit(news_bow)\n",
        "tfidf4= tfidf_transformer.transform(bow4)\n",
        "print(tfidf4)"
      ]
    },
    {
      "cell_type": "code",
      "execution_count": 138,
      "metadata": {
        "colab": {
          "base_uri": "https://localhost:8080/"
        },
        "id": "bfEFfxB7dwYp",
        "outputId": "980ab75f-0db5-4b5d-a795-dbbc35083a44"
      },
      "outputs": [
        {
          "output_type": "execute_result",
          "data": {
            "text/plain": [
              "3.8587984959800745"
            ]
          },
          "metadata": {},
          "execution_count": 138
        }
      ],
      "source": [
        "tfidf_transformer.idf_[bow_transformer.vocabulary_.get('চাল')]"
      ]
    },
    {
      "cell_type": "code",
      "execution_count": 139,
      "metadata": {
        "id": "h4ymTZUsd5z8"
      },
      "outputs": [],
      "source": [
        "news_tfidf = tfidf_transformer.transform(news_bow)"
      ]
    },
    {
      "cell_type": "code",
      "execution_count": 140,
      "metadata": {
        "colab": {
          "base_uri": "https://localhost:8080/"
        },
        "id": "mGTx8tMQ6j0E",
        "outputId": "39ccb031-bcd5-410a-9ee7-f94cf2545b3f"
      },
      "outputs": [
        {
          "output_type": "execute_result",
          "data": {
            "text/plain": [
              "(2493, 65759)"
            ]
          },
          "metadata": {},
          "execution_count": 140
        }
      ],
      "source": [
        "news_tfidf.shape"
      ]
    },
    {
      "cell_type": "markdown",
      "metadata": {
        "id": "SPWcAs1lQboK"
      },
      "source": [
        "## Multinomial Naive Bayes"
      ]
    },
    {
      "cell_type": "code",
      "execution_count": 141,
      "metadata": {
        "id": "oSLt7AXqeuR4"
      },
      "outputs": [],
      "source": [
        "from sklearn.naive_bayes import MultinomialNB"
      ]
    },
    {
      "cell_type": "code",
      "execution_count": 142,
      "metadata": {
        "id": "tcR3p9Piew_6"
      },
      "outputs": [],
      "source": [
        "mnb_model = MultinomialNB().fit(news_tfidf, df['label'])"
      ]
    },
    {
      "cell_type": "code",
      "execution_count": 143,
      "metadata": {
        "colab": {
          "base_uri": "https://localhost:8080/"
        },
        "id": "mg2gGdo8fSO_",
        "outputId": "a8150be8-0b56-4d27-f629-b2d8ba69864d"
      },
      "outputs": [
        {
          "output_type": "execute_result",
          "data": {
            "text/plain": [
              "1"
            ]
          },
          "metadata": {},
          "execution_count": 143
        }
      ],
      "source": [
        "mnb_model.predict(tfidf4)[0]"
      ]
    },
    {
      "cell_type": "code",
      "execution_count": 144,
      "metadata": {
        "id": "dCaNUBZffSvz"
      },
      "outputs": [],
      "source": [
        "all_pred = mnb_model.predict(news_tfidf)"
      ]
    },
    {
      "cell_type": "code",
      "execution_count": 145,
      "metadata": {
        "colab": {
          "base_uri": "https://localhost:8080/"
        },
        "id": "R2sEsl1U-Owq",
        "outputId": "d1cbe1a5-0422-4c1a-ec10-e5b1e1883464"
      },
      "outputs": [
        {
          "output_type": "execute_result",
          "data": {
            "text/plain": [
              "1535    1\n",
              "1536    1\n",
              "1537    1\n",
              "1538    1\n",
              "1539    1\n",
              "1540    1\n",
              "1541    1\n",
              "1542    1\n",
              "1543    1\n",
              "1544    1\n",
              "1545    0\n",
              "1546    0\n",
              "1547    0\n",
              "1548    0\n",
              "1549    0\n",
              "1550    0\n",
              "1551    0\n",
              "1552    0\n",
              "1553    0\n",
              "1554    0\n",
              "1555    0\n",
              "1556    0\n",
              "1557    0\n",
              "1558    0\n",
              "1559    0\n",
              "1560    0\n",
              "1561    0\n",
              "1562    0\n",
              "1563    0\n",
              "1564    0\n",
              "Name: label, dtype: int64"
            ]
          },
          "metadata": {},
          "execution_count": 145
        }
      ],
      "source": [
        "df['label'][1535:1565]"
      ]
    },
    {
      "cell_type": "code",
      "execution_count": 146,
      "metadata": {
        "colab": {
          "base_uri": "https://localhost:8080/"
        },
        "id": "ZDEK_52vfnP4",
        "outputId": "5b23e234-b957-41fa-af18-d9ed521e6cea"
      },
      "outputs": [
        {
          "output_type": "execute_result",
          "data": {
            "text/plain": [
              "array([1, 1, 1, 1, 1, 1, 1, 1, 1, 1, 0, 0, 0, 0, 0, 0, 0, 0, 0, 0, 0, 0,\n",
              "       0, 0, 0, 0, 0, 0, 0, 0])"
            ]
          },
          "metadata": {},
          "execution_count": 146
        }
      ],
      "source": [
        "all_pred[1535:1565]"
      ]
    },
    {
      "cell_type": "code",
      "execution_count": 147,
      "metadata": {
        "id": "p8ue_uiEfpT4"
      },
      "outputs": [],
      "source": [
        "from sklearn.model_selection import train_test_split\n",
        "from sklearn.metrics import accuracy_score"
      ]
    },
    {
      "cell_type": "code",
      "execution_count": 148,
      "metadata": {
        "id": "VM3ubNPBfwPZ"
      },
      "outputs": [],
      "source": [
        "xtrain, xtest, ytrain, ytest = train_test_split(news_tfidf, df['label'], test_size=0.30, random_state=32, stratify=df['label'])\n",
        "news_train, news_test, label_train, label_test = train_test_split(df['content'], df['label'], test_size=0.30, random_state=32, stratify=df['label'])"
      ]
    },
    {
      "cell_type": "code",
      "execution_count": 149,
      "metadata": {
        "id": "sGtYQVmff0qz"
      },
      "outputs": [],
      "source": [
        "from sklearn.pipeline import Pipeline"
      ]
    },
    {
      "cell_type": "code",
      "execution_count": 150,
      "metadata": {
        "id": "t7noUATUf23A"
      },
      "outputs": [],
      "source": [
        "pipeline = Pipeline([\n",
        "    ('bow',CountVectorizer()),\n",
        "    ('tfidf', TfidfTransformer()),\n",
        "    ('classifier', MultinomialNB())\n",
        "])"
      ]
    },
    {
      "cell_type": "code",
      "execution_count": 151,
      "metadata": {
        "colab": {
          "base_uri": "https://localhost:8080/"
        },
        "id": "7n0Yb6tJgD4-",
        "outputId": "eb879cf8-aaa8-493d-c996-9d6fc0da54f7"
      },
      "outputs": [
        {
          "output_type": "execute_result",
          "data": {
            "text/plain": [
              "Pipeline(steps=[('bow', CountVectorizer()), ('tfidf', TfidfTransformer()),\n",
              "                ('classifier', MultinomialNB())])"
            ]
          },
          "metadata": {},
          "execution_count": 151
        }
      ],
      "source": [
        "pipeline.fit(news_train.values.astype('U'), label_train)"
      ]
    },
    {
      "cell_type": "code",
      "execution_count": 152,
      "metadata": {
        "id": "QmvAIqo9gGKv"
      },
      "outputs": [],
      "source": [
        "mnbYpred =  pipeline.predict(news_test)"
      ]
    },
    {
      "cell_type": "code",
      "source": [
        "mnbYpred"
      ],
      "metadata": {
        "colab": {
          "base_uri": "https://localhost:8080/"
        },
        "id": "sIoeJVHuD4ec",
        "outputId": "cfff6825-e6f2-4a15-c860-b338f6c5ca5f"
      },
      "execution_count": 153,
      "outputs": [
        {
          "output_type": "execute_result",
          "data": {
            "text/plain": [
              "array([1, 1, 1, 1, 1, 0, 0, 1, 1, 1, 1, 1, 1, 0, 1, 0, 1, 1, 0, 1, 0, 0,\n",
              "       1, 1, 1, 1, 0, 1, 1, 0, 0, 0, 1, 1, 1, 1, 0, 1, 1, 1, 1, 1, 0, 1,\n",
              "       1, 1, 1, 0, 1, 1, 0, 1, 0, 1, 1, 0, 1, 1, 1, 1, 1, 1, 0, 0, 1, 0,\n",
              "       1, 0, 0, 0, 0, 0, 0, 1, 0, 1, 1, 1, 1, 0, 1, 1, 1, 1, 1, 1, 0, 1,\n",
              "       1, 1, 1, 1, 0, 1, 1, 1, 0, 1, 1, 1, 0, 1, 1, 0, 0, 1, 0, 1, 0, 1,\n",
              "       1, 0, 1, 1, 1, 1, 1, 1, 1, 0, 1, 0, 1, 1, 1, 0, 1, 1, 1, 1, 0, 0,\n",
              "       1, 1, 1, 0, 0, 1, 1, 0, 1, 1, 0, 1, 1, 1, 1, 1, 1, 1, 0, 0, 1, 1,\n",
              "       1, 1, 1, 1, 1, 1, 1, 1, 0, 1, 1, 1, 0, 0, 0, 1, 0, 0, 0, 1, 0, 1,\n",
              "       0, 1, 0, 1, 1, 1, 1, 0, 1, 0, 1, 1, 1, 1, 0, 1, 1, 1, 1, 0, 1, 0,\n",
              "       0, 1, 1, 1, 0, 1, 1, 1, 0, 1, 1, 1, 0, 1, 1, 1, 1, 1, 0, 1, 0, 1,\n",
              "       1, 1, 1, 0, 1, 1, 1, 1, 0, 1, 1, 1, 0, 0, 1, 1, 1, 1, 1, 1, 1, 1,\n",
              "       1, 1, 0, 1, 1, 1, 1, 1, 1, 0, 1, 1, 1, 1, 0, 1, 1, 1, 1, 0, 0, 0,\n",
              "       1, 1, 0, 1, 1, 0, 0, 1, 1, 1, 0, 1, 0, 1, 1, 0, 1, 1, 1, 1, 0, 1,\n",
              "       0, 0, 1, 1, 1, 0, 0, 0, 1, 0, 0, 1, 1, 1, 1, 1, 1, 1, 1, 1, 1, 1,\n",
              "       1, 0, 1, 1, 1, 1, 1, 0, 1, 1, 1, 0, 1, 0, 0, 0, 1, 1, 1, 0, 0, 0,\n",
              "       1, 1, 1, 1, 0, 0, 1, 1, 1, 1, 1, 1, 0, 1, 0, 1, 0, 1, 0, 1, 1, 1,\n",
              "       1, 0, 1, 1, 1, 0, 1, 0, 1, 1, 1, 1, 1, 1, 1, 1, 1, 1, 1, 1, 1, 1,\n",
              "       1, 1, 1, 1, 1, 0, 1, 1, 0, 1, 1, 1, 1, 1, 1, 0, 1, 1, 1, 1, 0, 0,\n",
              "       1, 1, 1, 0, 1, 1, 1, 1, 0, 1, 1, 1, 1, 0, 1, 0, 1, 1, 1, 0, 0, 0,\n",
              "       0, 0, 1, 1, 1, 0, 0, 1, 0, 0, 1, 0, 1, 1, 1, 1, 1, 0, 0, 1, 0, 0,\n",
              "       1, 0, 1, 1, 1, 0, 1, 1, 0, 0, 1, 1, 1, 1, 1, 0, 1, 1, 0, 1, 1, 0,\n",
              "       0, 1, 0, 1, 0, 0, 1, 0, 0, 1, 0, 1, 1, 1, 1, 1, 1, 1, 1, 1, 1, 1,\n",
              "       1, 1, 1, 1, 1, 1, 1, 1, 1, 1, 0, 0, 1, 0, 0, 1, 0, 1, 0, 1, 1, 0,\n",
              "       1, 1, 1, 1, 1, 1, 1, 0, 1, 1, 1, 0, 1, 1, 1, 1, 0, 0, 0, 0, 0, 1,\n",
              "       1, 1, 1, 1, 1, 0, 1, 1, 0, 1, 1, 1, 0, 1, 1, 0, 1, 1, 1, 1, 1, 1,\n",
              "       1, 0, 1, 1, 1, 1, 1, 0, 0, 0, 1, 1, 1, 1, 0, 1, 1, 1, 0, 0, 1, 1,\n",
              "       1, 1, 1, 1, 1, 0, 0, 1, 1, 1, 0, 1, 1, 1, 1, 1, 0, 1, 1, 1, 1, 1,\n",
              "       1, 1, 1, 1, 1, 1, 1, 1, 0, 1, 0, 1, 1, 0, 0, 1, 1, 0, 1, 1, 1, 0,\n",
              "       1, 1, 0, 0, 1, 0, 0, 0, 1, 1, 1, 1, 1, 1, 1, 1, 1, 0, 0, 1, 0, 1,\n",
              "       1, 1, 1, 1, 1, 1, 1, 1, 0, 1, 0, 1, 1, 1, 1, 1, 1, 1, 1, 1, 1, 1,\n",
              "       0, 1, 1, 1, 1, 1, 1, 0, 1, 1, 0, 1, 0, 1, 0, 1, 1, 1, 1, 1, 0, 1,\n",
              "       0, 1, 1, 0, 0, 1, 0, 1, 0, 0, 0, 1, 1, 0, 1, 0, 0, 1, 1, 0, 1, 1,\n",
              "       1, 1, 1, 0, 0, 0, 1, 0, 0, 0, 0, 0, 0, 0, 1, 1, 1, 1, 1, 1, 1, 0,\n",
              "       1, 1, 1, 1, 1, 0, 0, 1, 1, 1, 1, 1, 1, 1, 0, 1, 1, 0, 1, 1, 0, 0])"
            ]
          },
          "metadata": {},
          "execution_count": 153
        }
      ]
    },
    {
      "cell_type": "code",
      "source": [
        "print('Accuracy of MNB classifier on test set: {:.3f}'.format(accuracy_score(mnbYpred, label_test)))\n",
        "# accuracy_score(mnbYpred, label_test)"
      ],
      "metadata": {
        "colab": {
          "base_uri": "https://localhost:8080/"
        },
        "id": "mE4xkS6IDU8R",
        "outputId": "e1c39eeb-04de-4e6a-9834-4faa059765dd"
      },
      "execution_count": 154,
      "outputs": [
        {
          "output_type": "stream",
          "name": "stdout",
          "text": [
            "Accuracy of MNB classifier on test set: 0.924\n"
          ]
        }
      ]
    },
    {
      "cell_type": "code",
      "execution_count": 155,
      "metadata": {
        "id": "gKNyIOZAgJwL"
      },
      "outputs": [],
      "source": [
        "from sklearn.metrics import classification_report"
      ]
    },
    {
      "cell_type": "code",
      "execution_count": 156,
      "metadata": {
        "colab": {
          "base_uri": "https://localhost:8080/"
        },
        "id": "0uUz6W9mgNTi",
        "outputId": "6ef4d200-1c6c-4fb0-b528-42a809b57e5c"
      },
      "outputs": [
        {
          "output_type": "stream",
          "name": "stdout",
          "text": [
            "              precision    recall  f1-score   support\n",
            "\n",
            "           0     1.0000    0.7993    0.8885       284\n",
            "           1     0.8906    1.0000    0.9421       464\n",
            "\n",
            "    accuracy                         0.9238       748\n",
            "   macro avg     0.9453    0.8996    0.9153       748\n",
            "weighted avg     0.9321    0.9238    0.9218       748\n",
            "\n"
          ]
        }
      ],
      "source": [
        "print(classification_report(label_test, mnbYpred,digits=4))"
      ]
    },
    {
      "cell_type": "markdown",
      "metadata": {
        "id": "nADNkyrXQjsu"
      },
      "source": [
        "## Logistic Regression"
      ]
    },
    {
      "cell_type": "code",
      "execution_count": 157,
      "metadata": {
        "id": "NaPxEzJNgO8j"
      },
      "outputs": [],
      "source": [
        "from sklearn.linear_model import LogisticRegression\n",
        "from sklearn.metrics import classification_report, confusion_matrix"
      ]
    },
    {
      "cell_type": "code",
      "execution_count": 158,
      "metadata": {
        "colab": {
          "base_uri": "https://localhost:8080/"
        },
        "id": "8bLpepH5cGKj",
        "outputId": "c625672a-00af-475a-9050-34c6e1248be0"
      },
      "outputs": [
        {
          "output_type": "execute_result",
          "data": {
            "text/plain": [
              "LogisticRegression()"
            ]
          },
          "metadata": {},
          "execution_count": 158
        }
      ],
      "source": [
        "logreg = LogisticRegression()\n",
        "logreg.fit(xtrain, ytrain)"
      ]
    },
    {
      "cell_type": "code",
      "execution_count": 159,
      "metadata": {
        "id": "dtp5M0xCctgs"
      },
      "outputs": [],
      "source": [
        "ypred = logreg.predict(xtest)"
      ]
    },
    {
      "cell_type": "code",
      "execution_count": 160,
      "metadata": {
        "colab": {
          "base_uri": "https://localhost:8080/"
        },
        "id": "IpOndcCTfH5k",
        "outputId": "1750cd21-93e6-482f-f45b-31962be12c42"
      },
      "outputs": [
        {
          "output_type": "stream",
          "name": "stdout",
          "text": [
            "Accuracy of logistic regression classifier on test set: 0.963\n"
          ]
        }
      ],
      "source": [
        "print('Accuracy of logistic regression classifier on test set: {:.3f}'.format(logreg.score(xtest, ytest)))"
      ]
    },
    {
      "cell_type": "code",
      "source": [
        "print(classification_report(ytest, ypred,digits=4))"
      ],
      "metadata": {
        "colab": {
          "base_uri": "https://localhost:8080/"
        },
        "id": "HKRfp3-HuJpy",
        "outputId": "07689299-c007-48cb-b9f2-039e591dcdf8"
      },
      "execution_count": 161,
      "outputs": [
        {
          "output_type": "stream",
          "name": "stdout",
          "text": [
            "              precision    recall  f1-score   support\n",
            "\n",
            "           0     0.9961    0.9049    0.9483       284\n",
            "           1     0.9449    0.9978    0.9706       464\n",
            "\n",
            "    accuracy                         0.9626       748\n",
            "   macro avg     0.9705    0.9514    0.9595       748\n",
            "weighted avg     0.9643    0.9626    0.9622       748\n",
            "\n"
          ]
        }
      ]
    },
    {
      "cell_type": "markdown",
      "metadata": {
        "id": "8fOevWJtQokS"
      },
      "source": [
        "## KNN"
      ]
    },
    {
      "cell_type": "code",
      "execution_count": 162,
      "metadata": {
        "id": "czfAyjG2fJ-T"
      },
      "outputs": [],
      "source": [
        "from sklearn.neighbors import KNeighborsClassifier"
      ]
    },
    {
      "cell_type": "code",
      "execution_count": 163,
      "metadata": {
        "id": "TRrhLfmtftzi"
      },
      "outputs": [],
      "source": [
        "knn = KNeighborsClassifier(n_neighbors=12)"
      ]
    },
    {
      "cell_type": "code",
      "execution_count": 164,
      "metadata": {
        "colab": {
          "base_uri": "https://localhost:8080/"
        },
        "id": "M9VeSKuWf2w6",
        "outputId": "e1203206-d554-411f-954c-30b23bea1a5a"
      },
      "outputs": [
        {
          "output_type": "execute_result",
          "data": {
            "text/plain": [
              "KNeighborsClassifier(n_neighbors=12)"
            ]
          },
          "metadata": {},
          "execution_count": 164
        }
      ],
      "source": [
        "knn.fit(xtrain, ytrain)"
      ]
    },
    {
      "cell_type": "code",
      "execution_count": 165,
      "metadata": {
        "id": "y7hQUEoMf6Oi"
      },
      "outputs": [],
      "source": [
        "knnYpred = knn.predict(xtest)"
      ]
    },
    {
      "cell_type": "code",
      "source": [
        "print(knnYpred)"
      ],
      "metadata": {
        "colab": {
          "base_uri": "https://localhost:8080/"
        },
        "id": "hHHsfxZXwZXN",
        "outputId": "7028bd9d-0ba2-4c29-8f77-17b58ce5a3c1"
      },
      "execution_count": 166,
      "outputs": [
        {
          "output_type": "stream",
          "name": "stdout",
          "text": [
            "[1 1 1 1 1 0 0 1 1 1 0 1 1 0 1 0 1 1 0 1 0 0 1 1 1 1 0 1 1 0 0 0 1 1 1 1 0\n",
            " 1 1 1 1 1 0 1 1 1 0 1 1 1 0 1 0 1 1 0 1 1 1 1 1 1 0 0 1 0 1 0 0 0 0 0 0 1\n",
            " 0 1 1 1 1 0 1 1 1 1 1 0 0 1 1 1 1 1 0 1 1 1 0 1 1 1 0 1 1 0 0 1 0 1 0 1 1\n",
            " 0 0 1 1 1 1 1 1 0 1 0 1 1 1 0 1 1 1 1 0 0 1 1 1 0 0 1 1 0 1 1 0 0 1 1 1 1\n",
            " 1 1 0 0 1 1 1 1 1 1 1 1 1 1 0 1 1 1 0 1 0 1 0 0 0 1 0 1 0 1 0 1 0 1 1 0 1\n",
            " 0 1 1 1 1 0 1 1 1 1 0 1 0 0 1 0 1 0 1 1 1 0 1 1 1 0 1 1 1 1 1 0 1 0 1 1 1\n",
            " 1 0 1 1 1 1 0 1 1 1 0 0 1 1 1 1 1 1 1 1 1 1 0 1 1 1 1 1 1 0 1 1 1 1 0 1 1\n",
            " 1 1 1 0 0 1 1 0 1 1 0 0 0 1 1 0 1 0 1 1 0 1 1 1 0 0 1 0 0 1 1 1 0 0 0 0 0\n",
            " 0 1 1 1 1 1 1 1 1 0 1 1 1 0 1 1 1 1 0 0 1 1 1 0 1 0 0 0 1 1 1 0 0 0 1 1 1\n",
            " 1 0 0 1 1 1 1 1 0 0 0 0 1 0 1 1 1 1 1 1 0 1 1 1 0 1 0 1 1 1 1 1 1 1 1 1 1\n",
            " 1 1 1 1 1 1 1 1 1 1 1 1 0 1 1 1 1 1 1 0 1 1 1 1 0 0 1 1 1 0 0 1 1 1 1 1 1\n",
            " 1 1 0 1 0 1 1 0 0 0 0 0 0 1 1 1 0 0 1 0 0 1 0 1 1 0 1 1 0 0 1 0 0 1 0 1 1\n",
            " 1 0 1 1 0 0 1 1 0 1 1 0 1 1 0 1 1 0 0 1 0 1 0 0 1 0 0 1 0 1 1 1 1 1 1 1 1\n",
            " 1 0 1 1 1 1 1 1 1 1 1 1 1 0 0 1 0 0 1 0 1 0 0 1 0 1 1 1 0 0 1 1 0 1 0 1 0\n",
            " 1 1 1 1 0 0 0 0 0 0 1 1 1 1 1 0 1 1 0 1 1 1 0 1 1 0 1 1 1 1 1 1 1 0 1 0 1\n",
            " 1 1 0 0 0 1 0 1 1 0 1 1 1 0 0 1 1 1 0 1 1 1 0 0 1 1 1 0 0 1 1 1 0 0 0 1 0\n",
            " 1 1 1 1 1 1 1 1 1 0 0 1 0 1 1 0 0 1 1 0 1 1 1 0 1 1 0 0 1 0 0 0 0 1 1 1 1\n",
            " 1 1 1 1 0 0 1 0 1 1 1 1 1 1 1 1 1 0 1 0 1 1 1 1 1 1 1 1 1 1 1 0 1 1 1 1 1\n",
            " 1 0 1 1 0 1 0 1 0 1 1 1 0 1 0 1 0 1 1 0 0 1 0 1 0 0 0 1 1 0 1 0 0 1 1 0 1\n",
            " 1 1 1 1 0 0 0 1 0 0 0 0 0 0 0 1 1 1 1 1 1 1 0 1 1 1 1 1 0 0 1 1 1 1 0 1 1\n",
            " 0 1 1 0 1 1 0 0]\n"
          ]
        }
      ]
    },
    {
      "cell_type": "code",
      "execution_count": 167,
      "metadata": {
        "colab": {
          "base_uri": "https://localhost:8080/"
        },
        "id": "zkH_FlCVf9gS",
        "outputId": "7719f8cd-0e90-4583-fd64-569ecacc882d"
      },
      "outputs": [
        {
          "output_type": "stream",
          "name": "stdout",
          "text": [
            "Accuracy of knn on test set: 0.952\n"
          ]
        }
      ],
      "source": [
        "print('Accuracy of knn on test set: {:.3f}'.format(knn.score(xtest, ytest)))"
      ]
    },
    {
      "cell_type": "code",
      "source": [
        "print(classification_report(ytest, knnYpred,digits=4))"
      ],
      "metadata": {
        "colab": {
          "base_uri": "https://localhost:8080/"
        },
        "id": "tv5oEAU7v86S",
        "outputId": "4c8b0b70-09d7-41fa-b57f-795617ff76ad"
      },
      "execution_count": 168,
      "outputs": [
        {
          "output_type": "stream",
          "name": "stdout",
          "text": [
            "              precision    recall  f1-score   support\n",
            "\n",
            "           0     0.9844    0.8873    0.9333       284\n",
            "           1     0.9350    0.9914    0.9623       464\n",
            "\n",
            "    accuracy                         0.9519       748\n",
            "   macro avg     0.9597    0.9394    0.9478       748\n",
            "weighted avg     0.9537    0.9519    0.9513       748\n",
            "\n"
          ]
        }
      ]
    },
    {
      "cell_type": "markdown",
      "metadata": {
        "id": "CGzbrdwMQrsb"
      },
      "source": [
        "# SVM"
      ]
    },
    {
      "cell_type": "code",
      "execution_count": 169,
      "metadata": {
        "id": "9J0y3vWqgEij"
      },
      "outputs": [],
      "source": [
        "from sklearn.svm import SVC"
      ]
    },
    {
      "cell_type": "code",
      "execution_count": 170,
      "metadata": {
        "colab": {
          "base_uri": "https://localhost:8080/"
        },
        "id": "Fs5Fpu8Czm_R",
        "outputId": "212298d6-3a53-4df9-c41c-4911826183f2"
      },
      "outputs": [
        {
          "output_type": "execute_result",
          "data": {
            "text/plain": [
              "SVC(random_state=7)"
            ]
          },
          "metadata": {},
          "execution_count": 170
        }
      ],
      "source": [
        "classifier = SVC(kernel='rbf', random_state = 7)\n",
        "classifier.fit(xtrain,ytrain)"
      ]
    },
    {
      "cell_type": "code",
      "execution_count": 171,
      "metadata": {
        "id": "yJtIRuZuzqpo"
      },
      "outputs": [],
      "source": [
        "svcYpred = classifier.predict(xtest)"
      ]
    },
    {
      "cell_type": "code",
      "execution_count": 172,
      "metadata": {
        "colab": {
          "base_uri": "https://localhost:8080/"
        },
        "id": "lugmUbN7zxzh",
        "outputId": "93b7c9b6-2150-4fda-c630-fd731e6ce18a"
      },
      "outputs": [
        {
          "output_type": "stream",
          "name": "stdout",
          "text": [
            "[1 1 1 1 1 0 0 1 1 1 0 1 1 0 1 0 1 1 0 1 0 0 1 1 1 1 0 1 1 0 0 0 1 1 1 1 0\n",
            " 1 1 1 1 1 0 1 1 1 1 0 1 1 0 1 0 1 1 0 1 1 1 1 1 1 0 0 1 0 1 0 0 0 0 0 0 1\n",
            " 0 1 1 1 1 0 1 1 1 1 1 0 0 1 1 1 1 1 0 1 1 1 0 1 1 1 0 1 1 0 0 1 0 1 0 1 1\n",
            " 0 1 1 1 1 1 1 1 0 1 0 1 1 1 0 1 1 1 0 0 0 1 1 0 0 0 1 1 0 1 1 0 0 1 1 1 1\n",
            " 1 1 0 0 1 1 1 1 1 1 1 1 1 1 0 1 1 1 0 0 0 1 0 0 0 1 0 1 0 1 0 1 0 1 1 0 1\n",
            " 0 1 1 1 1 0 1 1 1 1 0 1 0 0 1 1 1 0 1 1 1 0 0 1 1 0 1 1 1 1 1 0 1 0 1 1 1\n",
            " 1 0 1 1 1 1 0 1 1 1 0 0 1 1 1 1 1 1 1 1 1 1 0 1 1 1 1 1 1 0 1 1 1 1 0 1 1\n",
            " 1 1 0 0 0 1 1 0 1 1 0 0 0 1 1 0 1 0 1 1 0 1 1 1 1 0 1 0 0 1 1 1 0 0 0 0 0\n",
            " 0 1 1 1 1 1 1 1 1 0 1 1 1 0 1 1 1 1 0 0 1 1 1 0 1 0 0 0 1 1 1 0 0 0 1 1 1\n",
            " 1 0 0 1 1 1 1 1 0 0 0 0 1 0 1 0 1 1 1 1 0 1 1 1 0 1 0 1 1 1 1 1 1 1 1 1 1\n",
            " 1 1 1 1 1 1 1 1 1 0 1 1 0 1 1 1 1 1 1 0 1 1 1 1 0 0 1 1 1 0 0 1 1 1 0 1 1\n",
            " 1 1 0 1 0 1 1 0 0 0 0 0 0 1 1 1 0 0 1 0 0 1 0 1 1 0 1 1 0 0 1 0 0 1 0 1 1\n",
            " 1 0 1 1 0 0 1 1 0 1 1 0 1 1 0 1 1 0 0 1 0 1 0 0 1 0 0 1 0 1 1 1 1 1 1 1 1\n",
            " 1 0 1 1 0 1 1 1 1 1 1 1 1 0 0 1 0 0 1 0 1 0 0 1 0 1 1 1 0 0 1 1 0 1 0 1 0\n",
            " 1 1 1 1 0 0 0 0 0 1 1 1 1 1 1 0 1 1 0 1 1 1 0 1 1 0 1 1 1 1 1 1 1 0 1 0 1\n",
            " 1 1 0 0 0 1 0 1 0 0 1 1 1 0 0 1 1 1 1 1 1 1 0 0 1 1 1 0 0 1 1 1 0 0 0 1 0\n",
            " 1 1 1 1 1 1 1 1 1 0 0 1 0 1 1 0 0 1 1 0 1 1 1 0 1 1 0 0 1 0 0 0 0 1 1 1 1\n",
            " 1 1 1 1 0 0 1 0 1 1 1 1 1 1 1 1 1 0 1 0 1 1 1 1 1 1 1 1 1 1 1 0 1 1 1 1 1\n",
            " 1 0 1 1 0 1 0 0 0 1 1 0 0 1 0 1 0 1 1 0 0 0 0 1 0 0 0 1 1 0 1 0 0 1 1 0 1\n",
            " 1 1 1 1 0 0 0 1 0 0 0 0 0 0 0 1 1 1 1 1 1 1 0 1 1 1 1 1 0 0 1 1 1 1 0 1 1\n",
            " 0 1 1 0 1 1 0 0]\n"
          ]
        }
      ],
      "source": [
        "print(classifier.predict(xtest))"
      ]
    },
    {
      "cell_type": "code",
      "execution_count": 173,
      "metadata": {
        "colab": {
          "base_uri": "https://localhost:8080/"
        },
        "id": "iH-8-qw60DE4",
        "outputId": "b3731dda-8bb9-4a77-80c0-cd5093a8279d"
      },
      "outputs": [
        {
          "output_type": "stream",
          "name": "stdout",
          "text": [
            "Accuracy of SVM on test set: 0.9706\n"
          ]
        }
      ],
      "source": [
        "print('Accuracy of SVM on test set: {:.4f}'.format(classifier.score(xtest, ytest)))"
      ]
    },
    {
      "cell_type": "code",
      "source": [
        "print(classification_report(ytest, svcYpred,digits=4))"
      ],
      "metadata": {
        "colab": {
          "base_uri": "https://localhost:8080/"
        },
        "id": "q9n1FK5uwJ48",
        "outputId": "017d3492-bf23-42e0-929c-df2954c1aac9"
      },
      "execution_count": 174,
      "outputs": [
        {
          "output_type": "stream",
          "name": "stdout",
          "text": [
            "              precision    recall  f1-score   support\n",
            "\n",
            "           0     0.9962    0.9261    0.9599       284\n",
            "           1     0.9566    0.9978    0.9768       464\n",
            "\n",
            "    accuracy                         0.9706       748\n",
            "   macro avg     0.9764    0.9620    0.9683       748\n",
            "weighted avg     0.9716    0.9706    0.9704       748\n",
            "\n"
          ]
        }
      ]
    },
    {
      "cell_type": "markdown",
      "source": [
        "# Decision Tree"
      ],
      "metadata": {
        "id": "NUuPWvqiKUEG"
      }
    },
    {
      "cell_type": "code",
      "source": [
        "from sklearn import tree"
      ],
      "metadata": {
        "id": "s9Ci6BncwNeX"
      },
      "execution_count": 175,
      "outputs": []
    },
    {
      "cell_type": "code",
      "source": [
        "clf = tree.DecisionTreeClassifier(random_state=17)\n",
        "clf = clf.fit(xtrain, ytrain)\n",
        "y_pred = clf.predict(xtest)\n",
        "print(classification_report(ytest, y_pred))\n",
        "print('\\nDecision Tree Classifier Accuracy: {0:.4f}'.format(accuracy_score(ytest, y_pred)))"
      ],
      "metadata": {
        "colab": {
          "base_uri": "https://localhost:8080/"
        },
        "id": "Hx0ihZQoJTte",
        "outputId": "02449240-dbb9-4751-ffb6-2e60b9e9bf0d"
      },
      "execution_count": 176,
      "outputs": [
        {
          "output_type": "stream",
          "name": "stdout",
          "text": [
            "              precision    recall  f1-score   support\n",
            "\n",
            "           0       0.97      0.95      0.96       284\n",
            "           1       0.97      0.98      0.98       464\n",
            "\n",
            "    accuracy                           0.97       748\n",
            "   macro avg       0.97      0.97      0.97       748\n",
            "weighted avg       0.97      0.97      0.97       748\n",
            "\n",
            "\n",
            "Decision Tree Classifier Accuracy: 0.9719\n"
          ]
        }
      ]
    },
    {
      "cell_type": "markdown",
      "source": [
        "#AdaBoost"
      ],
      "metadata": {
        "id": "GigBGzCHKhGB"
      }
    },
    {
      "cell_type": "markdown",
      "source": [],
      "metadata": {
        "id": "YN_sapucL-Je"
      }
    },
    {
      "cell_type": "code",
      "source": [
        "from sklearn.ensemble import AdaBoostClassifier\n",
        "from sklearn.tree import DecisionTreeClassifier\n"
      ],
      "metadata": {
        "id": "9VFcLt6wLPP1"
      },
      "execution_count": 177,
      "outputs": []
    },
    {
      "cell_type": "code",
      "source": [
        "adaclassifier = AdaBoostClassifier(base_estimator=DecisionTreeClassifier(),n_estimators=100)\n",
        "\n",
        "adaclassifier.fit(xtrain,ytrain)"
      ],
      "metadata": {
        "colab": {
          "base_uri": "https://localhost:8080/"
        },
        "id": "L3B4CPfkKXKc",
        "outputId": "8592b378-b59a-4b9a-e707-da5977505678"
      },
      "execution_count": 178,
      "outputs": [
        {
          "output_type": "execute_result",
          "data": {
            "text/plain": [
              "AdaBoostClassifier(base_estimator=DecisionTreeClassifier(), n_estimators=100)"
            ]
          },
          "metadata": {},
          "execution_count": 178
        }
      ]
    },
    {
      "cell_type": "code",
      "source": [
        "aday_pred = adaclassifier.predict(xtest)"
      ],
      "metadata": {
        "id": "6C1hVq8-LVsm"
      },
      "execution_count": 179,
      "outputs": []
    },
    {
      "cell_type": "code",
      "source": [
        "print(classification_report(ytest, aday_pred, digits=4))\n",
        "print('\\nAdaboost classifier Accuracy: {0:.4f}'.format(accuracy_score(ytest, aday_pred)))"
      ],
      "metadata": {
        "colab": {
          "base_uri": "https://localhost:8080/"
        },
        "id": "GE7chWeOLgXN",
        "outputId": "732a352f-a4fa-4dd9-f52d-42aacfc78c0d"
      },
      "execution_count": 180,
      "outputs": [
        {
          "output_type": "stream",
          "name": "stdout",
          "text": [
            "              precision    recall  f1-score   support\n",
            "\n",
            "           0     0.9819    0.9577    0.9697       284\n",
            "           1     0.9745    0.9892    0.9818       464\n",
            "\n",
            "    accuracy                         0.9773       748\n",
            "   macro avg     0.9782    0.9735    0.9758       748\n",
            "weighted avg     0.9773    0.9773    0.9772       748\n",
            "\n",
            "\n",
            "Adaboost classifier Accuracy: 0.9773\n"
          ]
        }
      ]
    },
    {
      "cell_type": "code",
      "source": [],
      "metadata": {
        "id": "lmi_JdWNLk2_"
      },
      "execution_count": 180,
      "outputs": []
    }
  ],
  "metadata": {
    "colab": {
      "collapsed_sections": [],
      "provenance": [],
      "authorship_tag": "ABX9TyNwfL6D1oUEjUO824Yi081b",
      "include_colab_link": true
    },
    "kernelspec": {
      "display_name": "Python 3",
      "name": "python3"
    },
    "language_info": {
      "name": "python"
    },
    "accelerator": "GPU",
    "gpuClass": "standard"
  },
  "nbformat": 4,
  "nbformat_minor": 0
}