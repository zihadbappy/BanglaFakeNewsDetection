{
  "cells": [
    {
      "cell_type": "markdown",
      "metadata": {
        "id": "view-in-github",
        "colab_type": "text"
      },
      "source": [
        "<a href=\"https://colab.research.google.com/github/zihadbappy/bnfake/blob/main/Final_CNN.ipynb\" target=\"_parent\"><img src=\"https://colab.research.google.com/assets/colab-badge.svg\" alt=\"Open In Colab\"/></a>"
      ]
    },
    {
      "cell_type": "code",
      "execution_count": 288,
      "metadata": {
        "colab": {
          "base_uri": "https://localhost:8080/"
        },
        "id": "xtKxw8JAcAsr",
        "outputId": "e025e4cd-e5be-4a5b-dc81-9841f75864e7"
      },
      "outputs": [
        {
          "output_type": "stream",
          "name": "stdout",
          "text": [
            "fatal: destination path 'bnfakedata' already exists and is not an empty directory.\n"
          ]
        }
      ],
      "source": [
        "!git clone https://github.com/zihadbappy/bnfakedata.git"
      ]
    },
    {
      "cell_type": "code",
      "execution_count": 289,
      "metadata": {
        "id": "OwWi8k2ufT0g"
      },
      "outputs": [],
      "source": [
        "import pandas as pd\n",
        "Dataset= pd.read_csv('/content/bnfakedata/bnfakefinal.csv')"
      ]
    },
    {
      "cell_type": "code",
      "execution_count": 290,
      "metadata": {
        "colab": {
          "base_uri": "https://localhost:8080/",
          "height": 206
        },
        "id": "ki0tvofPfVBn",
        "outputId": "0ff418a4-4a94-4b1d-caa6-70d01ab71b8f"
      },
      "outputs": [
        {
          "output_type": "execute_result",
          "data": {
            "text/plain": [
              "                                            headline  \\\n",
              "0                                সময় হইলেই ধরব কামাল   \n",
              "1                 ওয়ান ষ্টপ সার্ভিস খুললেন বাবুনগরী   \n",
              "2                     কমিশনের হার বৃদ্ধি করবেন তারেক   \n",
              "3                  আর বাংলাদেশে ফুন দিব না বানকি মুন   \n",
              "4  ফোন না করায় জাতিসংঘের মহাসচিবের প্রতি ক্ষুব্ধ...   \n",
              "\n",
              "                                             content  label  \n",
              "0  নারায়নগঞ্জের চাঞ্চল্যকর সাত খুন মামলায় অভিযুক্...      0  \n",
              "1  নিজস্ব মতিবেদক বিবিধ রাজনৈতিক সংকট সমাধানের পর...      0  \n",
              "2  লনডন মতিনিধি সংসদ নির্বাচনে জয় লাভ প্রধান মন্...      0  \n",
              "3  জাতিসংঘ মতিবেদক ভবিষ্যতে বাংলাদেশে টেলিফোন অংগ...      0  \n",
              "4  নিজস্ব মতিবেদক বাকশালের মহিলা আমীর প্রধান মন্ত...      0  "
            ],
            "text/html": [
              "\n",
              "  <div id=\"df-62c39349-0de5-4c1f-98a5-09ed1b54d825\">\n",
              "    <div class=\"colab-df-container\">\n",
              "      <div>\n",
              "<style scoped>\n",
              "    .dataframe tbody tr th:only-of-type {\n",
              "        vertical-align: middle;\n",
              "    }\n",
              "\n",
              "    .dataframe tbody tr th {\n",
              "        vertical-align: top;\n",
              "    }\n",
              "\n",
              "    .dataframe thead th {\n",
              "        text-align: right;\n",
              "    }\n",
              "</style>\n",
              "<table border=\"1\" class=\"dataframe\">\n",
              "  <thead>\n",
              "    <tr style=\"text-align: right;\">\n",
              "      <th></th>\n",
              "      <th>headline</th>\n",
              "      <th>content</th>\n",
              "      <th>label</th>\n",
              "    </tr>\n",
              "  </thead>\n",
              "  <tbody>\n",
              "    <tr>\n",
              "      <th>0</th>\n",
              "      <td>সময় হইলেই ধরব কামাল</td>\n",
              "      <td>নারায়নগঞ্জের চাঞ্চল্যকর সাত খুন মামলায় অভিযুক্...</td>\n",
              "      <td>0</td>\n",
              "    </tr>\n",
              "    <tr>\n",
              "      <th>1</th>\n",
              "      <td>ওয়ান ষ্টপ সার্ভিস খুললেন বাবুনগরী</td>\n",
              "      <td>নিজস্ব মতিবেদক বিবিধ রাজনৈতিক সংকট সমাধানের পর...</td>\n",
              "      <td>0</td>\n",
              "    </tr>\n",
              "    <tr>\n",
              "      <th>2</th>\n",
              "      <td>কমিশনের হার বৃদ্ধি করবেন তারেক</td>\n",
              "      <td>লনডন মতিনিধি সংসদ নির্বাচনে জয় লাভ প্রধান মন্...</td>\n",
              "      <td>0</td>\n",
              "    </tr>\n",
              "    <tr>\n",
              "      <th>3</th>\n",
              "      <td>আর বাংলাদেশে ফুন দিব না বানকি মুন</td>\n",
              "      <td>জাতিসংঘ মতিবেদক ভবিষ্যতে বাংলাদেশে টেলিফোন অংগ...</td>\n",
              "      <td>0</td>\n",
              "    </tr>\n",
              "    <tr>\n",
              "      <th>4</th>\n",
              "      <td>ফোন না করায় জাতিসংঘের মহাসচিবের প্রতি ক্ষুব্ধ...</td>\n",
              "      <td>নিজস্ব মতিবেদক বাকশালের মহিলা আমীর প্রধান মন্ত...</td>\n",
              "      <td>0</td>\n",
              "    </tr>\n",
              "  </tbody>\n",
              "</table>\n",
              "</div>\n",
              "      <button class=\"colab-df-convert\" onclick=\"convertToInteractive('df-62c39349-0de5-4c1f-98a5-09ed1b54d825')\"\n",
              "              title=\"Convert this dataframe to an interactive table.\"\n",
              "              style=\"display:none;\">\n",
              "        \n",
              "  <svg xmlns=\"http://www.w3.org/2000/svg\" height=\"24px\"viewBox=\"0 0 24 24\"\n",
              "       width=\"24px\">\n",
              "    <path d=\"M0 0h24v24H0V0z\" fill=\"none\"/>\n",
              "    <path d=\"M18.56 5.44l.94 2.06.94-2.06 2.06-.94-2.06-.94-.94-2.06-.94 2.06-2.06.94zm-11 1L8.5 8.5l.94-2.06 2.06-.94-2.06-.94L8.5 2.5l-.94 2.06-2.06.94zm10 10l.94 2.06.94-2.06 2.06-.94-2.06-.94-.94-2.06-.94 2.06-2.06.94z\"/><path d=\"M17.41 7.96l-1.37-1.37c-.4-.4-.92-.59-1.43-.59-.52 0-1.04.2-1.43.59L10.3 9.45l-7.72 7.72c-.78.78-.78 2.05 0 2.83L4 21.41c.39.39.9.59 1.41.59.51 0 1.02-.2 1.41-.59l7.78-7.78 2.81-2.81c.8-.78.8-2.07 0-2.86zM5.41 20L4 18.59l7.72-7.72 1.47 1.35L5.41 20z\"/>\n",
              "  </svg>\n",
              "      </button>\n",
              "      \n",
              "  <style>\n",
              "    .colab-df-container {\n",
              "      display:flex;\n",
              "      flex-wrap:wrap;\n",
              "      gap: 12px;\n",
              "    }\n",
              "\n",
              "    .colab-df-convert {\n",
              "      background-color: #E8F0FE;\n",
              "      border: none;\n",
              "      border-radius: 50%;\n",
              "      cursor: pointer;\n",
              "      display: none;\n",
              "      fill: #1967D2;\n",
              "      height: 32px;\n",
              "      padding: 0 0 0 0;\n",
              "      width: 32px;\n",
              "    }\n",
              "\n",
              "    .colab-df-convert:hover {\n",
              "      background-color: #E2EBFA;\n",
              "      box-shadow: 0px 1px 2px rgba(60, 64, 67, 0.3), 0px 1px 3px 1px rgba(60, 64, 67, 0.15);\n",
              "      fill: #174EA6;\n",
              "    }\n",
              "\n",
              "    [theme=dark] .colab-df-convert {\n",
              "      background-color: #3B4455;\n",
              "      fill: #D2E3FC;\n",
              "    }\n",
              "\n",
              "    [theme=dark] .colab-df-convert:hover {\n",
              "      background-color: #434B5C;\n",
              "      box-shadow: 0px 1px 3px 1px rgba(0, 0, 0, 0.15);\n",
              "      filter: drop-shadow(0px 1px 2px rgba(0, 0, 0, 0.3));\n",
              "      fill: #FFFFFF;\n",
              "    }\n",
              "  </style>\n",
              "\n",
              "      <script>\n",
              "        const buttonEl =\n",
              "          document.querySelector('#df-62c39349-0de5-4c1f-98a5-09ed1b54d825 button.colab-df-convert');\n",
              "        buttonEl.style.display =\n",
              "          google.colab.kernel.accessAllowed ? 'block' : 'none';\n",
              "\n",
              "        async function convertToInteractive(key) {\n",
              "          const element = document.querySelector('#df-62c39349-0de5-4c1f-98a5-09ed1b54d825');\n",
              "          const dataTable =\n",
              "            await google.colab.kernel.invokeFunction('convertToInteractive',\n",
              "                                                     [key], {});\n",
              "          if (!dataTable) return;\n",
              "\n",
              "          const docLinkHtml = 'Like what you see? Visit the ' +\n",
              "            '<a target=\"_blank\" href=https://colab.research.google.com/notebooks/data_table.ipynb>data table notebook</a>'\n",
              "            + ' to learn more about interactive tables.';\n",
              "          element.innerHTML = '';\n",
              "          dataTable['output_type'] = 'display_data';\n",
              "          await google.colab.output.renderOutput(dataTable, element);\n",
              "          const docLink = document.createElement('div');\n",
              "          docLink.innerHTML = docLinkHtml;\n",
              "          element.appendChild(docLink);\n",
              "        }\n",
              "      </script>\n",
              "    </div>\n",
              "  </div>\n",
              "  "
            ]
          },
          "metadata": {},
          "execution_count": 290
        }
      ],
      "source": [
        "Dataset.head()"
      ]
    },
    {
      "cell_type": "code",
      "execution_count": 291,
      "metadata": {
        "id": "zAXEEzznfWOO"
      },
      "outputs": [],
      "source": [
        "df = pd.DataFrame(Dataset)"
      ]
    },
    {
      "cell_type": "code",
      "execution_count": 292,
      "metadata": {
        "id": "j-qrTxTyfgNW"
      },
      "outputs": [],
      "source": [
        "df = df.reset_index(drop=True)\n",
        "# print(df)"
      ]
    },
    {
      "cell_type": "code",
      "execution_count": 293,
      "metadata": {
        "colab": {
          "base_uri": "https://localhost:8080/",
          "height": 424
        },
        "id": "I1dHZZDBfixe",
        "outputId": "4d33da5f-6e2f-47c8-a9e3-f18853f59e96"
      },
      "outputs": [
        {
          "output_type": "execute_result",
          "data": {
            "text/plain": [
              "                                               headline  \\\n",
              "0                                   সময় হইলেই ধরব কামাল   \n",
              "1                    ওয়ান ষ্টপ সার্ভিস খুললেন বাবুনগরী   \n",
              "2                        কমিশনের হার বৃদ্ধি করবেন তারেক   \n",
              "3                     আর বাংলাদেশে ফুন দিব না বানকি মুন   \n",
              "4     ফোন না করায় জাতিসংঘের মহাসচিবের প্রতি ক্ষুব্ধ...   \n",
              "...                                                 ...   \n",
              "5575        বেনাপোলের ঘিবা সীমান্তে অস্ত্র ব্যবসায়ী আটক   \n",
              "5576         হাতির আক্রমণে সাবেক ছাত্রদল সভাপতির মৃত্যু   \n",
              "5577    অবরোধের পর ঢাকাচট্টগ্রাম মহাসড়কে যান চলাচল শুরু   \n",
              "5578  শ্রমিকদের অবরোধে ঢাকাময়মনসিংহ মহাসড়কে তীব্র যানজট   \n",
              "5579          এক আপত্তিকর ছবিতে  লাখ টাকা গেল ব্যবসায়ীর   \n",
              "\n",
              "                                                content  label  \n",
              "0     নারায়নগঞ্জের চাঞ্চল্যকর সাত খুন মামলায় অভিযুক্...      0  \n",
              "1     নিজস্ব মতিবেদক বিবিধ রাজনৈতিক সংকট সমাধানের পর...      0  \n",
              "2     লনডন মতিনিধি সংসদ নির্বাচনে জয় লাভ প্রধান মন্...      0  \n",
              "3     জাতিসংঘ মতিবেদক ভবিষ্যতে বাংলাদেশে টেলিফোন অংগ...      0  \n",
              "4     নিজস্ব মতিবেদক বাকশালের মহিলা আমীর প্রধান মন্ত...      0  \n",
              "...                                                 ...    ...  \n",
              "5575  যশোরের বেনাপোল সীমান্তের ঘিবা গ্রামের বাড়িতে অ...      1  \n",
              "5576  মৌলভীবাজার মৌলভীবাজারের জুড়ি উপজেলায় বন্য হাতি...      1  \n",
              "5577  নারায়ণগঞ্জের সোনারগাঁওয়ে বাসচাপায় শিক্ষার্থী আ...      1  \n",
              "5578  বকেয়া বেতনের দাবিতে রোববার সকালে গাজীপুর মহানগ...      1  \n",
              "5579  আপত্তিকর ছবি ভিডিও দেখিয়ে এক ব্যবসায়ী স্ত্রীর ...      1  \n",
              "\n",
              "[5579 rows x 3 columns]"
            ],
            "text/html": [
              "\n",
              "  <div id=\"df-ed6188e5-01da-4226-bdcd-9fedf77bfe5d\">\n",
              "    <div class=\"colab-df-container\">\n",
              "      <div>\n",
              "<style scoped>\n",
              "    .dataframe tbody tr th:only-of-type {\n",
              "        vertical-align: middle;\n",
              "    }\n",
              "\n",
              "    .dataframe tbody tr th {\n",
              "        vertical-align: top;\n",
              "    }\n",
              "\n",
              "    .dataframe thead th {\n",
              "        text-align: right;\n",
              "    }\n",
              "</style>\n",
              "<table border=\"1\" class=\"dataframe\">\n",
              "  <thead>\n",
              "    <tr style=\"text-align: right;\">\n",
              "      <th></th>\n",
              "      <th>headline</th>\n",
              "      <th>content</th>\n",
              "      <th>label</th>\n",
              "    </tr>\n",
              "  </thead>\n",
              "  <tbody>\n",
              "    <tr>\n",
              "      <th>0</th>\n",
              "      <td>সময় হইলেই ধরব কামাল</td>\n",
              "      <td>নারায়নগঞ্জের চাঞ্চল্যকর সাত খুন মামলায় অভিযুক্...</td>\n",
              "      <td>0</td>\n",
              "    </tr>\n",
              "    <tr>\n",
              "      <th>1</th>\n",
              "      <td>ওয়ান ষ্টপ সার্ভিস খুললেন বাবুনগরী</td>\n",
              "      <td>নিজস্ব মতিবেদক বিবিধ রাজনৈতিক সংকট সমাধানের পর...</td>\n",
              "      <td>0</td>\n",
              "    </tr>\n",
              "    <tr>\n",
              "      <th>2</th>\n",
              "      <td>কমিশনের হার বৃদ্ধি করবেন তারেক</td>\n",
              "      <td>লনডন মতিনিধি সংসদ নির্বাচনে জয় লাভ প্রধান মন্...</td>\n",
              "      <td>0</td>\n",
              "    </tr>\n",
              "    <tr>\n",
              "      <th>3</th>\n",
              "      <td>আর বাংলাদেশে ফুন দিব না বানকি মুন</td>\n",
              "      <td>জাতিসংঘ মতিবেদক ভবিষ্যতে বাংলাদেশে টেলিফোন অংগ...</td>\n",
              "      <td>0</td>\n",
              "    </tr>\n",
              "    <tr>\n",
              "      <th>4</th>\n",
              "      <td>ফোন না করায় জাতিসংঘের মহাসচিবের প্রতি ক্ষুব্ধ...</td>\n",
              "      <td>নিজস্ব মতিবেদক বাকশালের মহিলা আমীর প্রধান মন্ত...</td>\n",
              "      <td>0</td>\n",
              "    </tr>\n",
              "    <tr>\n",
              "      <th>...</th>\n",
              "      <td>...</td>\n",
              "      <td>...</td>\n",
              "      <td>...</td>\n",
              "    </tr>\n",
              "    <tr>\n",
              "      <th>5575</th>\n",
              "      <td>বেনাপোলের ঘিবা সীমান্তে অস্ত্র ব্যবসায়ী আটক</td>\n",
              "      <td>যশোরের বেনাপোল সীমান্তের ঘিবা গ্রামের বাড়িতে অ...</td>\n",
              "      <td>1</td>\n",
              "    </tr>\n",
              "    <tr>\n",
              "      <th>5576</th>\n",
              "      <td>হাতির আক্রমণে সাবেক ছাত্রদল সভাপতির মৃত্যু</td>\n",
              "      <td>মৌলভীবাজার মৌলভীবাজারের জুড়ি উপজেলায় বন্য হাতি...</td>\n",
              "      <td>1</td>\n",
              "    </tr>\n",
              "    <tr>\n",
              "      <th>5577</th>\n",
              "      <td>অবরোধের পর ঢাকাচট্টগ্রাম মহাসড়কে যান চলাচল শুরু</td>\n",
              "      <td>নারায়ণগঞ্জের সোনারগাঁওয়ে বাসচাপায় শিক্ষার্থী আ...</td>\n",
              "      <td>1</td>\n",
              "    </tr>\n",
              "    <tr>\n",
              "      <th>5578</th>\n",
              "      <td>শ্রমিকদের অবরোধে ঢাকাময়মনসিংহ মহাসড়কে তীব্র যানজট</td>\n",
              "      <td>বকেয়া বেতনের দাবিতে রোববার সকালে গাজীপুর মহানগ...</td>\n",
              "      <td>1</td>\n",
              "    </tr>\n",
              "    <tr>\n",
              "      <th>5579</th>\n",
              "      <td>এক আপত্তিকর ছবিতে  লাখ টাকা গেল ব্যবসায়ীর</td>\n",
              "      <td>আপত্তিকর ছবি ভিডিও দেখিয়ে এক ব্যবসায়ী স্ত্রীর ...</td>\n",
              "      <td>1</td>\n",
              "    </tr>\n",
              "  </tbody>\n",
              "</table>\n",
              "<p>5579 rows × 3 columns</p>\n",
              "</div>\n",
              "      <button class=\"colab-df-convert\" onclick=\"convertToInteractive('df-ed6188e5-01da-4226-bdcd-9fedf77bfe5d')\"\n",
              "              title=\"Convert this dataframe to an interactive table.\"\n",
              "              style=\"display:none;\">\n",
              "        \n",
              "  <svg xmlns=\"http://www.w3.org/2000/svg\" height=\"24px\"viewBox=\"0 0 24 24\"\n",
              "       width=\"24px\">\n",
              "    <path d=\"M0 0h24v24H0V0z\" fill=\"none\"/>\n",
              "    <path d=\"M18.56 5.44l.94 2.06.94-2.06 2.06-.94-2.06-.94-.94-2.06-.94 2.06-2.06.94zm-11 1L8.5 8.5l.94-2.06 2.06-.94-2.06-.94L8.5 2.5l-.94 2.06-2.06.94zm10 10l.94 2.06.94-2.06 2.06-.94-2.06-.94-.94-2.06-.94 2.06-2.06.94z\"/><path d=\"M17.41 7.96l-1.37-1.37c-.4-.4-.92-.59-1.43-.59-.52 0-1.04.2-1.43.59L10.3 9.45l-7.72 7.72c-.78.78-.78 2.05 0 2.83L4 21.41c.39.39.9.59 1.41.59.51 0 1.02-.2 1.41-.59l7.78-7.78 2.81-2.81c.8-.78.8-2.07 0-2.86zM5.41 20L4 18.59l7.72-7.72 1.47 1.35L5.41 20z\"/>\n",
              "  </svg>\n",
              "      </button>\n",
              "      \n",
              "  <style>\n",
              "    .colab-df-container {\n",
              "      display:flex;\n",
              "      flex-wrap:wrap;\n",
              "      gap: 12px;\n",
              "    }\n",
              "\n",
              "    .colab-df-convert {\n",
              "      background-color: #E8F0FE;\n",
              "      border: none;\n",
              "      border-radius: 50%;\n",
              "      cursor: pointer;\n",
              "      display: none;\n",
              "      fill: #1967D2;\n",
              "      height: 32px;\n",
              "      padding: 0 0 0 0;\n",
              "      width: 32px;\n",
              "    }\n",
              "\n",
              "    .colab-df-convert:hover {\n",
              "      background-color: #E2EBFA;\n",
              "      box-shadow: 0px 1px 2px rgba(60, 64, 67, 0.3), 0px 1px 3px 1px rgba(60, 64, 67, 0.15);\n",
              "      fill: #174EA6;\n",
              "    }\n",
              "\n",
              "    [theme=dark] .colab-df-convert {\n",
              "      background-color: #3B4455;\n",
              "      fill: #D2E3FC;\n",
              "    }\n",
              "\n",
              "    [theme=dark] .colab-df-convert:hover {\n",
              "      background-color: #434B5C;\n",
              "      box-shadow: 0px 1px 3px 1px rgba(0, 0, 0, 0.15);\n",
              "      filter: drop-shadow(0px 1px 2px rgba(0, 0, 0, 0.3));\n",
              "      fill: #FFFFFF;\n",
              "    }\n",
              "  </style>\n",
              "\n",
              "      <script>\n",
              "        const buttonEl =\n",
              "          document.querySelector('#df-ed6188e5-01da-4226-bdcd-9fedf77bfe5d button.colab-df-convert');\n",
              "        buttonEl.style.display =\n",
              "          google.colab.kernel.accessAllowed ? 'block' : 'none';\n",
              "\n",
              "        async function convertToInteractive(key) {\n",
              "          const element = document.querySelector('#df-ed6188e5-01da-4226-bdcd-9fedf77bfe5d');\n",
              "          const dataTable =\n",
              "            await google.colab.kernel.invokeFunction('convertToInteractive',\n",
              "                                                     [key], {});\n",
              "          if (!dataTable) return;\n",
              "\n",
              "          const docLinkHtml = 'Like what you see? Visit the ' +\n",
              "            '<a target=\"_blank\" href=https://colab.research.google.com/notebooks/data_table.ipynb>data table notebook</a>'\n",
              "            + ' to learn more about interactive tables.';\n",
              "          element.innerHTML = '';\n",
              "          dataTable['output_type'] = 'display_data';\n",
              "          await google.colab.output.renderOutput(dataTable, element);\n",
              "          const docLink = document.createElement('div');\n",
              "          docLink.innerHTML = docLinkHtml;\n",
              "          element.appendChild(docLink);\n",
              "        }\n",
              "      </script>\n",
              "    </div>\n",
              "  </div>\n",
              "  "
            ]
          },
          "metadata": {},
          "execution_count": 293
        }
      ],
      "source": [
        "df=df.dropna()\n",
        "df"
      ]
    },
    {
      "cell_type": "code",
      "execution_count": 294,
      "metadata": {
        "colab": {
          "base_uri": "https://localhost:8080/",
          "height": 143
        },
        "id": "-b4nsq1XfXke",
        "outputId": "0309d8d5-9733-4892-d8e7-452a935b40b9"
      },
      "outputs": [
        {
          "output_type": "execute_result",
          "data": {
            "text/plain": [
              "       headline  content\n",
              "label                   \n",
              "0          2790     2790\n",
              "1          2789     2789"
            ],
            "text/html": [
              "\n",
              "  <div id=\"df-d6629a2f-82d0-4b83-a032-84cf1ed1a2ff\">\n",
              "    <div class=\"colab-df-container\">\n",
              "      <div>\n",
              "<style scoped>\n",
              "    .dataframe tbody tr th:only-of-type {\n",
              "        vertical-align: middle;\n",
              "    }\n",
              "\n",
              "    .dataframe tbody tr th {\n",
              "        vertical-align: top;\n",
              "    }\n",
              "\n",
              "    .dataframe thead th {\n",
              "        text-align: right;\n",
              "    }\n",
              "</style>\n",
              "<table border=\"1\" class=\"dataframe\">\n",
              "  <thead>\n",
              "    <tr style=\"text-align: right;\">\n",
              "      <th></th>\n",
              "      <th>headline</th>\n",
              "      <th>content</th>\n",
              "    </tr>\n",
              "    <tr>\n",
              "      <th>label</th>\n",
              "      <th></th>\n",
              "      <th></th>\n",
              "    </tr>\n",
              "  </thead>\n",
              "  <tbody>\n",
              "    <tr>\n",
              "      <th>0</th>\n",
              "      <td>2790</td>\n",
              "      <td>2790</td>\n",
              "    </tr>\n",
              "    <tr>\n",
              "      <th>1</th>\n",
              "      <td>2789</td>\n",
              "      <td>2789</td>\n",
              "    </tr>\n",
              "  </tbody>\n",
              "</table>\n",
              "</div>\n",
              "      <button class=\"colab-df-convert\" onclick=\"convertToInteractive('df-d6629a2f-82d0-4b83-a032-84cf1ed1a2ff')\"\n",
              "              title=\"Convert this dataframe to an interactive table.\"\n",
              "              style=\"display:none;\">\n",
              "        \n",
              "  <svg xmlns=\"http://www.w3.org/2000/svg\" height=\"24px\"viewBox=\"0 0 24 24\"\n",
              "       width=\"24px\">\n",
              "    <path d=\"M0 0h24v24H0V0z\" fill=\"none\"/>\n",
              "    <path d=\"M18.56 5.44l.94 2.06.94-2.06 2.06-.94-2.06-.94-.94-2.06-.94 2.06-2.06.94zm-11 1L8.5 8.5l.94-2.06 2.06-.94-2.06-.94L8.5 2.5l-.94 2.06-2.06.94zm10 10l.94 2.06.94-2.06 2.06-.94-2.06-.94-.94-2.06-.94 2.06-2.06.94z\"/><path d=\"M17.41 7.96l-1.37-1.37c-.4-.4-.92-.59-1.43-.59-.52 0-1.04.2-1.43.59L10.3 9.45l-7.72 7.72c-.78.78-.78 2.05 0 2.83L4 21.41c.39.39.9.59 1.41.59.51 0 1.02-.2 1.41-.59l7.78-7.78 2.81-2.81c.8-.78.8-2.07 0-2.86zM5.41 20L4 18.59l7.72-7.72 1.47 1.35L5.41 20z\"/>\n",
              "  </svg>\n",
              "      </button>\n",
              "      \n",
              "  <style>\n",
              "    .colab-df-container {\n",
              "      display:flex;\n",
              "      flex-wrap:wrap;\n",
              "      gap: 12px;\n",
              "    }\n",
              "\n",
              "    .colab-df-convert {\n",
              "      background-color: #E8F0FE;\n",
              "      border: none;\n",
              "      border-radius: 50%;\n",
              "      cursor: pointer;\n",
              "      display: none;\n",
              "      fill: #1967D2;\n",
              "      height: 32px;\n",
              "      padding: 0 0 0 0;\n",
              "      width: 32px;\n",
              "    }\n",
              "\n",
              "    .colab-df-convert:hover {\n",
              "      background-color: #E2EBFA;\n",
              "      box-shadow: 0px 1px 2px rgba(60, 64, 67, 0.3), 0px 1px 3px 1px rgba(60, 64, 67, 0.15);\n",
              "      fill: #174EA6;\n",
              "    }\n",
              "\n",
              "    [theme=dark] .colab-df-convert {\n",
              "      background-color: #3B4455;\n",
              "      fill: #D2E3FC;\n",
              "    }\n",
              "\n",
              "    [theme=dark] .colab-df-convert:hover {\n",
              "      background-color: #434B5C;\n",
              "      box-shadow: 0px 1px 3px 1px rgba(0, 0, 0, 0.15);\n",
              "      filter: drop-shadow(0px 1px 2px rgba(0, 0, 0, 0.3));\n",
              "      fill: #FFFFFF;\n",
              "    }\n",
              "  </style>\n",
              "\n",
              "      <script>\n",
              "        const buttonEl =\n",
              "          document.querySelector('#df-d6629a2f-82d0-4b83-a032-84cf1ed1a2ff button.colab-df-convert');\n",
              "        buttonEl.style.display =\n",
              "          google.colab.kernel.accessAllowed ? 'block' : 'none';\n",
              "\n",
              "        async function convertToInteractive(key) {\n",
              "          const element = document.querySelector('#df-d6629a2f-82d0-4b83-a032-84cf1ed1a2ff');\n",
              "          const dataTable =\n",
              "            await google.colab.kernel.invokeFunction('convertToInteractive',\n",
              "                                                     [key], {});\n",
              "          if (!dataTable) return;\n",
              "\n",
              "          const docLinkHtml = 'Like what you see? Visit the ' +\n",
              "            '<a target=\"_blank\" href=https://colab.research.google.com/notebooks/data_table.ipynb>data table notebook</a>'\n",
              "            + ' to learn more about interactive tables.';\n",
              "          element.innerHTML = '';\n",
              "          dataTable['output_type'] = 'display_data';\n",
              "          await google.colab.output.renderOutput(dataTable, element);\n",
              "          const docLink = document.createElement('div');\n",
              "          docLink.innerHTML = docLinkHtml;\n",
              "          element.appendChild(docLink);\n",
              "        }\n",
              "      </script>\n",
              "    </div>\n",
              "  </div>\n",
              "  "
            ]
          },
          "metadata": {},
          "execution_count": 294
        }
      ],
      "source": [
        "df.groupby('label').agg('count')"
      ]
    },
    {
      "cell_type": "markdown",
      "metadata": {
        "id": "LEencYh2fp9w"
      },
      "source": [
        "# CNN"
      ]
    },
    {
      "cell_type": "code",
      "source": [
        "import pandas as pd\n",
        "import numpy as np\n",
        "import matplotlib.pyplot as plt\n",
        "import seaborn as sns\n",
        "from sklearn.model_selection import train_test_split\n",
        "from sklearn.preprocessing import LabelEncoder\n",
        "from keras.models import Model\n",
        "from keras.layers import LSTM, Activation, Dense, Dropout, Input, Embedding\n",
        "from tensorflow.keras.optimizers import RMSprop\n",
        "from keras.preprocessing.text import Tokenizer\n",
        "from keras.preprocessing import sequence\n",
        "from tensorflow.keras.utils import to_categorical\n",
        "from keras.callbacks import EarlyStopping\n",
        "%matplotlib inline"
      ],
      "metadata": {
        "id": "twb4FbfDuAKg"
      },
      "execution_count": 295,
      "outputs": []
    },
    {
      "cell_type": "code",
      "execution_count": 296,
      "metadata": {
        "id": "Srr-od3_fkPm"
      },
      "outputs": [],
      "source": [
        "X = df.content\n",
        "Y = df.label\n",
        "le = LabelEncoder()\n",
        "Y = le.fit_transform(Y)\n",
        "Y = Y.reshape(-1,1)"
      ]
    },
    {
      "cell_type": "code",
      "source": [
        "print(Y)"
      ],
      "metadata": {
        "colab": {
          "base_uri": "https://localhost:8080/"
        },
        "id": "DJyzRilkdOa_",
        "outputId": "b2933330-ec2d-4184-ea65-eb4d44b409be"
      },
      "execution_count": 297,
      "outputs": [
        {
          "output_type": "stream",
          "name": "stdout",
          "text": [
            "[[0]\n",
            " [0]\n",
            " [0]\n",
            " ...\n",
            " [1]\n",
            " [1]\n",
            " [1]]\n"
          ]
        }
      ]
    },
    {
      "cell_type": "code",
      "execution_count": 298,
      "metadata": {
        "id": "tnPFYzSxf2we"
      },
      "outputs": [],
      "source": [
        "X_train,X_test,Y_train,Y_test = train_test_split(X,Y,test_size=0.25, random_state=1)"
      ]
    },
    {
      "cell_type": "code",
      "execution_count": 299,
      "metadata": {
        "id": "nZ8zJpc4h-vH"
      },
      "outputs": [],
      "source": [
        "# fit a tokenizer\n",
        "def create_tokenizer(lines):\n",
        "\ttokenizer = Tokenizer()\n",
        "\ttokenizer.fit_on_texts(lines)\n",
        "\treturn tokenizer"
      ]
    },
    {
      "cell_type": "code",
      "execution_count": 300,
      "metadata": {
        "id": "QkcRE2R2nqZ3"
      },
      "outputs": [],
      "source": [
        "  # calculate the maximum document length\n",
        "def max_length(lines):\n",
        "\treturn max([len(s.split()) for s in lines])"
      ]
    },
    {
      "cell_type": "code",
      "execution_count": 301,
      "metadata": {
        "id": "elS-VdJNnsKn"
      },
      "outputs": [],
      "source": [
        "# calculate vocabulary size\n",
        "vocab_size = 89000"
      ]
    },
    {
      "cell_type": "code",
      "execution_count": 302,
      "metadata": {
        "id": "xnf2GoFPnzBA"
      },
      "outputs": [],
      "source": [
        "# encode a list of lines\n",
        "def encode_text(tokenizer, lines, length):\n",
        "\t# integer encode\n",
        "\tencoded = tokenizer.texts_to_sequences(lines)\n",
        "\t# pad encoded sequences\n",
        "\tpadded = pad_sequences(encoded, maxlen=length, padding='post')\n",
        "\treturn padded"
      ]
    },
    {
      "cell_type": "code",
      "execution_count": 303,
      "metadata": {
        "id": "nbefD1ShoSpJ"
      },
      "outputs": [],
      "source": [
        "\n",
        "from pickle import load\n",
        "from numpy import array\n",
        "from keras.preprocessing.text import Tokenizer\n",
        "from keras.preprocessing.sequence import pad_sequences\n",
        "from keras.utils.vis_utils import plot_model\n",
        "from keras.models import Model\n",
        "from keras.layers import Input\n",
        "from keras.layers import Dense\n",
        "from keras.layers import Flatten\n",
        "from keras.layers import Dropout\n",
        "from keras.layers import Embedding\n",
        "from keras.layers.convolutional import Conv1D\n",
        "from keras.layers.convolutional import MaxPooling1D\n",
        "from keras.layers.merge import concatenate\n",
        " "
      ]
    },
    {
      "cell_type": "code",
      "execution_count": 304,
      "metadata": {
        "id": "sFucmeOJoLVH"
      },
      "outputs": [],
      "source": [
        "# define the model\n",
        "def define_model(length, vocab_size):\n",
        "\t# channel 1\n",
        "\tinputs1 = Input(shape=(length,))\n",
        "\tembedding1 = Embedding(vocab_size, 100)(inputs1)\n",
        "\tconv1 = Conv1D(filters=32, kernel_size=4, activation='relu')(embedding1)\n",
        "\tdrop1 = Dropout(0.5)(conv1)\n",
        "\tpool1 = MaxPooling1D(pool_size=2)(drop1)\n",
        "\tflat1 = Flatten()(pool1)\n",
        "\t# channel 2\n",
        "\tinputs2 = Input(shape=(length,))\n",
        "\tembedding2 = Embedding(vocab_size, 100)(inputs2)\n",
        "\tconv2 = Conv1D(filters=32, kernel_size=6, activation='relu')(embedding2)\n",
        "\tdrop2 = Dropout(0.5)(conv2)\n",
        "\tpool2 = MaxPooling1D(pool_size=2)(drop2)\n",
        "\tflat2 = Flatten()(pool2)\n",
        "\t# channel 3\n",
        "\tinputs3 = Input(shape=(length,))\n",
        "\tembedding3 = Embedding(vocab_size, 100)(inputs3)\n",
        "\tconv3 = Conv1D(filters=32, kernel_size=8, activation='relu')(embedding3)\n",
        "\tdrop3 = Dropout(0.5)(conv3)\n",
        "\tpool3 = MaxPooling1D(pool_size=2)(drop3)\n",
        "\tflat3 = Flatten()(pool3)\n",
        "\t# merge\n",
        "\tmerged = concatenate([flat1, flat2, flat3])\n",
        "\t# interpretation\n",
        "\tdense1 = Dense(10, activation='relu')(merged)\n",
        "\toutputs = Dense(1, activation='sigmoid')(dense1)\n",
        "\tmodel = Model(inputs=[inputs1, inputs2, inputs3], outputs=outputs)\n",
        "\t# compile\n",
        "\tmodel.compile(loss='binary_crossentropy', optimizer='adam', metrics=['accuracy'])\n",
        "\t# summarize\n",
        "\tprint(model.summary())\n",
        "\tplot_model(model, show_shapes=True, to_file='multichannel.png')\n",
        "\treturn model"
      ]
    },
    {
      "cell_type": "code",
      "execution_count": 305,
      "metadata": {
        "colab": {
          "base_uri": "https://localhost:8080/"
        },
        "id": "TcMmQ_RnoWT3",
        "outputId": "bab87ee1-8c8b-4d35-f43d-ac7ee9a54a4f"
      },
      "outputs": [
        {
          "output_type": "stream",
          "name": "stdout",
          "text": [
            "Max document length: 1861\n",
            "Vocabulary size: 77224\n",
            "(4184, 1861)\n",
            "Model: \"model_9\"\n",
            "__________________________________________________________________________________________________\n",
            " Layer (type)                   Output Shape         Param #     Connected to                     \n",
            "==================================================================================================\n",
            " input_28 (InputLayer)          [(None, 1861)]       0           []                               \n",
            "                                                                                                  \n",
            " input_29 (InputLayer)          [(None, 1861)]       0           []                               \n",
            "                                                                                                  \n",
            " input_30 (InputLayer)          [(None, 1861)]       0           []                               \n",
            "                                                                                                  \n",
            " embedding_27 (Embedding)       (None, 1861, 100)    7722400     ['input_28[0][0]']               \n",
            "                                                                                                  \n",
            " embedding_28 (Embedding)       (None, 1861, 100)    7722400     ['input_29[0][0]']               \n",
            "                                                                                                  \n",
            " embedding_29 (Embedding)       (None, 1861, 100)    7722400     ['input_30[0][0]']               \n",
            "                                                                                                  \n",
            " conv1d_27 (Conv1D)             (None, 1858, 32)     12832       ['embedding_27[0][0]']           \n",
            "                                                                                                  \n",
            " conv1d_28 (Conv1D)             (None, 1856, 32)     19232       ['embedding_28[0][0]']           \n",
            "                                                                                                  \n",
            " conv1d_29 (Conv1D)             (None, 1854, 32)     25632       ['embedding_29[0][0]']           \n",
            "                                                                                                  \n",
            " dropout_27 (Dropout)           (None, 1858, 32)     0           ['conv1d_27[0][0]']              \n",
            "                                                                                                  \n",
            " dropout_28 (Dropout)           (None, 1856, 32)     0           ['conv1d_28[0][0]']              \n",
            "                                                                                                  \n",
            " dropout_29 (Dropout)           (None, 1854, 32)     0           ['conv1d_29[0][0]']              \n",
            "                                                                                                  \n",
            " max_pooling1d_27 (MaxPooling1D  (None, 929, 32)     0           ['dropout_27[0][0]']             \n",
            " )                                                                                                \n",
            "                                                                                                  \n",
            " max_pooling1d_28 (MaxPooling1D  (None, 928, 32)     0           ['dropout_28[0][0]']             \n",
            " )                                                                                                \n",
            "                                                                                                  \n",
            " max_pooling1d_29 (MaxPooling1D  (None, 927, 32)     0           ['dropout_29[0][0]']             \n",
            " )                                                                                                \n",
            "                                                                                                  \n",
            " flatten_27 (Flatten)           (None, 29728)        0           ['max_pooling1d_27[0][0]']       \n",
            "                                                                                                  \n",
            " flatten_28 (Flatten)           (None, 29696)        0           ['max_pooling1d_28[0][0]']       \n",
            "                                                                                                  \n",
            " flatten_29 (Flatten)           (None, 29664)        0           ['max_pooling1d_29[0][0]']       \n",
            "                                                                                                  \n",
            " concatenate_9 (Concatenate)    (None, 89088)        0           ['flatten_27[0][0]',             \n",
            "                                                                  'flatten_28[0][0]',             \n",
            "                                                                  'flatten_29[0][0]']             \n",
            "                                                                                                  \n",
            " dense_18 (Dense)               (None, 10)           890890      ['concatenate_9[0][0]']          \n",
            "                                                                                                  \n",
            " dense_19 (Dense)               (None, 1)            11          ['dense_18[0][0]']               \n",
            "                                                                                                  \n",
            "==================================================================================================\n",
            "Total params: 24,115,797\n",
            "Trainable params: 24,115,797\n",
            "Non-trainable params: 0\n",
            "__________________________________________________________________________________________________\n",
            "None\n",
            "Epoch 1/10\n",
            "262/262 [==============================] - 8s 25ms/step - loss: 0.3155 - accuracy: 0.8463\n",
            "Epoch 2/10\n",
            "262/262 [==============================] - 7s 25ms/step - loss: 0.0398 - accuracy: 0.9883\n",
            "Epoch 3/10\n",
            "262/262 [==============================] - 7s 25ms/step - loss: 0.0035 - accuracy: 0.9990\n",
            "Epoch 4/10\n",
            "262/262 [==============================] - 7s 26ms/step - loss: 0.0016 - accuracy: 0.9995\n",
            "Epoch 5/10\n",
            "262/262 [==============================] - 7s 25ms/step - loss: 0.0032 - accuracy: 0.9990\n",
            "Epoch 6/10\n",
            "262/262 [==============================] - 7s 25ms/step - loss: 0.0029 - accuracy: 0.9998\n",
            "Epoch 7/10\n",
            "262/262 [==============================] - 7s 25ms/step - loss: 0.0057 - accuracy: 0.9993\n",
            "Epoch 8/10\n",
            "262/262 [==============================] - 7s 25ms/step - loss: 3.7509e-04 - accuracy: 1.0000\n",
            "Epoch 9/10\n",
            "262/262 [==============================] - 7s 25ms/step - loss: 2.9106e-04 - accuracy: 1.0000\n",
            "Epoch 10/10\n",
            "262/262 [==============================] - 7s 25ms/step - loss: 1.6493e-04 - accuracy: 1.0000\n"
          ]
        }
      ],
      "source": [
        "tokenizer = create_tokenizer(X_train)\n",
        "# calculate max document length\n",
        "length = max_length(X_train)\n",
        "# calculate vocabulary size\n",
        "vocab_size = len(tokenizer.word_index) + 1\n",
        "print('Max document length: %d' % length)\n",
        "print('Vocabulary size: %d' % vocab_size)\n",
        "# encode data\n",
        "trainX = encode_text(tokenizer, X_train, length)\n",
        "print(trainX.shape)\n",
        " \n",
        "# define model\n",
        "model = define_model(length, vocab_size)\n",
        "# fit model\n",
        "model.fit([trainX,trainX,trainX], array(Y_train), epochs=10, batch_size=16)\n",
        "# save the model\n",
        "model.save('model.h5')"
      ]
    },
    {
      "cell_type": "code",
      "execution_count": 306,
      "metadata": {
        "id": "cvEOqA3fwivJ",
        "colab": {
          "base_uri": "https://localhost:8080/"
        },
        "outputId": "0a7e8474-1d4d-4d17-f99c-fd8ae7b2c355"
      },
      "outputs": [
        {
          "output_type": "execute_result",
          "data": {
            "text/plain": [
              "numpy.ndarray"
            ]
          },
          "metadata": {},
          "execution_count": 306
        }
      ],
      "source": [
        "type(Y_test)"
      ]
    },
    {
      "cell_type": "code",
      "execution_count": 318,
      "metadata": {
        "id": "UnVxFIXIotmA",
        "colab": {
          "base_uri": "https://localhost:8080/"
        },
        "outputId": "33331601-8b64-44f4-ecd0-5b8165b30fce"
      },
      "outputs": [
        {
          "output_type": "stream",
          "name": "stdout",
          "text": [
            "Train Accuracy: 99.976099\n",
            "Test Accuracy: 96.702510\n"
          ]
        }
      ],
      "source": [
        "loss, acc = model.evaluate([trainX,trainX,trainX], array(Y_train), verbose=0)\n",
        "print('Train Accuracy: %f' % (acc*100))\n",
        "\n",
        "testX = encode_text(tokenizer, X_test, length)\n",
        "\n",
        "loss, acc = model.evaluate([testX,testX,testX],array(Y_test), verbose=0)\n",
        "print('Test Accuracy: %f' % (acc*100))"
      ]
    },
    {
      "cell_type": "code",
      "execution_count": 319,
      "metadata": {
        "id": "H5ctglBSsWKr",
        "colab": {
          "base_uri": "https://localhost:8080/"
        },
        "outputId": "9be1211f-c863-4472-ab14-ade919cdda8b"
      },
      "outputs": [
        {
          "output_type": "execute_result",
          "data": {
            "text/plain": [
              "array([[  130,   144,  2317, ...,     0,     0,     0],\n",
              "       [ 1291, 15562,    20, ...,     0,     0,     0],\n",
              "       [ 2188,  7446,   729, ...,     0,     0,     0],\n",
              "       ...,\n",
              "       [  412,  1203,   395, ...,     0,     0,     0],\n",
              "       [   33,  2415,  2869, ...,     0,     0,     0],\n",
              "       [53789,  3721,  6871, ...,     0,     0,     0]], dtype=int32)"
            ]
          },
          "metadata": {},
          "execution_count": 319
        }
      ],
      "source": [
        "testX"
      ]
    },
    {
      "cell_type": "code",
      "execution_count": 320,
      "metadata": {
        "id": "G9Dhu_6zs8Xx",
        "colab": {
          "base_uri": "https://localhost:8080/"
        },
        "outputId": "abfa402f-84c9-4115-90e0-ec52388cc2a7"
      },
      "outputs": [
        {
          "output_type": "execute_result",
          "data": {
            "text/plain": [
              "array([[ 1161,  1417,   343, ...,     0,     0,     0],\n",
              "       [  326,    97,   371, ...,     0,     0,     0],\n",
              "       [  130,   144, 29143, ...,     0,     0,     0],\n",
              "       ...,\n",
              "       [15942,    28,    67, ...,     0,     0,     0],\n",
              "       [  457,   144,   103, ...,     0,     0,     0],\n",
              "       [ 1416,   255,  1385, ...,     0,     0,     0]], dtype=int32)"
            ]
          },
          "metadata": {},
          "execution_count": 320
        }
      ],
      "source": [
        "trainX"
      ]
    },
    {
      "cell_type": "code",
      "execution_count": 321,
      "metadata": {
        "id": "et7VAec7zFAg"
      },
      "outputs": [],
      "source": [
        "CNN_pred_y = model.predict([testX, testX, testX])"
      ]
    },
    {
      "cell_type": "code",
      "source": [
        "from sklearn.metrics import classification_report"
      ],
      "metadata": {
        "id": "4g-ncRAmzRI9"
      },
      "execution_count": 322,
      "outputs": []
    },
    {
      "cell_type": "code",
      "execution_count": 323,
      "metadata": {
        "id": "a85oyzAr3Dmp",
        "colab": {
          "base_uri": "https://localhost:8080/"
        },
        "outputId": "53aed75a-edc9-496a-d1a7-b677fabf108a"
      },
      "outputs": [
        {
          "output_type": "execute_result",
          "data": {
            "text/plain": [
              "{'0': {'precision': 0.9690140845070423,\n",
              "  'recall': 0.9662921348314607,\n",
              "  'f1-score': 0.9676511954992968,\n",
              "  'support': 712},\n",
              " '1': {'precision': 0.964963503649635,\n",
              "  'recall': 0.9677891654465594,\n",
              "  'f1-score': 0.966374269005848,\n",
              "  'support': 683},\n",
              " 'accuracy': 0.9670250896057347,\n",
              " 'macro avg': {'precision': 0.9669887940783386,\n",
              "  'recall': 0.9670406501390101,\n",
              "  'f1-score': 0.9670127322525723,\n",
              "  'support': 1395},\n",
              " 'weighted avg': {'precision': 0.9670308968901182,\n",
              "  'recall': 0.9670250896057347,\n",
              "  'f1-score': 0.9670260049652284,\n",
              "  'support': 1395}}"
            ]
          },
          "metadata": {},
          "execution_count": 323
        }
      ],
      "source": [
        "classification_report(Y_test, np.around(CNN_pred_y), output_dict=True)"
      ]
    },
    {
      "cell_type": "code",
      "execution_count": 324,
      "metadata": {
        "id": "WFGQA_dJ7ysr",
        "colab": {
          "base_uri": "https://localhost:8080/"
        },
        "outputId": "1fde53dc-4d5b-4079-ee00-e3ac5b981cb9"
      },
      "outputs": [
        {
          "output_type": "execute_result",
          "data": {
            "text/plain": [
              "array([[1.],\n",
              "       [0.],\n",
              "       [0.],\n",
              "       [1.],\n",
              "       [0.]], dtype=float32)"
            ]
          },
          "metadata": {},
          "execution_count": 324
        }
      ],
      "source": [
        "np.around(CNN_pred_y[20:25])"
      ]
    },
    {
      "cell_type": "code",
      "execution_count": 325,
      "metadata": {
        "id": "02hXJh2m79Ln",
        "colab": {
          "base_uri": "https://localhost:8080/"
        },
        "outputId": "984761c2-755e-48ad-b05d-7a7fcadd42f9"
      },
      "outputs": [
        {
          "output_type": "execute_result",
          "data": {
            "text/plain": [
              "array([[1],\n",
              "       [0],\n",
              "       [0],\n",
              "       [1],\n",
              "       [0]])"
            ]
          },
          "metadata": {},
          "execution_count": 325
        }
      ],
      "source": [
        "Y_test[20:25]"
      ]
    },
    {
      "cell_type": "code",
      "source": [],
      "metadata": {
        "id": "EEx6tPWiziF7"
      },
      "execution_count": 325,
      "outputs": []
    }
  ],
  "metadata": {
    "colab": {
      "collapsed_sections": [],
      "provenance": [],
      "authorship_tag": "ABX9TyM3uiyPTNlwyCJc022OAlHr",
      "include_colab_link": true
    },
    "kernelspec": {
      "display_name": "Python 3",
      "name": "python3"
    },
    "language_info": {
      "name": "python"
    },
    "accelerator": "GPU",
    "gpuClass": "standard"
  },
  "nbformat": 4,
  "nbformat_minor": 0
}