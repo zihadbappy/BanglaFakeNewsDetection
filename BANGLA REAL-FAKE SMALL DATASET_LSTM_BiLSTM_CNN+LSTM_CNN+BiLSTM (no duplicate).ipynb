{
  "cells": [
    {
      "cell_type": "markdown",
      "metadata": {
        "id": "view-in-github",
        "colab_type": "text"
      },
      "source": [
        "<a href=\"https://colab.research.google.com/github/zihadbappy/bnfake/blob/main/Md_Gulzar_Hussain_LSTM_BiLSTM_CNN%2BLSTM_CNN%2BBiLSTM.ipynb\" target=\"_parent\"><img src=\"https://colab.research.google.com/assets/colab-badge.svg\" alt=\"Open In Colab\"/></a>"
      ]
    },
    {
      "cell_type": "code",
      "execution_count": 291,
      "metadata": {
        "colab": {
          "base_uri": "https://localhost:8080/"
        },
        "id": "yWwzky88kQDW",
        "outputId": "7ac58113-dcc0-4f29-c2a8-1d51cbfb3acf"
      },
      "outputs": [
        {
          "output_type": "stream",
          "name": "stdout",
          "text": [
            "fatal: destination path 'FakeDatasets' already exists and is not an empty directory.\n"
          ]
        }
      ],
      "source": [
        "!git clone https://github.com/zihadbappy/FakeDatasets.git"
      ]
    },
    {
      "cell_type": "code",
      "execution_count": 292,
      "metadata": {
        "id": "zUKl__8RkaX0"
      },
      "outputs": [],
      "source": [
        "import pandas as pd\n",
        "Dataset= pd.read_excel('/content/FakeDatasets/FinalData1.xlsx')"
      ]
    },
    {
      "cell_type": "code",
      "source": [
        "# Dataset"
      ],
      "metadata": {
        "id": "mxs45ae1-Yz_"
      },
      "execution_count": 293,
      "outputs": []
    },
    {
      "cell_type": "code",
      "source": [
        "df= Dataset.filter(['Title','Statement', 'Class'], axis=1)"
      ],
      "metadata": {
        "id": "ZYQ5NnOS-cTN"
      },
      "execution_count": 294,
      "outputs": []
    },
    {
      "cell_type": "code",
      "source": [
        "df.loc[(df.Class=='Real'),'Class']=1\n",
        "df.loc[(df.Class=='Fake'),'Class']=0"
      ],
      "metadata": {
        "id": "z5Nnz_56-nqQ"
      },
      "execution_count": 295,
      "outputs": []
    },
    {
      "cell_type": "code",
      "source": [
        "df['Class']=df['Class'].astype('int')\n",
        "df['Class'].dtypes"
      ],
      "metadata": {
        "colab": {
          "base_uri": "https://localhost:8080/"
        },
        "id": "dp5ARzc5-wy2",
        "outputId": "17ae95ff-6917-4195-ed9d-9a4e27d0f2e5"
      },
      "execution_count": 296,
      "outputs": [
        {
          "output_type": "execute_result",
          "data": {
            "text/plain": [
              "dtype('int64')"
            ]
          },
          "metadata": {},
          "execution_count": 296
        }
      ]
    },
    {
      "cell_type": "code",
      "source": [
        "df.columns=['headline', 'content', 'label']"
      ],
      "metadata": {
        "id": "J8l0oBbm-1yb"
      },
      "execution_count": 297,
      "outputs": []
    },
    {
      "cell_type": "code",
      "source": [
        "df.groupby('label').agg('count')"
      ],
      "metadata": {
        "colab": {
          "base_uri": "https://localhost:8080/",
          "height": 143
        },
        "id": "qRZ4xJ0R-4NX",
        "outputId": "f9edf32d-102e-470a-94a5-c5998cc1ca4d"
      },
      "execution_count": 298,
      "outputs": [
        {
          "output_type": "execute_result",
          "data": {
            "text/plain": [
              "       headline  content\n",
              "label                   \n",
              "0           993      993\n",
              "1          1548     1548"
            ],
            "text/html": [
              "\n",
              "  <div id=\"df-80b57687-60d1-4b6b-9a30-2c1d8939a68d\">\n",
              "    <div class=\"colab-df-container\">\n",
              "      <div>\n",
              "<style scoped>\n",
              "    .dataframe tbody tr th:only-of-type {\n",
              "        vertical-align: middle;\n",
              "    }\n",
              "\n",
              "    .dataframe tbody tr th {\n",
              "        vertical-align: top;\n",
              "    }\n",
              "\n",
              "    .dataframe thead th {\n",
              "        text-align: right;\n",
              "    }\n",
              "</style>\n",
              "<table border=\"1\" class=\"dataframe\">\n",
              "  <thead>\n",
              "    <tr style=\"text-align: right;\">\n",
              "      <th></th>\n",
              "      <th>headline</th>\n",
              "      <th>content</th>\n",
              "    </tr>\n",
              "    <tr>\n",
              "      <th>label</th>\n",
              "      <th></th>\n",
              "      <th></th>\n",
              "    </tr>\n",
              "  </thead>\n",
              "  <tbody>\n",
              "    <tr>\n",
              "      <th>0</th>\n",
              "      <td>993</td>\n",
              "      <td>993</td>\n",
              "    </tr>\n",
              "    <tr>\n",
              "      <th>1</th>\n",
              "      <td>1548</td>\n",
              "      <td>1548</td>\n",
              "    </tr>\n",
              "  </tbody>\n",
              "</table>\n",
              "</div>\n",
              "      <button class=\"colab-df-convert\" onclick=\"convertToInteractive('df-80b57687-60d1-4b6b-9a30-2c1d8939a68d')\"\n",
              "              title=\"Convert this dataframe to an interactive table.\"\n",
              "              style=\"display:none;\">\n",
              "        \n",
              "  <svg xmlns=\"http://www.w3.org/2000/svg\" height=\"24px\"viewBox=\"0 0 24 24\"\n",
              "       width=\"24px\">\n",
              "    <path d=\"M0 0h24v24H0V0z\" fill=\"none\"/>\n",
              "    <path d=\"M18.56 5.44l.94 2.06.94-2.06 2.06-.94-2.06-.94-.94-2.06-.94 2.06-2.06.94zm-11 1L8.5 8.5l.94-2.06 2.06-.94-2.06-.94L8.5 2.5l-.94 2.06-2.06.94zm10 10l.94 2.06.94-2.06 2.06-.94-2.06-.94-.94-2.06-.94 2.06-2.06.94z\"/><path d=\"M17.41 7.96l-1.37-1.37c-.4-.4-.92-.59-1.43-.59-.52 0-1.04.2-1.43.59L10.3 9.45l-7.72 7.72c-.78.78-.78 2.05 0 2.83L4 21.41c.39.39.9.59 1.41.59.51 0 1.02-.2 1.41-.59l7.78-7.78 2.81-2.81c.8-.78.8-2.07 0-2.86zM5.41 20L4 18.59l7.72-7.72 1.47 1.35L5.41 20z\"/>\n",
              "  </svg>\n",
              "      </button>\n",
              "      \n",
              "  <style>\n",
              "    .colab-df-container {\n",
              "      display:flex;\n",
              "      flex-wrap:wrap;\n",
              "      gap: 12px;\n",
              "    }\n",
              "\n",
              "    .colab-df-convert {\n",
              "      background-color: #E8F0FE;\n",
              "      border: none;\n",
              "      border-radius: 50%;\n",
              "      cursor: pointer;\n",
              "      display: none;\n",
              "      fill: #1967D2;\n",
              "      height: 32px;\n",
              "      padding: 0 0 0 0;\n",
              "      width: 32px;\n",
              "    }\n",
              "\n",
              "    .colab-df-convert:hover {\n",
              "      background-color: #E2EBFA;\n",
              "      box-shadow: 0px 1px 2px rgba(60, 64, 67, 0.3), 0px 1px 3px 1px rgba(60, 64, 67, 0.15);\n",
              "      fill: #174EA6;\n",
              "    }\n",
              "\n",
              "    [theme=dark] .colab-df-convert {\n",
              "      background-color: #3B4455;\n",
              "      fill: #D2E3FC;\n",
              "    }\n",
              "\n",
              "    [theme=dark] .colab-df-convert:hover {\n",
              "      background-color: #434B5C;\n",
              "      box-shadow: 0px 1px 3px 1px rgba(0, 0, 0, 0.15);\n",
              "      filter: drop-shadow(0px 1px 2px rgba(0, 0, 0, 0.3));\n",
              "      fill: #FFFFFF;\n",
              "    }\n",
              "  </style>\n",
              "\n",
              "      <script>\n",
              "        const buttonEl =\n",
              "          document.querySelector('#df-80b57687-60d1-4b6b-9a30-2c1d8939a68d button.colab-df-convert');\n",
              "        buttonEl.style.display =\n",
              "          google.colab.kernel.accessAllowed ? 'block' : 'none';\n",
              "\n",
              "        async function convertToInteractive(key) {\n",
              "          const element = document.querySelector('#df-80b57687-60d1-4b6b-9a30-2c1d8939a68d');\n",
              "          const dataTable =\n",
              "            await google.colab.kernel.invokeFunction('convertToInteractive',\n",
              "                                                     [key], {});\n",
              "          if (!dataTable) return;\n",
              "\n",
              "          const docLinkHtml = 'Like what you see? Visit the ' +\n",
              "            '<a target=\"_blank\" href=https://colab.research.google.com/notebooks/data_table.ipynb>data table notebook</a>'\n",
              "            + ' to learn more about interactive tables.';\n",
              "          element.innerHTML = '';\n",
              "          dataTable['output_type'] = 'display_data';\n",
              "          await google.colab.output.renderOutput(dataTable, element);\n",
              "          const docLink = document.createElement('div');\n",
              "          docLink.innerHTML = docLinkHtml;\n",
              "          element.appendChild(docLink);\n",
              "        }\n",
              "      </script>\n",
              "    </div>\n",
              "  </div>\n",
              "  "
            ]
          },
          "metadata": {},
          "execution_count": 298
        }
      ]
    },
    {
      "cell_type": "code",
      "source": [
        "df = df.drop_duplicates(subset='headline', keep=\"first\")\n"
      ],
      "metadata": {
        "id": "l356vGP8_B4W"
      },
      "execution_count": 299,
      "outputs": []
    },
    {
      "cell_type": "code",
      "source": [
        "df.groupby('label').agg('count')"
      ],
      "metadata": {
        "colab": {
          "base_uri": "https://localhost:8080/",
          "height": 143
        },
        "id": "xA6CzVd0DEVC",
        "outputId": "c6dd2c5b-94f9-47a4-a1f0-dd5af968fc29"
      },
      "execution_count": 300,
      "outputs": [
        {
          "output_type": "execute_result",
          "data": {
            "text/plain": [
              "       headline  content\n",
              "label                   \n",
              "0           948      948\n",
              "1          1545     1545"
            ],
            "text/html": [
              "\n",
              "  <div id=\"df-d4fcff2c-0283-4c43-ba70-bdcb8a5c2248\">\n",
              "    <div class=\"colab-df-container\">\n",
              "      <div>\n",
              "<style scoped>\n",
              "    .dataframe tbody tr th:only-of-type {\n",
              "        vertical-align: middle;\n",
              "    }\n",
              "\n",
              "    .dataframe tbody tr th {\n",
              "        vertical-align: top;\n",
              "    }\n",
              "\n",
              "    .dataframe thead th {\n",
              "        text-align: right;\n",
              "    }\n",
              "</style>\n",
              "<table border=\"1\" class=\"dataframe\">\n",
              "  <thead>\n",
              "    <tr style=\"text-align: right;\">\n",
              "      <th></th>\n",
              "      <th>headline</th>\n",
              "      <th>content</th>\n",
              "    </tr>\n",
              "    <tr>\n",
              "      <th>label</th>\n",
              "      <th></th>\n",
              "      <th></th>\n",
              "    </tr>\n",
              "  </thead>\n",
              "  <tbody>\n",
              "    <tr>\n",
              "      <th>0</th>\n",
              "      <td>948</td>\n",
              "      <td>948</td>\n",
              "    </tr>\n",
              "    <tr>\n",
              "      <th>1</th>\n",
              "      <td>1545</td>\n",
              "      <td>1545</td>\n",
              "    </tr>\n",
              "  </tbody>\n",
              "</table>\n",
              "</div>\n",
              "      <button class=\"colab-df-convert\" onclick=\"convertToInteractive('df-d4fcff2c-0283-4c43-ba70-bdcb8a5c2248')\"\n",
              "              title=\"Convert this dataframe to an interactive table.\"\n",
              "              style=\"display:none;\">\n",
              "        \n",
              "  <svg xmlns=\"http://www.w3.org/2000/svg\" height=\"24px\"viewBox=\"0 0 24 24\"\n",
              "       width=\"24px\">\n",
              "    <path d=\"M0 0h24v24H0V0z\" fill=\"none\"/>\n",
              "    <path d=\"M18.56 5.44l.94 2.06.94-2.06 2.06-.94-2.06-.94-.94-2.06-.94 2.06-2.06.94zm-11 1L8.5 8.5l.94-2.06 2.06-.94-2.06-.94L8.5 2.5l-.94 2.06-2.06.94zm10 10l.94 2.06.94-2.06 2.06-.94-2.06-.94-.94-2.06-.94 2.06-2.06.94z\"/><path d=\"M17.41 7.96l-1.37-1.37c-.4-.4-.92-.59-1.43-.59-.52 0-1.04.2-1.43.59L10.3 9.45l-7.72 7.72c-.78.78-.78 2.05 0 2.83L4 21.41c.39.39.9.59 1.41.59.51 0 1.02-.2 1.41-.59l7.78-7.78 2.81-2.81c.8-.78.8-2.07 0-2.86zM5.41 20L4 18.59l7.72-7.72 1.47 1.35L5.41 20z\"/>\n",
              "  </svg>\n",
              "      </button>\n",
              "      \n",
              "  <style>\n",
              "    .colab-df-container {\n",
              "      display:flex;\n",
              "      flex-wrap:wrap;\n",
              "      gap: 12px;\n",
              "    }\n",
              "\n",
              "    .colab-df-convert {\n",
              "      background-color: #E8F0FE;\n",
              "      border: none;\n",
              "      border-radius: 50%;\n",
              "      cursor: pointer;\n",
              "      display: none;\n",
              "      fill: #1967D2;\n",
              "      height: 32px;\n",
              "      padding: 0 0 0 0;\n",
              "      width: 32px;\n",
              "    }\n",
              "\n",
              "    .colab-df-convert:hover {\n",
              "      background-color: #E2EBFA;\n",
              "      box-shadow: 0px 1px 2px rgba(60, 64, 67, 0.3), 0px 1px 3px 1px rgba(60, 64, 67, 0.15);\n",
              "      fill: #174EA6;\n",
              "    }\n",
              "\n",
              "    [theme=dark] .colab-df-convert {\n",
              "      background-color: #3B4455;\n",
              "      fill: #D2E3FC;\n",
              "    }\n",
              "\n",
              "    [theme=dark] .colab-df-convert:hover {\n",
              "      background-color: #434B5C;\n",
              "      box-shadow: 0px 1px 3px 1px rgba(0, 0, 0, 0.15);\n",
              "      filter: drop-shadow(0px 1px 2px rgba(0, 0, 0, 0.3));\n",
              "      fill: #FFFFFF;\n",
              "    }\n",
              "  </style>\n",
              "\n",
              "      <script>\n",
              "        const buttonEl =\n",
              "          document.querySelector('#df-d4fcff2c-0283-4c43-ba70-bdcb8a5c2248 button.colab-df-convert');\n",
              "        buttonEl.style.display =\n",
              "          google.colab.kernel.accessAllowed ? 'block' : 'none';\n",
              "\n",
              "        async function convertToInteractive(key) {\n",
              "          const element = document.querySelector('#df-d4fcff2c-0283-4c43-ba70-bdcb8a5c2248');\n",
              "          const dataTable =\n",
              "            await google.colab.kernel.invokeFunction('convertToInteractive',\n",
              "                                                     [key], {});\n",
              "          if (!dataTable) return;\n",
              "\n",
              "          const docLinkHtml = 'Like what you see? Visit the ' +\n",
              "            '<a target=\"_blank\" href=https://colab.research.google.com/notebooks/data_table.ipynb>data table notebook</a>'\n",
              "            + ' to learn more about interactive tables.';\n",
              "          element.innerHTML = '';\n",
              "          dataTable['output_type'] = 'display_data';\n",
              "          await google.colab.output.renderOutput(dataTable, element);\n",
              "          const docLink = document.createElement('div');\n",
              "          docLink.innerHTML = docLinkHtml;\n",
              "          element.appendChild(docLink);\n",
              "        }\n",
              "      </script>\n",
              "    </div>\n",
              "  </div>\n",
              "  "
            ]
          },
          "metadata": {},
          "execution_count": 300
        }
      ]
    },
    {
      "cell_type": "code",
      "source": [
        "df.headline.duplicated().sum()"
      ],
      "metadata": {
        "colab": {
          "base_uri": "https://localhost:8080/"
        },
        "id": "CkCWMZzH_EHb",
        "outputId": "3682429f-6950-426d-dde6-07ca0d41f291"
      },
      "execution_count": 301,
      "outputs": [
        {
          "output_type": "execute_result",
          "data": {
            "text/plain": [
              "0"
            ]
          },
          "metadata": {},
          "execution_count": 301
        }
      ]
    },
    {
      "cell_type": "code",
      "source": [
        "df.groupby('label').agg('count')"
      ],
      "metadata": {
        "colab": {
          "base_uri": "https://localhost:8080/",
          "height": 143
        },
        "id": "DRnTmI4u_Gwu",
        "outputId": "c40e4a91-dc32-49ad-8734-24ad95fc7b42"
      },
      "execution_count": 302,
      "outputs": [
        {
          "output_type": "execute_result",
          "data": {
            "text/plain": [
              "       headline  content\n",
              "label                   \n",
              "0           948      948\n",
              "1          1545     1545"
            ],
            "text/html": [
              "\n",
              "  <div id=\"df-d3b1c758-711c-4c7a-b874-251c28a91a87\">\n",
              "    <div class=\"colab-df-container\">\n",
              "      <div>\n",
              "<style scoped>\n",
              "    .dataframe tbody tr th:only-of-type {\n",
              "        vertical-align: middle;\n",
              "    }\n",
              "\n",
              "    .dataframe tbody tr th {\n",
              "        vertical-align: top;\n",
              "    }\n",
              "\n",
              "    .dataframe thead th {\n",
              "        text-align: right;\n",
              "    }\n",
              "</style>\n",
              "<table border=\"1\" class=\"dataframe\">\n",
              "  <thead>\n",
              "    <tr style=\"text-align: right;\">\n",
              "      <th></th>\n",
              "      <th>headline</th>\n",
              "      <th>content</th>\n",
              "    </tr>\n",
              "    <tr>\n",
              "      <th>label</th>\n",
              "      <th></th>\n",
              "      <th></th>\n",
              "    </tr>\n",
              "  </thead>\n",
              "  <tbody>\n",
              "    <tr>\n",
              "      <th>0</th>\n",
              "      <td>948</td>\n",
              "      <td>948</td>\n",
              "    </tr>\n",
              "    <tr>\n",
              "      <th>1</th>\n",
              "      <td>1545</td>\n",
              "      <td>1545</td>\n",
              "    </tr>\n",
              "  </tbody>\n",
              "</table>\n",
              "</div>\n",
              "      <button class=\"colab-df-convert\" onclick=\"convertToInteractive('df-d3b1c758-711c-4c7a-b874-251c28a91a87')\"\n",
              "              title=\"Convert this dataframe to an interactive table.\"\n",
              "              style=\"display:none;\">\n",
              "        \n",
              "  <svg xmlns=\"http://www.w3.org/2000/svg\" height=\"24px\"viewBox=\"0 0 24 24\"\n",
              "       width=\"24px\">\n",
              "    <path d=\"M0 0h24v24H0V0z\" fill=\"none\"/>\n",
              "    <path d=\"M18.56 5.44l.94 2.06.94-2.06 2.06-.94-2.06-.94-.94-2.06-.94 2.06-2.06.94zm-11 1L8.5 8.5l.94-2.06 2.06-.94-2.06-.94L8.5 2.5l-.94 2.06-2.06.94zm10 10l.94 2.06.94-2.06 2.06-.94-2.06-.94-.94-2.06-.94 2.06-2.06.94z\"/><path d=\"M17.41 7.96l-1.37-1.37c-.4-.4-.92-.59-1.43-.59-.52 0-1.04.2-1.43.59L10.3 9.45l-7.72 7.72c-.78.78-.78 2.05 0 2.83L4 21.41c.39.39.9.59 1.41.59.51 0 1.02-.2 1.41-.59l7.78-7.78 2.81-2.81c.8-.78.8-2.07 0-2.86zM5.41 20L4 18.59l7.72-7.72 1.47 1.35L5.41 20z\"/>\n",
              "  </svg>\n",
              "      </button>\n",
              "      \n",
              "  <style>\n",
              "    .colab-df-container {\n",
              "      display:flex;\n",
              "      flex-wrap:wrap;\n",
              "      gap: 12px;\n",
              "    }\n",
              "\n",
              "    .colab-df-convert {\n",
              "      background-color: #E8F0FE;\n",
              "      border: none;\n",
              "      border-radius: 50%;\n",
              "      cursor: pointer;\n",
              "      display: none;\n",
              "      fill: #1967D2;\n",
              "      height: 32px;\n",
              "      padding: 0 0 0 0;\n",
              "      width: 32px;\n",
              "    }\n",
              "\n",
              "    .colab-df-convert:hover {\n",
              "      background-color: #E2EBFA;\n",
              "      box-shadow: 0px 1px 2px rgba(60, 64, 67, 0.3), 0px 1px 3px 1px rgba(60, 64, 67, 0.15);\n",
              "      fill: #174EA6;\n",
              "    }\n",
              "\n",
              "    [theme=dark] .colab-df-convert {\n",
              "      background-color: #3B4455;\n",
              "      fill: #D2E3FC;\n",
              "    }\n",
              "\n",
              "    [theme=dark] .colab-df-convert:hover {\n",
              "      background-color: #434B5C;\n",
              "      box-shadow: 0px 1px 3px 1px rgba(0, 0, 0, 0.15);\n",
              "      filter: drop-shadow(0px 1px 2px rgba(0, 0, 0, 0.3));\n",
              "      fill: #FFFFFF;\n",
              "    }\n",
              "  </style>\n",
              "\n",
              "      <script>\n",
              "        const buttonEl =\n",
              "          document.querySelector('#df-d3b1c758-711c-4c7a-b874-251c28a91a87 button.colab-df-convert');\n",
              "        buttonEl.style.display =\n",
              "          google.colab.kernel.accessAllowed ? 'block' : 'none';\n",
              "\n",
              "        async function convertToInteractive(key) {\n",
              "          const element = document.querySelector('#df-d3b1c758-711c-4c7a-b874-251c28a91a87');\n",
              "          const dataTable =\n",
              "            await google.colab.kernel.invokeFunction('convertToInteractive',\n",
              "                                                     [key], {});\n",
              "          if (!dataTable) return;\n",
              "\n",
              "          const docLinkHtml = 'Like what you see? Visit the ' +\n",
              "            '<a target=\"_blank\" href=https://colab.research.google.com/notebooks/data_table.ipynb>data table notebook</a>'\n",
              "            + ' to learn more about interactive tables.';\n",
              "          element.innerHTML = '';\n",
              "          dataTable['output_type'] = 'display_data';\n",
              "          await google.colab.output.renderOutput(dataTable, element);\n",
              "          const docLink = document.createElement('div');\n",
              "          docLink.innerHTML = docLinkHtml;\n",
              "          element.appendChild(docLink);\n",
              "        }\n",
              "      </script>\n",
              "    </div>\n",
              "  </div>\n",
              "  "
            ]
          },
          "metadata": {},
          "execution_count": 302
        }
      ]
    },
    {
      "cell_type": "code",
      "source": [
        "import re\n",
        "from re import sub"
      ],
      "metadata": {
        "id": "y8pnIh3N_NR6"
      },
      "execution_count": 303,
      "outputs": []
    },
    {
      "cell_type": "code",
      "source": [
        "def text_to_word_list(text):\n",
        "    text = text.split()\n",
        "    return text\n",
        "\n",
        "def replace_strings(text):\n",
        "    emoji_pattern = re.compile(\"[\"\n",
        "                           u\"\\U0001F600-\\U0001F64F\"  # emoticons\n",
        "                           u\"\\U0001F300-\\U0001F5FF\"  # symbols & pictographs\n",
        "                           u\"\\U0001F680-\\U0001F6FF\"  # transport & map symbols\n",
        "                           u\"\\U0001F1E0-\\U0001F1FF\"  # flags (iOS)\n",
        "                           u\"\\U00002702-\\U000027B0\"\n",
        "                           u\"\\U000024C2-\\U0001F251\"\n",
        "                           u\"\\u00C0-\\u017F\"          #latin\n",
        "                           u\"\\u2000-\\u206F\"          #generalPunctuations\n",
        "                               \n",
        "                           \"]+\", flags=re.UNICODE)\n",
        "    english_pattern=re.compile('[a-zA-Z0-9]+', flags=re.I)\n",
        "    #latin_pattern=re.compile('[A-Za-z\\u00C0-\\u00D6\\u00D8-\\u00f6\\u00f8-\\u00ff\\s]*',)\n",
        "    \n",
        "    text=emoji_pattern.sub(r'', text)\n",
        "    text=english_pattern.sub(r'', text)\n",
        "\n",
        "    return text\n",
        "\n",
        "def remove_punctuations(my_str):\n",
        "    # define punctuation\n",
        "    punctuations = '''```\u0012\u0010\u0002\b`\u0007\b£|¢|\u0007Ñ+-*/=EROero৳০১২৩৪৫৬৭৮৯012–34567•89।!()-[]{};:'\"“\\’,<>./?@#$%^&*_~‘—॥”‰🤣⚽️✌�￰৷￰'''\n",
        "    \n",
        "    no_punct = \"\"\n",
        "    for char in my_str:\n",
        "        if char not in punctuations:\n",
        "            no_punct = no_punct + char\n",
        "\n",
        "    # display the unpunctuated string\n",
        "    return no_punct\n",
        "\n",
        "\n",
        "\n",
        "def joining(text):\n",
        "    out=' '.join(text)\n",
        "    return out\n",
        "\n",
        "def preprocessing(text):\n",
        "    out=remove_punctuations(replace_strings(text))\n",
        "    return out"
      ],
      "metadata": {
        "id": "S1IWoFdZ_VXa"
      },
      "execution_count": 304,
      "outputs": []
    },
    {
      "cell_type": "code",
      "source": [
        "df['headline'] = df.headline.apply(lambda x: preprocessing(str(x)))\n",
        "df['content'] = df.content.apply(lambda x: preprocessing(str(x)))"
      ],
      "metadata": {
        "id": "gab65yvg_XmV"
      },
      "execution_count": 305,
      "outputs": []
    },
    {
      "cell_type": "code",
      "source": [
        "df['content'] = df['content'].str.replace(r'\\n', ' ')"
      ],
      "metadata": {
        "colab": {
          "base_uri": "https://localhost:8080/"
        },
        "id": "9OSvSWkc_aHr",
        "outputId": "954e4dc9-d14d-44e5-96d7-b5911700058e"
      },
      "execution_count": 306,
      "outputs": [
        {
          "output_type": "stream",
          "name": "stderr",
          "text": [
            "/usr/local/lib/python3.7/dist-packages/ipykernel_launcher.py:1: FutureWarning: The default value of regex will change from True to False in a future version.\n",
            "  \"\"\"Entry point for launching an IPython kernel.\n"
          ]
        }
      ]
    },
    {
      "cell_type": "code",
      "source": [
        "df = df.reset_index(drop=True)"
      ],
      "metadata": {
        "id": "ZoGek3tT_dXT"
      },
      "execution_count": 307,
      "outputs": []
    },
    {
      "cell_type": "code",
      "source": [
        "pip install bnlp_toolkit"
      ],
      "metadata": {
        "colab": {
          "base_uri": "https://localhost:8080/"
        },
        "id": "8zBdAdzH_g9W",
        "outputId": "f497c441-81d2-4f22-ee73-84236d2217ba"
      },
      "execution_count": 308,
      "outputs": [
        {
          "output_type": "stream",
          "name": "stdout",
          "text": [
            "Looking in indexes: https://pypi.org/simple, https://us-python.pkg.dev/colab-wheels/public/simple/\n",
            "Requirement already satisfied: bnlp_toolkit in /usr/local/lib/python3.7/dist-packages (3.1.2)\n",
            "Requirement already satisfied: wasabi in /usr/local/lib/python3.7/dist-packages (from bnlp_toolkit) (0.10.1)\n",
            "Requirement already satisfied: nltk in /usr/local/lib/python3.7/dist-packages (from bnlp_toolkit) (3.7)\n",
            "Requirement already satisfied: scipy in /usr/local/lib/python3.7/dist-packages (from bnlp_toolkit) (1.7.3)\n",
            "Requirement already satisfied: sklearn-crfsuite in /usr/local/lib/python3.7/dist-packages (from bnlp_toolkit) (0.3.6)\n",
            "Requirement already satisfied: gensim==4.0.1 in /usr/local/lib/python3.7/dist-packages (from bnlp_toolkit) (4.0.1)\n",
            "Requirement already satisfied: numpy in /usr/local/lib/python3.7/dist-packages (from bnlp_toolkit) (1.21.6)\n",
            "Requirement already satisfied: sentencepiece in /usr/local/lib/python3.7/dist-packages (from bnlp_toolkit) (0.1.97)\n",
            "Requirement already satisfied: smart-open>=1.8.1 in /usr/local/lib/python3.7/dist-packages (from gensim==4.0.1->bnlp_toolkit) (5.2.1)\n",
            "Requirement already satisfied: joblib in /usr/local/lib/python3.7/dist-packages (from nltk->bnlp_toolkit) (1.1.0)\n",
            "Requirement already satisfied: click in /usr/local/lib/python3.7/dist-packages (from nltk->bnlp_toolkit) (7.1.2)\n",
            "Requirement already satisfied: regex>=2021.8.3 in /usr/local/lib/python3.7/dist-packages (from nltk->bnlp_toolkit) (2022.6.2)\n",
            "Requirement already satisfied: tqdm in /usr/local/lib/python3.7/dist-packages (from nltk->bnlp_toolkit) (4.64.0)\n",
            "Requirement already satisfied: six in /usr/local/lib/python3.7/dist-packages (from sklearn-crfsuite->bnlp_toolkit) (1.15.0)\n",
            "Requirement already satisfied: python-crfsuite>=0.8.3 in /usr/local/lib/python3.7/dist-packages (from sklearn-crfsuite->bnlp_toolkit) (0.9.8)\n",
            "Requirement already satisfied: tabulate in /usr/local/lib/python3.7/dist-packages (from sklearn-crfsuite->bnlp_toolkit) (0.8.10)\n"
          ]
        }
      ]
    },
    {
      "cell_type": "code",
      "source": [
        "from bnlp import BasicTokenizer\n",
        "from bnlp.corpus import stopwords, punctuations, letters, digits\n",
        "\n",
        "btokenizer = BasicTokenizer()\n",
        "\n",
        "word_list= []\n",
        "def clean_text(text):\n",
        "    tokens = btokenizer.tokenize(text)\n",
        "    filtered = []\n",
        "    for i in tokens:\n",
        "        if i in stopwords:\n",
        "            continue\n",
        "    \n",
        "        if i in punctuations + '‘' + '’':\n",
        "            continue\n",
        "    \n",
        "        filtered.append(i)\n",
        "        word_list.append(i)\n",
        "    return \" \".join(filtered)\n",
        "\n",
        "# print(\"********** Before ***************\")\n",
        "# text = df.iloc[1]['content']\n",
        "# print(text)\n",
        "# print(\"\\n********** After ***************\")\n",
        "# print(clean_text(text))"
      ],
      "metadata": {
        "id": "xsnD3HHK_j0r"
      },
      "execution_count": 309,
      "outputs": []
    },
    {
      "cell_type": "code",
      "source": [
        "df['content'] = df.content.apply(clean_text)"
      ],
      "metadata": {
        "id": "hUJ_gRPB_noO"
      },
      "execution_count": 310,
      "outputs": []
    },
    {
      "cell_type": "code",
      "source": [
        "df.to_csv('MNB-SVC.csv',encoding='utf-8-sig', index=False)"
      ],
      "metadata": {
        "id": "l6Xsuh55_qaG"
      },
      "execution_count": 311,
      "outputs": []
    },
    {
      "cell_type": "code",
      "source": [
        "len(set(word_list))"
      ],
      "metadata": {
        "colab": {
          "base_uri": "https://localhost:8080/"
        },
        "id": "Eg3OSHRw_9H7",
        "outputId": "a1eb2f4a-b6e0-4670-9996-05281d7e64f4"
      },
      "execution_count": 312,
      "outputs": [
        {
          "output_type": "execute_result",
          "data": {
            "text/plain": [
              "65759"
            ]
          },
          "metadata": {},
          "execution_count": 312
        }
      ]
    },
    {
      "cell_type": "code",
      "execution_count": 313,
      "metadata": {
        "id": "HClWoM0Akr8B"
      },
      "outputs": [],
      "source": [
        "X=df.content\n",
        "Y=df.label"
      ]
    },
    {
      "cell_type": "code",
      "execution_count": 314,
      "metadata": {
        "colab": {
          "base_uri": "https://localhost:8080/"
        },
        "id": "SRInFEVTkwSp",
        "outputId": "89f00abc-06dd-42be-9051-374001dd13d0"
      },
      "outputs": [
        {
          "output_type": "execute_result",
          "data": {
            "text/plain": [
              "1    1545\n",
              "0     948\n",
              "Name: label, dtype: int64"
            ]
          },
          "metadata": {},
          "execution_count": 314
        }
      ],
      "source": [
        "Y.value_counts()"
      ]
    },
    {
      "cell_type": "code",
      "execution_count": 315,
      "metadata": {
        "colab": {
          "base_uri": "https://localhost:8080/"
        },
        "id": "D-a5z8uxk11K",
        "outputId": "2c4ccdb9-2a0b-406b-88ca-cf32dfabaf40"
      },
      "outputs": [
        {
          "output_type": "execute_result",
          "data": {
            "text/plain": [
              "(2493,)"
            ]
          },
          "metadata": {},
          "execution_count": 315
        }
      ],
      "source": [
        "X.shape"
      ]
    },
    {
      "cell_type": "code",
      "execution_count": 316,
      "metadata": {
        "id": "HgmDabVAk3Va"
      },
      "outputs": [],
      "source": [
        "from tensorflow.keras.layers import Embedding\n",
        "from tensorflow.keras.preprocessing.sequence import pad_sequences\n",
        "from tensorflow.keras.models import Sequential\n",
        "from tensorflow.keras.preprocessing.text import one_hot\n",
        "from tensorflow.keras.layers import LSTM\n",
        "from tensorflow.keras.layers import Dense\n",
        "from tensorflow.keras.layers import Bidirectional\n",
        "from tensorflow.keras.layers import Dropout\n",
        "from keras.callbacks import EarlyStopping"
      ]
    },
    {
      "cell_type": "markdown",
      "metadata": {
        "id": "OyfuZecDlAQ2"
      },
      "source": [
        "Onehot Representation\n"
      ]
    },
    {
      "cell_type": "code",
      "execution_count": 317,
      "metadata": {
        "id": "0wtILdVCl-Ig"
      },
      "outputs": [],
      "source": [
        "voc_size=65700"
      ]
    },
    {
      "cell_type": "code",
      "execution_count": 318,
      "metadata": {
        "id": "3ZXgMhhulXQK"
      },
      "outputs": [],
      "source": [
        "onehot_repr=[one_hot(words,voc_size)for words in X]"
      ]
    },
    {
      "cell_type": "code",
      "execution_count": 319,
      "metadata": {
        "colab": {
          "base_uri": "https://localhost:8080/"
        },
        "id": "yrdK7lbkmD0q",
        "outputId": "85e81c30-1539-42cc-fa01-30c17f36a3f0"
      },
      "outputs": [
        {
          "output_type": "execute_result",
          "data": {
            "text/plain": [
              "2493"
            ]
          },
          "metadata": {},
          "execution_count": 319
        }
      ],
      "source": [
        "len(onehot_repr)"
      ]
    },
    {
      "cell_type": "code",
      "execution_count": 320,
      "metadata": {
        "colab": {
          "base_uri": "https://localhost:8080/"
        },
        "id": "3AcoW1RUm41i",
        "outputId": "3ca0d1bf-3fdc-4df6-e044-81a9aa2ba876"
      },
      "outputs": [
        {
          "output_type": "stream",
          "name": "stdout",
          "text": [
            "[[    0     0     0 ... 26796 45932 30724]\n",
            " [    0     0     0 ... 18907 14285 49169]\n",
            " [ 8113 31823 57969 ... 28688 20760 28688]\n",
            " ...\n",
            " [    0     0     0 ... 11978 64573 19323]\n",
            " [    0     0     0 ...  1019 30936 62707]\n",
            " [    0     0     0 ... 56292 55150 19323]]\n"
          ]
        }
      ],
      "source": [
        "news_length=300\n",
        "embedded_news=pad_sequences(onehot_repr,padding='pre',maxlen=news_length)\n",
        "print(embedded_news)"
      ]
    },
    {
      "cell_type": "code",
      "execution_count": 321,
      "metadata": {
        "colab": {
          "base_uri": "https://localhost:8080/"
        },
        "id": "yR1dua8dnxbK",
        "outputId": "6ca1543a-91b9-4000-8fdc-639983490f39"
      },
      "outputs": [
        {
          "output_type": "execute_result",
          "data": {
            "text/plain": [
              "array([    0,     0,     0,     0,     0,     0,     0,     0,     0,\n",
              "           0,     0,     0,     0,     0,     0,     0,     0,     0,\n",
              "           0,     0,     0,     0,     0,     0,     0,     0,     0,\n",
              "           0,     0,     0,     0,     0,     0,     0,     0,     0,\n",
              "           0,     0,     0,     0,     0,     0,     0,     0,     0,\n",
              "           0,     0,     0,     0,     0,     0,     0,     0,     0,\n",
              "           0,     0,     0,     0,     0,     0,     0,     0,     0,\n",
              "           0,     0,     0,     0,     0,     0,     0,     0,     0,\n",
              "           0,     0,     0,     0,     0,     0,     0,     0,     0,\n",
              "           0,     0,     0,     0,     0,     0,     0,     0,     0,\n",
              "           0,     0,     0,     0,     0,     0,     0,     0,     0,\n",
              "           0,     0,     0,     0,     0,     0,     0,     0,     0,\n",
              "           0,     0,     0,     0,     0,     0,     0,     0,     0,\n",
              "           0,     0,     0,     0,     0,     0,     0,     0,     0,\n",
              "           0,     0,     0,     0,     0,     0,     0,     0,     0,\n",
              "           0,     0,     0,     0,     0,     0,     0,     0,     0,\n",
              "           0,     0,     0,     0,     0,     0,     0,     0,     0,\n",
              "           0,     0,     0,     0,     0,     0,     0,     0,     0,\n",
              "           0,     0,     0,     0,     0,     0,     0,     0,     0,\n",
              "           0,     0,     0,     0,     0,     0,     0,     0,     0,\n",
              "           0,     0,     0,     0,     0,     0,     0,     0,     0,\n",
              "           0,     0,     0,     0,     0,     0,     0,     0,     0,\n",
              "           0,     0,     0,     0,     0,     0,     0,     0,     0,\n",
              "           0,     0,     0,     0,     0,     0,     0,     0,     0,\n",
              "           0, 16287, 30505, 45932, 30956,  9047, 50847, 21938, 56058,\n",
              "       14060, 16287, 42926, 45932, 63288, 30724, 21591, 16287, 42926,\n",
              "       16946, 34846, 26796, 45834, 16287, 42926, 21938, 56058, 52119,\n",
              "       50028, 21974, 21591, 21974,     1, 50359,  9047, 50847, 56389,\n",
              "       40421, 65566,  5079, 51938, 25540, 37604, 35639, 23532, 51938,\n",
              "       25540, 33418, 54618, 25540, 11132, 27800, 42200, 60902, 62496,\n",
              "       17528, 50359, 31938, 24813, 54717, 33923, 20435, 43089,  9047,\n",
              "       62980, 16287, 20883, 45932, 63288, 52119, 33946, 54016,  9047,\n",
              "       62980, 30505, 45932, 30956,   635, 31203, 63425, 10345, 11132,\n",
              "       26796, 45932, 30724], dtype=int32)"
            ]
          },
          "metadata": {},
          "execution_count": 321
        }
      ],
      "source": [
        "embedded_news[0]\n"
      ]
    },
    {
      "cell_type": "code",
      "execution_count": 322,
      "metadata": {
        "colab": {
          "base_uri": "https://localhost:8080/"
        },
        "id": "TzJLnmPbn_V5",
        "outputId": "5dc90d6a-ccca-4be7-cd8c-b0d3ef96e865"
      },
      "outputs": [
        {
          "output_type": "execute_result",
          "data": {
            "text/plain": [
              "(2493, (2493,))"
            ]
          },
          "metadata": {},
          "execution_count": 322
        }
      ],
      "source": [
        "len(embedded_news),Y.shape"
      ]
    },
    {
      "cell_type": "code",
      "execution_count": 323,
      "metadata": {
        "id": "MLe-T0GyoFbq"
      },
      "outputs": [],
      "source": [
        "import numpy as np\n",
        "X_final=np.array(embedded_news)\n",
        "y_final=np.array(Y)"
      ]
    },
    {
      "cell_type": "code",
      "execution_count": 324,
      "metadata": {
        "colab": {
          "base_uri": "https://localhost:8080/"
        },
        "id": "oMalWiVloJuC",
        "outputId": "dd3d5b64-54ff-4b72-bfc9-b9243f8c0a9b"
      },
      "outputs": [
        {
          "output_type": "execute_result",
          "data": {
            "text/plain": [
              "((2493, 300), (2493,))"
            ]
          },
          "metadata": {},
          "execution_count": 324
        }
      ],
      "source": [
        "X_final.shape,y_final.shape"
      ]
    },
    {
      "cell_type": "code",
      "execution_count": 325,
      "metadata": {
        "id": "GTeEyab6oLvi"
      },
      "outputs": [],
      "source": [
        "from sklearn.model_selection import train_test_split\n",
        "X_train, X_test, y_train, y_test = train_test_split(X_final, y_final, test_size=0.3, random_state=33, stratify=df['label'])"
      ]
    },
    {
      "cell_type": "markdown",
      "source": [
        "# **LSTM MODEL**"
      ],
      "metadata": {
        "id": "5Tg8TDW8yM4O"
      }
    },
    {
      "cell_type": "code",
      "execution_count": 326,
      "metadata": {
        "colab": {
          "base_uri": "https://localhost:8080/"
        },
        "id": "QchriyV6nyxp",
        "outputId": "00db7870-cbbf-440a-e33b-1e5e04bf7749"
      },
      "outputs": [
        {
          "output_type": "stream",
          "name": "stdout",
          "text": [
            "Model: \"sequential_16\"\n",
            "_________________________________________________________________\n",
            " Layer (type)                Output Shape              Param #   \n",
            "=================================================================\n",
            " embedding_16 (Embedding)    (None, 300, 40)           2628000   \n",
            "                                                                 \n",
            " lstm_16 (LSTM)              (None, 100)               56400     \n",
            "                                                                 \n",
            " dense_16 (Dense)            (None, 1)                 101       \n",
            "                                                                 \n",
            "=================================================================\n",
            "Total params: 2,684,501\n",
            "Trainable params: 2,684,501\n",
            "Non-trainable params: 0\n",
            "_________________________________________________________________\n",
            "None\n",
            "Epoch 1/12\n",
            "28/28 [==============================] - 3s 45ms/step - loss: 0.6217 - accuracy: 0.6195 - val_loss: 0.3997 - val_accuracy: 0.7687\n",
            "Epoch 2/12\n",
            "28/28 [==============================] - 1s 23ms/step - loss: 0.1493 - accuracy: 0.9576 - val_loss: 0.0710 - val_accuracy: 0.9733\n",
            "Epoch 3/12\n",
            "28/28 [==============================] - 1s 23ms/step - loss: 0.0240 - accuracy: 0.9948 - val_loss: 0.0807 - val_accuracy: 0.9786\n",
            "Epoch 4/12\n",
            "28/28 [==============================] - 1s 22ms/step - loss: 0.0282 - accuracy: 0.9977 - val_loss: 0.1072 - val_accuracy: 0.9626\n",
            "Epoch 5/12\n",
            "28/28 [==============================] - 1s 28ms/step - loss: 0.0090 - accuracy: 0.9994 - val_loss: 0.0585 - val_accuracy: 0.9773\n",
            "Epoch 6/12\n",
            "27/28 [===========================>..] - ETA: 0s - loss: 0.0016 - accuracy: 1.0000Restoring model weights from the end of the best epoch: 3.\n",
            "28/28 [==============================] - 1s 41ms/step - loss: 0.0016 - accuracy: 1.0000 - val_loss: 0.0919 - val_accuracy: 0.9733\n",
            "Epoch 6: early stopping\n"
          ]
        },
        {
          "output_type": "execute_result",
          "data": {
            "text/plain": [
              "<keras.callbacks.History at 0x7fa39863e3d0>"
            ]
          },
          "metadata": {},
          "execution_count": 326
        }
      ],
      "source": [
        "embedding_vector_features=40\n",
        "model1=Sequential()\n",
        "model1.add(Embedding(voc_size,embedding_vector_features,input_length=news_length))\n",
        "model1.add(LSTM(100))\n",
        "model1.add(Dense(1,activation='sigmoid'))\n",
        "model1.compile(loss='binary_crossentropy',optimizer='adam',metrics=['accuracy'])\n",
        "print(model1.summary())\n",
        "model1.fit(X_train,y_train,validation_data=(X_test,y_test),epochs=12,batch_size=64,\n",
        "    callbacks=[EarlyStopping(monitor=\"val_accuracy\",\n",
        "    min_delta=0,\n",
        "    patience=3,\n",
        "    verbose=1,\n",
        "    mode=\"auto\",\n",
        "    restore_best_weights=True,)])"
      ]
    },
    {
      "cell_type": "markdown",
      "source": [
        "# **CNN+LSTM MODEL**"
      ],
      "metadata": {
        "id": "9-HsAAhxRPK5"
      }
    },
    {
      "cell_type": "code",
      "source": [
        "from keras.layers import Dense,Conv1D,MaxPooling1D"
      ],
      "metadata": {
        "id": "JezijLJd_vzg"
      },
      "execution_count": 327,
      "outputs": []
    },
    {
      "cell_type": "code",
      "source": [
        "embedding_vecor_length = 40\n",
        "model2 = Sequential()\n",
        "model2.add(Embedding(voc_size, embedding_vecor_length, input_length=news_length))\n",
        "model2.add(Conv1D(filters=32, kernel_size=3, padding='same', activation='relu'))\n",
        "model2.add(MaxPooling1D(pool_size=2))\n",
        "model2.add(LSTM(100))\n",
        "model2.add(Dense(1, activation='sigmoid'))\n",
        "model2.compile(loss='binary_crossentropy', optimizer='adam', metrics=['accuracy'])\n",
        "print(model2.summary())\n",
        "model2.fit(X_train,y_train,validation_data=(X_test,y_test),epochs=12,batch_size=64,\n",
        "    callbacks=[EarlyStopping(monitor=\"val_accuracy\",\n",
        "    min_delta=0,\n",
        "    patience=3,\n",
        "    verbose=1,\n",
        "    mode=\"auto\",\n",
        "    restore_best_weights=True,)])"
      ],
      "metadata": {
        "colab": {
          "base_uri": "https://localhost:8080/"
        },
        "id": "K2NQHdZY_mM1",
        "outputId": "0109fe0f-0374-48c9-f837-7f2af8ff84fb"
      },
      "execution_count": 328,
      "outputs": [
        {
          "output_type": "stream",
          "name": "stdout",
          "text": [
            "Model: \"sequential_17\"\n",
            "_________________________________________________________________\n",
            " Layer (type)                Output Shape              Param #   \n",
            "=================================================================\n",
            " embedding_17 (Embedding)    (None, 300, 40)           2628000   \n",
            "                                                                 \n",
            " conv1d_8 (Conv1D)           (None, 300, 32)           3872      \n",
            "                                                                 \n",
            " max_pooling1d_8 (MaxPooling  (None, 150, 32)          0         \n",
            " 1D)                                                             \n",
            "                                                                 \n",
            " lstm_17 (LSTM)              (None, 100)               53200     \n",
            "                                                                 \n",
            " dense_17 (Dense)            (None, 1)                 101       \n",
            "                                                                 \n",
            "=================================================================\n",
            "Total params: 2,685,173\n",
            "Trainable params: 2,685,173\n",
            "Non-trainable params: 0\n",
            "_________________________________________________________________\n",
            "None\n",
            "Epoch 1/12\n",
            "28/28 [==============================] - 5s 74ms/step - loss: 0.6269 - accuracy: 0.6103 - val_loss: 0.5485 - val_accuracy: 0.6484\n",
            "Epoch 2/12\n",
            "28/28 [==============================] - 1s 27ms/step - loss: 0.3087 - accuracy: 0.9106 - val_loss: 0.1604 - val_accuracy: 0.9318\n",
            "Epoch 3/12\n",
            "28/28 [==============================] - 1s 32ms/step - loss: 0.0553 - accuracy: 0.9903 - val_loss: 0.0588 - val_accuracy: 0.9853\n",
            "Epoch 4/12\n",
            "28/28 [==============================] - 1s 30ms/step - loss: 0.0126 - accuracy: 0.9994 - val_loss: 0.0611 - val_accuracy: 0.9799\n",
            "Epoch 5/12\n",
            "28/28 [==============================] - 1s 26ms/step - loss: 0.0029 - accuracy: 1.0000 - val_loss: 0.0608 - val_accuracy: 0.9853\n",
            "Epoch 6/12\n",
            "27/28 [===========================>..] - ETA: 0s - loss: 0.0016 - accuracy: 1.0000Restoring model weights from the end of the best epoch: 3.\n",
            "28/28 [==============================] - 1s 33ms/step - loss: 0.0016 - accuracy: 1.0000 - val_loss: 0.0633 - val_accuracy: 0.9813\n",
            "Epoch 6: early stopping\n"
          ]
        },
        {
          "output_type": "execute_result",
          "data": {
            "text/plain": [
              "<keras.callbacks.History at 0x7fa375f18610>"
            ]
          },
          "metadata": {},
          "execution_count": 328
        }
      ]
    },
    {
      "cell_type": "markdown",
      "source": [
        "LSTM and CNN+LSTM evaluation"
      ],
      "metadata": {
        "id": "Urelbu5gYamk"
      }
    },
    {
      "cell_type": "code",
      "execution_count": 329,
      "metadata": {
        "id": "cm1oVuvOqgta"
      },
      "outputs": [],
      "source": [
        "y_pred1=model1.predict(X_test)\n",
        "y_pred2=model2.predict(X_test)"
      ]
    },
    {
      "cell_type": "code",
      "source": [
        "from sklearn.metrics import accuracy_score\n",
        "from sklearn.metrics import classification_report\n",
        "from sklearn.metrics import confusion_matrix"
      ],
      "metadata": {
        "id": "0QzMxLNVLSNN"
      },
      "execution_count": 330,
      "outputs": []
    },
    {
      "cell_type": "code",
      "source": [
        "print(\"LSTM accuracy:%.4f\"%accuracy_score(y_test,np.around(y_pred1)))\n",
        "print(\"CNN+LSTM accuracy:%.4f\"%accuracy_score(y_test,np.around(y_pred2)))"
      ],
      "metadata": {
        "id": "A2ik3zmVAJI6",
        "colab": {
          "base_uri": "https://localhost:8080/"
        },
        "outputId": "fa527f2f-a574-4e8a-9095-44e402328e29"
      },
      "execution_count": 331,
      "outputs": [
        {
          "output_type": "stream",
          "name": "stdout",
          "text": [
            "LSTM accuracy:0.9786\n",
            "CNN+LSTM accuracy:0.9853\n"
          ]
        }
      ]
    },
    {
      "cell_type": "code",
      "source": [
        "print(\"LSTM:\\n\", classification_report(y_test,np.around(y_pred1),digits=4))\n",
        "print(\"\\nCNN+LSTM:\\n\", classification_report(y_test,np.around(y_pred2),digits=4))"
      ],
      "metadata": {
        "id": "QaIirFDxANHy",
        "colab": {
          "base_uri": "https://localhost:8080/"
        },
        "outputId": "036564d2-17ee-4fb1-e5eb-61736eeaf6c7"
      },
      "execution_count": 332,
      "outputs": [
        {
          "output_type": "stream",
          "name": "stdout",
          "text": [
            "LSTM:\n",
            "               precision    recall  f1-score   support\n",
            "\n",
            "           0     0.9786    0.9648    0.9716       284\n",
            "           1     0.9786    0.9871    0.9828       464\n",
            "\n",
            "    accuracy                         0.9786       748\n",
            "   macro avg     0.9786    0.9759    0.9772       748\n",
            "weighted avg     0.9786    0.9786    0.9786       748\n",
            "\n",
            "\n",
            "CNN+LSTM:\n",
            "               precision    recall  f1-score   support\n",
            "\n",
            "           0     0.9892    0.9718    0.9805       284\n",
            "           1     0.9829    0.9935    0.9882       464\n",
            "\n",
            "    accuracy                         0.9853       748\n",
            "   macro avg     0.9861    0.9827    0.9843       748\n",
            "weighted avg     0.9853    0.9853    0.9853       748\n",
            "\n"
          ]
        }
      ]
    },
    {
      "cell_type": "code",
      "source": [
        "print(\"LSTM confusion matrix:\\n \",confusion_matrix(y_test,np.around(y_pred1)))\n",
        "print(\"\\nCNN+LSTM confusion matrix:\\n\",confusion_matrix(y_test,np.around(y_pred2)))"
      ],
      "metadata": {
        "colab": {
          "base_uri": "https://localhost:8080/"
        },
        "id": "wL-hln5fTpd-",
        "outputId": "ef48cf70-3a23-4bfb-acdd-a9534f442e83"
      },
      "execution_count": 333,
      "outputs": [
        {
          "output_type": "stream",
          "name": "stdout",
          "text": [
            "LSTM confusion matrix:\n",
            "  [[274  10]\n",
            " [  6 458]]\n",
            "\n",
            "CNN+LSTM confusion matrix:\n",
            " [[276   8]\n",
            " [  3 461]]\n"
          ]
        }
      ]
    },
    {
      "cell_type": "markdown",
      "source": [
        "#**Bi-LSTM MODEL**"
      ],
      "metadata": {
        "id": "NlOAkr14z3dF"
      }
    },
    {
      "cell_type": "code",
      "execution_count": 334,
      "metadata": {
        "id": "brBUzzMXn4wp",
        "colab": {
          "base_uri": "https://localhost:8080/"
        },
        "outputId": "bf99818a-8d04-427b-b8e2-5a2668607f7e"
      },
      "outputs": [
        {
          "output_type": "stream",
          "name": "stdout",
          "text": [
            "Model: \"sequential_18\"\n",
            "_________________________________________________________________\n",
            " Layer (type)                Output Shape              Param #   \n",
            "=================================================================\n",
            " embedding_18 (Embedding)    (None, 300, 40)           2628000   \n",
            "                                                                 \n",
            " bidirectional_8 (Bidirectio  (None, 200)              112800    \n",
            " nal)                                                            \n",
            "                                                                 \n",
            " dropout_4 (Dropout)         (None, 200)               0         \n",
            "                                                                 \n",
            " dense_18 (Dense)            (None, 1)                 201       \n",
            "                                                                 \n",
            "=================================================================\n",
            "Total params: 2,741,001\n",
            "Trainable params: 2,741,001\n",
            "Non-trainable params: 0\n",
            "_________________________________________________________________\n",
            "None\n",
            "Epoch 1/12\n",
            "28/28 [==============================] - 5s 71ms/step - loss: 0.6432 - accuracy: 0.6287 - val_loss: 0.5851 - val_accuracy: 0.9158\n",
            "Epoch 2/12\n",
            "28/28 [==============================] - 1s 39ms/step - loss: 0.4290 - accuracy: 0.9364 - val_loss: 0.1880 - val_accuracy: 0.9318\n",
            "Epoch 3/12\n",
            "28/28 [==============================] - 1s 39ms/step - loss: 0.0534 - accuracy: 0.9874 - val_loss: 0.0577 - val_accuracy: 0.9813\n",
            "Epoch 4/12\n",
            "28/28 [==============================] - 1s 40ms/step - loss: 0.0151 - accuracy: 0.9977 - val_loss: 0.0489 - val_accuracy: 0.9866\n",
            "Epoch 5/12\n",
            "28/28 [==============================] - 1s 39ms/step - loss: 0.0089 - accuracy: 0.9994 - val_loss: 0.0730 - val_accuracy: 0.9786\n",
            "Epoch 6/12\n",
            "28/28 [==============================] - 1s 38ms/step - loss: 0.0037 - accuracy: 1.0000 - val_loss: 0.0445 - val_accuracy: 0.9826\n",
            "Epoch 7/12\n",
            "27/28 [===========================>..] - ETA: 0s - loss: 0.0020 - accuracy: 1.0000Restoring model weights from the end of the best epoch: 4.\n",
            "28/28 [==============================] - 1s 38ms/step - loss: 0.0020 - accuracy: 1.0000 - val_loss: 0.0695 - val_accuracy: 0.9813\n",
            "Epoch 7: early stopping\n"
          ]
        },
        {
          "output_type": "execute_result",
          "data": {
            "text/plain": [
              "<keras.callbacks.History at 0x7fa37434acd0>"
            ]
          },
          "metadata": {},
          "execution_count": 334
        }
      ],
      "source": [
        "embedding_vector_features=40\n",
        "model3=Sequential()\n",
        "model3.add(Embedding(voc_size,embedding_vector_features,input_length=news_length))\n",
        "model3.add(Bidirectional(LSTM(100)))\n",
        "model3.add(Dropout(0.3))\n",
        "model3.add(Dense(1,activation='sigmoid'))\n",
        "model3.compile(loss='binary_crossentropy',optimizer='adam',metrics=['accuracy'])\n",
        "print(model3.summary())\n",
        "model3.fit(X_train,y_train,validation_data=(X_test,y_test),epochs=12,batch_size=64,\n",
        "    callbacks=[EarlyStopping(monitor=\"val_accuracy\",\n",
        "    min_delta=0,\n",
        "    patience=3,\n",
        "    verbose=1,\n",
        "    mode=\"auto\",\n",
        "    restore_best_weights=True,)])"
      ]
    },
    {
      "cell_type": "markdown",
      "source": [
        "## **CNN+BiLSTM MODEL**"
      ],
      "metadata": {
        "id": "o_8oFG2rY2wg"
      }
    },
    {
      "cell_type": "code",
      "source": [
        "embedding_vecor_length = 40\n",
        "model4 = Sequential()\n",
        "model4.add(Embedding(voc_size, embedding_vecor_length, input_length=news_length))\n",
        "model4.add(Conv1D(filters=32, kernel_size=3, padding='same', activation='relu'))\n",
        "model4.add(MaxPooling1D(pool_size=2))\n",
        "model4.add(Bidirectional(LSTM(100)))\n",
        "model4.add(Dense(1, activation='sigmoid'))\n",
        "model4.compile(loss='binary_crossentropy', optimizer='adam', metrics=['accuracy'])\n",
        "print(model4.summary())\n",
        "model4.fit(X_train,y_train,validation_data=(X_test,y_test),epochs=12,batch_size=64,\n",
        "    callbacks=[EarlyStopping(monitor=\"val_accuracy\",\n",
        "    min_delta=0,\n",
        "    patience=3,\n",
        "    verbose=1,\n",
        "    mode=\"auto\",\n",
        "    restore_best_weights=True,)])"
      ],
      "metadata": {
        "colab": {
          "base_uri": "https://localhost:8080/"
        },
        "id": "IpqRP2iaCAVl",
        "outputId": "629f01d9-48d9-4e8c-bd2d-0eab3d7f8d74"
      },
      "execution_count": 335,
      "outputs": [
        {
          "output_type": "stream",
          "name": "stdout",
          "text": [
            "Model: \"sequential_19\"\n",
            "_________________________________________________________________\n",
            " Layer (type)                Output Shape              Param #   \n",
            "=================================================================\n",
            " embedding_19 (Embedding)    (None, 300, 40)           2628000   \n",
            "                                                                 \n",
            " conv1d_9 (Conv1D)           (None, 300, 32)           3872      \n",
            "                                                                 \n",
            " max_pooling1d_9 (MaxPooling  (None, 150, 32)          0         \n",
            " 1D)                                                             \n",
            "                                                                 \n",
            " bidirectional_9 (Bidirectio  (None, 200)              106400    \n",
            " nal)                                                            \n",
            "                                                                 \n",
            " dense_19 (Dense)            (None, 1)                 201       \n",
            "                                                                 \n",
            "=================================================================\n",
            "Total params: 2,738,473\n",
            "Trainable params: 2,738,473\n",
            "Non-trainable params: 0\n",
            "_________________________________________________________________\n",
            "None\n",
            "Epoch 1/12\n",
            "28/28 [==============================] - 5s 58ms/step - loss: 0.6492 - accuracy: 0.6189 - val_loss: 0.5910 - val_accuracy: 0.6203\n",
            "Epoch 2/12\n",
            "28/28 [==============================] - 1s 25ms/step - loss: 0.2804 - accuracy: 0.8384 - val_loss: 0.0980 - val_accuracy: 0.9706\n",
            "Epoch 3/12\n",
            "28/28 [==============================] - 1s 25ms/step - loss: 0.0370 - accuracy: 0.9908 - val_loss: 0.1395 - val_accuracy: 0.9626\n",
            "Epoch 4/12\n",
            "28/28 [==============================] - 1s 24ms/step - loss: 0.0411 - accuracy: 0.9851 - val_loss: 0.1926 - val_accuracy: 0.8743\n",
            "Epoch 5/12\n",
            "27/28 [===========================>..] - ETA: 0s - loss: 0.0222 - accuracy: 0.9867Restoring model weights from the end of the best epoch: 2.\n",
            "28/28 [==============================] - 1s 25ms/step - loss: 0.0220 - accuracy: 0.9868 - val_loss: 0.1025 - val_accuracy: 0.9693\n",
            "Epoch 5: early stopping\n"
          ]
        },
        {
          "output_type": "execute_result",
          "data": {
            "text/plain": [
              "<keras.callbacks.History at 0x7fa3660a2150>"
            ]
          },
          "metadata": {},
          "execution_count": 335
        }
      ]
    },
    {
      "cell_type": "code",
      "execution_count": 336,
      "metadata": {
        "id": "2NfU27S5oSUW"
      },
      "outputs": [],
      "source": [
        "y_pred3=model3.predict(X_test)\n",
        "y_pred4=model4.predict(X_test)"
      ]
    },
    {
      "cell_type": "code",
      "execution_count": 337,
      "metadata": {
        "id": "cMWefLVVp29R",
        "colab": {
          "base_uri": "https://localhost:8080/"
        },
        "outputId": "dc18ac7d-b089-4b04-8863-d31685b8fd7d"
      },
      "outputs": [
        {
          "output_type": "stream",
          "name": "stdout",
          "text": [
            "BiLSTM accuracy:0.9866\n",
            "CNN+BiLSTM accuracy:0.9706\n"
          ]
        }
      ],
      "source": [
        "print(\"BiLSTM accuracy:%.4f\"%accuracy_score(y_test,np.around(y_pred3)))\n",
        "print(\"CNN+BiLSTM accuracy:%.4f\"%accuracy_score(y_test,np.around(y_pred4)))"
      ]
    },
    {
      "cell_type": "code",
      "execution_count": 338,
      "metadata": {
        "id": "UggdAaXwqMp5",
        "colab": {
          "base_uri": "https://localhost:8080/"
        },
        "outputId": "1e941464-67c4-4c49-c7eb-ded5bce55169"
      },
      "outputs": [
        {
          "output_type": "stream",
          "name": "stdout",
          "text": [
            "BiLSTM:\n",
            "               precision    recall  f1-score   support\n",
            "\n",
            "           0     0.9824    0.9824    0.9824       284\n",
            "           1     0.9892    0.9892    0.9892       464\n",
            "\n",
            "    accuracy                         0.9866       748\n",
            "   macro avg     0.9858    0.9858    0.9858       748\n",
            "weighted avg     0.9866    0.9866    0.9866       748\n",
            "\n",
            "\n",
            "CNN+BiLSTM:\n",
            "               precision    recall  f1-score   support\n",
            "\n",
            "           0     0.9888    0.9331    0.9601       284\n",
            "           1     0.9604    0.9935    0.9767       464\n",
            "\n",
            "    accuracy                         0.9706       748\n",
            "   macro avg     0.9746    0.9633    0.9684       748\n",
            "weighted avg     0.9712    0.9706    0.9704       748\n",
            "\n"
          ]
        }
      ],
      "source": [
        "print(\"BiLSTM:\\n\",classification_report(y_test,np.around(y_pred3),digits=4))\n",
        "print(\"\\nCNN+BiLSTM:\\n\",classification_report(y_test,np.around(y_pred4),digits=4))"
      ]
    },
    {
      "cell_type": "code",
      "execution_count": 339,
      "metadata": {
        "id": "GVdsMUORp0Jp",
        "colab": {
          "base_uri": "https://localhost:8080/"
        },
        "outputId": "66f93503-7ad2-4ce8-f05e-c04b7326cc68"
      },
      "outputs": [
        {
          "output_type": "stream",
          "name": "stdout",
          "text": [
            "BiLSTM confusion matrix:\n",
            " [[279   5]\n",
            " [  5 459]]\n",
            "\n",
            "CNN+BiLSTM confusion matrix:\n",
            " [[265  19]\n",
            " [  3 461]]\n"
          ]
        }
      ],
      "source": [
        "print(\"BiLSTM confusion matrix:\\n\",confusion_matrix(y_test,np.around(y_pred3)))\n",
        "print(\"\\nCNN+BiLSTM confusion matrix:\\n\",confusion_matrix(y_test,np.around(y_pred4)))"
      ]
    },
    {
      "cell_type": "code",
      "source": [],
      "metadata": {
        "id": "ir6-zld1oOBc"
      },
      "execution_count": 339,
      "outputs": []
    }
  ],
  "metadata": {
    "colab": {
      "provenance": [],
      "collapsed_sections": [],
      "authorship_tag": "ABX9TyNccnfZGiUOL99DUNZF4Qew",
      "include_colab_link": true
    },
    "kernelspec": {
      "display_name": "Python 3",
      "name": "python3"
    },
    "language_info": {
      "name": "python"
    },
    "accelerator": "GPU",
    "gpuClass": "standard"
  },
  "nbformat": 4,
  "nbformat_minor": 0
}