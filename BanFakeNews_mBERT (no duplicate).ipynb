{
  "cells": [
    {
      "cell_type": "markdown",
      "metadata": {
        "id": "view-in-github",
        "colab_type": "text"
      },
      "source": [
        "<a href=\"https://colab.research.google.com/github/zihadbappy/bnfake/blob/main/BanFakeNews_mBERT.ipynb\" target=\"_parent\"><img src=\"https://colab.research.google.com/assets/colab-badge.svg\" alt=\"Open In Colab\"/></a>"
      ]
    },
    {
      "cell_type": "code",
      "execution_count": 28,
      "metadata": {
        "id": "ov2aQqzg7ub4"
      },
      "outputs": [],
      "source": [
        "!pip install -Uqq wandb\n"
      ]
    },
    {
      "cell_type": "code",
      "execution_count": 29,
      "metadata": {
        "id": "l92Bb_9V7w1k"
      },
      "outputs": [],
      "source": [
        "import wandb\n"
      ]
    },
    {
      "cell_type": "code",
      "execution_count": 30,
      "metadata": {
        "colab": {
          "base_uri": "https://localhost:8080/"
        },
        "id": "bvnjsmZg7yLc",
        "outputId": "85a82672-5873-499d-b397-73781a30b885"
      },
      "outputs": [
        {
          "output_type": "execute_result",
          "data": {
            "text/plain": [
              "True"
            ]
          },
          "metadata": {},
          "execution_count": 30
        }
      ],
      "source": [
        "wandb.login()"
      ]
    },
    {
      "cell_type": "code",
      "execution_count": 31,
      "metadata": {
        "colab": {
          "base_uri": "https://localhost:8080/",
          "height": 90
        },
        "id": "ivxm48cn705b",
        "outputId": "1d1cfd21-56a8-400e-f665-1b6fb59b6dc9"
      },
      "outputs": [
        {
          "output_type": "display_data",
          "data": {
            "text/plain": [
              "<IPython.core.display.HTML object>"
            ],
            "text/html": [
              "Tracking run with wandb version 0.13.3"
            ]
          },
          "metadata": {}
        },
        {
          "output_type": "display_data",
          "data": {
            "text/plain": [
              "<IPython.core.display.HTML object>"
            ],
            "text/html": [
              "Run data is saved locally in <code>/content/wandb/run-20220915_211120-1o1xnwvi</code>"
            ]
          },
          "metadata": {}
        },
        {
          "output_type": "display_data",
          "data": {
            "text/plain": [
              "<IPython.core.display.HTML object>"
            ],
            "text/html": [
              "Syncing run <strong><a href=\"https://wandb.ai/zihadbappy/bn_fake_classification/runs/1o1xnwvi\" target=\"_blank\">lively-tree-9</a></strong> to <a href=\"https://wandb.ai/zihadbappy/bn_fake_classification\" target=\"_blank\">Weights & Biases</a> (<a href=\"https://wandb.me/run\" target=\"_blank\">docs</a>)<br/>"
            ]
          },
          "metadata": {}
        },
        {
          "output_type": "execute_result",
          "data": {
            "text/html": [
              "<button onClick=\"this.nextSibling.style.display='block';this.style.display='none';\">Display W&B run</button><iframe src=\"https://wandb.ai/zihadbappy/bn_fake_classification/runs/1o1xnwvi?jupyter=true\" style=\"border:none;width:100%;height:420px;display:none;\"></iframe>"
            ],
            "text/plain": [
              "<wandb.sdk.wandb_run.Run at 0x7f33b01492d0>"
            ]
          },
          "metadata": {},
          "execution_count": 31
        }
      ],
      "source": [
        "\n",
        "wandb.init(project=\"bn_fake_classification\", entity=\"zihadbappy\")"
      ]
    },
    {
      "cell_type": "code",
      "execution_count": 32,
      "metadata": {
        "colab": {
          "base_uri": "https://localhost:8080/"
        },
        "id": "m1X-AG_68EAD",
        "outputId": "fe4db4fa-ee64-4e51-8898-e5698e6384a9"
      },
      "outputs": [
        {
          "output_type": "stream",
          "name": "stdout",
          "text": [
            "fatal: destination path 'FakeDatasets' already exists and is not an empty directory.\n"
          ]
        }
      ],
      "source": [
        "!git clone https://github.com/zihadbappy/FakeDatasets.git"
      ]
    },
    {
      "cell_type": "code",
      "execution_count": 33,
      "metadata": {
        "id": "C4g5lVBt8Nbz"
      },
      "outputs": [],
      "source": [
        "import pandas as pd\n",
        "Dataset= pd.read_csv('/content/FakeDatasets/banfakenews_no_duplicate.csv')"
      ]
    },
    {
      "cell_type": "code",
      "execution_count": 34,
      "metadata": {
        "id": "q-Vxrcbp8QR0"
      },
      "outputs": [],
      "source": [
        "df = pd.DataFrame(Dataset)"
      ]
    },
    {
      "cell_type": "code",
      "execution_count": 35,
      "metadata": {
        "colab": {
          "base_uri": "https://localhost:8080/",
          "height": 143
        },
        "id": "MLp-Fccm8ROM",
        "outputId": "b7fc49da-af41-4448-c405-8e53bc631fc5"
      },
      "outputs": [
        {
          "output_type": "execute_result",
          "data": {
            "text/plain": [
              "       headline  content\n",
              "label                   \n",
              "0          1176     1176\n",
              "1          1176     1175"
            ],
            "text/html": [
              "\n",
              "  <div id=\"df-937217c4-fe83-4282-83b8-0ac8720ecad8\">\n",
              "    <div class=\"colab-df-container\">\n",
              "      <div>\n",
              "<style scoped>\n",
              "    .dataframe tbody tr th:only-of-type {\n",
              "        vertical-align: middle;\n",
              "    }\n",
              "\n",
              "    .dataframe tbody tr th {\n",
              "        vertical-align: top;\n",
              "    }\n",
              "\n",
              "    .dataframe thead th {\n",
              "        text-align: right;\n",
              "    }\n",
              "</style>\n",
              "<table border=\"1\" class=\"dataframe\">\n",
              "  <thead>\n",
              "    <tr style=\"text-align: right;\">\n",
              "      <th></th>\n",
              "      <th>headline</th>\n",
              "      <th>content</th>\n",
              "    </tr>\n",
              "    <tr>\n",
              "      <th>label</th>\n",
              "      <th></th>\n",
              "      <th></th>\n",
              "    </tr>\n",
              "  </thead>\n",
              "  <tbody>\n",
              "    <tr>\n",
              "      <th>0</th>\n",
              "      <td>1176</td>\n",
              "      <td>1176</td>\n",
              "    </tr>\n",
              "    <tr>\n",
              "      <th>1</th>\n",
              "      <td>1176</td>\n",
              "      <td>1175</td>\n",
              "    </tr>\n",
              "  </tbody>\n",
              "</table>\n",
              "</div>\n",
              "      <button class=\"colab-df-convert\" onclick=\"convertToInteractive('df-937217c4-fe83-4282-83b8-0ac8720ecad8')\"\n",
              "              title=\"Convert this dataframe to an interactive table.\"\n",
              "              style=\"display:none;\">\n",
              "        \n",
              "  <svg xmlns=\"http://www.w3.org/2000/svg\" height=\"24px\"viewBox=\"0 0 24 24\"\n",
              "       width=\"24px\">\n",
              "    <path d=\"M0 0h24v24H0V0z\" fill=\"none\"/>\n",
              "    <path d=\"M18.56 5.44l.94 2.06.94-2.06 2.06-.94-2.06-.94-.94-2.06-.94 2.06-2.06.94zm-11 1L8.5 8.5l.94-2.06 2.06-.94-2.06-.94L8.5 2.5l-.94 2.06-2.06.94zm10 10l.94 2.06.94-2.06 2.06-.94-2.06-.94-.94-2.06-.94 2.06-2.06.94z\"/><path d=\"M17.41 7.96l-1.37-1.37c-.4-.4-.92-.59-1.43-.59-.52 0-1.04.2-1.43.59L10.3 9.45l-7.72 7.72c-.78.78-.78 2.05 0 2.83L4 21.41c.39.39.9.59 1.41.59.51 0 1.02-.2 1.41-.59l7.78-7.78 2.81-2.81c.8-.78.8-2.07 0-2.86zM5.41 20L4 18.59l7.72-7.72 1.47 1.35L5.41 20z\"/>\n",
              "  </svg>\n",
              "      </button>\n",
              "      \n",
              "  <style>\n",
              "    .colab-df-container {\n",
              "      display:flex;\n",
              "      flex-wrap:wrap;\n",
              "      gap: 12px;\n",
              "    }\n",
              "\n",
              "    .colab-df-convert {\n",
              "      background-color: #E8F0FE;\n",
              "      border: none;\n",
              "      border-radius: 50%;\n",
              "      cursor: pointer;\n",
              "      display: none;\n",
              "      fill: #1967D2;\n",
              "      height: 32px;\n",
              "      padding: 0 0 0 0;\n",
              "      width: 32px;\n",
              "    }\n",
              "\n",
              "    .colab-df-convert:hover {\n",
              "      background-color: #E2EBFA;\n",
              "      box-shadow: 0px 1px 2px rgba(60, 64, 67, 0.3), 0px 1px 3px 1px rgba(60, 64, 67, 0.15);\n",
              "      fill: #174EA6;\n",
              "    }\n",
              "\n",
              "    [theme=dark] .colab-df-convert {\n",
              "      background-color: #3B4455;\n",
              "      fill: #D2E3FC;\n",
              "    }\n",
              "\n",
              "    [theme=dark] .colab-df-convert:hover {\n",
              "      background-color: #434B5C;\n",
              "      box-shadow: 0px 1px 3px 1px rgba(0, 0, 0, 0.15);\n",
              "      filter: drop-shadow(0px 1px 2px rgba(0, 0, 0, 0.3));\n",
              "      fill: #FFFFFF;\n",
              "    }\n",
              "  </style>\n",
              "\n",
              "      <script>\n",
              "        const buttonEl =\n",
              "          document.querySelector('#df-937217c4-fe83-4282-83b8-0ac8720ecad8 button.colab-df-convert');\n",
              "        buttonEl.style.display =\n",
              "          google.colab.kernel.accessAllowed ? 'block' : 'none';\n",
              "\n",
              "        async function convertToInteractive(key) {\n",
              "          const element = document.querySelector('#df-937217c4-fe83-4282-83b8-0ac8720ecad8');\n",
              "          const dataTable =\n",
              "            await google.colab.kernel.invokeFunction('convertToInteractive',\n",
              "                                                     [key], {});\n",
              "          if (!dataTable) return;\n",
              "\n",
              "          const docLinkHtml = 'Like what you see? Visit the ' +\n",
              "            '<a target=\"_blank\" href=https://colab.research.google.com/notebooks/data_table.ipynb>data table notebook</a>'\n",
              "            + ' to learn more about interactive tables.';\n",
              "          element.innerHTML = '';\n",
              "          dataTable['output_type'] = 'display_data';\n",
              "          await google.colab.output.renderOutput(dataTable, element);\n",
              "          const docLink = document.createElement('div');\n",
              "          docLink.innerHTML = docLinkHtml;\n",
              "          element.appendChild(docLink);\n",
              "        }\n",
              "      </script>\n",
              "    </div>\n",
              "  </div>\n",
              "  "
            ]
          },
          "metadata": {},
          "execution_count": 35
        }
      ],
      "source": [
        "df.groupby('label').agg('count')\n"
      ]
    },
    {
      "cell_type": "code",
      "execution_count": 36,
      "metadata": {
        "id": "pggrZ-BW8SQ0"
      },
      "outputs": [],
      "source": [
        "df=df.dropna()"
      ]
    },
    {
      "cell_type": "code",
      "execution_count": 37,
      "metadata": {
        "id": "7G9N_SLc8TB8"
      },
      "outputs": [],
      "source": [
        "X=df.content\n",
        "Y=df.label"
      ]
    },
    {
      "cell_type": "code",
      "execution_count": 38,
      "metadata": {
        "colab": {
          "base_uri": "https://localhost:8080/"
        },
        "id": "TIFEWhu68UME",
        "outputId": "a7965277-8985-4a71-be6b-7b23250f851b"
      },
      "outputs": [
        {
          "output_type": "execute_result",
          "data": {
            "text/plain": [
              "0    1176\n",
              "1    1175\n",
              "Name: label, dtype: int64"
            ]
          },
          "metadata": {},
          "execution_count": 38
        }
      ],
      "source": [
        "Y.value_counts()"
      ]
    },
    {
      "cell_type": "code",
      "execution_count": 39,
      "metadata": {
        "colab": {
          "base_uri": "https://localhost:8080/"
        },
        "id": "L5sly0us8VAk",
        "outputId": "5b03c441-20e9-41af-937a-b72634a180cd"
      },
      "outputs": [
        {
          "output_type": "execute_result",
          "data": {
            "text/plain": [
              "(2351,)"
            ]
          },
          "metadata": {},
          "execution_count": 39
        }
      ],
      "source": [
        "X.shape\n"
      ]
    },
    {
      "cell_type": "code",
      "execution_count": 40,
      "metadata": {
        "id": "SQjVqI_n8Xxj"
      },
      "outputs": [],
      "source": [
        "!pip install -Uqq transformers datasets tqdm\n",
        "!pip install -Uqq ohmeow-blurr"
      ]
    },
    {
      "cell_type": "code",
      "execution_count": 41,
      "metadata": {
        "id": "oiVd3qW28afT"
      },
      "outputs": [],
      "source": [
        "!pip install ohmeow-blurr -q"
      ]
    },
    {
      "cell_type": "code",
      "execution_count": 42,
      "metadata": {
        "id": "QxJpIBF-8byM"
      },
      "outputs": [],
      "source": [
        "from fastai.text.all import *\n",
        "from fastai.callback.wandb import *\n",
        "\n",
        "\n",
        "from blurr.text.data.all import *\n"
      ]
    },
    {
      "cell_type": "code",
      "execution_count": 43,
      "metadata": {
        "id": "1nmxAvhW8d8z"
      },
      "outputs": [],
      "source": [
        "from blurr.text.modeling.all import *"
      ]
    },
    {
      "cell_type": "code",
      "execution_count": 44,
      "metadata": {
        "id": "NfyHcrKv8hEF"
      },
      "outputs": [],
      "source": [
        "from transformers import PreTrainedModel"
      ]
    },
    {
      "cell_type": "code",
      "execution_count": 45,
      "metadata": {
        "id": "gMoYAh0n8kQt"
      },
      "outputs": [],
      "source": [
        "from blurr.text.modeling.core import BlearnerForSequenceClassification"
      ]
    },
    {
      "cell_type": "code",
      "execution_count": 46,
      "metadata": {
        "id": "RBxGcZb08m9D"
      },
      "outputs": [],
      "source": [
        "df['text']=df['content']"
      ]
    },
    {
      "cell_type": "code",
      "execution_count": 47,
      "metadata": {
        "id": "gt_OKXi78z7r"
      },
      "outputs": [],
      "source": [
        "df = df.drop(['headline','content'],axis=1)"
      ]
    },
    {
      "cell_type": "code",
      "execution_count": 48,
      "metadata": {
        "colab": {
          "base_uri": "https://localhost:8080/",
          "height": 805
        },
        "id": "WmPg7MFp803z",
        "outputId": "b1083e49-46d0-453c-e345-515377997298"
      },
      "outputs": [
        {
          "output_type": "execute_result",
          "data": {
            "text/plain": [
              "   label  \\\n",
              "0      0   \n",
              "1      0   \n",
              "2      0   \n",
              "3      0   \n",
              "4      0   \n",
              "\n",
              "                                                                                                                                                                                                                                                                                                                                                                                                                                                                                                                                                                                                                      text  \n",
              "0  বিমান আকাশে খেয়াল শিশু পর্নোগ্রাফির অ্যাপ ডাউনলোড তাতেই মজে গিয়েছিলেন এক ভারতীয় পাইলট দিল্লি উড্ডয়ন বিমানটি সানফ্রান্সিসকোয় নামার সঙ্গেই যাত্রীদের হাতক়ড়া পরানো পাইলটকেএসময় মুম্বাইয়ের পাইলটকে গ্রেপ্তার পাসপোর্ট আটক বাতিল ভিসা পাইলটকে বিমানে দিল্লি পাঠানো হয়মুম্বাই বিমানবন্দর সূত্র বছর বয়সী পাইলট বিমানের ফার্স্ট অফিসার দিল্লি মুম্বাই বহুবার বিমান উড়িয়ে গিয়েছেন আমেরিকায়তবে দিনই পাইলটকে যুক্তরাষ্ট্রে ঢুকতে দেয়া মার্কিন ব্যুরো অব কাস্টমস অ্যান্ড বর্ডার প্রোটকশন্সশুধু একদিনের ঘটনার প্রেক্ষিতেই ভারতীয় পাইলটের বিরুদ্ধে ব্যবস্থা নেয়া নয়মুম্বাই বিমানবন্দর সূত্রের খবর গত মাস ধরেই প...  \n",
              "1  মিয়ানমারের রাখাইন বাংলাদেশে ছুটে আসা রোহিঙ্গা মুসলিমদের আশ্রয় দিয়ে নজির স্থাপনের প্রধানমন্ত্রী শেখ হাসিনা সারাবিশ্বে আলোচিত নির্যাতন রোহিঙ্গা অনুপ্রবেশকারীদের সার্বিক সহায়তাসহ মায়ার বন্ধনে আবদ্ধ করায় শেখ হাসিনাকে মানবতার প্রতীক হিসেবে বিশ্ব নেতারা একইসঙ্গে আওয়ামী লীগ সরকারের এমপিমন্ত্রীসহ নেতাকর্মীরাও মানবতার অনন্য উদাহরণ প্রধানমন্ত্রী শেখ হাসিনা দেশের জনগণের বিপদআপদে পাশে পেয়েছে হলেন শেখ হাসিনা সারাটা জীবনই কাটছে মানবতার সেবায় শুধুমাত্র রোহিঙ্গাদের পাশেই দেশের প্রতিটি জনগণের পাশে মানবতা আশ্রয় দাঁড়ান দেশের প্রাকৃতিক দুযোগ অসহায় মুহূর্তে শেখ হাসিনাকে পাশে পেয়েছে জনগণ আগামীতে একইভাবে প্রধানম...  \n",
              "2  তালগাছপুরের কানা বগির ছা স্পোর্টিং ক্লাব বার্ষিক ফুটবল প্রতিযোগিতায় চ্যাম্পিয়নশিপ রাখতে চায় রাম গরুড়ের ছানা স্পোর্টিং ক্লাব কোনভাবেই চ্যাম্পিয়ানশিপের ধারে আসতে পঁই পঁই কানা বগির ছা স্পোর্টিং ক্লাবের চেয়ারম্যানকানা বগির ছা স্পোর্টিং ক্লাবএর শক্তি বাড়াতে হাঁসজারু স্পোর্টিং ক্লাবের খেলোয়াড় দলে নেয়া তালগাছ পুরের মানুষ বছরে ফুটবল ম্যাচ দেখার উন্মুখ তালগাছপুর বাজারের দোকানে দোকানে মানুষ জড় হয়ে ফুটবল খেলা জল্পনা কল্পনা থাকেফুটবল ম্যাচ পরিচালনার অভিজ্ঞ রেফারি নিয়োগ দেয়া ফুটবল ম্যাচের সময় দর্শকদের হাতাহাতি গুঁতাগুঁতির ফুটবল পাগল এক লাইন্সম্যানের চোখ অন্ধ হয়ে যায় ফুটবলের গভীর অনুরাগের কারণে চোখ হারা...  \n",
              "3                                                                                                                                                                                                                                        রাতে পৃথিবীতে ধেয়ে আসছে ক্ষতিকর উচ্চ তেজস্ক্রিয়তাসম্পন্ন কসমিক রে মহাজাগতিক রশ্মি ক্ষতিকর রশ্মি রক্ষা পেতে রাত টা মিনিট টা মিনিট মোবাইল ফোন বন্ধ রাখুন শরীরের দূরে কোথাও রাখুন বিশ্বাস গুগল নাসা বিবিসির খবর অনুসন্ধান করুনএবং সংবাদটি বন্ধুবান্ধব প্রিয়জনকে জানান সামাজিক যোগাযোগ মাধ্যম ফেসবুকের ইনবক্সে হয়তো এরকম মেসেজ পেয়েছেন বিশ্বাস আতঙ্কিত হয়ে মেসেজটি প্রিয়জনকে ফরোয়ার্ড  \n",
              "4  স্কুলকলেজ বাসাবাড়ি অফিসেই অতি মানসিক চাপে গালি কথাই ঘটে মস্ত বড় কেলেঙ্কারি গবেষণা বলছে ভিন্ন কথা গবেষকদের দাবি গালিগালাজই কমাতে মানসিক চাপ স্বাস্থ্যের ভালোএকাধিক মার্কিন গবেষণায় প্রমাণ মিলেছে মানসিক চাপ অবসাদ মাত্রাতিরিক্ত উত্তেজনা কমানোর গালিগালাজ খুবই কার্যকর ভূমিকা পালন ধারণার একমত ব্রিটিশ গবেষক মনোবিজ্ঞানীরাওকেমব্রিজ বিশ্ববিদ্যালয়ের তাত্ত্বিক ফলিত ভাষাতত্ত্ব বিভাগের অধ্যাপক ড কিরিকুস অ্যান্টনিও জানান গালিগালাজ আসলে মন রাগ ক্ষোভ বের মানসিক চাপ কাটানোর সহজ উপায়অ্যান্টনিওর মতে যেসব মানুষ উত্তেজিত গালিগালাজ মানসিক অবসাদ উচ্চরক্তচাপ স্নায়বিক সমস্যা কখনো এসব ব্যক্তিদের দ্বৈত ব্যক্তিত্ব...  "
            ],
            "text/html": [
              "\n",
              "  <div id=\"df-b4abc430-26a1-4146-8f1a-1004a105bb39\">\n",
              "    <div class=\"colab-df-container\">\n",
              "      <div>\n",
              "<style scoped>\n",
              "    .dataframe tbody tr th:only-of-type {\n",
              "        vertical-align: middle;\n",
              "    }\n",
              "\n",
              "    .dataframe tbody tr th {\n",
              "        vertical-align: top;\n",
              "    }\n",
              "\n",
              "    .dataframe thead th {\n",
              "        text-align: right;\n",
              "    }\n",
              "</style>\n",
              "<table border=\"1\" class=\"dataframe\">\n",
              "  <thead>\n",
              "    <tr style=\"text-align: right;\">\n",
              "      <th></th>\n",
              "      <th>label</th>\n",
              "      <th>text</th>\n",
              "    </tr>\n",
              "  </thead>\n",
              "  <tbody>\n",
              "    <tr>\n",
              "      <th>0</th>\n",
              "      <td>0</td>\n",
              "      <td>বিমান আকাশে খেয়াল শিশু পর্নোগ্রাফির অ্যাপ ডাউনলোড তাতেই মজে গিয়েছিলেন এক ভারতীয় পাইলট দিল্লি উড্ডয়ন বিমানটি সানফ্রান্সিসকোয় নামার সঙ্গেই যাত্রীদের হাতক়ড়া পরানো পাইলটকেএসময় মুম্বাইয়ের পাইলটকে গ্রেপ্তার পাসপোর্ট আটক বাতিল ভিসা পাইলটকে বিমানে দিল্লি পাঠানো হয়মুম্বাই বিমানবন্দর সূত্র বছর বয়সী পাইলট বিমানের ফার্স্ট অফিসার দিল্লি মুম্বাই বহুবার বিমান উড়িয়ে গিয়েছেন আমেরিকায়তবে দিনই পাইলটকে যুক্তরাষ্ট্রে ঢুকতে দেয়া মার্কিন ব্যুরো অব কাস্টমস অ্যান্ড বর্ডার প্রোটকশন্সশুধু একদিনের ঘটনার প্রেক্ষিতেই ভারতীয় পাইলটের বিরুদ্ধে ব্যবস্থা নেয়া নয়মুম্বাই বিমানবন্দর সূত্রের খবর গত মাস ধরেই প...</td>\n",
              "    </tr>\n",
              "    <tr>\n",
              "      <th>1</th>\n",
              "      <td>0</td>\n",
              "      <td>মিয়ানমারের রাখাইন বাংলাদেশে ছুটে আসা রোহিঙ্গা মুসলিমদের আশ্রয় দিয়ে নজির স্থাপনের প্রধানমন্ত্রী শেখ হাসিনা সারাবিশ্বে আলোচিত নির্যাতন রোহিঙ্গা অনুপ্রবেশকারীদের সার্বিক সহায়তাসহ মায়ার বন্ধনে আবদ্ধ করায় শেখ হাসিনাকে মানবতার প্রতীক হিসেবে বিশ্ব নেতারা একইসঙ্গে আওয়ামী লীগ সরকারের এমপিমন্ত্রীসহ নেতাকর্মীরাও মানবতার অনন্য উদাহরণ প্রধানমন্ত্রী শেখ হাসিনা দেশের জনগণের বিপদআপদে পাশে পেয়েছে হলেন শেখ হাসিনা সারাটা জীবনই কাটছে মানবতার সেবায় শুধুমাত্র রোহিঙ্গাদের পাশেই দেশের প্রতিটি জনগণের পাশে মানবতা আশ্রয় দাঁড়ান দেশের প্রাকৃতিক দুযোগ অসহায় মুহূর্তে শেখ হাসিনাকে পাশে পেয়েছে জনগণ আগামীতে একইভাবে প্রধানম...</td>\n",
              "    </tr>\n",
              "    <tr>\n",
              "      <th>2</th>\n",
              "      <td>0</td>\n",
              "      <td>তালগাছপুরের কানা বগির ছা স্পোর্টিং ক্লাব বার্ষিক ফুটবল প্রতিযোগিতায় চ্যাম্পিয়নশিপ রাখতে চায় রাম গরুড়ের ছানা স্পোর্টিং ক্লাব কোনভাবেই চ্যাম্পিয়ানশিপের ধারে আসতে পঁই পঁই কানা বগির ছা স্পোর্টিং ক্লাবের চেয়ারম্যানকানা বগির ছা স্পোর্টিং ক্লাবএর শক্তি বাড়াতে হাঁসজারু স্পোর্টিং ক্লাবের খেলোয়াড় দলে নেয়া তালগাছ পুরের মানুষ বছরে ফুটবল ম্যাচ দেখার উন্মুখ তালগাছপুর বাজারের দোকানে দোকানে মানুষ জড় হয়ে ফুটবল খেলা জল্পনা কল্পনা থাকেফুটবল ম্যাচ পরিচালনার অভিজ্ঞ রেফারি নিয়োগ দেয়া ফুটবল ম্যাচের সময় দর্শকদের হাতাহাতি গুঁতাগুঁতির ফুটবল পাগল এক লাইন্সম্যানের চোখ অন্ধ হয়ে যায় ফুটবলের গভীর অনুরাগের কারণে চোখ হারা...</td>\n",
              "    </tr>\n",
              "    <tr>\n",
              "      <th>3</th>\n",
              "      <td>0</td>\n",
              "      <td>রাতে পৃথিবীতে ধেয়ে আসছে ক্ষতিকর উচ্চ তেজস্ক্রিয়তাসম্পন্ন কসমিক রে মহাজাগতিক রশ্মি ক্ষতিকর রশ্মি রক্ষা পেতে রাত টা মিনিট টা মিনিট মোবাইল ফোন বন্ধ রাখুন শরীরের দূরে কোথাও রাখুন বিশ্বাস গুগল নাসা বিবিসির খবর অনুসন্ধান করুনএবং সংবাদটি বন্ধুবান্ধব প্রিয়জনকে জানান সামাজিক যোগাযোগ মাধ্যম ফেসবুকের ইনবক্সে হয়তো এরকম মেসেজ পেয়েছেন বিশ্বাস আতঙ্কিত হয়ে মেসেজটি প্রিয়জনকে ফরোয়ার্ড</td>\n",
              "    </tr>\n",
              "    <tr>\n",
              "      <th>4</th>\n",
              "      <td>0</td>\n",
              "      <td>স্কুলকলেজ বাসাবাড়ি অফিসেই অতি মানসিক চাপে গালি কথাই ঘটে মস্ত বড় কেলেঙ্কারি গবেষণা বলছে ভিন্ন কথা গবেষকদের দাবি গালিগালাজই কমাতে মানসিক চাপ স্বাস্থ্যের ভালোএকাধিক মার্কিন গবেষণায় প্রমাণ মিলেছে মানসিক চাপ অবসাদ মাত্রাতিরিক্ত উত্তেজনা কমানোর গালিগালাজ খুবই কার্যকর ভূমিকা পালন ধারণার একমত ব্রিটিশ গবেষক মনোবিজ্ঞানীরাওকেমব্রিজ বিশ্ববিদ্যালয়ের তাত্ত্বিক ফলিত ভাষাতত্ত্ব বিভাগের অধ্যাপক ড কিরিকুস অ্যান্টনিও জানান গালিগালাজ আসলে মন রাগ ক্ষোভ বের মানসিক চাপ কাটানোর সহজ উপায়অ্যান্টনিওর মতে যেসব মানুষ উত্তেজিত গালিগালাজ মানসিক অবসাদ উচ্চরক্তচাপ স্নায়বিক সমস্যা কখনো এসব ব্যক্তিদের দ্বৈত ব্যক্তিত্ব...</td>\n",
              "    </tr>\n",
              "  </tbody>\n",
              "</table>\n",
              "</div>\n",
              "      <button class=\"colab-df-convert\" onclick=\"convertToInteractive('df-b4abc430-26a1-4146-8f1a-1004a105bb39')\"\n",
              "              title=\"Convert this dataframe to an interactive table.\"\n",
              "              style=\"display:none;\">\n",
              "        \n",
              "  <svg xmlns=\"http://www.w3.org/2000/svg\" height=\"24px\"viewBox=\"0 0 24 24\"\n",
              "       width=\"24px\">\n",
              "    <path d=\"M0 0h24v24H0V0z\" fill=\"none\"/>\n",
              "    <path d=\"M18.56 5.44l.94 2.06.94-2.06 2.06-.94-2.06-.94-.94-2.06-.94 2.06-2.06.94zm-11 1L8.5 8.5l.94-2.06 2.06-.94-2.06-.94L8.5 2.5l-.94 2.06-2.06.94zm10 10l.94 2.06.94-2.06 2.06-.94-2.06-.94-.94-2.06-.94 2.06-2.06.94z\"/><path d=\"M17.41 7.96l-1.37-1.37c-.4-.4-.92-.59-1.43-.59-.52 0-1.04.2-1.43.59L10.3 9.45l-7.72 7.72c-.78.78-.78 2.05 0 2.83L4 21.41c.39.39.9.59 1.41.59.51 0 1.02-.2 1.41-.59l7.78-7.78 2.81-2.81c.8-.78.8-2.07 0-2.86zM5.41 20L4 18.59l7.72-7.72 1.47 1.35L5.41 20z\"/>\n",
              "  </svg>\n",
              "      </button>\n",
              "      \n",
              "  <style>\n",
              "    .colab-df-container {\n",
              "      display:flex;\n",
              "      flex-wrap:wrap;\n",
              "      gap: 12px;\n",
              "    }\n",
              "\n",
              "    .colab-df-convert {\n",
              "      background-color: #E8F0FE;\n",
              "      border: none;\n",
              "      border-radius: 50%;\n",
              "      cursor: pointer;\n",
              "      display: none;\n",
              "      fill: #1967D2;\n",
              "      height: 32px;\n",
              "      padding: 0 0 0 0;\n",
              "      width: 32px;\n",
              "    }\n",
              "\n",
              "    .colab-df-convert:hover {\n",
              "      background-color: #E2EBFA;\n",
              "      box-shadow: 0px 1px 2px rgba(60, 64, 67, 0.3), 0px 1px 3px 1px rgba(60, 64, 67, 0.15);\n",
              "      fill: #174EA6;\n",
              "    }\n",
              "\n",
              "    [theme=dark] .colab-df-convert {\n",
              "      background-color: #3B4455;\n",
              "      fill: #D2E3FC;\n",
              "    }\n",
              "\n",
              "    [theme=dark] .colab-df-convert:hover {\n",
              "      background-color: #434B5C;\n",
              "      box-shadow: 0px 1px 3px 1px rgba(0, 0, 0, 0.15);\n",
              "      filter: drop-shadow(0px 1px 2px rgba(0, 0, 0, 0.3));\n",
              "      fill: #FFFFFF;\n",
              "    }\n",
              "  </style>\n",
              "\n",
              "      <script>\n",
              "        const buttonEl =\n",
              "          document.querySelector('#df-b4abc430-26a1-4146-8f1a-1004a105bb39 button.colab-df-convert');\n",
              "        buttonEl.style.display =\n",
              "          google.colab.kernel.accessAllowed ? 'block' : 'none';\n",
              "\n",
              "        async function convertToInteractive(key) {\n",
              "          const element = document.querySelector('#df-b4abc430-26a1-4146-8f1a-1004a105bb39');\n",
              "          const dataTable =\n",
              "            await google.colab.kernel.invokeFunction('convertToInteractive',\n",
              "                                                     [key], {});\n",
              "          if (!dataTable) return;\n",
              "\n",
              "          const docLinkHtml = 'Like what you see? Visit the ' +\n",
              "            '<a target=\"_blank\" href=https://colab.research.google.com/notebooks/data_table.ipynb>data table notebook</a>'\n",
              "            + ' to learn more about interactive tables.';\n",
              "          element.innerHTML = '';\n",
              "          dataTable['output_type'] = 'display_data';\n",
              "          await google.colab.output.renderOutput(dataTable, element);\n",
              "          const docLink = document.createElement('div');\n",
              "          docLink.innerHTML = docLinkHtml;\n",
              "          element.appendChild(docLink);\n",
              "        }\n",
              "      </script>\n",
              "    </div>\n",
              "  </div>\n",
              "  "
            ]
          },
          "metadata": {},
          "execution_count": 48
        }
      ],
      "source": [
        "df.head()"
      ]
    },
    {
      "cell_type": "code",
      "execution_count": 49,
      "metadata": {
        "id": "eYKBC73v81pb"
      },
      "outputs": [],
      "source": [
        "pretrained_model_name = \"bert-base-multilingual-cased\"\n",
        "learn = BlearnerForSequenceClassification.from_data(df, pretrained_model_name, dl_kwargs={ 'bs': 4})"
      ]
    },
    {
      "cell_type": "code",
      "execution_count": 50,
      "metadata": {
        "colab": {
          "base_uri": "https://localhost:8080/",
          "height": 320
        },
        "id": "THdOsCHb82es",
        "outputId": "f76b24da-f55c-4617-a200-70440dac142f"
      },
      "outputs": [
        {
          "output_type": "display_data",
          "data": {
            "text/plain": [
              "<IPython.core.display.HTML object>"
            ],
            "text/html": [
              "\n",
              "<style>\n",
              "    /* Turns off some styling */\n",
              "    progress {\n",
              "        /* gets rid of default border in Firefox and Opera. */\n",
              "        border: none;\n",
              "        /* Needs to be in here for Safari polyfill so background images work as expected. */\n",
              "        background-size: auto;\n",
              "    }\n",
              "    progress:not([value]), progress:not([value])::-webkit-progress-bar {\n",
              "        background: repeating-linear-gradient(45deg, #7e7e7e, #7e7e7e 10px, #5c5c5c 10px, #5c5c5c 20px);\n",
              "    }\n",
              "    .progress-bar-interrupted, .progress-bar-interrupted::-webkit-progress-bar {\n",
              "        background: #F44336;\n",
              "    }\n",
              "</style>\n"
            ]
          },
          "metadata": {}
        },
        {
          "output_type": "display_data",
          "data": {
            "text/plain": [
              "<IPython.core.display.HTML object>"
            ],
            "text/html": []
          },
          "metadata": {}
        },
        {
          "output_type": "execute_result",
          "data": {
            "text/plain": [
              "SuggestedLRs(minimum=3.311311302240938e-05, steep=0.12022644281387329, valley=0.00019054606673307717, slide=0.00363078061491251)"
            ]
          },
          "metadata": {},
          "execution_count": 50
        },
        {
          "output_type": "display_data",
          "data": {
            "text/plain": [
              "<Figure size 432x288 with 1 Axes>"
            ],
            "image/png": "[encoded data removed]"
          },
          "metadata": {
            "needs_background": "light"
          }
        }
      ],
      "source": [
        "learn.lr_find(suggest_funcs=[minimum, steep, valley, slide])"
      ]
    },
    {
      "cell_type": "code",
      "execution_count": 51,
      "metadata": {
        "colab": {
          "base_uri": "https://localhost:8080/",
          "height": 381
        },
        "id": "TzPtVY9483Us",
        "outputId": "b5afb7de-d94e-4693-d70f-792aa22ed30e"
      },
      "outputs": [
        {
          "output_type": "stream",
          "name": "stdout",
          "text": [
            "Could not gather input dimensions\n"
          ]
        },
        {
          "output_type": "display_data",
          "data": {
            "text/plain": [
              "<IPython.core.display.HTML object>"
            ],
            "text/html": [
              "\n",
              "<style>\n",
              "    /* Turns off some styling */\n",
              "    progress {\n",
              "        /* gets rid of default border in Firefox and Opera. */\n",
              "        border: none;\n",
              "        /* Needs to be in here for Safari polyfill so background images work as expected. */\n",
              "        background-size: auto;\n",
              "    }\n",
              "    progress:not([value]), progress:not([value])::-webkit-progress-bar {\n",
              "        background: repeating-linear-gradient(45deg, #7e7e7e, #7e7e7e 10px, #5c5c5c 10px, #5c5c5c 20px);\n",
              "    }\n",
              "    .progress-bar-interrupted, .progress-bar-interrupted::-webkit-progress-bar {\n",
              "        background: #F44336;\n",
              "    }\n",
              "</style>\n"
            ]
          },
          "metadata": {}
        },
        {
          "output_type": "display_data",
          "data": {
            "text/plain": [
              "<IPython.core.display.HTML object>"
            ],
            "text/html": [
              "<table border=\"1\" class=\"dataframe\">\n",
              "  <thead>\n",
              "    <tr style=\"text-align: left;\">\n",
              "      <th>epoch</th>\n",
              "      <th>train_loss</th>\n",
              "      <th>valid_loss</th>\n",
              "      <th>f1_score</th>\n",
              "      <th>accuracy</th>\n",
              "      <th>time</th>\n",
              "    </tr>\n",
              "  </thead>\n",
              "  <tbody>\n",
              "    <tr>\n",
              "      <td>0</td>\n",
              "      <td>0.638335</td>\n",
              "      <td>0.583117</td>\n",
              "      <td>0.781528</td>\n",
              "      <td>0.738298</td>\n",
              "      <td>02:19</td>\n",
              "    </tr>\n",
              "    <tr>\n",
              "      <td>1</td>\n",
              "      <td>0.372245</td>\n",
              "      <td>0.535017</td>\n",
              "      <td>0.831793</td>\n",
              "      <td>0.806383</td>\n",
              "      <td>02:19</td>\n",
              "    </tr>\n",
              "    <tr>\n",
              "      <td>2</td>\n",
              "      <td>0.356244</td>\n",
              "      <td>0.339500</td>\n",
              "      <td>0.871166</td>\n",
              "      <td>0.865957</td>\n",
              "      <td>02:19</td>\n",
              "    </tr>\n",
              "    <tr>\n",
              "      <td>3</td>\n",
              "      <td>0.377870</td>\n",
              "      <td>0.368353</td>\n",
              "      <td>0.862004</td>\n",
              "      <td>0.844681</td>\n",
              "      <td>02:19</td>\n",
              "    </tr>\n",
              "    <tr>\n",
              "      <td>4</td>\n",
              "      <td>0.253031</td>\n",
              "      <td>0.502054</td>\n",
              "      <td>0.838938</td>\n",
              "      <td>0.806383</td>\n",
              "      <td>02:19</td>\n",
              "    </tr>\n",
              "    <tr>\n",
              "      <td>5</td>\n",
              "      <td>0.249672</td>\n",
              "      <td>0.291320</td>\n",
              "      <td>0.902724</td>\n",
              "      <td>0.893617</td>\n",
              "      <td>02:19</td>\n",
              "    </tr>\n",
              "    <tr>\n",
              "      <td>6</td>\n",
              "      <td>0.190877</td>\n",
              "      <td>0.294736</td>\n",
              "      <td>0.888454</td>\n",
              "      <td>0.878723</td>\n",
              "      <td>02:19</td>\n",
              "    </tr>\n",
              "    <tr>\n",
              "      <td>7</td>\n",
              "      <td>0.166589</td>\n",
              "      <td>0.257459</td>\n",
              "      <td>0.912000</td>\n",
              "      <td>0.906383</td>\n",
              "      <td>02:19</td>\n",
              "    </tr>\n",
              "    <tr>\n",
              "      <td>8</td>\n",
              "      <td>0.107039</td>\n",
              "      <td>0.305664</td>\n",
              "      <td>0.898833</td>\n",
              "      <td>0.889362</td>\n",
              "      <td>02:19</td>\n",
              "    </tr>\n",
              "    <tr>\n",
              "      <td>9</td>\n",
              "      <td>0.092225</td>\n",
              "      <td>0.338927</td>\n",
              "      <td>0.897485</td>\n",
              "      <td>0.887234</td>\n",
              "      <td>02:19</td>\n",
              "    </tr>\n",
              "  </tbody>\n",
              "</table>"
            ]
          },
          "metadata": {}
        }
      ],
      "source": [
        "#learn.unfreeze()\n",
        "learn.fit_one_cycle(10, lr_max=1e-3,cbs=[WandbCallback(log_preds=False, log_model=False)])"
      ]
    },
    {
      "cell_type": "code",
      "execution_count": 52,
      "metadata": {
        "id": "1OfiMgo184Ws",
        "colab": {
          "base_uri": "https://localhost:8080/",
          "height": 383
        },
        "outputId": "1b6e129f-e30b-4de9-8a5a-f8c99232a631"
      },
      "outputs": [
        {
          "output_type": "display_data",
          "data": {
            "text/plain": [
              "<IPython.core.display.HTML object>"
            ],
            "text/html": [
              "\n",
              "<style>\n",
              "    /* Turns off some styling */\n",
              "    progress {\n",
              "        /* gets rid of default border in Firefox and Opera. */\n",
              "        border: none;\n",
              "        /* Needs to be in here for Safari polyfill so background images work as expected. */\n",
              "        background-size: auto;\n",
              "    }\n",
              "    progress:not([value]), progress:not([value])::-webkit-progress-bar {\n",
              "        background: repeating-linear-gradient(45deg, #7e7e7e, #7e7e7e 10px, #5c5c5c 10px, #5c5c5c 20px);\n",
              "    }\n",
              "    .progress-bar-interrupted, .progress-bar-interrupted::-webkit-progress-bar {\n",
              "        background: #F44336;\n",
              "    }\n",
              "</style>\n"
            ]
          },
          "metadata": {}
        },
        {
          "output_type": "display_data",
          "data": {
            "text/plain": [
              "<IPython.core.display.HTML object>"
            ],
            "text/html": []
          },
          "metadata": {}
        },
        {
          "output_type": "display_data",
          "data": {
            "text/plain": [
              "<IPython.core.display.HTML object>"
            ],
            "text/html": [
              "<table border=\"1\" class=\"dataframe\">\n",
              "  <thead>\n",
              "    <tr style=\"text-align: right;\">\n",
              "      <th></th>\n",
              "      <th>text</th>\n",
              "      <th>target</th>\n",
              "      <th>prediction</th>\n",
              "    </tr>\n",
              "  </thead>\n",
              "  <tbody>\n",
              "    <tr>\n",
              "      <th>0</th>\n",
              "      <td>বছর ধরেই বাংলাদেশে সবচেয়ে ভয়াল মাদকের নাম ইয়াবা বাবা নামে সমাজের স্তরে তরুণদের মাঝে সারা দেশে ইয়াবার মূল যোগান আসে মুলত মায়ানমারের সীমান্তবর্তী বাংলাদেশের সর্বদক্ষিণের এলাকা টেকনাফ ইয়াবার সাথে জ</td>\n",
              "      <td>0</td>\n",
              "      <td>1</td>\n",
              "    </tr>\n",
              "    <tr>\n",
              "      <th>1</th>\n",
              "      <td>আহমেদের এলেবেলে বাংলা রম্য সাহিত্যে এক অনন্য সংযোজন শিরোনামের রচনাগুলো ছোট ভাই আহসান হাবীবের প্রকাশিত মাসিক উন্মাদের লিখা করলেও খবরের কাগজ কিছুমিছু বিচিত্রার সাপ্তাহিক মাসিক প্রকাশিত এরপর এলেবেলে নামে</td>\n",
              "      <td>0</td>\n",
              "      <td>0</td>\n",
              "    </tr>\n",
              "    <tr>\n",
              "      <th>2</th>\n",
              "      <td>অংশগ্রহণই কথা এমনটা হেরে সান্ত্বনা চিরকাল অংশই তাদেরকে সান্ত্বনা ভাষা আসন্ন নির্বাচনে পাননি মনঃকষ্টের বিপরীতে সান্ত্বনাও খুঁজে পাচ্ছেন করবেনমনের নানান জর্জরিত মানুষদের প্রাচীন ঠিকানা মনোরোগ বিশেষজ্ঞের</td>\n",
              "      <td>0</td>\n",
              "      <td>0</td>\n",
              "    </tr>\n",
              "    <tr>\n",
              "      <th>3</th>\n",
              "      <td>সংবিধান একাদশ সংসদ নির্বাচন ডিসেম্বরের শেষ প্রধানমন্ত্রী শেখ হাসিনা সভাসমাবেশে ঘোষণা ডিসেম্বরের শেষ সপ্তাহে নির্বাচন নির্বাচন কমিশন অক্টোবরের নির্বাচনের তফসিল ঘোষণা নির্বাচন এক মাস ধারণা এখনো বেশির ভা</td>\n",
              "      <td>1</td>\n",
              "      <td>1</td>\n",
              "    </tr>\n",
              "  </tbody>\n",
              "</table>"
            ]
          },
          "metadata": {}
        }
      ],
      "source": [
        "learn.show_results(learner=learn, max_n=4,trunc_at=200)"
      ]
    },
    {
      "cell_type": "code",
      "execution_count": 52,
      "metadata": {
        "id": "bjrxtwDGLq85"
      },
      "outputs": [],
      "source": []
    },
    {
      "cell_type": "code",
      "execution_count": 53,
      "metadata": {
        "id": "MMdoN2NWLCNe",
        "colab": {
          "base_uri": "https://localhost:8080/",
          "height": 1000,
          "referenced_widgets": [
            "d045987f0afc4fca8e0cbc9e50a9f826",
            "640df63477004599bab3d2257ab7ef8a",
            "9ebe70db5c294a6884d4b23e6a8fd8e0",
            "4364d05b023a449ca6447e4f398063a1",
            "dfd09eb3bb184d31aa34a9852f0da99d",
            "406ccf0f08ea4184b87919580c5af2a5",
            "97f14408320a41fd9ae49d7f7e3056d1",
            "e94bb6a2af094e7ab49abcd8978c614a"
          ]
        },
        "outputId": "d0452cba-d581-4caa-cce2-6488aa4bf99b"
      },
      "outputs": [
        {
          "output_type": "display_data",
          "data": {
            "text/plain": [
              "<IPython.core.display.HTML object>"
            ],
            "text/html": [
              "Waiting for W&B process to finish... <strong style=\"color:green\">(success).</strong>"
            ]
          },
          "metadata": {}
        },
        {
          "output_type": "display_data",
          "data": {
            "text/plain": [
              "VBox(children=(Label(value='0.000 MB of 0.000 MB uploaded (0.000 MB deduped)\\r'), FloatProgress(value=1.0, max…"
            ],
            "application/vnd.jupyter.widget-view+json": {
              "version_major": 2,
              "version_minor": 0,
              "model_id": "d045987f0afc4fca8e0cbc9e50a9f826"
            }
          },
          "metadata": {}
        },
        {
          "output_type": "display_data",
          "data": {
            "text/plain": [
              "<IPython.core.display.HTML object>"
            ],
            "text/html": [
              "<style>\n",
              "    table.wandb td:nth-child(1) { padding: 0 10px; text-align: left ; width: auto;} td:nth-child(2) {text-align: left ; width: 100%}\n",
              "    .wandb-row { display: flex; flex-direction: row; flex-wrap: wrap; justify-content: flex-start; width: 100% }\n",
              "    .wandb-col { display: flex; flex-direction: column; flex-basis: 100%; flex: 1; padding: 10px; }\n",
              "    </style>\n",
              "<div class=\"wandb-row\"><div class=\"wandb-col\"><h3>Run history:</h3><br/><table class=\"wandb\"><tr><td>accuracy</td><td>▁▄▆▅▄▇▇█▇▇</td></tr><tr><td>epoch</td><td>▁▁▁▁▂▂▂▂▂▃▃▃▃▃▃▄▄▄▄▄▄▅▅▅▅▅▆▆▆▆▆▇▇▇▇▇▇███</td></tr><tr><td>eps_0</td><td>▁▁▁▁▁▁▁▁▁▁▁▁▁▁▁▁▁▁▁▁▁▁▁▁▁▁▁▁▁▁▁▁▁▁▁▁▁▁▁▁</td></tr><tr><td>eps_1</td><td>▁▁▁▁▁▁▁▁▁▁▁▁▁▁▁▁▁▁▁▁▁▁▁▁▁▁▁▁▁▁▁▁▁▁▁▁▁▁▁▁</td></tr><tr><td>eps_2</td><td>▁▁▁▁▁▁▁▁▁▁▁▁▁▁▁▁▁▁▁▁▁▁▁▁▁▁▁▁▁▁▁▁▁▁▁▁▁▁▁▁</td></tr><tr><td>eps_3</td><td>▁▁▁▁▁▁▁▁▁▁▁▁▁▁▁▁▁▁▁▁▁▁▁▁▁▁▁▁▁▁▁▁▁▁▁▁▁▁▁▁</td></tr><tr><td>f1_score</td><td>▁▄▆▅▄█▇█▇▇</td></tr><tr><td>lr_0</td><td>▁▁▂▃▄▅▆▇▇██████▇▇▇▇▆▆▆▅▅▅▄▄▄▃▃▃▂▂▂▂▁▁▁▁▁</td></tr><tr><td>lr_1</td><td>▁▁▂▃▄▅▆▇▇██████▇▇▇▇▆▆▆▅▅▅▄▄▄▃▃▃▂▂▂▂▁▁▁▁▁</td></tr><tr><td>lr_2</td><td>▁▁▂▃▄▅▆▇▇██████▇▇▇▇▆▆▆▅▅▅▄▄▄▃▃▃▂▂▂▂▁▁▁▁▁</td></tr><tr><td>lr_3</td><td>▁▁▂▃▄▅▆▇▇██████▇▇▇▇▆▆▆▅▅▅▄▄▄▃▃▃▂▂▂▂▁▁▁▁▁</td></tr><tr><td>mom_0</td><td>██▇▆▅▄▃▂▂▁▁▁▁▁▁▂▂▂▂▃▃▃▄▄▄▅▅▅▆▆▆▇▇▇▇█████</td></tr><tr><td>mom_1</td><td>██▇▆▅▄▃▂▂▁▁▁▁▁▁▂▂▂▂▃▃▃▄▄▄▅▅▅▆▆▆▇▇▇▇█████</td></tr><tr><td>mom_2</td><td>██▇▆▅▄▃▂▂▁▁▁▁▁▁▂▂▂▂▃▃▃▄▄▄▅▅▅▆▆▆▇▇▇▇█████</td></tr><tr><td>mom_3</td><td>██▇▆▅▄▃▂▂▁▁▁▁▁▁▂▂▂▂▃▃▃▄▄▄▅▅▅▆▆▆▇▇▇▇█████</td></tr><tr><td>raw_loss</td><td>▄▅▄▄▄▃▄▃▆▂▄█▃▅▂▂▂▁▁▁▂▃▁▄▁▃▁▁▁▁▁▁▃▃▂▁▂▁▂▃</td></tr><tr><td>sqr_mom_0</td><td>▁▁▁▁▁▁▁▁▁▁▁▁▁▁▁▁▁▁▁▁▁▁▁▁▁▁▁▁▁▁▁▁▁▁▁▁▁▁▁▁</td></tr><tr><td>sqr_mom_1</td><td>▁▁▁▁▁▁▁▁▁▁▁▁▁▁▁▁▁▁▁▁▁▁▁▁▁▁▁▁▁▁▁▁▁▁▁▁▁▁▁▁</td></tr><tr><td>sqr_mom_2</td><td>▁▁▁▁▁▁▁▁▁▁▁▁▁▁▁▁▁▁▁▁▁▁▁▁▁▁▁▁▁▁▁▁▁▁▁▁▁▁▁▁</td></tr><tr><td>sqr_mom_3</td><td>▁▁▁▁▁▁▁▁▁▁▁▁▁▁▁▁▁▁▁▁▁▁▁▁▁▁▁▁▁▁▁▁▁▁▁▁▁▁▁▁</td></tr><tr><td>train_loss</td><td>████▇▆▅▅▄▄▅▅▄▄▃▄▄▄▃▃▃▃▃▂▂▂▂▂▂▁▂▂▂▁▂▁▁▁▁▁</td></tr><tr><td>train_samples_per_sec</td><td>▄▃▁▁▁▁▁▁▁█▁▁▁▁▂▁▆▃▁▁▁▁▁▁▁▁▁▁▁▂▂▁▁▁▃▁▁▁▁▁</td></tr><tr><td>valid_loss</td><td>█▇▃▃▆▂▂▁▂▃</td></tr><tr><td>wd_0</td><td>▁▁▁▁▁▁▁▁▁▁▁▁▁▁▁▁▁▁▁▁▁▁▁▁▁▁▁▁▁▁▁▁▁▁▁▁▁▁▁▁</td></tr><tr><td>wd_1</td><td>▁▁▁▁▁▁▁▁▁▁▁▁▁▁▁▁▁▁▁▁▁▁▁▁▁▁▁▁▁▁▁▁▁▁▁▁▁▁▁▁</td></tr><tr><td>wd_2</td><td>▁▁▁▁▁▁▁▁▁▁▁▁▁▁▁▁▁▁▁▁▁▁▁▁▁▁▁▁▁▁▁▁▁▁▁▁▁▁▁▁</td></tr><tr><td>wd_3</td><td>▁▁▁▁▁▁▁▁▁▁▁▁▁▁▁▁▁▁▁▁▁▁▁▁▁▁▁▁▁▁▁▁▁▁▁▁▁▁▁▁</td></tr></table><br/></div><div class=\"wandb-col\"><h3>Run summary:</h3><br/><table class=\"wandb\"><tr><td>accuracy</td><td>0.88723</td></tr><tr><td>epoch</td><td>10</td></tr><tr><td>eps_0</td><td>1e-05</td></tr><tr><td>eps_1</td><td>1e-05</td></tr><tr><td>eps_2</td><td>1e-05</td></tr><tr><td>eps_3</td><td>1e-05</td></tr><tr><td>f1_score</td><td>0.89749</td></tr><tr><td>lr_0</td><td>0.0</td></tr><tr><td>lr_1</td><td>0.0</td></tr><tr><td>lr_2</td><td>0.0</td></tr><tr><td>lr_3</td><td>0.0</td></tr><tr><td>mom_0</td><td>0.95</td></tr><tr><td>mom_1</td><td>0.95</td></tr><tr><td>mom_2</td><td>0.95</td></tr><tr><td>mom_3</td><td>0.95</td></tr><tr><td>raw_loss</td><td>0.074</td></tr><tr><td>sqr_mom_0</td><td>0.99</td></tr><tr><td>sqr_mom_1</td><td>0.99</td></tr><tr><td>sqr_mom_2</td><td>0.99</td></tr><tr><td>sqr_mom_3</td><td>0.99</td></tr><tr><td>train_loss</td><td>0.09222</td></tr><tr><td>train_samples_per_sec</td><td>14.57297</td></tr><tr><td>valid_loss</td><td>0.33893</td></tr><tr><td>wd_0</td><td>0.01</td></tr><tr><td>wd_1</td><td>0.01</td></tr><tr><td>wd_2</td><td>0.01</td></tr><tr><td>wd_3</td><td>0.01</td></tr></table><br/></div></div>"
            ]
          },
          "metadata": {}
        },
        {
          "output_type": "display_data",
          "data": {
            "text/plain": [
              "<IPython.core.display.HTML object>"
            ],
            "text/html": [
              "Synced <strong style=\"color:#cdcd00\">lively-tree-9</strong>: <a href=\"https://wandb.ai/zihadbappy/bn_fake_classification/runs/1o1xnwvi\" target=\"_blank\">https://wandb.ai/zihadbappy/bn_fake_classification/runs/1o1xnwvi</a><br/>Synced 5 W&B file(s), 0 media file(s), 0 artifact file(s) and 0 other file(s)"
            ]
          },
          "metadata": {}
        },
        {
          "output_type": "display_data",
          "data": {
            "text/plain": [
              "<IPython.core.display.HTML object>"
            ],
            "text/html": [
              "Find logs at: <code>./wandb/run-20220915_211120-1o1xnwvi/logs</code>"
            ]
          },
          "metadata": {}
        }
      ],
      "source": [
        "wandb.finish()\n"
      ]
    },
    {
      "cell_type": "code",
      "execution_count": 54,
      "metadata": {
        "id": "g6TW_WgWLG8U",
        "colab": {
          "base_uri": "https://localhost:8080/"
        },
        "outputId": "3014e188-9350-4bca-f08c-612eb62d8474"
      },
      "outputs": [
        {
          "output_type": "stream",
          "name": "stdout",
          "text": [
            "Reading package lists... Done\n",
            "Building dependency tree       \n",
            "Reading state information... Done\n",
            "git-lfs is already the newest version (2.3.4-1).\n",
            "The following package was automatically installed and is no longer required:\n",
            "  libnvidia-common-460\n",
            "Use 'sudo apt autoremove' to remove it.\n",
            "0 upgraded, 0 newly installed, 0 to remove and 20 not upgraded.\n"
          ]
        }
      ],
      "source": [
        "!sudo apt-get install git-lfs\n"
      ]
    },
    {
      "cell_type": "code",
      "execution_count": 54,
      "metadata": {
        "id": "1tFDdsj8LUKN"
      },
      "outputs": [],
      "source": []
    }
  ],
  "metadata": {
    "accelerator": "GPU",
    "colab": {
      "collapsed_sections": [],
      "provenance": [],
      "include_colab_link": true
    },
    "gpuClass": "standard",
    "kernelspec": {
      "display_name": "Python 3",
      "name": "python3"
    },
    "language_info": {
      "name": "python"
    },
    "widgets": {
      "application/vnd.jupyter.widget-state+json": {
        "d045987f0afc4fca8e0cbc9e50a9f826": {
          "model_module": "@jupyter-widgets/controls",
          "model_name": "VBoxModel",
          "model_module_version": "1.5.0",
          "state": {
            "_dom_classes": [],
            "_model_module": "@jupyter-widgets/controls",
            "_model_module_version": "1.5.0",
            "_model_name": "VBoxModel",
            "_view_count": null,
            "_view_module": "@jupyter-widgets/controls",
            "_view_module_version": "1.5.0",
            "_view_name": "VBoxView",
            "box_style": "",
            "children": [
              "IPY_MODEL_640df63477004599bab3d2257ab7ef8a",
              "IPY_MODEL_9ebe70db5c294a6884d4b23e6a8fd8e0"
            ],
            "layout": "IPY_MODEL_4364d05b023a449ca6447e4f398063a1"
          }
        },
        "640df63477004599bab3d2257ab7ef8a": {
          "model_module": "@jupyter-widgets/controls",
          "model_name": "LabelModel",
          "model_module_version": "1.5.0",
          "state": {
            "_dom_classes": [],
            "_model_module": "@jupyter-widgets/controls",
            "_model_module_version": "1.5.0",
            "_model_name": "LabelModel",
            "_view_count": null,
            "_view_module": "@jupyter-widgets/controls",
            "_view_module_version": "1.5.0",
            "_view_name": "LabelView",
            "description": "",
            "description_tooltip": null,
            "layout": "IPY_MODEL_dfd09eb3bb184d31aa34a9852f0da99d",
            "placeholder": "​",
            "style": "IPY_MODEL_406ccf0f08ea4184b87919580c5af2a5",
            "value": "0.011 MB of 0.011 MB uploaded (0.000 MB deduped)\r"
          }
        },
        "9ebe70db5c294a6884d4b23e6a8fd8e0": {
          "model_module": "@jupyter-widgets/controls",
          "model_name": "FloatProgressModel",
          "model_module_version": "1.5.0",
          "state": {
            "_dom_classes": [],
            "_model_module": "@jupyter-widgets/controls",
            "_model_module_version": "1.5.0",
            "_model_name": "FloatProgressModel",
            "_view_count": null,
            "_view_module": "@jupyter-widgets/controls",
            "_view_module_version": "1.5.0",
            "_view_name": "ProgressView",
            "bar_style": "",
            "description": "",
            "description_tooltip": null,
            "layout": "IPY_MODEL_97f14408320a41fd9ae49d7f7e3056d1",
            "max": 1,
            "min": 0,
            "orientation": "horizontal",
            "style": "IPY_MODEL_e94bb6a2af094e7ab49abcd8978c614a",
            "value": 1
          }
        },
        "4364d05b023a449ca6447e4f398063a1": {
          "model_module": "@jupyter-widgets/base",
          "model_name": "LayoutModel",
          "model_module_version": "1.2.0",
          "state": {
            "_model_module": "@jupyter-widgets/base",
            "_model_module_version": "1.2.0",
            "_model_name": "LayoutModel",
            "_view_count": null,
            "_view_module": "@jupyter-widgets/base",
            "_view_module_version": "1.2.0",
            "_view_name": "LayoutView",
            "align_content": null,
            "align_items": null,
            "align_self": null,
            "border": null,
            "bottom": null,
            "display": null,
            "flex": null,
            "flex_flow": null,
            "grid_area": null,
            "grid_auto_columns": null,
            "grid_auto_flow": null,
            "grid_auto_rows": null,
            "grid_column": null,
            "grid_gap": null,
            "grid_row": null,
            "grid_template_areas": null,
            "grid_template_columns": null,
            "grid_template_rows": null,
            "height": null,
            "justify_content": null,
            "justify_items": null,
            "left": null,
            "margin": null,
            "max_height": null,
            "max_width": null,
            "min_height": null,
            "min_width": null,
            "object_fit": null,
            "object_position": null,
            "order": null,
            "overflow": null,
            "overflow_x": null,
            "overflow_y": null,
            "padding": null,
            "right": null,
            "top": null,
            "visibility": null,
            "width": null
          }
        },
        "dfd09eb3bb184d31aa34a9852f0da99d": {
          "model_module": "@jupyter-widgets/base",
          "model_name": "LayoutModel",
          "model_module_version": "1.2.0",
          "state": {
            "_model_module": "@jupyter-widgets/base",
            "_model_module_version": "1.2.0",
            "_model_name": "LayoutModel",
            "_view_count": null,
            "_view_module": "@jupyter-widgets/base",
            "_view_module_version": "1.2.0",
            "_view_name": "LayoutView",
            "align_content": null,
            "align_items": null,
            "align_self": null,
            "border": null,
            "bottom": null,
            "display": null,
            "flex": null,
            "flex_flow": null,
            "grid_area": null,
            "grid_auto_columns": null,
            "grid_auto_flow": null,
            "grid_auto_rows": null,
            "grid_column": null,
            "grid_gap": null,
            "grid_row": null,
            "grid_template_areas": null,
            "grid_template_columns": null,
            "grid_template_rows": null,
            "height": null,
            "justify_content": null,
            "justify_items": null,
            "left": null,
            "margin": null,
            "max_height": null,
            "max_width": null,
            "min_height": null,
            "min_width": null,
            "object_fit": null,
            "object_position": null,
            "order": null,
            "overflow": null,
            "overflow_x": null,
            "overflow_y": null,
            "padding": null,
            "right": null,
            "top": null,
            "visibility": null,
            "width": null
          }
        },
        "406ccf0f08ea4184b87919580c5af2a5": {
          "model_module": "@jupyter-widgets/controls",
          "model_name": "DescriptionStyleModel",
          "model_module_version": "1.5.0",
          "state": {
            "_model_module": "@jupyter-widgets/controls",
            "_model_module_version": "1.5.0",
            "_model_name": "DescriptionStyleModel",
            "_view_count": null,
            "_view_module": "@jupyter-widgets/base",
            "_view_module_version": "1.2.0",
            "_view_name": "StyleView",
            "description_width": ""
          }
        },
        "97f14408320a41fd9ae49d7f7e3056d1": {
          "model_module": "@jupyter-widgets/base",
          "model_name": "LayoutModel",
          "model_module_version": "1.2.0",
          "state": {
            "_model_module": "@jupyter-widgets/base",
            "_model_module_version": "1.2.0",
            "_model_name": "LayoutModel",
            "_view_count": null,
            "_view_module": "@jupyter-widgets/base",
            "_view_module_version": "1.2.0",
            "_view_name": "LayoutView",
            "align_content": null,
            "align_items": null,
            "align_self": null,
            "border": null,
            "bottom": null,
            "display": null,
            "flex": null,
            "flex_flow": null,
            "grid_area": null,
            "grid_auto_columns": null,
            "grid_auto_flow": null,
            "grid_auto_rows": null,
            "grid_column": null,
            "grid_gap": null,
            "grid_row": null,
            "grid_template_areas": null,
            "grid_template_columns": null,
            "grid_template_rows": null,
            "height": null,
            "justify_content": null,
            "justify_items": null,
            "left": null,
            "margin": null,
            "max_height": null,
            "max_width": null,
            "min_height": null,
            "min_width": null,
            "object_fit": null,
            "object_position": null,
            "order": null,
            "overflow": null,
            "overflow_x": null,
            "overflow_y": null,
            "padding": null,
            "right": null,
            "top": null,
            "visibility": null,
            "width": null
          }
        },
        "e94bb6a2af094e7ab49abcd8978c614a": {
          "model_module": "@jupyter-widgets/controls",
          "model_name": "ProgressStyleModel",
          "model_module_version": "1.5.0",
          "state": {
            "_model_module": "@jupyter-widgets/controls",
            "_model_module_version": "1.5.0",
            "_model_name": "ProgressStyleModel",
            "_view_count": null,
            "_view_module": "@jupyter-widgets/base",
            "_view_module_version": "1.2.0",
            "_view_name": "StyleView",
            "bar_color": null,
            "description_width": ""
          }
        }
      }
    }
  },
  "nbformat": 4,
  "nbformat_minor": 0
}