{
  "cells": [
    {
      "cell_type": "markdown",
      "metadata": {
        "id": "view-in-github",
        "colab_type": "text"
      },
      "source": [
        "<a href=\"https://colab.research.google.com/github/zihadbappy/bnfake/blob/main/BanFakeNews_LSTM_BiLSTM_CNN%2BLSTM_CNN%2BBiLSTM.ipynb\" target=\"_parent\"><img src=\"https://colab.research.google.com/assets/colab-badge.svg\" alt=\"Open In Colab\"/></a>"
      ]
    },
    {
      "cell_type": "code",
      "execution_count": 1,
      "metadata": {
        "colab": {
          "base_uri": "https://localhost:8080/"
        },
        "id": "yWwzky88kQDW",
        "outputId": "6bb248da-2360-4962-ac4c-66a69a0519ed"
      },
      "outputs": [
        {
          "output_type": "stream",
          "name": "stdout",
          "text": [
            "Cloning into 'FakeDatasets'...\n",
            "remote: Enumerating objects: 20, done.\u001b[K\n",
            "remote: Counting objects: 100% (20/20), done.\u001b[K\n",
            "remote: Compressing objects: 100% (20/20), done.\u001b[K\n",
            "remote: Total 20 (delta 8), reused 0 (delta 0), pack-reused 0\u001b[K\n",
            "Unpacking objects: 100% (20/20), done.\n"
          ]
        }
      ],
      "source": [
        "!git clone https://github.com/zihadbappy/FakeDatasets.git\n",
        "import pandas as pd\n",
        "Dataset= pd.read_csv('/content/FakeDatasets/banfakenews_no_duplicate.csv')"
      ]
    },
    {
      "cell_type": "code",
      "execution_count": 2,
      "metadata": {
        "id": "4or3X6M_kbZK"
      },
      "outputs": [],
      "source": [
        "df = pd.DataFrame(Dataset)"
      ]
    },
    {
      "cell_type": "code",
      "execution_count": 3,
      "metadata": {
        "id": "g8HDYbD7kdEK"
      },
      "outputs": [],
      "source": [
        "df = pd.DataFrame(Dataset)\n"
      ]
    },
    {
      "cell_type": "code",
      "execution_count": 4,
      "metadata": {
        "id": "Aqi9SlmSkkeC"
      },
      "outputs": [],
      "source": [
        "df=df.dropna()"
      ]
    },
    {
      "cell_type": "code",
      "execution_count": 5,
      "metadata": {
        "colab": {
          "base_uri": "https://localhost:8080/",
          "height": 143
        },
        "id": "0eh6CGrQkfKC",
        "outputId": "ce8ec35d-44ca-45f4-a6c5-76c2f2adb61d"
      },
      "outputs": [
        {
          "output_type": "execute_result",
          "data": {
            "text/plain": [
              "       headline  content\n",
              "label                   \n",
              "0          1176     1176\n",
              "1          1175     1175"
            ],
            "text/html": [
              "\n",
              "  <div id=\"df-3f591851-5bc8-436d-8ddc-7b73efa6bf63\">\n",
              "    <div class=\"colab-df-container\">\n",
              "      <div>\n",
              "<style scoped>\n",
              "    .dataframe tbody tr th:only-of-type {\n",
              "        vertical-align: middle;\n",
              "    }\n",
              "\n",
              "    .dataframe tbody tr th {\n",
              "        vertical-align: top;\n",
              "    }\n",
              "\n",
              "    .dataframe thead th {\n",
              "        text-align: right;\n",
              "    }\n",
              "</style>\n",
              "<table border=\"1\" class=\"dataframe\">\n",
              "  <thead>\n",
              "    <tr style=\"text-align: right;\">\n",
              "      <th></th>\n",
              "      <th>headline</th>\n",
              "      <th>content</th>\n",
              "    </tr>\n",
              "    <tr>\n",
              "      <th>label</th>\n",
              "      <th></th>\n",
              "      <th></th>\n",
              "    </tr>\n",
              "  </thead>\n",
              "  <tbody>\n",
              "    <tr>\n",
              "      <th>0</th>\n",
              "      <td>1176</td>\n",
              "      <td>1176</td>\n",
              "    </tr>\n",
              "    <tr>\n",
              "      <th>1</th>\n",
              "      <td>1175</td>\n",
              "      <td>1175</td>\n",
              "    </tr>\n",
              "  </tbody>\n",
              "</table>\n",
              "</div>\n",
              "      <button class=\"colab-df-convert\" onclick=\"convertToInteractive('df-3f591851-5bc8-436d-8ddc-7b73efa6bf63')\"\n",
              "              title=\"Convert this dataframe to an interactive table.\"\n",
              "              style=\"display:none;\">\n",
              "        \n",
              "  <svg xmlns=\"http://www.w3.org/2000/svg\" height=\"24px\"viewBox=\"0 0 24 24\"\n",
              "       width=\"24px\">\n",
              "    <path d=\"M0 0h24v24H0V0z\" fill=\"none\"/>\n",
              "    <path d=\"M18.56 5.44l.94 2.06.94-2.06 2.06-.94-2.06-.94-.94-2.06-.94 2.06-2.06.94zm-11 1L8.5 8.5l.94-2.06 2.06-.94-2.06-.94L8.5 2.5l-.94 2.06-2.06.94zm10 10l.94 2.06.94-2.06 2.06-.94-2.06-.94-.94-2.06-.94 2.06-2.06.94z\"/><path d=\"M17.41 7.96l-1.37-1.37c-.4-.4-.92-.59-1.43-.59-.52 0-1.04.2-1.43.59L10.3 9.45l-7.72 7.72c-.78.78-.78 2.05 0 2.83L4 21.41c.39.39.9.59 1.41.59.51 0 1.02-.2 1.41-.59l7.78-7.78 2.81-2.81c.8-.78.8-2.07 0-2.86zM5.41 20L4 18.59l7.72-7.72 1.47 1.35L5.41 20z\"/>\n",
              "  </svg>\n",
              "      </button>\n",
              "      \n",
              "  <style>\n",
              "    .colab-df-container {\n",
              "      display:flex;\n",
              "      flex-wrap:wrap;\n",
              "      gap: 12px;\n",
              "    }\n",
              "\n",
              "    .colab-df-convert {\n",
              "      background-color: #E8F0FE;\n",
              "      border: none;\n",
              "      border-radius: 50%;\n",
              "      cursor: pointer;\n",
              "      display: none;\n",
              "      fill: #1967D2;\n",
              "      height: 32px;\n",
              "      padding: 0 0 0 0;\n",
              "      width: 32px;\n",
              "    }\n",
              "\n",
              "    .colab-df-convert:hover {\n",
              "      background-color: #E2EBFA;\n",
              "      box-shadow: 0px 1px 2px rgba(60, 64, 67, 0.3), 0px 1px 3px 1px rgba(60, 64, 67, 0.15);\n",
              "      fill: #174EA6;\n",
              "    }\n",
              "\n",
              "    [theme=dark] .colab-df-convert {\n",
              "      background-color: #3B4455;\n",
              "      fill: #D2E3FC;\n",
              "    }\n",
              "\n",
              "    [theme=dark] .colab-df-convert:hover {\n",
              "      background-color: #434B5C;\n",
              "      box-shadow: 0px 1px 3px 1px rgba(0, 0, 0, 0.15);\n",
              "      filter: drop-shadow(0px 1px 2px rgba(0, 0, 0, 0.3));\n",
              "      fill: #FFFFFF;\n",
              "    }\n",
              "  </style>\n",
              "\n",
              "      <script>\n",
              "        const buttonEl =\n",
              "          document.querySelector('#df-3f591851-5bc8-436d-8ddc-7b73efa6bf63 button.colab-df-convert');\n",
              "        buttonEl.style.display =\n",
              "          google.colab.kernel.accessAllowed ? 'block' : 'none';\n",
              "\n",
              "        async function convertToInteractive(key) {\n",
              "          const element = document.querySelector('#df-3f591851-5bc8-436d-8ddc-7b73efa6bf63');\n",
              "          const dataTable =\n",
              "            await google.colab.kernel.invokeFunction('convertToInteractive',\n",
              "                                                     [key], {});\n",
              "          if (!dataTable) return;\n",
              "\n",
              "          const docLinkHtml = 'Like what you see? Visit the ' +\n",
              "            '<a target=\"_blank\" href=https://colab.research.google.com/notebooks/data_table.ipynb>data table notebook</a>'\n",
              "            + ' to learn more about interactive tables.';\n",
              "          element.innerHTML = '';\n",
              "          dataTable['output_type'] = 'display_data';\n",
              "          await google.colab.output.renderOutput(dataTable, element);\n",
              "          const docLink = document.createElement('div');\n",
              "          docLink.innerHTML = docLinkHtml;\n",
              "          element.appendChild(docLink);\n",
              "        }\n",
              "      </script>\n",
              "    </div>\n",
              "  </div>\n",
              "  "
            ]
          },
          "metadata": {},
          "execution_count": 5
        }
      ],
      "source": [
        "df.groupby('label').agg('count')"
      ]
    },
    {
      "cell_type": "code",
      "execution_count": 6,
      "metadata": {
        "id": "HClWoM0Akr8B"
      },
      "outputs": [],
      "source": [
        "X=df.content\n",
        "Y=df.label"
      ]
    },
    {
      "cell_type": "code",
      "execution_count": 7,
      "metadata": {
        "colab": {
          "base_uri": "https://localhost:8080/"
        },
        "id": "SRInFEVTkwSp",
        "outputId": "a1669951-45b6-4378-fa16-26e5e02ca39b"
      },
      "outputs": [
        {
          "output_type": "execute_result",
          "data": {
            "text/plain": [
              "0    1176\n",
              "1    1175\n",
              "Name: label, dtype: int64"
            ]
          },
          "metadata": {},
          "execution_count": 7
        }
      ],
      "source": [
        "Y.value_counts()"
      ]
    },
    {
      "cell_type": "code",
      "execution_count": 8,
      "metadata": {
        "colab": {
          "base_uri": "https://localhost:8080/"
        },
        "id": "D-a5z8uxk11K",
        "outputId": "72381249-c9bd-43b8-d418-5a4fa91156e9"
      },
      "outputs": [
        {
          "output_type": "execute_result",
          "data": {
            "text/plain": [
              "(2351,)"
            ]
          },
          "metadata": {},
          "execution_count": 8
        }
      ],
      "source": [
        "X.shape"
      ]
    },
    {
      "cell_type": "code",
      "execution_count": 9,
      "metadata": {
        "id": "HgmDabVAk3Va"
      },
      "outputs": [],
      "source": [
        "from tensorflow.keras.layers import Embedding\n",
        "from tensorflow.keras.preprocessing.sequence import pad_sequences\n",
        "from tensorflow.keras.models import Sequential\n",
        "from tensorflow.keras.preprocessing.text import one_hot\n",
        "from tensorflow.keras.layers import LSTM\n",
        "from tensorflow.keras.layers import Dense\n",
        "from tensorflow.keras.layers import Bidirectional\n",
        "from tensorflow.keras.layers import Dropout\n",
        "from keras.callbacks import EarlyStopping"
      ]
    },
    {
      "cell_type": "markdown",
      "metadata": {
        "id": "OyfuZecDlAQ2"
      },
      "source": [
        "Onehot Representation\n"
      ]
    },
    {
      "cell_type": "code",
      "execution_count": 10,
      "metadata": {
        "id": "0wtILdVCl-Ig"
      },
      "outputs": [],
      "source": [
        "voc_size=86000"
      ]
    },
    {
      "cell_type": "code",
      "execution_count": 11,
      "metadata": {
        "id": "3ZXgMhhulXQK"
      },
      "outputs": [],
      "source": [
        "onehot_repr=[one_hot(words,voc_size)for words in X]"
      ]
    },
    {
      "cell_type": "code",
      "execution_count": 12,
      "metadata": {
        "colab": {
          "base_uri": "https://localhost:8080/"
        },
        "id": "yrdK7lbkmD0q",
        "outputId": "8f4ae46e-e5bd-41af-a168-751ba3231cf2"
      },
      "outputs": [
        {
          "output_type": "execute_result",
          "data": {
            "text/plain": [
              "2351"
            ]
          },
          "metadata": {},
          "execution_count": 12
        }
      ],
      "source": [
        "len(onehot_repr)"
      ]
    },
    {
      "cell_type": "code",
      "execution_count": 13,
      "metadata": {
        "colab": {
          "base_uri": "https://localhost:8080/"
        },
        "id": "3AcoW1RUm41i",
        "outputId": "ee422500-d52a-49d1-bb28-e789a1b02381"
      },
      "outputs": [
        {
          "output_type": "stream",
          "name": "stdout",
          "text": [
            "[[    0     0     0 ... 68370 29650 60106]\n",
            " [10426 24921 21610 ...  6657 25304 13860]\n",
            " [ 4986 79439 51347 ... 52597 53322 55600]\n",
            " ...\n",
            " [ 9104 80498 53792 ... 48066 43265 32421]\n",
            " [37221 77382 12334 ... 61454 38907 14059]\n",
            " [    0     0     0 ... 69479 85538 13860]]\n"
          ]
        }
      ],
      "source": [
        "news_length=300\n",
        "embedded_news=pad_sequences(onehot_repr,padding='pre',maxlen=news_length)\n",
        "print(embedded_news)"
      ]
    },
    {
      "cell_type": "code",
      "execution_count": 14,
      "metadata": {
        "colab": {
          "base_uri": "https://localhost:8080/"
        },
        "id": "yR1dua8dnxbK",
        "outputId": "499a05b4-0ca0-4b45-f36f-9b3b75db8cdd"
      },
      "outputs": [
        {
          "output_type": "execute_result",
          "data": {
            "text/plain": [
              "array([    0,     0,     0,     0,     0,     0,     0,     0,     0,\n",
              "           0,     0,     0,     0,     0,     0,     0,     0,     0,\n",
              "           0,     0,     0,     0,     0,     0,     0,     0,     0,\n",
              "           0,     0,     0,     0,     0,     0,     0,     0,     0,\n",
              "           0,     0,     0,     0,     0,     0,     0,     0,     0,\n",
              "           0,     0,     0,     0,     0,     0,     0,     0,     0,\n",
              "           0,     0,     0,     0,     0,     0,     0,     0,     0,\n",
              "           0,     0,     0,     0,     0,     0,     0,     0,     0,\n",
              "           0,     0,     0,     0,     0,     0,     0,     0,     0,\n",
              "           0,     0,     0,     0,     0,     0,     0,     0,     0,\n",
              "           0,     0,     0,     0,     0,     0,     0,     0,     0,\n",
              "           0,     0,     0,     0,     0,     0,     0,     0,     0,\n",
              "           0,     0,     0,     0,     0,     0,     0,     0,     0,\n",
              "           0,     0,     0,     0,     0,     0,     0,     0,     0,\n",
              "           0,     0,     0,     0,     0,     0,     0,     0,     0,\n",
              "           0,     0,     0,     0,     0,     0,     0,     0,     0,\n",
              "           0,     0,     0,     0,     0,     0,     0,     0,     0,\n",
              "           0,     0,     0,     0,     0,     0,     0,     0,     0,\n",
              "           0,     0,     0,     0, 55970, 13877, 24981, 26974, 17500,\n",
              "       54050, 80788, 57678, 63069, 34660, 30455, 10555, 41506, 81651,\n",
              "       84488, 10917,  3042, 30469, 18460, 39230, 35700, 49603, 57664,\n",
              "       14628, 69932, 15614, 40037,  6626, 50057, 74491, 69932, 24320,\n",
              "       81651,  3690, 71358, 66813, 29650, 19918, 74183, 41506, 62382,\n",
              "        2853, 54105, 81651, 78674, 39121, 55970,  1489, 45229, 50541,\n",
              "       51516, 69932,  5198, 64797, 20146, 58875, 31148, 48106, 79698,\n",
              "       73240, 85218, 75079, 13276, 48306, 75388, 10555, 80320,  4806,\n",
              "       27116, 66417, 68543, 66813, 48474, 52832, 45346, 49459,  8769,\n",
              "       80320, 57986, 60693, 42538, 58875, 31148, 48106, 79698, 73240,\n",
              "       85218, 42055, 55970, 69257, 28648, 26974, 17500, 54050, 80788,\n",
              "       15299, 80190,  8769, 80320,  4806, 45690, 55970, 33548, 41506,\n",
              "       27893, 63881,  5551, 84413, 60693,    11, 49459, 80320, 57986,\n",
              "       44594, 52972, 82103,  3751, 53313, 36681, 61273, 35848, 66845,\n",
              "       22652, 45426, 67647, 58875, 31148, 48106, 79698, 73240, 85218,\n",
              "       68370, 29650, 60106], dtype=int32)"
            ]
          },
          "metadata": {},
          "execution_count": 14
        }
      ],
      "source": [
        "embedded_news[0]\n"
      ]
    },
    {
      "cell_type": "code",
      "execution_count": 15,
      "metadata": {
        "colab": {
          "base_uri": "https://localhost:8080/"
        },
        "id": "TzJLnmPbn_V5",
        "outputId": "18afbb4b-21df-41ea-8f7b-2a8e242b3784"
      },
      "outputs": [
        {
          "output_type": "execute_result",
          "data": {
            "text/plain": [
              "(2351, (2351,))"
            ]
          },
          "metadata": {},
          "execution_count": 15
        }
      ],
      "source": [
        "len(embedded_news),Y.shape"
      ]
    },
    {
      "cell_type": "code",
      "execution_count": 16,
      "metadata": {
        "id": "MLe-T0GyoFbq"
      },
      "outputs": [],
      "source": [
        "import numpy as np\n",
        "X_final=np.array(embedded_news)\n",
        "y_final=np.array(Y)"
      ]
    },
    {
      "cell_type": "code",
      "execution_count": 17,
      "metadata": {
        "colab": {
          "base_uri": "https://localhost:8080/"
        },
        "id": "oMalWiVloJuC",
        "outputId": "4653531c-b6cd-4f9d-e46b-58db26aa2c1f"
      },
      "outputs": [
        {
          "output_type": "execute_result",
          "data": {
            "text/plain": [
              "((2351, 300), (2351,))"
            ]
          },
          "metadata": {},
          "execution_count": 17
        }
      ],
      "source": [
        "X_final.shape,y_final.shape"
      ]
    },
    {
      "cell_type": "code",
      "execution_count": 18,
      "metadata": {
        "id": "GTeEyab6oLvi"
      },
      "outputs": [],
      "source": [
        "from sklearn.model_selection import train_test_split\n",
        "X_train, X_test, y_train, y_test = train_test_split(X_final, y_final, test_size=0.25, random_state=41, stratify=df['label'])"
      ]
    },
    {
      "cell_type": "markdown",
      "source": [
        "# **LSTM MODEL**"
      ],
      "metadata": {
        "id": "5Tg8TDW8yM4O"
      }
    },
    {
      "cell_type": "code",
      "execution_count": 19,
      "metadata": {
        "colab": {
          "base_uri": "https://localhost:8080/"
        },
        "id": "QchriyV6nyxp",
        "outputId": "da5bf386-ee4d-4b76-eb5c-77083969096a"
      },
      "outputs": [
        {
          "output_type": "stream",
          "name": "stdout",
          "text": [
            "Model: \"sequential\"\n",
            "_________________________________________________________________\n",
            " Layer (type)                Output Shape              Param #   \n",
            "=================================================================\n",
            " embedding (Embedding)       (None, 300, 40)           3440000   \n",
            "                                                                 \n",
            " lstm (LSTM)                 (None, 100)               56400     \n",
            "                                                                 \n",
            " dense (Dense)               (None, 1)                 101       \n",
            "                                                                 \n",
            "=================================================================\n",
            "Total params: 3,496,501\n",
            "Trainable params: 3,496,501\n",
            "Non-trainable params: 0\n",
            "_________________________________________________________________\n",
            "None\n",
            "Epoch 1/12\n",
            "28/28 [==============================] - 14s 418ms/step - loss: 0.6669 - accuracy: 0.6052 - val_loss: 0.5180 - val_accuracy: 0.8741\n",
            "Epoch 2/12\n",
            "28/28 [==============================] - 11s 382ms/step - loss: 0.4866 - accuracy: 0.9053 - val_loss: 0.4727 - val_accuracy: 0.8639\n",
            "Epoch 3/12\n",
            "28/28 [==============================] - 11s 399ms/step - loss: 0.2397 - accuracy: 0.9393 - val_loss: 0.2959 - val_accuracy: 0.9065\n",
            "Epoch 4/12\n",
            "28/28 [==============================] - 11s 393ms/step - loss: 0.0939 - accuracy: 0.9801 - val_loss: 0.2394 - val_accuracy: 0.9133\n",
            "Epoch 5/12\n",
            "28/28 [==============================] - 11s 404ms/step - loss: 0.0274 - accuracy: 0.9960 - val_loss: 0.2602 - val_accuracy: 0.8980\n",
            "Epoch 6/12\n",
            "28/28 [==============================] - 11s 401ms/step - loss: 0.0134 - accuracy: 0.9989 - val_loss: 0.3029 - val_accuracy: 0.9116\n",
            "Epoch 7/12\n",
            "28/28 [==============================] - 12s 413ms/step - loss: 0.0093 - accuracy: 0.9989 - val_loss: 0.3021 - val_accuracy: 0.9150\n",
            "Epoch 8/12\n",
            "28/28 [==============================] - 12s 421ms/step - loss: 0.0161 - accuracy: 0.9989 - val_loss: 0.3689 - val_accuracy: 0.9065\n",
            "Epoch 9/12\n",
            "28/28 [==============================] - 11s 394ms/step - loss: 0.0089 - accuracy: 0.9989 - val_loss: 0.2972 - val_accuracy: 0.9099\n",
            "Epoch 10/12\n",
            "28/28 [==============================] - 11s 395ms/step - loss: 0.0084 - accuracy: 0.9989 - val_loss: 0.2438 - val_accuracy: 0.9184\n",
            "Epoch 11/12\n",
            "28/28 [==============================] - 11s 405ms/step - loss: 0.0041 - accuracy: 0.9994 - val_loss: 0.2799 - val_accuracy: 0.9201\n",
            "Epoch 12/12\n",
            "28/28 [==============================] - 11s 407ms/step - loss: 0.0070 - accuracy: 0.9994 - val_loss: 0.3258 - val_accuracy: 0.8963\n"
          ]
        },
        {
          "output_type": "execute_result",
          "data": {
            "text/plain": [
              "<keras.callbacks.History at 0x7ff8be4513d0>"
            ]
          },
          "metadata": {},
          "execution_count": 19
        }
      ],
      "source": [
        "embedding_vector_features=40\n",
        "model1=Sequential()\n",
        "model1.add(Embedding(voc_size,embedding_vector_features,input_length=news_length))\n",
        "model1.add(LSTM(100))\n",
        "model1.add(Dense(1,activation='sigmoid'))\n",
        "model1.compile(loss='binary_crossentropy',optimizer='adam',metrics=['accuracy'])\n",
        "print(model1.summary())\n",
        "model1.fit(X_train,y_train,validation_data=(X_test,y_test),epochs=12,batch_size=64,\n",
        "    callbacks=[EarlyStopping(monitor=\"val_accuracy\",\n",
        "    min_delta=0,\n",
        "    patience=3,\n",
        "    verbose=1,\n",
        "    mode=\"auto\",\n",
        "    restore_best_weights=True,)])"
      ]
    },
    {
      "cell_type": "markdown",
      "source": [
        "# **CNN+LSTM MODEL**"
      ],
      "metadata": {
        "id": "9-HsAAhxRPK5"
      }
    },
    {
      "cell_type": "code",
      "source": [
        "from keras.layers import Dense,Conv1D,MaxPooling1D"
      ],
      "metadata": {
        "id": "JezijLJd_vzg"
      },
      "execution_count": 20,
      "outputs": []
    },
    {
      "cell_type": "code",
      "source": [
        "embedding_vecor_length = 40\n",
        "model2 = Sequential()\n",
        "model2.add(Embedding(voc_size, embedding_vecor_length, input_length=news_length))\n",
        "model2.add(Conv1D(filters=32, kernel_size=3, padding='same', activation='relu'))\n",
        "model2.add(MaxPooling1D(pool_size=2))\n",
        "model2.add(LSTM(100))\n",
        "model2.add(Dense(1, activation='sigmoid'))\n",
        "model2.compile(loss='binary_crossentropy', optimizer='adam', metrics=['accuracy'])\n",
        "print(model2.summary())\n",
        "model2.fit(X_train,y_train,validation_data=(X_test,y_test),epochs=12,batch_size=64,\n",
        "    callbacks=[EarlyStopping(monitor=\"val_accuracy\",\n",
        "    min_delta=0,\n",
        "    patience=3,\n",
        "    verbose=1,\n",
        "    mode=\"auto\",\n",
        "    restore_best_weights=True,)])"
      ],
      "metadata": {
        "colab": {
          "base_uri": "https://localhost:8080/"
        },
        "id": "K2NQHdZY_mM1",
        "outputId": "09d5e5cc-a721-4ff5-bd68-a8861dac7944"
      },
      "execution_count": 21,
      "outputs": [
        {
          "output_type": "stream",
          "name": "stdout",
          "text": [
            "Model: \"sequential_1\"\n",
            "_________________________________________________________________\n",
            " Layer (type)                Output Shape              Param #   \n",
            "=================================================================\n",
            " embedding_1 (Embedding)     (None, 300, 40)           3440000   \n",
            "                                                                 \n",
            " conv1d (Conv1D)             (None, 300, 32)           3872      \n",
            "                                                                 \n",
            " max_pooling1d (MaxPooling1D  (None, 150, 32)          0         \n",
            " )                                                               \n",
            "                                                                 \n",
            " lstm_1 (LSTM)               (None, 100)               53200     \n",
            "                                                                 \n",
            " dense_1 (Dense)             (None, 1)                 101       \n",
            "                                                                 \n",
            "=================================================================\n",
            "Total params: 3,497,173\n",
            "Trainable params: 3,497,173\n",
            "Non-trainable params: 0\n",
            "_________________________________________________________________\n",
            "None\n",
            "Epoch 1/12\n",
            "28/28 [==============================] - 10s 262ms/step - loss: 0.6923 - accuracy: 0.5082 - val_loss: 0.6853 - val_accuracy: 0.8112\n",
            "Epoch 2/12\n",
            "28/28 [==============================] - 7s 242ms/step - loss: 0.5180 - accuracy: 0.8815 - val_loss: 0.2906 - val_accuracy: 0.8997\n",
            "Epoch 3/12\n",
            "28/28 [==============================] - 7s 236ms/step - loss: 0.1278 - accuracy: 0.9614 - val_loss: 0.2429 - val_accuracy: 0.8929\n",
            "Epoch 4/12\n",
            "28/28 [==============================] - 7s 251ms/step - loss: 0.0232 - accuracy: 0.9949 - val_loss: 0.2460 - val_accuracy: 0.9235\n",
            "Epoch 5/12\n",
            "28/28 [==============================] - 7s 259ms/step - loss: 0.0127 - accuracy: 0.9983 - val_loss: 0.3070 - val_accuracy: 0.9167\n",
            "Epoch 6/12\n",
            "28/28 [==============================] - 7s 241ms/step - loss: 0.0045 - accuracy: 1.0000 - val_loss: 0.2723 - val_accuracy: 0.9201\n",
            "Epoch 7/12\n",
            "28/28 [==============================] - 7s 242ms/step - loss: 0.0016 - accuracy: 1.0000 - val_loss: 0.2802 - val_accuracy: 0.9286\n",
            "Epoch 8/12\n",
            "28/28 [==============================] - 7s 247ms/step - loss: 0.0016 - accuracy: 1.0000 - val_loss: 0.3357 - val_accuracy: 0.9184\n",
            "Epoch 9/12\n",
            "28/28 [==============================] - 7s 256ms/step - loss: 0.0025 - accuracy: 0.9994 - val_loss: 0.2826 - val_accuracy: 0.8861\n",
            "Epoch 10/12\n",
            "28/28 [==============================] - ETA: 0s - loss: 0.0060 - accuracy: 1.0000Restoring model weights from the end of the best epoch: 7.\n",
            "28/28 [==============================] - 7s 247ms/step - loss: 0.0060 - accuracy: 1.0000 - val_loss: 0.4734 - val_accuracy: 0.8861\n",
            "Epoch 10: early stopping\n"
          ]
        },
        {
          "output_type": "execute_result",
          "data": {
            "text/plain": [
              "<keras.callbacks.History at 0x7ff8be150510>"
            ]
          },
          "metadata": {},
          "execution_count": 21
        }
      ]
    },
    {
      "cell_type": "markdown",
      "source": [
        "LSTM and CNN+LSTM evaluation"
      ],
      "metadata": {
        "id": "Urelbu5gYamk"
      }
    },
    {
      "cell_type": "code",
      "execution_count": 22,
      "metadata": {
        "id": "cm1oVuvOqgta"
      },
      "outputs": [],
      "source": [
        "y_pred1=model1.predict(X_test)\n",
        "y_pred2=model2.predict(X_test)"
      ]
    },
    {
      "cell_type": "code",
      "source": [
        "from sklearn.metrics import accuracy_score\n",
        "from sklearn.metrics import classification_report\n",
        "from sklearn.metrics import confusion_matrix"
      ],
      "metadata": {
        "id": "0QzMxLNVLSNN"
      },
      "execution_count": 23,
      "outputs": []
    },
    {
      "cell_type": "code",
      "source": [
        "print(\"LSTM accuracy:%.4f\"%accuracy_score(y_test,np.around(y_pred1)))\n",
        "print(\"CNN+LSTM accuracy:%.4f\"%accuracy_score(y_test,np.around(y_pred2)))"
      ],
      "metadata": {
        "id": "A2ik3zmVAJI6",
        "colab": {
          "base_uri": "https://localhost:8080/"
        },
        "outputId": "30f92dff-6b9f-44a9-fe44-ac4041453ed5"
      },
      "execution_count": 24,
      "outputs": [
        {
          "output_type": "stream",
          "name": "stdout",
          "text": [
            "LSTM accuracy:0.8963\n",
            "CNN+LSTM accuracy:0.9286\n"
          ]
        }
      ]
    },
    {
      "cell_type": "code",
      "source": [
        "print(\"LSTM:\\n\", classification_report(y_test,np.around(y_pred1),digits=4))\n",
        "print(\"\\nCNN+LSTM:\\n\", classification_report(y_test,np.around(y_pred2),digits=4))"
      ],
      "metadata": {
        "id": "QaIirFDxANHy",
        "colab": {
          "base_uri": "https://localhost:8080/"
        },
        "outputId": "15b477ec-a69b-4e02-ef8f-03f4990eccb3"
      },
      "execution_count": 25,
      "outputs": [
        {
          "output_type": "stream",
          "name": "stdout",
          "text": [
            "LSTM:\n",
            "               precision    recall  f1-score   support\n",
            "\n",
            "           0     0.9396    0.8469    0.8909       294\n",
            "           1     0.8607    0.9456    0.9011       294\n",
            "\n",
            "    accuracy                         0.8963       588\n",
            "   macro avg     0.9002    0.8963    0.8960       588\n",
            "weighted avg     0.9002    0.8963    0.8960       588\n",
            "\n",
            "\n",
            "CNN+LSTM:\n",
            "               precision    recall  f1-score   support\n",
            "\n",
            "           0     0.9532    0.9014    0.9266       294\n",
            "           1     0.9065    0.9558    0.9305       294\n",
            "\n",
            "    accuracy                         0.9286       588\n",
            "   macro avg     0.9298    0.9286    0.9285       588\n",
            "weighted avg     0.9298    0.9286    0.9285       588\n",
            "\n"
          ]
        }
      ]
    },
    {
      "cell_type": "code",
      "source": [
        "print(\"LSTM confusion matrix:\\n \",confusion_matrix(y_test,np.around(y_pred1)))\n",
        "print(\"\\nCNN+LSTM confusion matrix:\\n\",confusion_matrix(y_test,np.around(y_pred2)))"
      ],
      "metadata": {
        "colab": {
          "base_uri": "https://localhost:8080/"
        },
        "id": "wL-hln5fTpd-",
        "outputId": "e1371668-95e2-4761-bef1-31b6605d739a"
      },
      "execution_count": 26,
      "outputs": [
        {
          "output_type": "stream",
          "name": "stdout",
          "text": [
            "LSTM confusion matrix:\n",
            "  [[249  45]\n",
            " [ 16 278]]\n",
            "\n",
            "CNN+LSTM confusion matrix:\n",
            " [[265  29]\n",
            " [ 13 281]]\n"
          ]
        }
      ]
    },
    {
      "cell_type": "markdown",
      "source": [
        "#**Bi-LSTM MODEL**"
      ],
      "metadata": {
        "id": "NlOAkr14z3dF"
      }
    },
    {
      "cell_type": "code",
      "execution_count": 27,
      "metadata": {
        "id": "brBUzzMXn4wp",
        "colab": {
          "base_uri": "https://localhost:8080/"
        },
        "outputId": "e4a5a8ba-336d-44e1-e134-2d8ecc1131b9"
      },
      "outputs": [
        {
          "output_type": "stream",
          "name": "stdout",
          "text": [
            "Model: \"sequential_2\"\n",
            "_________________________________________________________________\n",
            " Layer (type)                Output Shape              Param #   \n",
            "=================================================================\n",
            " embedding_2 (Embedding)     (None, 300, 40)           3440000   \n",
            "                                                                 \n",
            " bidirectional (Bidirectiona  (None, 200)              112800    \n",
            " l)                                                              \n",
            "                                                                 \n",
            " dropout (Dropout)           (None, 200)               0         \n",
            "                                                                 \n",
            " dense_2 (Dense)             (None, 1)                 201       \n",
            "                                                                 \n",
            "=================================================================\n",
            "Total params: 3,553,001\n",
            "Trainable params: 3,553,001\n",
            "Non-trainable params: 0\n",
            "_________________________________________________________________\n",
            "None\n",
            "Epoch 1/12\n",
            "28/28 [==============================] - 23s 666ms/step - loss: 0.6892 - accuracy: 0.5740 - val_loss: 0.6091 - val_accuracy: 0.6803\n",
            "Epoch 2/12\n",
            "28/28 [==============================] - 17s 618ms/step - loss: 0.5884 - accuracy: 0.7964 - val_loss: 0.4176 - val_accuracy: 0.8759\n",
            "Epoch 3/12\n",
            "28/28 [==============================] - 17s 620ms/step - loss: 0.3069 - accuracy: 0.9166 - val_loss: 0.3318 - val_accuracy: 0.8690\n",
            "Epoch 4/12\n",
            "28/28 [==============================] - 18s 637ms/step - loss: 0.1113 - accuracy: 0.9745 - val_loss: 0.2118 - val_accuracy: 0.9269\n",
            "Epoch 5/12\n",
            "28/28 [==============================] - 17s 626ms/step - loss: 0.0449 - accuracy: 0.9921 - val_loss: 0.2380 - val_accuracy: 0.9269\n",
            "Epoch 6/12\n",
            "28/28 [==============================] - 22s 800ms/step - loss: 0.0230 - accuracy: 0.9966 - val_loss: 0.3458 - val_accuracy: 0.8946\n",
            "Epoch 7/12\n",
            "28/28 [==============================] - ETA: 0s - loss: 0.0209 - accuracy: 0.9972Restoring model weights from the end of the best epoch: 4.\n",
            "28/28 [==============================] - 18s 632ms/step - loss: 0.0209 - accuracy: 0.9972 - val_loss: 0.3257 - val_accuracy: 0.8997\n",
            "Epoch 7: early stopping\n"
          ]
        },
        {
          "output_type": "execute_result",
          "data": {
            "text/plain": [
              "<keras.callbacks.History at 0x7ff8bb473590>"
            ]
          },
          "metadata": {},
          "execution_count": 27
        }
      ],
      "source": [
        "embedding_vector_features=40\n",
        "model3=Sequential()\n",
        "model3.add(Embedding(voc_size,embedding_vector_features,input_length=news_length))\n",
        "model3.add(Bidirectional(LSTM(100)))\n",
        "model3.add(Dropout(0.3))\n",
        "model3.add(Dense(1,activation='sigmoid'))\n",
        "model3.compile(loss='binary_crossentropy',optimizer='adam',metrics=['accuracy'])\n",
        "print(model3.summary())\n",
        "model3.fit(X_train,y_train,validation_data=(X_test,y_test),epochs=12,batch_size=64,\n",
        "    callbacks=[EarlyStopping(monitor=\"val_accuracy\",\n",
        "    min_delta=0,\n",
        "    patience=3,\n",
        "    verbose=1,\n",
        "    mode=\"auto\",\n",
        "    restore_best_weights=True,)])"
      ]
    },
    {
      "cell_type": "markdown",
      "source": [
        "## **CNN+BiLSTM MODEL**"
      ],
      "metadata": {
        "id": "o_8oFG2rY2wg"
      }
    },
    {
      "cell_type": "code",
      "source": [
        "embedding_vecor_length = 40\n",
        "model4 = Sequential()\n",
        "model4.add(Embedding(voc_size, embedding_vecor_length, input_length=news_length))\n",
        "model4.add(Conv1D(filters=32, kernel_size=3, padding='same', activation='relu'))\n",
        "model4.add(MaxPooling1D(pool_size=2))\n",
        "model4.add(Bidirectional(LSTM(100)))\n",
        "model4.add(Dense(1, activation='sigmoid'))\n",
        "model4.compile(loss='binary_crossentropy', optimizer='adam', metrics=['accuracy'])\n",
        "print(model4.summary())\n",
        "model4.fit(X_train,y_train,validation_data=(X_test,y_test),epochs=12,batch_size=64,\n",
        "    callbacks=[EarlyStopping(monitor=\"val_accuracy\",\n",
        "    min_delta=0,\n",
        "    patience=3,\n",
        "    verbose=1,\n",
        "    mode=\"auto\",\n",
        "    restore_best_weights=True,)])"
      ],
      "metadata": {
        "colab": {
          "base_uri": "https://localhost:8080/"
        },
        "id": "IpqRP2iaCAVl",
        "outputId": "1c971c5f-c67d-41b5-a6b3-11bdf852c321"
      },
      "execution_count": 28,
      "outputs": [
        {
          "output_type": "stream",
          "name": "stdout",
          "text": [
            "Model: \"sequential_3\"\n",
            "_________________________________________________________________\n",
            " Layer (type)                Output Shape              Param #   \n",
            "=================================================================\n",
            " embedding_3 (Embedding)     (None, 300, 40)           3440000   \n",
            "                                                                 \n",
            " conv1d_1 (Conv1D)           (None, 300, 32)           3872      \n",
            "                                                                 \n",
            " max_pooling1d_1 (MaxPooling  (None, 150, 32)          0         \n",
            " 1D)                                                             \n",
            "                                                                 \n",
            " bidirectional_1 (Bidirectio  (None, 200)              106400    \n",
            " nal)                                                            \n",
            "                                                                 \n",
            " dense_3 (Dense)             (None, 1)                 201       \n",
            "                                                                 \n",
            "=================================================================\n",
            "Total params: 3,550,473\n",
            "Trainable params: 3,550,473\n",
            "Non-trainable params: 0\n",
            "_________________________________________________________________\n",
            "None\n",
            "Epoch 1/12\n",
            "28/28 [==============================] - 15s 396ms/step - loss: 0.6806 - accuracy: 0.5502 - val_loss: 0.7038 - val_accuracy: 0.5731\n",
            "Epoch 2/12\n",
            "28/28 [==============================] - 10s 344ms/step - loss: 0.6728 - accuracy: 0.6574 - val_loss: 0.6343 - val_accuracy: 0.8588\n",
            "Epoch 3/12\n",
            "28/28 [==============================] - 10s 351ms/step - loss: 0.3883 - accuracy: 0.9121 - val_loss: 0.2747 - val_accuracy: 0.9184\n",
            "Epoch 4/12\n",
            "28/28 [==============================] - 10s 351ms/step - loss: 0.1324 - accuracy: 0.9455 - val_loss: 0.2368 - val_accuracy: 0.9048\n",
            "Epoch 5/12\n",
            "28/28 [==============================] - 10s 343ms/step - loss: 0.0571 - accuracy: 0.9915 - val_loss: 0.2378 - val_accuracy: 0.9133\n",
            "Epoch 6/12\n",
            "28/28 [==============================] - ETA: 0s - loss: 0.0260 - accuracy: 0.9955Restoring model weights from the end of the best epoch: 3.\n",
            "28/28 [==============================] - 10s 357ms/step - loss: 0.0260 - accuracy: 0.9955 - val_loss: 0.2358 - val_accuracy: 0.9133\n",
            "Epoch 6: early stopping\n"
          ]
        },
        {
          "output_type": "execute_result",
          "data": {
            "text/plain": [
              "<keras.callbacks.History at 0x7ff8b8296fd0>"
            ]
          },
          "metadata": {},
          "execution_count": 28
        }
      ]
    },
    {
      "cell_type": "code",
      "execution_count": 29,
      "metadata": {
        "id": "2NfU27S5oSUW"
      },
      "outputs": [],
      "source": [
        "y_pred3=model3.predict(X_test)\n",
        "y_pred4=model4.predict(X_test)"
      ]
    },
    {
      "cell_type": "code",
      "execution_count": 30,
      "metadata": {
        "id": "cMWefLVVp29R",
        "colab": {
          "base_uri": "https://localhost:8080/"
        },
        "outputId": "09e2a210-c07e-458b-92d5-35dea09c432d"
      },
      "outputs": [
        {
          "output_type": "stream",
          "name": "stdout",
          "text": [
            "BiLSTM accuracy:0.9269\n",
            "CNN+BiLSTM accuracy:0.9184\n"
          ]
        }
      ],
      "source": [
        "print(\"BiLSTM accuracy:%.4f\"%accuracy_score(y_test,np.around(y_pred3)))\n",
        "print(\"CNN+BiLSTM accuracy:%.4f\"%accuracy_score(y_test,np.around(y_pred4)))"
      ]
    },
    {
      "cell_type": "code",
      "execution_count": 31,
      "metadata": {
        "id": "UggdAaXwqMp5",
        "colab": {
          "base_uri": "https://localhost:8080/"
        },
        "outputId": "8507e0da-66a0-4676-dbfa-8280ef17b7c5"
      },
      "outputs": [
        {
          "output_type": "stream",
          "name": "stdout",
          "text": [
            "BiLSTM:\n",
            "               precision    recall  f1-score   support\n",
            "\n",
            "           0     0.9498    0.9014    0.9250       294\n",
            "           1     0.9061    0.9524    0.9287       294\n",
            "\n",
            "    accuracy                         0.9269       588\n",
            "   macro avg     0.9280    0.9269    0.9268       588\n",
            "weighted avg     0.9280    0.9269    0.9268       588\n",
            "\n",
            "\n",
            "CNN+BiLSTM:\n",
            "               precision    recall  f1-score   support\n",
            "\n",
            "           0     0.9020    0.9388    0.9200       294\n",
            "           1     0.9362    0.8980    0.9167       294\n",
            "\n",
            "    accuracy                         0.9184       588\n",
            "   macro avg     0.9191    0.9184    0.9183       588\n",
            "weighted avg     0.9191    0.9184    0.9183       588\n",
            "\n"
          ]
        }
      ],
      "source": [
        "print(\"BiLSTM:\\n\",classification_report(y_test,np.around(y_pred3),digits=4))\n",
        "print(\"\\nCNN+BiLSTM:\\n\",classification_report(y_test,np.around(y_pred4),digits=4))"
      ]
    },
    {
      "cell_type": "code",
      "execution_count": 32,
      "metadata": {
        "id": "GVdsMUORp0Jp",
        "colab": {
          "base_uri": "https://localhost:8080/"
        },
        "outputId": "5d886c7e-e466-44aa-fd59-1c132d4420a0"
      },
      "outputs": [
        {
          "output_type": "stream",
          "name": "stdout",
          "text": [
            "BiLSTM confusion matrix:\n",
            " [[265  29]\n",
            " [ 14 280]]\n",
            "\n",
            "CNN+BiLSTM confusion matrix:\n",
            " [[276  18]\n",
            " [ 30 264]]\n"
          ]
        }
      ],
      "source": [
        "print(\"BiLSTM confusion matrix:\\n\",confusion_matrix(y_test,np.around(y_pred3)))\n",
        "print(\"\\nCNN+BiLSTM confusion matrix:\\n\",confusion_matrix(y_test,np.around(y_pred4)))"
      ]
    },
    {
      "cell_type": "code",
      "source": [],
      "metadata": {
        "id": "ir6-zld1oOBc"
      },
      "execution_count": 32,
      "outputs": []
    }
  ],
  "metadata": {
    "colab": {
      "provenance": [],
      "collapsed_sections": [],
      "authorship_tag": "ABX9TyNEcQ49mOyqExjU8+Bt/m+c",
      "include_colab_link": true
    },
    "kernelspec": {
      "display_name": "Python 3",
      "name": "python3"
    },
    "language_info": {
      "name": "python"
    },
    "accelerator": "GPU",
    "gpuClass": "standard"
  },
  "nbformat": 4,
  "nbformat_minor": 0
}