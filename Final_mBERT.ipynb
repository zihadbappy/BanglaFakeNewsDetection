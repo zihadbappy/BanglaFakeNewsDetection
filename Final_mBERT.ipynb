{
  "cells": [
    {
      "cell_type": "markdown",
      "metadata": {
        "id": "view-in-github",
        "colab_type": "text"
      },
      "source": [
        "<a href=\"https://colab.research.google.com/github/zihadbappy/bnfake/blob/main/mBERT.ipynb\" target=\"_parent\"><img src=\"https://colab.research.google.com/assets/colab-badge.svg\" alt=\"Open In Colab\"/></a>"
      ]
    },
    {
      "cell_type": "code",
      "execution_count": 28,
      "metadata": {
        "id": "ov2aQqzg7ub4"
      },
      "outputs": [],
      "source": [
        "!pip install -Uqq wandb\n"
      ]
    },
    {
      "cell_type": "code",
      "execution_count": 29,
      "metadata": {
        "id": "l92Bb_9V7w1k"
      },
      "outputs": [],
      "source": [
        "import wandb\n"
      ]
    },
    {
      "cell_type": "code",
      "execution_count": 30,
      "metadata": {
        "colab": {
          "base_uri": "https://localhost:8080/"
        },
        "id": "bvnjsmZg7yLc",
        "outputId": "f4bebae6-6cd6-4263-ec5e-3ee6ba391868"
      },
      "outputs": [
        {
          "output_type": "execute_result",
          "data": {
            "text/plain": [
              "True"
            ]
          },
          "metadata": {},
          "execution_count": 30
        }
      ],
      "source": [
        "wandb.login()"
      ]
    },
    {
      "cell_type": "code",
      "execution_count": 31,
      "metadata": {
        "colab": {
          "base_uri": "https://localhost:8080/",
          "height": 90
        },
        "id": "ivxm48cn705b",
        "outputId": "37fc7e74-a14b-4c1a-afce-21819120f00a"
      },
      "outputs": [
        {
          "output_type": "display_data",
          "data": {
            "text/plain": [
              "<IPython.core.display.HTML object>"
            ],
            "text/html": [
              "Tracking run with wandb version 0.13.3"
            ]
          },
          "metadata": {}
        },
        {
          "output_type": "display_data",
          "data": {
            "text/plain": [
              "<IPython.core.display.HTML object>"
            ],
            "text/html": [
              "Run data is saved locally in <code>/content/wandb/run-20220914_162435-3o8z0bgf</code>"
            ]
          },
          "metadata": {}
        },
        {
          "output_type": "display_data",
          "data": {
            "text/plain": [
              "<IPython.core.display.HTML object>"
            ],
            "text/html": [
              "Syncing run <strong><a href=\"https://wandb.ai/zihadbappy/bn_fake_classification/runs/3o8z0bgf\" target=\"_blank\">vague-galaxy-6</a></strong> to <a href=\"https://wandb.ai/zihadbappy/bn_fake_classification\" target=\"_blank\">Weights & Biases</a> (<a href=\"https://wandb.me/run\" target=\"_blank\">docs</a>)<br/>"
            ]
          },
          "metadata": {}
        },
        {
          "output_type": "execute_result",
          "data": {
            "text/html": [
              "<button onClick=\"this.nextSibling.style.display='block';this.style.display='none';\">Display W&B run</button><iframe src=\"https://wandb.ai/zihadbappy/bn_fake_classification/runs/3o8z0bgf?jupyter=true\" style=\"border:none;width:100%;height:420px;display:none;\"></iframe>"
            ],
            "text/plain": [
              "<wandb.sdk.wandb_run.Run at 0x7ff8ba8c0bd0>"
            ]
          },
          "metadata": {},
          "execution_count": 31
        }
      ],
      "source": [
        "\n",
        "wandb.init(project=\"bn_fake_classification\", entity=\"zihadbappy\")"
      ]
    },
    {
      "cell_type": "code",
      "execution_count": 32,
      "metadata": {
        "colab": {
          "base_uri": "https://localhost:8080/"
        },
        "id": "m1X-AG_68EAD",
        "outputId": "2df35b66-9aaa-4fc9-9359-db07cb71c500"
      },
      "outputs": [
        {
          "output_type": "stream",
          "name": "stdout",
          "text": [
            "fatal: destination path 'bnfakedata' already exists and is not an empty directory.\n"
          ]
        }
      ],
      "source": [
        "!git clone https://github.com/zihadbappy/bnfakedata.git"
      ]
    },
    {
      "cell_type": "code",
      "execution_count": 33,
      "metadata": {
        "id": "C4g5lVBt8Nbz"
      },
      "outputs": [],
      "source": [
        "import pandas as pd\n",
        "Dataset= pd.read_csv('/content/bnfakedata/bnfakefinal_no_duplicate.csv')"
      ]
    },
    {
      "cell_type": "code",
      "execution_count": 34,
      "metadata": {
        "id": "q-Vxrcbp8QR0"
      },
      "outputs": [],
      "source": [
        "df = pd.DataFrame(Dataset)"
      ]
    },
    {
      "cell_type": "code",
      "execution_count": 35,
      "metadata": {
        "colab": {
          "base_uri": "https://localhost:8080/",
          "height": 143
        },
        "id": "MLp-Fccm8ROM",
        "outputId": "53c4a9f0-071a-42d4-b9c4-0e82d58c6f13"
      },
      "outputs": [
        {
          "output_type": "execute_result",
          "data": {
            "text/plain": [
              "       headline  content\n",
              "label                   \n",
              "0          2339     2339\n",
              "1          2339     2338"
            ],
            "text/html": [
              "\n",
              "  <div id=\"df-bea1d572-d6ae-456a-a5a6-a3e254f2b857\">\n",
              "    <div class=\"colab-df-container\">\n",
              "      <div>\n",
              "<style scoped>\n",
              "    .dataframe tbody tr th:only-of-type {\n",
              "        vertical-align: middle;\n",
              "    }\n",
              "\n",
              "    .dataframe tbody tr th {\n",
              "        vertical-align: top;\n",
              "    }\n",
              "\n",
              "    .dataframe thead th {\n",
              "        text-align: right;\n",
              "    }\n",
              "</style>\n",
              "<table border=\"1\" class=\"dataframe\">\n",
              "  <thead>\n",
              "    <tr style=\"text-align: right;\">\n",
              "      <th></th>\n",
              "      <th>headline</th>\n",
              "      <th>content</th>\n",
              "    </tr>\n",
              "    <tr>\n",
              "      <th>label</th>\n",
              "      <th></th>\n",
              "      <th></th>\n",
              "    </tr>\n",
              "  </thead>\n",
              "  <tbody>\n",
              "    <tr>\n",
              "      <th>0</th>\n",
              "      <td>2339</td>\n",
              "      <td>2339</td>\n",
              "    </tr>\n",
              "    <tr>\n",
              "      <th>1</th>\n",
              "      <td>2339</td>\n",
              "      <td>2338</td>\n",
              "    </tr>\n",
              "  </tbody>\n",
              "</table>\n",
              "</div>\n",
              "      <button class=\"colab-df-convert\" onclick=\"convertToInteractive('df-bea1d572-d6ae-456a-a5a6-a3e254f2b857')\"\n",
              "              title=\"Convert this dataframe to an interactive table.\"\n",
              "              style=\"display:none;\">\n",
              "        \n",
              "  <svg xmlns=\"http://www.w3.org/2000/svg\" height=\"24px\"viewBox=\"0 0 24 24\"\n",
              "       width=\"24px\">\n",
              "    <path d=\"M0 0h24v24H0V0z\" fill=\"none\"/>\n",
              "    <path d=\"M18.56 5.44l.94 2.06.94-2.06 2.06-.94-2.06-.94-.94-2.06-.94 2.06-2.06.94zm-11 1L8.5 8.5l.94-2.06 2.06-.94-2.06-.94L8.5 2.5l-.94 2.06-2.06.94zm10 10l.94 2.06.94-2.06 2.06-.94-2.06-.94-.94-2.06-.94 2.06-2.06.94z\"/><path d=\"M17.41 7.96l-1.37-1.37c-.4-.4-.92-.59-1.43-.59-.52 0-1.04.2-1.43.59L10.3 9.45l-7.72 7.72c-.78.78-.78 2.05 0 2.83L4 21.41c.39.39.9.59 1.41.59.51 0 1.02-.2 1.41-.59l7.78-7.78 2.81-2.81c.8-.78.8-2.07 0-2.86zM5.41 20L4 18.59l7.72-7.72 1.47 1.35L5.41 20z\"/>\n",
              "  </svg>\n",
              "      </button>\n",
              "      \n",
              "  <style>\n",
              "    .colab-df-container {\n",
              "      display:flex;\n",
              "      flex-wrap:wrap;\n",
              "      gap: 12px;\n",
              "    }\n",
              "\n",
              "    .colab-df-convert {\n",
              "      background-color: #E8F0FE;\n",
              "      border: none;\n",
              "      border-radius: 50%;\n",
              "      cursor: pointer;\n",
              "      display: none;\n",
              "      fill: #1967D2;\n",
              "      height: 32px;\n",
              "      padding: 0 0 0 0;\n",
              "      width: 32px;\n",
              "    }\n",
              "\n",
              "    .colab-df-convert:hover {\n",
              "      background-color: #E2EBFA;\n",
              "      box-shadow: 0px 1px 2px rgba(60, 64, 67, 0.3), 0px 1px 3px 1px rgba(60, 64, 67, 0.15);\n",
              "      fill: #174EA6;\n",
              "    }\n",
              "\n",
              "    [theme=dark] .colab-df-convert {\n",
              "      background-color: #3B4455;\n",
              "      fill: #D2E3FC;\n",
              "    }\n",
              "\n",
              "    [theme=dark] .colab-df-convert:hover {\n",
              "      background-color: #434B5C;\n",
              "      box-shadow: 0px 1px 3px 1px rgba(0, 0, 0, 0.15);\n",
              "      filter: drop-shadow(0px 1px 2px rgba(0, 0, 0, 0.3));\n",
              "      fill: #FFFFFF;\n",
              "    }\n",
              "  </style>\n",
              "\n",
              "      <script>\n",
              "        const buttonEl =\n",
              "          document.querySelector('#df-bea1d572-d6ae-456a-a5a6-a3e254f2b857 button.colab-df-convert');\n",
              "        buttonEl.style.display =\n",
              "          google.colab.kernel.accessAllowed ? 'block' : 'none';\n",
              "\n",
              "        async function convertToInteractive(key) {\n",
              "          const element = document.querySelector('#df-bea1d572-d6ae-456a-a5a6-a3e254f2b857');\n",
              "          const dataTable =\n",
              "            await google.colab.kernel.invokeFunction('convertToInteractive',\n",
              "                                                     [key], {});\n",
              "          if (!dataTable) return;\n",
              "\n",
              "          const docLinkHtml = 'Like what you see? Visit the ' +\n",
              "            '<a target=\"_blank\" href=https://colab.research.google.com/notebooks/data_table.ipynb>data table notebook</a>'\n",
              "            + ' to learn more about interactive tables.';\n",
              "          element.innerHTML = '';\n",
              "          dataTable['output_type'] = 'display_data';\n",
              "          await google.colab.output.renderOutput(dataTable, element);\n",
              "          const docLink = document.createElement('div');\n",
              "          docLink.innerHTML = docLinkHtml;\n",
              "          element.appendChild(docLink);\n",
              "        }\n",
              "      </script>\n",
              "    </div>\n",
              "  </div>\n",
              "  "
            ]
          },
          "metadata": {},
          "execution_count": 35
        }
      ],
      "source": [
        "df.groupby('label').agg('count')\n"
      ]
    },
    {
      "cell_type": "code",
      "execution_count": 36,
      "metadata": {
        "id": "pggrZ-BW8SQ0"
      },
      "outputs": [],
      "source": [
        "df=df.dropna()"
      ]
    },
    {
      "cell_type": "code",
      "execution_count": 37,
      "metadata": {
        "id": "7G9N_SLc8TB8"
      },
      "outputs": [],
      "source": [
        "X=df.content\n",
        "Y=df.label"
      ]
    },
    {
      "cell_type": "code",
      "execution_count": 38,
      "metadata": {
        "colab": {
          "base_uri": "https://localhost:8080/"
        },
        "id": "TIFEWhu68UME",
        "outputId": "018e6373-ff15-4f39-8249-1c8090b493f4"
      },
      "outputs": [
        {
          "output_type": "execute_result",
          "data": {
            "text/plain": [
              "0    2339\n",
              "1    2338\n",
              "Name: label, dtype: int64"
            ]
          },
          "metadata": {},
          "execution_count": 38
        }
      ],
      "source": [
        "Y.value_counts()"
      ]
    },
    {
      "cell_type": "code",
      "execution_count": 39,
      "metadata": {
        "colab": {
          "base_uri": "https://localhost:8080/"
        },
        "id": "L5sly0us8VAk",
        "outputId": "1b93f4f2-1924-4191-e3ae-fa526f892775"
      },
      "outputs": [
        {
          "output_type": "execute_result",
          "data": {
            "text/plain": [
              "(4677,)"
            ]
          },
          "metadata": {},
          "execution_count": 39
        }
      ],
      "source": [
        "X.shape\n"
      ]
    },
    {
      "cell_type": "code",
      "execution_count": 40,
      "metadata": {
        "id": "SQjVqI_n8Xxj"
      },
      "outputs": [],
      "source": [
        "!pip install -Uqq transformers datasets tqdm\n",
        "!pip install -Uqq ohmeow-blurr"
      ]
    },
    {
      "cell_type": "code",
      "execution_count": 41,
      "metadata": {
        "id": "oiVd3qW28afT"
      },
      "outputs": [],
      "source": [
        "!pip install ohmeow-blurr -q"
      ]
    },
    {
      "cell_type": "code",
      "execution_count": 42,
      "metadata": {
        "id": "QxJpIBF-8byM"
      },
      "outputs": [],
      "source": [
        "from fastai.text.all import *\n",
        "from fastai.callback.wandb import *\n",
        "\n",
        "\n",
        "from blurr.text.data.all import *\n"
      ]
    },
    {
      "cell_type": "code",
      "execution_count": 43,
      "metadata": {
        "id": "1nmxAvhW8d8z"
      },
      "outputs": [],
      "source": [
        "from blurr.text.modeling.all import *"
      ]
    },
    {
      "cell_type": "code",
      "execution_count": 44,
      "metadata": {
        "id": "NfyHcrKv8hEF"
      },
      "outputs": [],
      "source": [
        "from transformers import PreTrainedModel"
      ]
    },
    {
      "cell_type": "code",
      "execution_count": 45,
      "metadata": {
        "id": "gMoYAh0n8kQt"
      },
      "outputs": [],
      "source": [
        "from blurr.text.modeling.core import BlearnerForSequenceClassification"
      ]
    },
    {
      "cell_type": "code",
      "execution_count": 46,
      "metadata": {
        "id": "RBxGcZb08m9D"
      },
      "outputs": [],
      "source": [
        "df['text']=df['content']"
      ]
    },
    {
      "cell_type": "code",
      "execution_count": 47,
      "metadata": {
        "id": "gt_OKXi78z7r"
      },
      "outputs": [],
      "source": [
        "df = df.drop(['headline','content'],axis=1)"
      ]
    },
    {
      "cell_type": "code",
      "execution_count": 48,
      "metadata": {
        "colab": {
          "base_uri": "https://localhost:8080/",
          "height": 597
        },
        "id": "WmPg7MFp803z",
        "outputId": "eb4ba24d-7b10-4486-eaa0-98433d072445"
      },
      "outputs": [
        {
          "output_type": "execute_result",
          "data": {
            "text/plain": [
              "   label  \\\n",
              "0      0   \n",
              "1      0   \n",
              "2      0   \n",
              "3      0   \n",
              "4      0   \n",
              "\n",
              "                                                                                                                                                                                                                                                                                                                                                                                                                                                                                                                                                                                                                      text  \n",
              "0  সোমবার মধ্য রাত্রে গুলশানে নিজ কার্যালয়ে আয়জিত এক অনুষ্ঠানে বৃহত্তর জামায়াতে ইসলামীর বিএনপি শাখার মহিলা আমীর জাতীয়তাবাদী শক্তির মালিক আপোষহীন দেশনেত্রী মাদারে গনতন্ত্র বেগম খালেদা জিয়া জেএসসি বংগবন্ধু লোকটাই সোনার দেশটারে ভাংগিয়া ভাগে ভাগ দুস্টু একটা বৃহত্তর জামায়াতে ইসলামীর বিএনপি শাখার আওলাদে আমীর জাতীয়তাবাদী শক্তির ভবিষ্যত মালিক একাত্তরের রেম্ব শহীদ প্রেসিডেন্ট জিয়াউর রহমানের যোগ্য উত্তরসুরী চিকিতসাধীন পলাতক মিষ্টার ফিপটিন পারসেন্ট তরুন নেতৃত্ব বড় গনতন্ত্র তারেক জিয়ার ইতিহাস উন্নয়ন কর্মসুচী উপলক্ষে আয়জিত অনুষ্ঠানে বেগম জিয়া কথা অনুষ্ঠানে মাদারে গনতন্ত্র পাকিস্তান এক আছিল জীবন আছিল মধুময়...  \n",
              "1  নিজস্ব মতিবেদক বৃহত্তর জামায়াতে ইসলামীর বিএনপি শাখার আওলাদে আমীর জাতীয়তাবাদী শক্তির ভবিষ্যত মালিক একাত্তরের রেম্ব শহীদ প্রেসিডেন্ট জিয়াউর রহমানের যোগ্য উত্তরসুরী চিকিতসাধীন পলাতক মিষ্টার ফিপটিন পারসেন্ট তরুন নেতৃত্ব বড় গনতন্ত্র তারেক জিয়াকে বাংলার ফিডাল কেষ্ট্র উপাধিতে ভুষিত বৃহত্তর জামায়াতের বিএনপি শাখার ভাঁড়প্রাপ্ত নায়েবে আমীর জাতীয়তাবাদী শক্তির কমপ্লান বয় বড় গুন্ডে কতৃক হাইড এন্ড সিক কলংকে ভুষিত মির্জা বাড়ির বড় গৌরব মির্জা ফখরুল ইসলাম আগুনগীর ওরফে ফখা ইবনে চখা কষ্ট কেষ্ট্র মিলে কষ্ট করিয়াছি বড় গুণ্ডের নেয় একজন তরুন নেতৃত্বকে বাংলার কেষ্ট্র রুপে পাইছি থাকলে সকালটা মিস্টি সোমবার দুপুরে জা...  \n",
              "2  নিজস্ব মতিবেদক রাজনীতীবীদদের ক্ষোভ প্রকাশ ইতিহাসে মুল্যে আংগুল দেওয়ার আহোভান জানিয়ে উপমহাদেশের বিখ্যেত ইতিহাসবীদ কলামিষ্ট গান্ধীবাদী আন্দোলনের প্রবাদ পুরুষ সৈয়দ আবুল মকসুদ ইতিহাসকে পয়সার রাজনীতীর বাইরে রাখুন শুক্রবার সকালে নিজ বাস ভবনে আয়জিত এক সংবাদ সম্মেলনে আহোভান জানান মকসুদ সময় পোষা ছাগল পুটু সংবাদ সম্মেলনে উপস্থিত ইতিহাসবীদ মকসুদ মাস ধরিয়া হইছে এক খেল উপমহাদেশের বিখ্যেত ইতিহাসবীদ কলামিষ্ট গান্ধীবাদী আন্দোলনের প্রবাদ পুরুষরা আছি তাহাদের কুন পাত্তা দিয়া তাহাদের সংগে পরামিশ করিয়া তাহাদের উপযুক্ত হাদিয়া দিয়া কতিপয় রাজনীতীবীদ দেশে বিদেশে বসিয়া ইতিহাসে মুল্যে আংগুল দিতেছেন আবেগঘন কণ্ঠে মকস...  \n",
              "3  নিজস্ব মতিবেদক বৃহত্তর জামায়াতে ইসলামীর বিএনপি শাখার আওলাদে আমীর জাতীয়তাবাদী শক্তির ভবিষ্যত মালিক একাত্তরের রেম্ব শহীদ প্রেসিডেন্ট জিয়াউর রহমানের যোগ্য উত্তরসুরী চিকিতসাধীন পলাতক মিষ্টার ফিপটিন পারসেন্ট তরুন নেতৃত্ব বড় গনতন্ত্র তারেক জিয়ার ইতিহাস উন্নয়ন প্রকল্প মন্তব্য সংকল্প বেক্ত খেতনামা ড্রন বিশেষজ্ঞ মস্তফা অনুরাগী কাপড় বেবসায়ী ইসলামী বেংকের সমঝদার হরলিকস পাগলা বিতর্ক রাজ আল্লামা আবদুন নুর তুষার ন কমেন্টস এক সংবাদ সম্মেলনে তুষার কথা বিতর্ক রাজ দুনিয়ার বিষয়ে জ্ঞেন বিতরন কথা সত্য বিষয়ে কুন কথা বলব বিষয়টি হইতেছে বড় গুণ্ডে তারেক জিয়া আবেগঘন কণ্ঠে হরলিকস পাগলা তুষার মাঝে আমারও ত ইচ্ছা ইসলামী...  \n",
              "4  দিল্লী মতিনিধি দিল্লীর রাজপথে লোকসভা নির্বাচনের প্রচারনা চালানর সময় জনৈক অট রিকশা চালকের চড় খেয়ে পুলিশের ক্ষিপ্ত হয়েছেন দিল্লীর পদত্যেগ কারী মুখ্য মন্ত্রী আম আদমী পার্টির আমীর অরবীন্দ্র কেজরিওয়াল দিল্লীর বেস্ত সড়কে অট রিকশা চালকদের আম আদমী পার্টিতে ভোট দেওয়ার আহোভান জানানর সময় লাল বাহাদুর লালি নামক জনৈক অট রিকশা চালক অট রিকশা নেমে অরবীন্দ্র কেজরিওয়ালের গালে চড় মারেন কেজরিওয়ালের সংগে আম আদমী পার্টির সদস্যরা মহাত্মা গান্ধীর অহিংস নীতী পরিত্যেগ লাল বাহাদুর লালিকে উত্তম মধ্যম দিয়ে হাসপাতালে পাঠান চড় খেয়ে মন খারাপ অরবীন্দ্র কেজরিওয়াল লাল বাহাদুর লালির চড়ের আঘাতে আহত কেজরিওয়াল এক টুইটার বার্তায় ...  "
            ],
            "text/html": [
              "\n",
              "  <div id=\"df-fca6e5cf-2470-4810-8eec-16041b69f7a7\">\n",
              "    <div class=\"colab-df-container\">\n",
              "      <div>\n",
              "<style scoped>\n",
              "    .dataframe tbody tr th:only-of-type {\n",
              "        vertical-align: middle;\n",
              "    }\n",
              "\n",
              "    .dataframe tbody tr th {\n",
              "        vertical-align: top;\n",
              "    }\n",
              "\n",
              "    .dataframe thead th {\n",
              "        text-align: right;\n",
              "    }\n",
              "</style>\n",
              "<table border=\"1\" class=\"dataframe\">\n",
              "  <thead>\n",
              "    <tr style=\"text-align: right;\">\n",
              "      <th></th>\n",
              "      <th>label</th>\n",
              "      <th>text</th>\n",
              "    </tr>\n",
              "  </thead>\n",
              "  <tbody>\n",
              "    <tr>\n",
              "      <th>0</th>\n",
              "      <td>0</td>\n",
              "      <td>সোমবার মধ্য রাত্রে গুলশানে নিজ কার্যালয়ে আয়জিত এক অনুষ্ঠানে বৃহত্তর জামায়াতে ইসলামীর বিএনপি শাখার মহিলা আমীর জাতীয়তাবাদী শক্তির মালিক আপোষহীন দেশনেত্রী মাদারে গনতন্ত্র বেগম খালেদা জিয়া জেএসসি বংগবন্ধু লোকটাই সোনার দেশটারে ভাংগিয়া ভাগে ভাগ দুস্টু একটা বৃহত্তর জামায়াতে ইসলামীর বিএনপি শাখার আওলাদে আমীর জাতীয়তাবাদী শক্তির ভবিষ্যত মালিক একাত্তরের রেম্ব শহীদ প্রেসিডেন্ট জিয়াউর রহমানের যোগ্য উত্তরসুরী চিকিতসাধীন পলাতক মিষ্টার ফিপটিন পারসেন্ট তরুন নেতৃত্ব বড় গনতন্ত্র তারেক জিয়ার ইতিহাস উন্নয়ন কর্মসুচী উপলক্ষে আয়জিত অনুষ্ঠানে বেগম জিয়া কথা অনুষ্ঠানে মাদারে গনতন্ত্র পাকিস্তান এক আছিল জীবন আছিল মধুময়...</td>\n",
              "    </tr>\n",
              "    <tr>\n",
              "      <th>1</th>\n",
              "      <td>0</td>\n",
              "      <td>নিজস্ব মতিবেদক বৃহত্তর জামায়াতে ইসলামীর বিএনপি শাখার আওলাদে আমীর জাতীয়তাবাদী শক্তির ভবিষ্যত মালিক একাত্তরের রেম্ব শহীদ প্রেসিডেন্ট জিয়াউর রহমানের যোগ্য উত্তরসুরী চিকিতসাধীন পলাতক মিষ্টার ফিপটিন পারসেন্ট তরুন নেতৃত্ব বড় গনতন্ত্র তারেক জিয়াকে বাংলার ফিডাল কেষ্ট্র উপাধিতে ভুষিত বৃহত্তর জামায়াতের বিএনপি শাখার ভাঁড়প্রাপ্ত নায়েবে আমীর জাতীয়তাবাদী শক্তির কমপ্লান বয় বড় গুন্ডে কতৃক হাইড এন্ড সিক কলংকে ভুষিত মির্জা বাড়ির বড় গৌরব মির্জা ফখরুল ইসলাম আগুনগীর ওরফে ফখা ইবনে চখা কষ্ট কেষ্ট্র মিলে কষ্ট করিয়াছি বড় গুণ্ডের নেয় একজন তরুন নেতৃত্বকে বাংলার কেষ্ট্র রুপে পাইছি থাকলে সকালটা মিস্টি সোমবার দুপুরে জা...</td>\n",
              "    </tr>\n",
              "    <tr>\n",
              "      <th>2</th>\n",
              "      <td>0</td>\n",
              "      <td>নিজস্ব মতিবেদক রাজনীতীবীদদের ক্ষোভ প্রকাশ ইতিহাসে মুল্যে আংগুল দেওয়ার আহোভান জানিয়ে উপমহাদেশের বিখ্যেত ইতিহাসবীদ কলামিষ্ট গান্ধীবাদী আন্দোলনের প্রবাদ পুরুষ সৈয়দ আবুল মকসুদ ইতিহাসকে পয়সার রাজনীতীর বাইরে রাখুন শুক্রবার সকালে নিজ বাস ভবনে আয়জিত এক সংবাদ সম্মেলনে আহোভান জানান মকসুদ সময় পোষা ছাগল পুটু সংবাদ সম্মেলনে উপস্থিত ইতিহাসবীদ মকসুদ মাস ধরিয়া হইছে এক খেল উপমহাদেশের বিখ্যেত ইতিহাসবীদ কলামিষ্ট গান্ধীবাদী আন্দোলনের প্রবাদ পুরুষরা আছি তাহাদের কুন পাত্তা দিয়া তাহাদের সংগে পরামিশ করিয়া তাহাদের উপযুক্ত হাদিয়া দিয়া কতিপয় রাজনীতীবীদ দেশে বিদেশে বসিয়া ইতিহাসে মুল্যে আংগুল দিতেছেন আবেগঘন কণ্ঠে মকস...</td>\n",
              "    </tr>\n",
              "    <tr>\n",
              "      <th>3</th>\n",
              "      <td>0</td>\n",
              "      <td>নিজস্ব মতিবেদক বৃহত্তর জামায়াতে ইসলামীর বিএনপি শাখার আওলাদে আমীর জাতীয়তাবাদী শক্তির ভবিষ্যত মালিক একাত্তরের রেম্ব শহীদ প্রেসিডেন্ট জিয়াউর রহমানের যোগ্য উত্তরসুরী চিকিতসাধীন পলাতক মিষ্টার ফিপটিন পারসেন্ট তরুন নেতৃত্ব বড় গনতন্ত্র তারেক জিয়ার ইতিহাস উন্নয়ন প্রকল্প মন্তব্য সংকল্প বেক্ত খেতনামা ড্রন বিশেষজ্ঞ মস্তফা অনুরাগী কাপড় বেবসায়ী ইসলামী বেংকের সমঝদার হরলিকস পাগলা বিতর্ক রাজ আল্লামা আবদুন নুর তুষার ন কমেন্টস এক সংবাদ সম্মেলনে তুষার কথা বিতর্ক রাজ দুনিয়ার বিষয়ে জ্ঞেন বিতরন কথা সত্য বিষয়ে কুন কথা বলব বিষয়টি হইতেছে বড় গুণ্ডে তারেক জিয়া আবেগঘন কণ্ঠে হরলিকস পাগলা তুষার মাঝে আমারও ত ইচ্ছা ইসলামী...</td>\n",
              "    </tr>\n",
              "    <tr>\n",
              "      <th>4</th>\n",
              "      <td>0</td>\n",
              "      <td>দিল্লী মতিনিধি দিল্লীর রাজপথে লোকসভা নির্বাচনের প্রচারনা চালানর সময় জনৈক অট রিকশা চালকের চড় খেয়ে পুলিশের ক্ষিপ্ত হয়েছেন দিল্লীর পদত্যেগ কারী মুখ্য মন্ত্রী আম আদমী পার্টির আমীর অরবীন্দ্র কেজরিওয়াল দিল্লীর বেস্ত সড়কে অট রিকশা চালকদের আম আদমী পার্টিতে ভোট দেওয়ার আহোভান জানানর সময় লাল বাহাদুর লালি নামক জনৈক অট রিকশা চালক অট রিকশা নেমে অরবীন্দ্র কেজরিওয়ালের গালে চড় মারেন কেজরিওয়ালের সংগে আম আদমী পার্টির সদস্যরা মহাত্মা গান্ধীর অহিংস নীতী পরিত্যেগ লাল বাহাদুর লালিকে উত্তম মধ্যম দিয়ে হাসপাতালে পাঠান চড় খেয়ে মন খারাপ অরবীন্দ্র কেজরিওয়াল লাল বাহাদুর লালির চড়ের আঘাতে আহত কেজরিওয়াল এক টুইটার বার্তায় ...</td>\n",
              "    </tr>\n",
              "  </tbody>\n",
              "</table>\n",
              "</div>\n",
              "      <button class=\"colab-df-convert\" onclick=\"convertToInteractive('df-fca6e5cf-2470-4810-8eec-16041b69f7a7')\"\n",
              "              title=\"Convert this dataframe to an interactive table.\"\n",
              "              style=\"display:none;\">\n",
              "        \n",
              "  <svg xmlns=\"http://www.w3.org/2000/svg\" height=\"24px\"viewBox=\"0 0 24 24\"\n",
              "       width=\"24px\">\n",
              "    <path d=\"M0 0h24v24H0V0z\" fill=\"none\"/>\n",
              "    <path d=\"M18.56 5.44l.94 2.06.94-2.06 2.06-.94-2.06-.94-.94-2.06-.94 2.06-2.06.94zm-11 1L8.5 8.5l.94-2.06 2.06-.94-2.06-.94L8.5 2.5l-.94 2.06-2.06.94zm10 10l.94 2.06.94-2.06 2.06-.94-2.06-.94-.94-2.06-.94 2.06-2.06.94z\"/><path d=\"M17.41 7.96l-1.37-1.37c-.4-.4-.92-.59-1.43-.59-.52 0-1.04.2-1.43.59L10.3 9.45l-7.72 7.72c-.78.78-.78 2.05 0 2.83L4 21.41c.39.39.9.59 1.41.59.51 0 1.02-.2 1.41-.59l7.78-7.78 2.81-2.81c.8-.78.8-2.07 0-2.86zM5.41 20L4 18.59l7.72-7.72 1.47 1.35L5.41 20z\"/>\n",
              "  </svg>\n",
              "      </button>\n",
              "      \n",
              "  <style>\n",
              "    .colab-df-container {\n",
              "      display:flex;\n",
              "      flex-wrap:wrap;\n",
              "      gap: 12px;\n",
              "    }\n",
              "\n",
              "    .colab-df-convert {\n",
              "      background-color: #E8F0FE;\n",
              "      border: none;\n",
              "      border-radius: 50%;\n",
              "      cursor: pointer;\n",
              "      display: none;\n",
              "      fill: #1967D2;\n",
              "      height: 32px;\n",
              "      padding: 0 0 0 0;\n",
              "      width: 32px;\n",
              "    }\n",
              "\n",
              "    .colab-df-convert:hover {\n",
              "      background-color: #E2EBFA;\n",
              "      box-shadow: 0px 1px 2px rgba(60, 64, 67, 0.3), 0px 1px 3px 1px rgba(60, 64, 67, 0.15);\n",
              "      fill: #174EA6;\n",
              "    }\n",
              "\n",
              "    [theme=dark] .colab-df-convert {\n",
              "      background-color: #3B4455;\n",
              "      fill: #D2E3FC;\n",
              "    }\n",
              "\n",
              "    [theme=dark] .colab-df-convert:hover {\n",
              "      background-color: #434B5C;\n",
              "      box-shadow: 0px 1px 3px 1px rgba(0, 0, 0, 0.15);\n",
              "      filter: drop-shadow(0px 1px 2px rgba(0, 0, 0, 0.3));\n",
              "      fill: #FFFFFF;\n",
              "    }\n",
              "  </style>\n",
              "\n",
              "      <script>\n",
              "        const buttonEl =\n",
              "          document.querySelector('#df-fca6e5cf-2470-4810-8eec-16041b69f7a7 button.colab-df-convert');\n",
              "        buttonEl.style.display =\n",
              "          google.colab.kernel.accessAllowed ? 'block' : 'none';\n",
              "\n",
              "        async function convertToInteractive(key) {\n",
              "          const element = document.querySelector('#df-fca6e5cf-2470-4810-8eec-16041b69f7a7');\n",
              "          const dataTable =\n",
              "            await google.colab.kernel.invokeFunction('convertToInteractive',\n",
              "                                                     [key], {});\n",
              "          if (!dataTable) return;\n",
              "\n",
              "          const docLinkHtml = 'Like what you see? Visit the ' +\n",
              "            '<a target=\"_blank\" href=https://colab.research.google.com/notebooks/data_table.ipynb>data table notebook</a>'\n",
              "            + ' to learn more about interactive tables.';\n",
              "          element.innerHTML = '';\n",
              "          dataTable['output_type'] = 'display_data';\n",
              "          await google.colab.output.renderOutput(dataTable, element);\n",
              "          const docLink = document.createElement('div');\n",
              "          docLink.innerHTML = docLinkHtml;\n",
              "          element.appendChild(docLink);\n",
              "        }\n",
              "      </script>\n",
              "    </div>\n",
              "  </div>\n",
              "  "
            ]
          },
          "metadata": {},
          "execution_count": 48
        }
      ],
      "source": [
        "df.head()"
      ]
    },
    {
      "cell_type": "code",
      "execution_count": 49,
      "metadata": {
        "id": "eYKBC73v81pb"
      },
      "outputs": [],
      "source": [
        "pretrained_model_name = \"bert-base-multilingual-cased\"\n",
        "learn = BlearnerForSequenceClassification.from_data(df, pretrained_model_name, dl_kwargs={ 'bs': 4})"
      ]
    },
    {
      "cell_type": "code",
      "execution_count": 50,
      "metadata": {
        "colab": {
          "base_uri": "https://localhost:8080/",
          "height": 301
        },
        "id": "THdOsCHb82es",
        "outputId": "891564b3-a85c-471d-9c46-8e4c10e482c6"
      },
      "outputs": [
        {
          "output_type": "display_data",
          "data": {
            "text/plain": [
              "<IPython.core.display.HTML object>"
            ],
            "text/html": [
              "\n",
              "<style>\n",
              "    /* Turns off some styling */\n",
              "    progress {\n",
              "        /* gets rid of default border in Firefox and Opera. */\n",
              "        border: none;\n",
              "        /* Needs to be in here for Safari polyfill so background images work as expected. */\n",
              "        background-size: auto;\n",
              "    }\n",
              "    progress:not([value]), progress:not([value])::-webkit-progress-bar {\n",
              "        background: repeating-linear-gradient(45deg, #7e7e7e, #7e7e7e 10px, #5c5c5c 10px, #5c5c5c 20px);\n",
              "    }\n",
              "    .progress-bar-interrupted, .progress-bar-interrupted::-webkit-progress-bar {\n",
              "        background: #F44336;\n",
              "    }\n",
              "</style>\n"
            ]
          },
          "metadata": {}
        },
        {
          "output_type": "display_data",
          "data": {
            "text/plain": [
              "<IPython.core.display.HTML object>"
            ],
            "text/html": []
          },
          "metadata": {}
        },
        {
          "output_type": "execute_result",
          "data": {
            "text/plain": [
              "SuggestedLRs(minimum=0.0033113110810518267, steep=0.02290867641568184, valley=0.004365158267319202, slide=0.002511886414140463)"
            ]
          },
          "metadata": {},
          "execution_count": 50
        },
        {
          "output_type": "display_data",
          "data": {
            "text/plain": [
              "<Figure size 432x288 with 1 Axes>"
            ],
            "image/png": "[encoded data removed]"
          },
          "metadata": {
            "needs_background": "light"
          }
        }
      ],
      "source": [
        "learn.lr_find(suggest_funcs=[minimum, steep, valley, slide])"
      ]
    },
    {
      "cell_type": "code",
      "execution_count": 51,
      "metadata": {
        "id": "TzPtVY9483Us",
        "colab": {
          "base_uri": "https://localhost:8080/",
          "height": 381
        },
        "outputId": "10b7fc43-c88b-4a8c-9de9-544a75c771a5"
      },
      "outputs": [
        {
          "output_type": "stream",
          "name": "stdout",
          "text": [
            "Could not gather input dimensions\n"
          ]
        },
        {
          "output_type": "display_data",
          "data": {
            "text/plain": [
              "<IPython.core.display.HTML object>"
            ],
            "text/html": [
              "\n",
              "<style>\n",
              "    /* Turns off some styling */\n",
              "    progress {\n",
              "        /* gets rid of default border in Firefox and Opera. */\n",
              "        border: none;\n",
              "        /* Needs to be in here for Safari polyfill so background images work as expected. */\n",
              "        background-size: auto;\n",
              "    }\n",
              "    progress:not([value]), progress:not([value])::-webkit-progress-bar {\n",
              "        background: repeating-linear-gradient(45deg, #7e7e7e, #7e7e7e 10px, #5c5c5c 10px, #5c5c5c 20px);\n",
              "    }\n",
              "    .progress-bar-interrupted, .progress-bar-interrupted::-webkit-progress-bar {\n",
              "        background: #F44336;\n",
              "    }\n",
              "</style>\n"
            ]
          },
          "metadata": {}
        },
        {
          "output_type": "display_data",
          "data": {
            "text/plain": [
              "<IPython.core.display.HTML object>"
            ],
            "text/html": [
              "<table border=\"1\" class=\"dataframe\">\n",
              "  <thead>\n",
              "    <tr style=\"text-align: left;\">\n",
              "      <th>epoch</th>\n",
              "      <th>train_loss</th>\n",
              "      <th>valid_loss</th>\n",
              "      <th>f1_score</th>\n",
              "      <th>accuracy</th>\n",
              "      <th>time</th>\n",
              "    </tr>\n",
              "  </thead>\n",
              "  <tbody>\n",
              "    <tr>\n",
              "      <td>0</td>\n",
              "      <td>0.399127</td>\n",
              "      <td>0.573605</td>\n",
              "      <td>0.805996</td>\n",
              "      <td>0.764706</td>\n",
              "      <td>04:23</td>\n",
              "    </tr>\n",
              "    <tr>\n",
              "      <td>1</td>\n",
              "      <td>0.327428</td>\n",
              "      <td>0.378131</td>\n",
              "      <td>0.877810</td>\n",
              "      <td>0.866310</td>\n",
              "      <td>04:23</td>\n",
              "    </tr>\n",
              "    <tr>\n",
              "      <td>2</td>\n",
              "      <td>0.322465</td>\n",
              "      <td>0.277216</td>\n",
              "      <td>0.891542</td>\n",
              "      <td>0.883422</td>\n",
              "      <td>04:24</td>\n",
              "    </tr>\n",
              "    <tr>\n",
              "      <td>3</td>\n",
              "      <td>0.298342</td>\n",
              "      <td>0.461233</td>\n",
              "      <td>0.832442</td>\n",
              "      <td>0.798930</td>\n",
              "      <td>04:23</td>\n",
              "    </tr>\n",
              "    <tr>\n",
              "      <td>4</td>\n",
              "      <td>0.240705</td>\n",
              "      <td>0.201752</td>\n",
              "      <td>0.926471</td>\n",
              "      <td>0.925134</td>\n",
              "      <td>04:23</td>\n",
              "    </tr>\n",
              "    <tr>\n",
              "      <td>5</td>\n",
              "      <td>0.170228</td>\n",
              "      <td>0.179274</td>\n",
              "      <td>0.932782</td>\n",
              "      <td>0.930481</td>\n",
              "      <td>04:23</td>\n",
              "    </tr>\n",
              "    <tr>\n",
              "      <td>6</td>\n",
              "      <td>0.169032</td>\n",
              "      <td>0.201514</td>\n",
              "      <td>0.925403</td>\n",
              "      <td>0.920856</td>\n",
              "      <td>04:24</td>\n",
              "    </tr>\n",
              "    <tr>\n",
              "      <td>7</td>\n",
              "      <td>0.129680</td>\n",
              "      <td>0.167660</td>\n",
              "      <td>0.935722</td>\n",
              "      <td>0.934759</td>\n",
              "      <td>04:23</td>\n",
              "    </tr>\n",
              "    <tr>\n",
              "      <td>8</td>\n",
              "      <td>0.100256</td>\n",
              "      <td>0.171784</td>\n",
              "      <td>0.937759</td>\n",
              "      <td>0.935829</td>\n",
              "      <td>04:23</td>\n",
              "    </tr>\n",
              "    <tr>\n",
              "      <td>9</td>\n",
              "      <td>0.103150</td>\n",
              "      <td>0.175891</td>\n",
              "      <td>0.938860</td>\n",
              "      <td>0.936898</td>\n",
              "      <td>04:23</td>\n",
              "    </tr>\n",
              "  </tbody>\n",
              "</table>"
            ]
          },
          "metadata": {}
        }
      ],
      "source": [
        "#learn.unfreeze()\n",
        "learn.fit_one_cycle(10, lr_max=1e-3,cbs=[WandbCallback(log_preds=False, log_model=False)])"
      ]
    },
    {
      "cell_type": "code",
      "execution_count": 52,
      "metadata": {
        "id": "1OfiMgo184Ws",
        "colab": {
          "base_uri": "https://localhost:8080/",
          "height": 244
        },
        "outputId": "32cd7918-895a-4e3d-cb82-e3528f1e8d29"
      },
      "outputs": [
        {
          "output_type": "display_data",
          "data": {
            "text/plain": [
              "<IPython.core.display.HTML object>"
            ],
            "text/html": [
              "\n",
              "<style>\n",
              "    /* Turns off some styling */\n",
              "    progress {\n",
              "        /* gets rid of default border in Firefox and Opera. */\n",
              "        border: none;\n",
              "        /* Needs to be in here for Safari polyfill so background images work as expected. */\n",
              "        background-size: auto;\n",
              "    }\n",
              "    progress:not([value]), progress:not([value])::-webkit-progress-bar {\n",
              "        background: repeating-linear-gradient(45deg, #7e7e7e, #7e7e7e 10px, #5c5c5c 10px, #5c5c5c 20px);\n",
              "    }\n",
              "    .progress-bar-interrupted, .progress-bar-interrupted::-webkit-progress-bar {\n",
              "        background: #F44336;\n",
              "    }\n",
              "</style>\n"
            ]
          },
          "metadata": {}
        },
        {
          "output_type": "display_data",
          "data": {
            "text/plain": [
              "<IPython.core.display.HTML object>"
            ],
            "text/html": []
          },
          "metadata": {}
        },
        {
          "output_type": "display_data",
          "data": {
            "text/plain": [
              "<IPython.core.display.HTML object>"
            ],
            "text/html": [
              "<table border=\"1\" class=\"dataframe\">\n",
              "  <thead>\n",
              "    <tr style=\"text-align: right;\">\n",
              "      <th></th>\n",
              "      <th>text</th>\n",
              "      <th>target</th>\n",
              "      <th>prediction</th>\n",
              "    </tr>\n",
              "  </thead>\n",
              "  <tbody>\n",
              "    <tr>\n",
              "      <th>0</th>\n",
              "      <td>ঘুঘু প্রতিদিন উঁচু ঘন ঢাকা সারু গাছের মগডালে স্থির নিঃশব্দে অধীর আগ্রহে অপেক্ষা কখন এক ঝলক দেখবে ফল বাগানের দিক রঙিন ভর বিশাল আকাশের বুকে অমনোযোগীর অলস ভঙ্গিতে আসে ভালোবাসার নীল ডুব চোখ ধাঁধানো চকমকে</td>\n",
              "      <td>1</td>\n",
              "      <td>0</td>\n",
              "    </tr>\n",
              "    <tr>\n",
              "      <th>1</th>\n",
              "      <td>দুর্দান্ত কাপের তম আসরের সুপার ফোরে ম্যাচে পাকিস্তানের উইকেটে হেরেছে আফগানিস্তান শেষ ওভারে স্বাদ পাকিস্তান পাকিস্তানের প্রধান ভূমিকা রাখেন ইমামউলহক বাবর আজম মালিক ম্যাচ শেষে তিন প্রশংসা পাকিস্তানের সর</td>\n",
              "      <td>1</td>\n",
              "      <td>1</td>\n",
              "    </tr>\n",
              "    <tr>\n",
              "      <th>2</th>\n",
              "      <td>আপনাকে মন্ত্রিসভার সদস্যদের অভিনন্দন জানাতে অন্যদিকে গত দশ বছর অবিরাম অভিনন্দন শুভেচ্ছা অভিধানের শব্দমালার ফুল শব্দ বাক্য বারবার মন্ত্রীর দৃষ্টিআকর্ষণ করাও কঠিন অভিনন্দন জানানোর শিল্পটি উঠেছে প্রতিদ্ব</td>\n",
              "      <td>0</td>\n",
              "      <td>0</td>\n",
              "    </tr>\n",
              "    <tr>\n",
              "      <th>3</th>\n",
              "      <td>বাংলার ফেসবুকে হাজারো মানুষ ফেক আইডির বাস শ্রেণী অলৌকিক ক্ষমতাধর শ্রেণীকে অনলাইনফেসবুক বুদ্ধিজীবী জানেন বোঝেন অনুভূতি ক কলিকাতা দেখলেই বোঝেন সাপ সিনেমার একটা দৃশ্যের ছবি দেখেই সিনেমার গল্প উদ্দেশ্য মো</td>\n",
              "      <td>0</td>\n",
              "      <td>0</td>\n",
              "    </tr>\n",
              "  </tbody>\n",
              "</table>"
            ]
          },
          "metadata": {}
        }
      ],
      "source": [
        "learn.show_results(learner=learn, max_n=4,trunc_at=200)"
      ]
    },
    {
      "cell_type": "code",
      "source": [],
      "metadata": {
        "id": "bjrxtwDGLq85"
      },
      "execution_count": 52,
      "outputs": []
    },
    {
      "cell_type": "code",
      "source": [
        "wandb.finish()\n"
      ],
      "metadata": {
        "id": "MMdoN2NWLCNe",
        "colab": {
          "base_uri": "https://localhost:8080/",
          "height": 756,
          "referenced_widgets": [
            "034c39faed234de583cfd5be740bcf02",
            "9af463c7dc3e49629d0ef79d2d174b24",
            "dbbe0ff917354321b8cb5512a28188e0",
            "08500c08d6094c279a3e9d1744735e91",
            "b7f963c18c2f4888856cbf0a8331a284",
            "97e9c6caff744e18b45066bde503c3e7",
            "3d20fb8f346543b2add4705c58766136",
            "963d874f011e48658b2f785a480cf42a"
          ]
        },
        "outputId": "3dfff341-476e-44d6-f375-5f6b1246b4b5"
      },
      "execution_count": 53,
      "outputs": [
        {
          "output_type": "display_data",
          "data": {
            "text/plain": [
              "<IPython.core.display.HTML object>"
            ],
            "text/html": [
              "Waiting for W&B process to finish... <strong style=\"color:green\">(success).</strong>"
            ]
          },
          "metadata": {}
        },
        {
          "output_type": "display_data",
          "data": {
            "text/plain": [
              "VBox(children=(Label(value='0.000 MB of 0.000 MB uploaded (0.000 MB deduped)\\r'), FloatProgress(value=1.0, max…"
            ],
            "application/vnd.jupyter.widget-view+json": {
              "version_major": 2,
              "version_minor": 0,
              "model_id": "034c39faed234de583cfd5be740bcf02"
            }
          },
          "metadata": {}
        },
        {
          "output_type": "display_data",
          "data": {
            "text/plain": [
              "<IPython.core.display.HTML object>"
            ],
            "text/html": [
              "<style>\n",
              "    table.wandb td:nth-child(1) { padding: 0 10px; text-align: left ; width: auto;} td:nth-child(2) {text-align: left ; width: 100%}\n",
              "    .wandb-row { display: flex; flex-direction: row; flex-wrap: wrap; justify-content: flex-start; width: 100% }\n",
              "    .wandb-col { display: flex; flex-direction: column; flex-basis: 100%; flex: 1; padding: 10px; }\n",
              "    </style>\n",
              "<div class=\"wandb-row\"><div class=\"wandb-col\"><h3>Run history:</h3><br/><table class=\"wandb\"><tr><td>accuracy</td><td>▁▅▆▂██▇███</td></tr><tr><td>epoch</td><td>▁▁▁▁▂▂▂▂▂▃▃▃▃▃▃▄▄▄▄▄▅▅▅▅▅▅▆▆▆▆▆▇▇▇▇▇▇███</td></tr><tr><td>eps_0</td><td>▁▁▁▁▁▁▁▁▁▁▁▁▁▁▁▁▁▁▁▁▁▁▁▁▁▁▁▁▁▁▁▁▁▁▁▁▁▁▁▁</td></tr><tr><td>eps_1</td><td>▁▁▁▁▁▁▁▁▁▁▁▁▁▁▁▁▁▁▁▁▁▁▁▁▁▁▁▁▁▁▁▁▁▁▁▁▁▁▁▁</td></tr><tr><td>eps_2</td><td>▁▁▁▁▁▁▁▁▁▁▁▁▁▁▁▁▁▁▁▁▁▁▁▁▁▁▁▁▁▁▁▁▁▁▁▁▁▁▁▁</td></tr><tr><td>eps_3</td><td>▁▁▁▁▁▁▁▁▁▁▁▁▁▁▁▁▁▁▁▁▁▁▁▁▁▁▁▁▁▁▁▁▁▁▁▁▁▁▁▁</td></tr><tr><td>f1_score</td><td>▁▅▆▂▇█▇███</td></tr><tr><td>lr_0</td><td>▁▁▂▃▄▅▆▇▇██████▇▇▇▇▆▆▆▅▅▅▄▄▄▃▃▃▂▂▂▂▁▁▁▁▁</td></tr><tr><td>lr_1</td><td>▁▁▂▃▄▅▆▇▇██████▇▇▇▇▆▆▆▅▅▅▄▄▄▃▃▃▂▂▂▂▁▁▁▁▁</td></tr><tr><td>lr_2</td><td>▁▁▂▃▄▅▆▇▇██████▇▇▇▇▆▆▆▅▅▅▄▄▄▃▃▃▂▂▂▂▁▁▁▁▁</td></tr><tr><td>lr_3</td><td>▁▁▂▃▄▅▆▇▇██████▇▇▇▇▆▆▆▅▅▅▄▄▄▃▃▃▂▂▂▂▁▁▁▁▁</td></tr><tr><td>mom_0</td><td>██▇▆▅▄▃▂▂▁▁▁▁▁▁▂▂▂▂▃▃▃▄▄▄▅▅▅▆▆▆▇▇▇▇█████</td></tr><tr><td>mom_1</td><td>██▇▆▅▄▃▂▂▁▁▁▁▁▁▂▂▂▂▃▃▃▄▄▄▅▅▅▆▆▆▇▇▇▇█████</td></tr><tr><td>mom_2</td><td>██▇▆▅▄▃▂▂▁▁▁▁▁▁▂▂▂▂▃▃▃▄▄▄▅▅▅▆▆▆▇▇▇▇█████</td></tr><tr><td>mom_3</td><td>██▇▆▅▄▃▂▂▁▁▁▁▁▁▂▂▂▂▃▃▃▄▄▄▅▅▅▆▆▆▇▇▇▇█████</td></tr><tr><td>raw_loss</td><td>▄▄▃▃▁▂▄█▄▁▃▂▁▂▁▆▂▆▁▁▂▁▁▁▁▁▁▁▁▁▁▁▁▁▁▂▁▁▂▁</td></tr><tr><td>sqr_mom_0</td><td>▁▁▁▁▁▁▁▁▁▁▁▁▁▁▁▁▁▁▁▁▁▁▁▁▁▁▁▁▁▁▁▁▁▁▁▁▁▁▁▁</td></tr><tr><td>sqr_mom_1</td><td>▁▁▁▁▁▁▁▁▁▁▁▁▁▁▁▁▁▁▁▁▁▁▁▁▁▁▁▁▁▁▁▁▁▁▁▁▁▁▁▁</td></tr><tr><td>sqr_mom_2</td><td>▁▁▁▁▁▁▁▁▁▁▁▁▁▁▁▁▁▁▁▁▁▁▁▁▁▁▁▁▁▁▁▁▁▁▁▁▁▁▁▁</td></tr><tr><td>sqr_mom_3</td><td>▁▁▁▁▁▁▁▁▁▁▁▁▁▁▁▁▁▁▁▁▁▁▁▁▁▁▁▁▁▁▁▁▁▁▁▁▁▁▁▁</td></tr><tr><td>train_loss</td><td>██▇▆▄▄▄▅▃▃▄▃▃▃▃▄▃▃▃▃▃▂▂▂▂▁▂▂▂▂▁▁▁▁▁▁▁▁▁▁</td></tr><tr><td>train_samples_per_sec</td><td>▁▁▁▁█▄▁▁▁▃▁▂▄▁▁▁▂▃▁▁▁▃▁█▁▁▂▅▃▁▁▁▁▁▁▂▂▄▄▄</td></tr><tr><td>valid_loss</td><td>█▅▃▆▂▁▂▁▁▁</td></tr><tr><td>wd_0</td><td>▁▁▁▁▁▁▁▁▁▁▁▁▁▁▁▁▁▁▁▁▁▁▁▁▁▁▁▁▁▁▁▁▁▁▁▁▁▁▁▁</td></tr><tr><td>wd_1</td><td>▁▁▁▁▁▁▁▁▁▁▁▁▁▁▁▁▁▁▁▁▁▁▁▁▁▁▁▁▁▁▁▁▁▁▁▁▁▁▁▁</td></tr><tr><td>wd_2</td><td>▁▁▁▁▁▁▁▁▁▁▁▁▁▁▁▁▁▁▁▁▁▁▁▁▁▁▁▁▁▁▁▁▁▁▁▁▁▁▁▁</td></tr><tr><td>wd_3</td><td>▁▁▁▁▁▁▁▁▁▁▁▁▁▁▁▁▁▁▁▁▁▁▁▁▁▁▁▁▁▁▁▁▁▁▁▁▁▁▁▁</td></tr></table><br/></div><div class=\"wandb-col\"><h3>Run summary:</h3><br/><table class=\"wandb\"><tr><td>accuracy</td><td>0.9369</td></tr><tr><td>epoch</td><td>10</td></tr><tr><td>eps_0</td><td>1e-05</td></tr><tr><td>eps_1</td><td>1e-05</td></tr><tr><td>eps_2</td><td>1e-05</td></tr><tr><td>eps_3</td><td>1e-05</td></tr><tr><td>f1_score</td><td>0.93886</td></tr><tr><td>lr_0</td><td>0.0</td></tr><tr><td>lr_1</td><td>0.0</td></tr><tr><td>lr_2</td><td>0.0</td></tr><tr><td>lr_3</td><td>0.0</td></tr><tr><td>mom_0</td><td>0.95</td></tr><tr><td>mom_1</td><td>0.95</td></tr><tr><td>mom_2</td><td>0.95</td></tr><tr><td>mom_3</td><td>0.95</td></tr><tr><td>raw_loss</td><td>0.23981</td></tr><tr><td>sqr_mom_0</td><td>0.99</td></tr><tr><td>sqr_mom_1</td><td>0.99</td></tr><tr><td>sqr_mom_2</td><td>0.99</td></tr><tr><td>sqr_mom_3</td><td>0.99</td></tr><tr><td>train_loss</td><td>0.10315</td></tr><tr><td>train_samples_per_sec</td><td>13.47342</td></tr><tr><td>valid_loss</td><td>0.17589</td></tr><tr><td>wd_0</td><td>0.01</td></tr><tr><td>wd_1</td><td>0.01</td></tr><tr><td>wd_2</td><td>0.01</td></tr><tr><td>wd_3</td><td>0.01</td></tr></table><br/></div></div>"
            ]
          },
          "metadata": {}
        },
        {
          "output_type": "display_data",
          "data": {
            "text/plain": [
              "<IPython.core.display.HTML object>"
            ],
            "text/html": [
              "Synced <strong style=\"color:#cdcd00\">vague-galaxy-6</strong>: <a href=\"https://wandb.ai/zihadbappy/bn_fake_classification/runs/3o8z0bgf\" target=\"_blank\">https://wandb.ai/zihadbappy/bn_fake_classification/runs/3o8z0bgf</a><br/>Synced 5 W&B file(s), 0 media file(s), 0 artifact file(s) and 0 other file(s)"
            ]
          },
          "metadata": {}
        },
        {
          "output_type": "display_data",
          "data": {
            "text/plain": [
              "<IPython.core.display.HTML object>"
            ],
            "text/html": [
              "Find logs at: <code>./wandb/run-20220914_162435-3o8z0bgf/logs</code>"
            ]
          },
          "metadata": {}
        }
      ]
    },
    {
      "cell_type": "code",
      "source": [
        "!sudo apt-get install git-lfs\n"
      ],
      "metadata": {
        "id": "g6TW_WgWLG8U",
        "colab": {
          "base_uri": "https://localhost:8080/"
        },
        "outputId": "cee15086-bba7-4c95-a026-c635b0ed3648"
      },
      "execution_count": 54,
      "outputs": [
        {
          "output_type": "stream",
          "name": "stdout",
          "text": [
            "Reading package lists... Done\n",
            "Building dependency tree       \n",
            "Reading state information... Done\n",
            "git-lfs is already the newest version (2.3.4-1).\n",
            "The following package was automatically installed and is no longer required:\n",
            "  libnvidia-common-460\n",
            "Use 'sudo apt autoremove' to remove it.\n",
            "0 upgraded, 0 newly installed, 0 to remove and 32 not upgraded.\n"
          ]
        }
      ]
    },
    {
      "cell_type": "code",
      "source": [],
      "metadata": {
        "id": "1tFDdsj8LUKN"
      },
      "execution_count": 54,
      "outputs": []
    }
  ],
  "metadata": {
    "accelerator": "GPU",
    "colab": {
      "provenance": [],
      "collapsed_sections": [],
      "include_colab_link": true
    },
    "gpuClass": "standard",
    "kernelspec": {
      "display_name": "Python 3",
      "name": "python3"
    },
    "language_info": {
      "name": "python"
    },
    "widgets": {
      "application/vnd.jupyter.widget-state+json": {
        "034c39faed234de583cfd5be740bcf02": {
          "model_module": "@jupyter-widgets/controls",
          "model_name": "VBoxModel",
          "model_module_version": "1.5.0",
          "state": {
            "_dom_classes": [],
            "_model_module": "@jupyter-widgets/controls",
            "_model_module_version": "1.5.0",
            "_model_name": "VBoxModel",
            "_view_count": null,
            "_view_module": "@jupyter-widgets/controls",
            "_view_module_version": "1.5.0",
            "_view_name": "VBoxView",
            "box_style": "",
            "children": [
              "IPY_MODEL_9af463c7dc3e49629d0ef79d2d174b24",
              "IPY_MODEL_dbbe0ff917354321b8cb5512a28188e0"
            ],
            "layout": "IPY_MODEL_08500c08d6094c279a3e9d1744735e91"
          }
        },
        "9af463c7dc3e49629d0ef79d2d174b24": {
          "model_module": "@jupyter-widgets/controls",
          "model_name": "LabelModel",
          "model_module_version": "1.5.0",
          "state": {
            "_dom_classes": [],
            "_model_module": "@jupyter-widgets/controls",
            "_model_module_version": "1.5.0",
            "_model_name": "LabelModel",
            "_view_count": null,
            "_view_module": "@jupyter-widgets/controls",
            "_view_module_version": "1.5.0",
            "_view_name": "LabelView",
            "description": "",
            "description_tooltip": null,
            "layout": "IPY_MODEL_b7f963c18c2f4888856cbf0a8331a284",
            "placeholder": "​",
            "style": "IPY_MODEL_97e9c6caff744e18b45066bde503c3e7",
            "value": "0.011 MB of 0.011 MB uploaded (0.000 MB deduped)\r"
          }
        },
        "dbbe0ff917354321b8cb5512a28188e0": {
          "model_module": "@jupyter-widgets/controls",
          "model_name": "FloatProgressModel",
          "model_module_version": "1.5.0",
          "state": {
            "_dom_classes": [],
            "_model_module": "@jupyter-widgets/controls",
            "_model_module_version": "1.5.0",
            "_model_name": "FloatProgressModel",
            "_view_count": null,
            "_view_module": "@jupyter-widgets/controls",
            "_view_module_version": "1.5.0",
            "_view_name": "ProgressView",
            "bar_style": "",
            "description": "",
            "description_tooltip": null,
            "layout": "IPY_MODEL_3d20fb8f346543b2add4705c58766136",
            "max": 1,
            "min": 0,
            "orientation": "horizontal",
            "style": "IPY_MODEL_963d874f011e48658b2f785a480cf42a",
            "value": 1
          }
        },
        "08500c08d6094c279a3e9d1744735e91": {
          "model_module": "@jupyter-widgets/base",
          "model_name": "LayoutModel",
          "model_module_version": "1.2.0",
          "state": {
            "_model_module": "@jupyter-widgets/base",
            "_model_module_version": "1.2.0",
            "_model_name": "LayoutModel",
            "_view_count": null,
            "_view_module": "@jupyter-widgets/base",
            "_view_module_version": "1.2.0",
            "_view_name": "LayoutView",
            "align_content": null,
            "align_items": null,
            "align_self": null,
            "border": null,
            "bottom": null,
            "display": null,
            "flex": null,
            "flex_flow": null,
            "grid_area": null,
            "grid_auto_columns": null,
            "grid_auto_flow": null,
            "grid_auto_rows": null,
            "grid_column": null,
            "grid_gap": null,
            "grid_row": null,
            "grid_template_areas": null,
            "grid_template_columns": null,
            "grid_template_rows": null,
            "height": null,
            "justify_content": null,
            "justify_items": null,
            "left": null,
            "margin": null,
            "max_height": null,
            "max_width": null,
            "min_height": null,
            "min_width": null,
            "object_fit": null,
            "object_position": null,
            "order": null,
            "overflow": null,
            "overflow_x": null,
            "overflow_y": null,
            "padding": null,
            "right": null,
            "top": null,
            "visibility": null,
            "width": null
          }
        },
        "b7f963c18c2f4888856cbf0a8331a284": {
          "model_module": "@jupyter-widgets/base",
          "model_name": "LayoutModel",
          "model_module_version": "1.2.0",
          "state": {
            "_model_module": "@jupyter-widgets/base",
            "_model_module_version": "1.2.0",
            "_model_name": "LayoutModel",
            "_view_count": null,
            "_view_module": "@jupyter-widgets/base",
            "_view_module_version": "1.2.0",
            "_view_name": "LayoutView",
            "align_content": null,
            "align_items": null,
            "align_self": null,
            "border": null,
            "bottom": null,
            "display": null,
            "flex": null,
            "flex_flow": null,
            "grid_area": null,
            "grid_auto_columns": null,
            "grid_auto_flow": null,
            "grid_auto_rows": null,
            "grid_column": null,
            "grid_gap": null,
            "grid_row": null,
            "grid_template_areas": null,
            "grid_template_columns": null,
            "grid_template_rows": null,
            "height": null,
            "justify_content": null,
            "justify_items": null,
            "left": null,
            "margin": null,
            "max_height": null,
            "max_width": null,
            "min_height": null,
            "min_width": null,
            "object_fit": null,
            "object_position": null,
            "order": null,
            "overflow": null,
            "overflow_x": null,
            "overflow_y": null,
            "padding": null,
            "right": null,
            "top": null,
            "visibility": null,
            "width": null
          }
        },
        "97e9c6caff744e18b45066bde503c3e7": {
          "model_module": "@jupyter-widgets/controls",
          "model_name": "DescriptionStyleModel",
          "model_module_version": "1.5.0",
          "state": {
            "_model_module": "@jupyter-widgets/controls",
            "_model_module_version": "1.5.0",
            "_model_name": "DescriptionStyleModel",
            "_view_count": null,
            "_view_module": "@jupyter-widgets/base",
            "_view_module_version": "1.2.0",
            "_view_name": "StyleView",
            "description_width": ""
          }
        },
        "3d20fb8f346543b2add4705c58766136": {
          "model_module": "@jupyter-widgets/base",
          "model_name": "LayoutModel",
          "model_module_version": "1.2.0",
          "state": {
            "_model_module": "@jupyter-widgets/base",
            "_model_module_version": "1.2.0",
            "_model_name": "LayoutModel",
            "_view_count": null,
            "_view_module": "@jupyter-widgets/base",
            "_view_module_version": "1.2.0",
            "_view_name": "LayoutView",
            "align_content": null,
            "align_items": null,
            "align_self": null,
            "border": null,
            "bottom": null,
            "display": null,
            "flex": null,
            "flex_flow": null,
            "grid_area": null,
            "grid_auto_columns": null,
            "grid_auto_flow": null,
            "grid_auto_rows": null,
            "grid_column": null,
            "grid_gap": null,
            "grid_row": null,
            "grid_template_areas": null,
            "grid_template_columns": null,
            "grid_template_rows": null,
            "height": null,
            "justify_content": null,
            "justify_items": null,
            "left": null,
            "margin": null,
            "max_height": null,
            "max_width": null,
            "min_height": null,
            "min_width": null,
            "object_fit": null,
            "object_position": null,
            "order": null,
            "overflow": null,
            "overflow_x": null,
            "overflow_y": null,
            "padding": null,
            "right": null,
            "top": null,
            "visibility": null,
            "width": null
          }
        },
        "963d874f011e48658b2f785a480cf42a": {
          "model_module": "@jupyter-widgets/controls",
          "model_name": "ProgressStyleModel",
          "model_module_version": "1.5.0",
          "state": {
            "_model_module": "@jupyter-widgets/controls",
            "_model_module_version": "1.5.0",
            "_model_name": "ProgressStyleModel",
            "_view_count": null,
            "_view_module": "@jupyter-widgets/base",
            "_view_module_version": "1.2.0",
            "_view_name": "StyleView",
            "bar_color": null,
            "description_width": ""
          }
        }
      }
    }
  },
  "nbformat": 4,
  "nbformat_minor": 0
}